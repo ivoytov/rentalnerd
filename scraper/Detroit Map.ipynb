{
 "cells": [
  {
   "cell_type": "code",
   "execution_count": 1,
   "metadata": {
    "collapsed": true
   },
   "outputs": [],
   "source": [
    "# imports\n",
    "import pandas as pd\n",
    "import numpy as np\n",
    "import datetime as dt\n",
    "\n",
    "import matplotlib.pyplot as plt\n",
    "from shapely.geometry import Point, Polygon\n",
    "import seaborn as sns\n",
    "plt.rcParams['figure.figsize'] = (16, 8)\n",
    "\n",
    "import statsmodels.api as sm\n",
    "from statsmodels.formula.api import ols\n",
    "from statsmodels.sandbox.regression.predstd import wls_prediction_std\n",
    "\n",
    "# this allows plots to appear directly in the notebook\n",
    "%matplotlib inline\n",
    "\n",
    "google_api_key = %env GOOGLE_API_KEY\n",
    "\n",
    "from bokeh.plotting import figure, output_file, show\n",
    "from bokeh.models import ColumnDataSource, GMapOptions\n",
    "from bokeh.models.glyphs import Patches\n",
    "from bokeh.models import ColumnDataSource, GMapOptions\n",
    "from bokeh.plotting import gmap, figure\n",
    "\n",
    "google_api_key = %env GOOGLE_API_KEY\n",
    "\n",
    "output_file(\"patch.html\")"
   ]
  },
  {
   "cell_type": "code",
   "execution_count": 2,
   "metadata": {
    "collapsed": true
   },
   "outputs": [],
   "source": [
    "def create_polygon(mp):\n",
    "    try:\n",
    "        xs = []\n",
    "        ys = []\n",
    "        for e in mp[16:-3].split(', '):\n",
    "            pt = [float(x) for x in e.split(' ')]\n",
    "            xs.append(pt[0])\n",
    "            ys.append(pt[1])\n",
    "        return xs,ys\n",
    "    except:\n",
    "        return 0\n",
    "\n"
   ]
  },
  {
   "cell_type": "code",
   "execution_count": 3,
   "metadata": {
    "collapsed": true
   },
   "outputs": [],
   "source": [
    "# read in data\n",
    "sold = pd.read_csv('data/detroit_tax_auction_2017.csv', index_col='parcel_id')\n",
    "sold.drop(labels=['Unnamed: 14','px_per_foot'],axis=1,inplace=True)\n",
    "\n",
    "# replace missing with median values\n",
    "sold['sqft'] = sold.sqft.replace(0, 4400)\n",
    "sold['year_built'] = sold.year_built.replace(0, 1938)\n",
    "sold['px_per_foot'] = sold.winning_bid / sold.sqft\n",
    "sold['tax_value_per_foot'] = sold.taxable_value / sold.sqft\n",
    "sold.zipcode = sold.zipcode.astype(\"str\")\n",
    "sold.year_built = sold.year_built.fillna(1900).astype(\"int64\")\n",
    "\n",
    "# prepare dataset for mapping\n",
    "sold.geometry = sold.geometry.apply(create_polygon)"
   ]
  },
  {
   "cell_type": "code",
   "execution_count": 4,
   "metadata": {
    "collapsed": true
   },
   "outputs": [],
   "source": [
    "sold.lon = sold.geometry.apply(lambda x: x[0] if x != 0 else 0)\n",
    "sold.lat = sold.geometry.apply(lambda x: x[1] if x != 0 else 0)"
   ]
  },
  {
   "cell_type": "code",
   "execution_count": 5,
   "metadata": {
    "collapsed": false
   },
   "outputs": [
    {
     "data": {
      "text/plain": [
       "array([ [42.39054152988467, 42.3906755931077, 42.390528658902824, 42.39039549149306, 42.3904680477823, 42.39054152988467],\n",
       "       [42.390190783275436, 42.39011227534397, 42.38970051943078, 42.38977902739197, 42.390190783275436]], dtype=object)"
      ]
     },
     "execution_count": 5,
     "metadata": {},
     "output_type": "execute_result"
    }
   ],
   "source": [
    "sold.lat.iloc[35:37].values"
   ]
  },
  {
   "cell_type": "code",
   "execution_count": 6,
   "metadata": {
    "collapsed": false
   },
   "outputs": [],
   "source": [
    "# map_options = GMapOptions(lat=42.39054152988467, lng=-82.99644723680774, map_type=\"roadmap\", zoom=12)\n",
    "# p = gmap(google_api_key, map_options, title=\"Detroit\")\n",
    "p = figure()\n",
    "\n",
    "source = ColumnDataSource(\n",
    "    data=dict(lat=sold.lat.values,\n",
    "              lon=sold.lon.values)\n",
    ")\n",
    "\n",
    "glyph = Patches(xs=\"lon\", ys=\"lat\", fill_color=\"#fb9a99\")\n",
    "p.add_glyph(source, glyph)\n",
    "\n",
    "show(p)"
   ]
  },
  {
   "cell_type": "code",
   "execution_count": null,
   "metadata": {
    "collapsed": true
   },
   "outputs": [],
   "source": []
  }
 ],
 "metadata": {
  "kernelspec": {
   "display_name": "Python 3",
   "language": "python",
   "name": "python3"
  },
  "language_info": {
   "codemirror_mode": {
    "name": "ipython",
    "version": 3
   },
   "file_extension": ".py",
   "mimetype": "text/x-python",
   "name": "python",
   "nbconvert_exporter": "python",
   "pygments_lexer": "ipython3",
   "version": "3.6.0"
  }
 },
 "nbformat": 4,
 "nbformat_minor": 2
}
