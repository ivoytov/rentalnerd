{
 "cells": [
  {
   "cell_type": "code",
   "execution_count": 483,
   "metadata": {
    "collapsed": false
   },
   "outputs": [],
   "source": [
    "# imports\n",
    "import pandas as pd\n",
    "import numpy as np\n",
    "import datetime as dt\n",
    "\n",
    "import matplotlib.pyplot as plt\n",
    "import seaborn as sns\n",
    "plt.rcParams['figure.figsize'] = (16, 8)\n",
    "\n",
    "import statsmodels.api as sm\n",
    "from statsmodels.formula.api import ols\n",
    "from statsmodels.sandbox.regression.predstd import wls_prediction_std\n",
    "\n",
    "from pscore_match.pscore import PropensityScore\n",
    "from pscore_match.match import Match, whichMatched,t_test,rank_test\n",
    "from scipy.stats import gaussian_kde\n",
    "\n",
    "# this allows plots to appear directly in the notebook\n",
    "%matplotlib inline\n",
    "\n",
    "limit = 100000000"
   ]
  },
  {
   "cell_type": "code",
   "execution_count": 484,
   "metadata": {
    "collapsed": false
   },
   "outputs": [
    {
     "name": "stderr",
     "output_type": "stream",
     "text": [
      "/home/ilya/anaconda3/lib/python3.6/site-packages/IPython/core/interactiveshell.py:2717: DtypeWarning:\n",
      "\n",
      "Columns (12,13,14,16) have mixed types. Specify dtype option on import or set low_memory=False.\n",
      "\n"
     ]
    }
   ],
   "source": [
    "# read in data\n",
    "sold = pd.read_csv('../CSV_backups/ALL-sales.csv',nrows=limit, index_col=['property_id','transaction_id']).drop_duplicates()"
   ]
  },
  {
   "cell_type": "code",
   "execution_count": 485,
   "metadata": {
    "collapsed": false
   },
   "outputs": [
    {
     "data": {
      "text/html": [
       "<div>\n",
       "<style>\n",
       "    .dataframe thead tr:only-child th {\n",
       "        text-align: right;\n",
       "    }\n",
       "\n",
       "    .dataframe thead th {\n",
       "        text-align: left;\n",
       "    }\n",
       "\n",
       "    .dataframe tbody tr th {\n",
       "        vertical-align: top;\n",
       "    }\n",
       "</style>\n",
       "<table border=\"1\" class=\"dataframe\">\n",
       "  <thead>\n",
       "    <tr style=\"text-align: right;\">\n",
       "      <th></th>\n",
       "      <th></th>\n",
       "      <th>date</th>\n",
       "      <th>price</th>\n",
       "      <th>sqft</th>\n",
       "      <th>bedrooms</th>\n",
       "      <th>bathrooms</th>\n",
       "      <th>dist_to_lightrail_station</th>\n",
       "      <th>year</th>\n",
       "      <th>month</th>\n",
       "      <th>near_rail5</th>\n",
       "      <th>ppsf</th>\n",
       "    </tr>\n",
       "    <tr>\n",
       "      <th>property_id</th>\n",
       "      <th>transaction_id</th>\n",
       "      <th></th>\n",
       "      <th></th>\n",
       "      <th></th>\n",
       "      <th></th>\n",
       "      <th></th>\n",
       "      <th></th>\n",
       "      <th></th>\n",
       "      <th></th>\n",
       "      <th></th>\n",
       "      <th></th>\n",
       "    </tr>\n",
       "  </thead>\n",
       "  <tbody>\n",
       "    <tr>\n",
       "      <th>346200</th>\n",
       "      <th>23951313</th>\n",
       "      <td>2014-10-24</td>\n",
       "      <td>400000</td>\n",
       "      <td>2388</td>\n",
       "      <td>4</td>\n",
       "      <td>3</td>\n",
       "      <td>0.700000</td>\n",
       "      <td>2014</td>\n",
       "      <td>10</td>\n",
       "      <td>True</td>\n",
       "      <td>167.504188</td>\n",
       "    </tr>\n",
       "    <tr>\n",
       "      <th>9020277</th>\n",
       "      <th>23951289</th>\n",
       "      <td>2015-05-19</td>\n",
       "      <td>320000</td>\n",
       "      <td>2120</td>\n",
       "      <td>4</td>\n",
       "      <td>2</td>\n",
       "      <td>5.905930</td>\n",
       "      <td>2015</td>\n",
       "      <td>5</td>\n",
       "      <td>False</td>\n",
       "      <td>150.943396</td>\n",
       "    </tr>\n",
       "    <tr>\n",
       "      <th>336902</th>\n",
       "      <th>23951266</th>\n",
       "      <td>2018-03-13</td>\n",
       "      <td>285000</td>\n",
       "      <td>1723</td>\n",
       "      <td>3</td>\n",
       "      <td>2</td>\n",
       "      <td>0.844038</td>\n",
       "      <td>2018</td>\n",
       "      <td>3</td>\n",
       "      <td>True</td>\n",
       "      <td>165.409170</td>\n",
       "    </tr>\n",
       "    <tr>\n",
       "      <th>990354</th>\n",
       "      <th>23951257</th>\n",
       "      <td>2017-12-05</td>\n",
       "      <td>367000</td>\n",
       "      <td>2286</td>\n",
       "      <td>3</td>\n",
       "      <td>2</td>\n",
       "      <td>13.006200</td>\n",
       "      <td>2017</td>\n",
       "      <td>12</td>\n",
       "      <td>False</td>\n",
       "      <td>160.542432</td>\n",
       "    </tr>\n",
       "    <tr>\n",
       "      <th>9000471</th>\n",
       "      <th>23951250</th>\n",
       "      <td>2018-01-13</td>\n",
       "      <td>369000</td>\n",
       "      <td>1502</td>\n",
       "      <td>3</td>\n",
       "      <td>2</td>\n",
       "      <td>17.024700</td>\n",
       "      <td>2018</td>\n",
       "      <td>1</td>\n",
       "      <td>False</td>\n",
       "      <td>245.672437</td>\n",
       "    </tr>\n",
       "    <tr>\n",
       "      <th>9035951</th>\n",
       "      <th>23951029</th>\n",
       "      <td>2017-11-30</td>\n",
       "      <td>182500</td>\n",
       "      <td>1721</td>\n",
       "      <td>3</td>\n",
       "      <td>2</td>\n",
       "      <td>1.402180</td>\n",
       "      <td>2017</td>\n",
       "      <td>11</td>\n",
       "      <td>True</td>\n",
       "      <td>106.042998</td>\n",
       "    </tr>\n",
       "  </tbody>\n",
       "</table>\n",
       "</div>"
      ],
      "text/plain": [
       "                                 date   price  sqft  bedrooms  bathrooms  \\\n",
       "property_id transaction_id                                                 \n",
       "346200      23951313       2014-10-24  400000  2388         4          3   \n",
       "9020277     23951289       2015-05-19  320000  2120         4          2   \n",
       "336902      23951266       2018-03-13  285000  1723         3          2   \n",
       "990354      23951257       2017-12-05  367000  2286         3          2   \n",
       "9000471     23951250       2018-01-13  369000  1502         3          2   \n",
       "9035951     23951029       2017-11-30  182500  1721         3          2   \n",
       "\n",
       "                            dist_to_lightrail_station  year  month  \\\n",
       "property_id transaction_id                                           \n",
       "346200      23951313                         0.700000  2014     10   \n",
       "9020277     23951289                         5.905930  2015      5   \n",
       "336902      23951266                         0.844038  2018      3   \n",
       "990354      23951257                        13.006200  2017     12   \n",
       "9000471     23951250                        17.024700  2018      1   \n",
       "9035951     23951029                         1.402180  2017     11   \n",
       "\n",
       "                            near_rail5        ppsf  \n",
       "property_id transaction_id                          \n",
       "346200      23951313              True  167.504188  \n",
       "9020277     23951289             False  150.943396  \n",
       "336902      23951266              True  165.409170  \n",
       "990354      23951257             False  160.542432  \n",
       "9000471     23951250             False  245.672437  \n",
       "9035951     23951029              True  106.042998  "
      ]
     },
     "execution_count": 485,
     "metadata": {},
     "output_type": "execute_result"
    }
   ],
   "source": [
    "# only show properties that were actually sold (and a check to exclude those with wrong close dates e.g. >10000 days)\n",
    "df = sold[(sold.date_closed != 0) & (sold.date_closed < 10000 )] \\\n",
    "        [[\"date_closed\",\"price\",\"sqft\",\"bedrooms\", \"bathrooms\",\"dist_to_lightrail_station\"]]\n",
    "df.rename(columns = {'date_closed':'date'}, inplace = True)\n",
    "\n",
    "# convert days since Y2K to a nice looking date\n",
    "df['date'] = df['date'].apply(lambda x: dt.date(2000, 1, 1) + dt.timedelta(days=x)) \\\n",
    "                       .astype(\"datetime64[ns]\")\n",
    "\n",
    "df = df[df.date >= dt.date(2008,12,27)]\n",
    "df[\"year\"] = df.date.dt.year\n",
    "df[\"month\"] = df.date.dt.month\n",
    "\n",
    "df['near_rail5'] = (df['dist_to_lightrail_station'] < 5)\n",
    "df['ppsf'] = (df.price / df.sqft)\n",
    "\n",
    "df.head(6)"
   ]
  },
  {
   "cell_type": "code",
   "execution_count": 486,
   "metadata": {
    "collapsed": false
   },
   "outputs": [
    {
     "data": {
      "text/html": [
       "<div>\n",
       "<style>\n",
       "    .dataframe thead tr:only-child th {\n",
       "        text-align: right;\n",
       "    }\n",
       "\n",
       "    .dataframe thead th {\n",
       "        text-align: left;\n",
       "    }\n",
       "\n",
       "    .dataframe tbody tr th {\n",
       "        vertical-align: top;\n",
       "    }\n",
       "</style>\n",
       "<table border=\"1\" class=\"dataframe\">\n",
       "  <thead>\n",
       "    <tr style=\"text-align: right;\">\n",
       "      <th></th>\n",
       "      <th>price</th>\n",
       "      <th>sqft</th>\n",
       "      <th>bedrooms</th>\n",
       "      <th>bathrooms</th>\n",
       "      <th>dist_to_lightrail_station</th>\n",
       "      <th>year</th>\n",
       "      <th>month</th>\n",
       "      <th>ppsf</th>\n",
       "    </tr>\n",
       "  </thead>\n",
       "  <tbody>\n",
       "    <tr>\n",
       "      <th>count</th>\n",
       "      <td>181405.000000</td>\n",
       "      <td>181405.000000</td>\n",
       "      <td>181405.000000</td>\n",
       "      <td>181405.000000</td>\n",
       "      <td>181405.000000</td>\n",
       "      <td>181405.000000</td>\n",
       "      <td>181405.000000</td>\n",
       "      <td>181405.000000</td>\n",
       "    </tr>\n",
       "    <tr>\n",
       "      <th>mean</th>\n",
       "      <td>175616.201108</td>\n",
       "      <td>1654.399239</td>\n",
       "      <td>3.022453</td>\n",
       "      <td>1.952085</td>\n",
       "      <td>7.562902</td>\n",
       "      <td>2013.327698</td>\n",
       "      <td>6.468636</td>\n",
       "      <td>107.941167</td>\n",
       "    </tr>\n",
       "    <tr>\n",
       "      <th>std</th>\n",
       "      <td>86085.454605</td>\n",
       "      <td>461.073003</td>\n",
       "      <td>1.042174</td>\n",
       "      <td>0.585558</td>\n",
       "      <td>4.716730</td>\n",
       "      <td>2.734120</td>\n",
       "      <td>3.366809</td>\n",
       "      <td>48.918728</td>\n",
       "    </tr>\n",
       "    <tr>\n",
       "      <th>min</th>\n",
       "      <td>50000.000000</td>\n",
       "      <td>500.000000</td>\n",
       "      <td>0.000000</td>\n",
       "      <td>0.000000</td>\n",
       "      <td>0.000000</td>\n",
       "      <td>2008.000000</td>\n",
       "      <td>1.000000</td>\n",
       "      <td>14.184997</td>\n",
       "    </tr>\n",
       "    <tr>\n",
       "      <th>25%</th>\n",
       "      <td>106614.000000</td>\n",
       "      <td>1338.000000</td>\n",
       "      <td>3.000000</td>\n",
       "      <td>2.000000</td>\n",
       "      <td>3.801110</td>\n",
       "      <td>2011.000000</td>\n",
       "      <td>4.000000</td>\n",
       "      <td>70.267686</td>\n",
       "    </tr>\n",
       "    <tr>\n",
       "      <th>50%</th>\n",
       "      <td>160000.000000</td>\n",
       "      <td>1596.000000</td>\n",
       "      <td>3.000000</td>\n",
       "      <td>2.000000</td>\n",
       "      <td>6.906290</td>\n",
       "      <td>2013.000000</td>\n",
       "      <td>6.000000</td>\n",
       "      <td>102.564103</td>\n",
       "    </tr>\n",
       "    <tr>\n",
       "      <th>75%</th>\n",
       "      <td>230000.000000</td>\n",
       "      <td>1900.000000</td>\n",
       "      <td>4.000000</td>\n",
       "      <td>2.000000</td>\n",
       "      <td>10.593300</td>\n",
       "      <td>2016.000000</td>\n",
       "      <td>9.000000</td>\n",
       "      <td>137.636081</td>\n",
       "    </tr>\n",
       "    <tr>\n",
       "      <th>max</th>\n",
       "      <td>400000.000000</td>\n",
       "      <td>4000.000000</td>\n",
       "      <td>6.000000</td>\n",
       "      <td>6.000000</td>\n",
       "      <td>23.368200</td>\n",
       "      <td>2018.000000</td>\n",
       "      <td>12.000000</td>\n",
       "      <td>641.666667</td>\n",
       "    </tr>\n",
       "  </tbody>\n",
       "</table>\n",
       "</div>"
      ],
      "text/plain": [
       "               price           sqft       bedrooms      bathrooms  \\\n",
       "count  181405.000000  181405.000000  181405.000000  181405.000000   \n",
       "mean   175616.201108    1654.399239       3.022453       1.952085   \n",
       "std     86085.454605     461.073003       1.042174       0.585558   \n",
       "min     50000.000000     500.000000       0.000000       0.000000   \n",
       "25%    106614.000000    1338.000000       3.000000       2.000000   \n",
       "50%    160000.000000    1596.000000       3.000000       2.000000   \n",
       "75%    230000.000000    1900.000000       4.000000       2.000000   \n",
       "max    400000.000000    4000.000000       6.000000       6.000000   \n",
       "\n",
       "       dist_to_lightrail_station           year          month           ppsf  \n",
       "count              181405.000000  181405.000000  181405.000000  181405.000000  \n",
       "mean                    7.562902    2013.327698       6.468636     107.941167  \n",
       "std                     4.716730       2.734120       3.366809      48.918728  \n",
       "min                     0.000000    2008.000000       1.000000      14.184997  \n",
       "25%                     3.801110    2011.000000       4.000000      70.267686  \n",
       "50%                     6.906290    2013.000000       6.000000     102.564103  \n",
       "75%                    10.593300    2016.000000       9.000000     137.636081  \n",
       "max                    23.368200    2018.000000      12.000000     641.666667  "
      ]
     },
     "execution_count": 486,
     "metadata": {},
     "output_type": "execute_result"
    }
   ],
   "source": [
    "df.describe()"
   ]
  },
  {
   "cell_type": "markdown",
   "metadata": {},
   "source": [
    "We create a `pscore` for each home that categorizes how similar it is to other homes in the dataset. \n",
    "\n",
    "We divide the sample into `treated` sample - homes near transit stations - and `control` - meaning homes farther away. Because we suspect distributions of the two samples are not identical we normalize the control sample to have the same distribution of home sizes as the tested sample.\n",
    "\n",
    "Second, we control for the trends in house prices over the time period by splitting up the dataset into years. We calculate the effect of rail proximity for each year's sample independently.\n",
    "\n",
    "We match each treated home with three control homes, with replacement. "
   ]
  },
  {
   "cell_type": "code",
   "execution_count": 487,
   "metadata": {
    "collapsed": false,
    "scrolled": false
   },
   "outputs": [],
   "source": [
    "# List of variables to use for the pscore\n",
    "cov_list = ['month','sqft','bedrooms','bathrooms']\n",
    "\n",
    "k = np.zeros([10,3])\n",
    "result = pd.DataFrame(k, index=np.arange(2009,2019),columns=['control','near_rail','premium'])\n",
    "\n",
    "\n",
    "for year in range(2009,2019):\n",
    "    d = df[df.year==year]\n",
    "        \n",
    "    treatment = np.array(d.near_rail5)\n",
    "    covariates = d[cov_list].reset_index()\n",
    "    covariates.drop(['property_id','transaction_id'],axis=1,inplace=True)\n",
    "    \n",
    "    pscore = PropensityScore(treatment, covariates).compute()\n",
    "\n",
    "    pairs = Match(treatment, pscore)\n",
    "    pairs.create(method='many-to-one', many_method='knn', k=3, replace=True)\n",
    "    data_matched = whichMatched(pairs, pd.DataFrame({'pscore': pscore, 'treatment' :treatment, 'ppsf':d.ppsf}))\n",
    "    \n",
    "    treated_ppsf = d.ppsf[treatment == 1].mean()\n",
    "    control_ppsf = d.ppsf[treatment==0].mean()\n",
    "    matched_control_ppsf = data_matched.ppsf[data_matched.treatment==0].mean()\n",
    "    ATT = treated_ppsf - control_ppsf\n",
    "    matched_ATT = treated_ppsf - matched_control_ppsf\n",
    "    result.loc[year] = [matched_control_ppsf,treated_ppsf,matched_ATT]\n",
    "    "
   ]
  },
  {
   "cell_type": "markdown",
   "metadata": {},
   "source": [
    "We look at the distribution of `pscore` in the control group before and after we matched samples. This is done only for 2018 (last year of the loop above). As we can see, before matching there were some significant differences in distributions. But after we match homes, distributions of `pscores` look identical allowing us to make inferences from simple means."
   ]
  },
  {
   "cell_type": "code",
   "execution_count": 495,
   "metadata": {
    "collapsed": false
   },
   "outputs": [
    {
     "data": {
      "image/png": "[encoded data removed]",
      "text/plain": [
       "<Figure size 1080x432 with 2 Axes>"
      ]
     },
     "metadata": {},
     "output_type": "display_data"
    }
   ],
   "source": [
    "plt.figure(1,figsize=(15,6))\n",
    "plt.subplot(121)\n",
    "density0 = gaussian_kde(pscore[treatment==0])\n",
    "density1 = gaussian_kde(pscore[treatment==1])\n",
    "xs = np.linspace(0,1,200)\n",
    "plt.plot(xs,density0(xs),color='black')\n",
    "plt.fill_between(xs,density1(xs),color='gray')\n",
    "plt.text(0.2, 9, 'Control Group')\n",
    "plt.text(0.4, 3, 'Treatment Group')\n",
    "plt.title('Train Proximity: Before Matching')\n",
    "plt.axis([0,1,0,10])\n",
    "plt.xlabel('Propensity Score')\n",
    "plt.ylabel('Density')\n",
    "\n",
    "plt.subplot(122)\n",
    "density0_post = gaussian_kde(data_matched.pscore[data_matched.treatment==0])\n",
    "density1_post = gaussian_kde(data_matched.pscore[data_matched.treatment==1])\n",
    "xs = np.linspace(0,1,200)\n",
    "plt.plot(xs,density0_post(xs),color='black')\n",
    "plt.fill_between(xs,density1_post(xs),color='gray')\n",
    "plt.title('Train Proximity: After Matching')\n",
    "plt.axis([0,1,0,10])\n",
    "plt.xlabel('Propensity Score')\n",
    "plt.ylabel('Density')\n",
    "plt.show()"
   ]
  },
  {
   "cell_type": "markdown",
   "metadata": {},
   "source": [
    "Finally, we calculate the actual premium per square foot for homes located near public transit stops. Compared to the same analysis done using OLS, premium for light rail is consistently higher by $2-3/sq ft across the time period examined. The negative effects in 2009-2014 have become neutral (except for 2010 when it was negative and 2014, when negative effect became a strong positive). Notably the positive effect appears to be growing even in 2018, ten years after the light rail began operating. \n",
    "\n",
    "An interesting takeaway from this study is the material positive effect on Maricopa County tax assessments. For a 1,700 sq ft house, the increase in property values associated with light rail operation represents an increase in annual property tax of $222/year. Municipalities should consider this increase in tax revenue as a potential funding source for light rail expansion or construction."
   ]
  },
  {
   "cell_type": "code",
   "execution_count": 489,
   "metadata": {
    "collapsed": false
   },
   "outputs": [
    {
     "data": {
      "text/plain": [
       "<matplotlib.axes._subplots.AxesSubplot at 0x7fd1d1073da0>"
      ]
     },
     "execution_count": 489,
     "metadata": {},
     "output_type": "execute_result"
    },
    {
     "data": {
      "image/png": "[encoded data removed]",
      "text/plain": [
       "<Figure size 432x288 with 1 Axes>"
      ]
     },
     "metadata": {},
     "output_type": "display_data"
    }
   ],
   "source": [
    "ax = result.premium.plot(kind=\"bar\")\n",
    "for p in ax.patches:\n",
    "    b = p.get_bbox()\n",
    "    val = \"${:3.2f}\".format(b.y1 + b.y0)\n",
    "    ax.annotate(val, (p.get_x() * 1.005, p.get_height() * 1.005))\n",
    "    \n",
    "# manipulate\n",
    "vals = ax.get_yticks()\n",
    "ax.set_yticklabels(['${:3.2f}'.format(x) for x in vals])\n",
    "ax.set_ylabel(\"Premium per Sq Ft for Proximity to Light Rail\")\n",
    "ax.set_xlabel(\"Transaction Year\")\n",
    "ax"
   ]
  },
  {
   "cell_type": "markdown",
   "metadata": {},
   "source": [
    "Finally we show the average `ppsf` values for each year for homes far and near light rail, and the associate premiums. Despite the different conclusions above, we find the annual appreciation rates for homes near and farther from light rail to be exactly the same as in the OLS method. Homes near light rail are expected to appreciate 1% faster than homes farther away."
   ]
  },
  {
   "cell_type": "code",
   "execution_count": 498,
   "metadata": {
    "collapsed": false
   },
   "outputs": [
    {
     "name": "stdout",
     "output_type": "stream",
     "text": [
      "         control   near_rail    premium\n",
      "2009   88.306000   87.826520  -0.479480\n",
      "2010   88.284999   85.946288  -2.338711\n",
      "2011   81.126649   81.467956   0.341308\n",
      "2012   86.772206   86.707145  -0.065061\n",
      "2013  101.783257  101.748036  -0.035222\n",
      "2014  109.320764  112.323125   3.002361\n",
      "2015  117.738727  123.729424   5.990697\n",
      "2016  127.414927  134.187986   6.773059\n",
      "2017  140.821460  149.952628   9.131168\n",
      "2018  143.439614  154.336424  10.896811\n",
      "Price per foot CAGR of homes far from light rail stations 5.54% \n",
      "Price per foot CAGR of homes near to light rail stations 6.46% \n"
     ]
    },
    {
     "data": {
      "text/plain": [
       "<matplotlib.axes._subplots.AxesSubplot at 0x7fd1cf270c50>"
      ]
     },
     "execution_count": 498,
     "metadata": {},
     "output_type": "execute_result"
    },
    {
     "data": {
      "image/png": "[encoded data removed]",
      "text/plain": [
       "<Figure size 432x288 with 1 Axes>"
      ]
     },
     "metadata": {},
     "output_type": "display_data"
    }
   ],
   "source": [
    "print(result)\n",
    "def CAGR(first, last, periods):\n",
    "    return (last/first)**(1/periods)-1\n",
    "print('Price per foot CAGR of homes far from light rail stations {:.2%} '.format(CAGR(result['control'][2009], result['control'][2018], 2018-2009)))\n",
    "print('Price per foot CAGR of homes near to light rail stations {:.2%} '.format(CAGR(result['near_rail'][2009], result['near_rail'][2018], 2018-2009)))\n",
    "ax =result[['control','near_rail']].plot(kind=\"bar\")\n",
    "vals = ax.get_yticks()\n",
    "ax.set_yticklabels(['${:3.2f}'.format(x) for x in vals])\n",
    "ax"
   ]
  },
  {
   "cell_type": "code",
   "execution_count": null,
   "metadata": {
    "collapsed": true
   },
   "outputs": [],
   "source": []
  }
 ],
 "metadata": {
  "kernelspec": {
   "display_name": "Python 3",
   "language": "python",
   "name": "python3"
  },
  "language_info": {
   "codemirror_mode": {
    "name": "ipython",
    "version": 3
   },
   "file_extension": ".py",
   "mimetype": "text/x-python",
   "name": "python",
   "nbconvert_exporter": "python",
   "pygments_lexer": "ipython3",
   "version": "3.6.5"
  }
 },
 "nbformat": 4,
 "nbformat_minor": 2
}
