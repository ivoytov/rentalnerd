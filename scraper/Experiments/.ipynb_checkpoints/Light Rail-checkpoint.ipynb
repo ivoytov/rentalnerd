{
 "cells": [
  {
   "cell_type": "code",
   "execution_count": 154,
   "metadata": {
    "collapsed": false
   },
   "outputs": [
    {
     "name": "stdout",
     "output_type": "stream",
     "text": [
      "The sql extension is already loaded. To reload it, use:\n",
      "  %reload_ext sql\n"
     ]
    }
   ],
   "source": [
    "# imports\n",
    "import pandas as pd\n",
    "import numpy as np\n",
    "import datetime as dt\n",
    "\n",
    "import matplotlib.pyplot as plt\n",
    "import seaborn as sns\n",
    "plt.rcParams['figure.figsize'] = (12, 8)\n",
    "\n",
    "import statsmodels.api as sm\n",
    "from statsmodels.formula.api import ols\n",
    "from statsmodels.sandbox.regression.predstd import wls_prediction_std\n",
    "\n",
    "# this allows plots to appear directly in the notebook\n",
    "%matplotlib inline\n",
    "\n",
    "limit = 100000000"
   ]
  },
  {
   "cell_type": "code",
   "execution_count": 365,
   "metadata": {
    "collapsed": false
   },
   "outputs": [
    {
     "name": "stderr",
     "output_type": "stream",
     "text": [
      "/home/ilya/anaconda3/lib/python3.6/site-packages/IPython/core/interactiveshell.py:2717: DtypeWarning: Columns (12,13,14,16) have mixed types. Specify dtype option on import or set low_memory=False.\n",
      "  interactivity=interactivity, compiler=compiler, result=result)\n"
     ]
    }
   ],
   "source": [
    "# read in data\n",
    "sold = pd.read_csv('../CSV_backups/ALL-sales.csv',nrows=limit, index_col=['property_id','transaction_id']).drop_duplicates()"
   ]
  },
  {
   "cell_type": "markdown",
   "metadata": {},
   "source": [
    "Many investors generally assume that light rail construction will lift property values. We utilize a dataset of home sales in Phoenix, Arizona over 2008-2018 to study the effect of light rail operation on house property values. Valley Metro began construction in March 2005 and opened in December 2008 with 28 stations. It as since been extended to 35 stations. We evaluate the impact of proximity to a light rail station on median home prices over the past 10 years. Analysis finds that in the first six years of operation, light rail actually caused a decline in house valuations in the surrounding area, when compared to homes that were further away. It was only in 2015 and later on that the effect of light rail operation had a consistently positive impact on median home prices. We also note that the positive effect appears rather muted, with homes near rail station fetching 5.6% higher prices than homes farther away. Given the initial negative impact on prices, investors should be wary of over-bidding on properties near future train stops in anticipation of price gains in the future. For the last 9 years, homes near light rail stations appreciated at 1% higher annual rate than homes that were far away.\n",
    "\n",
    "Map of Valley Metro Stations|\n",
    ":----:|\n",
    "![Map of light Rail](LightRail.png)|\n",
    "\n",
    "We start with a basic data set consisting of transaction data consisting of `date_closed`, `price`, `sqft`, and `dist_to_lightrail_station`. Distance to the closest light rail station is measured in kilometers, as the crow flies. We also calculate the price per squarter foot as `price_per_foot`.  \n",
    "\n",
    "Example 1             |  Example 2\n",
    ":-------------------------:|:-------------------------:\n",
    "![](dist1-resize.png) | ![](dist2-resize.png)"
   ]
  },
  {
   "cell_type": "code",
   "execution_count": 156,
   "metadata": {
    "collapsed": false
   },
   "outputs": [
    {
     "data": {
      "text/html": [
       "<div>\n",
       "<style>\n",
       "    .dataframe thead tr:only-child th {\n",
       "        text-align: right;\n",
       "    }\n",
       "\n",
       "    .dataframe thead th {\n",
       "        text-align: left;\n",
       "    }\n",
       "\n",
       "    .dataframe tbody tr th {\n",
       "        vertical-align: top;\n",
       "    }\n",
       "</style>\n",
       "<table border=\"1\" class=\"dataframe\">\n",
       "  <thead>\n",
       "    <tr style=\"text-align: right;\">\n",
       "      <th></th>\n",
       "      <th></th>\n",
       "      <th>address</th>\n",
       "      <th>date</th>\n",
       "      <th>price</th>\n",
       "      <th>sqft</th>\n",
       "      <th>dist_to_lightrail_station</th>\n",
       "      <th>ppf</th>\n",
       "    </tr>\n",
       "    <tr>\n",
       "      <th>property_id</th>\n",
       "      <th>transaction_id</th>\n",
       "      <th></th>\n",
       "      <th></th>\n",
       "      <th></th>\n",
       "      <th></th>\n",
       "      <th></th>\n",
       "      <th></th>\n",
       "    </tr>\n",
       "  </thead>\n",
       "  <tbody>\n",
       "    <tr>\n",
       "      <th>346200</th>\n",
       "      <th>23951313</th>\n",
       "      <td>8942 N 15th Ln, Phoenix, AZ 85021</td>\n",
       "      <td>2014-10-24</td>\n",
       "      <td>400000</td>\n",
       "      <td>2388</td>\n",
       "      <td>0.700000</td>\n",
       "      <td>167.504188</td>\n",
       "    </tr>\n",
       "    <tr>\n",
       "      <th>9020277</th>\n",
       "      <th>23951289</th>\n",
       "      <td>4350 W Shaw Butte Dr, Glendale, AZ 85304</td>\n",
       "      <td>2015-05-19</td>\n",
       "      <td>320000</td>\n",
       "      <td>2120</td>\n",
       "      <td>5.905930</td>\n",
       "      <td>150.943396</td>\n",
       "    </tr>\n",
       "    <tr>\n",
       "      <th>336902</th>\n",
       "      <th>23951266</th>\n",
       "      <td>2125 W State Ave, Phoenix, AZ 85021</td>\n",
       "      <td>2018-03-13</td>\n",
       "      <td>285000</td>\n",
       "      <td>1723</td>\n",
       "      <td>0.844038</td>\n",
       "      <td>165.409170</td>\n",
       "    </tr>\n",
       "    <tr>\n",
       "      <th>990354</th>\n",
       "      <th>23951257</th>\n",
       "      <td>1455 W Remington Dr, Chandler, AZ 85286</td>\n",
       "      <td>2017-12-05</td>\n",
       "      <td>367000</td>\n",
       "      <td>2286</td>\n",
       "      <td>13.006200</td>\n",
       "      <td>160.542432</td>\n",
       "    </tr>\n",
       "    <tr>\n",
       "      <th>9000471</th>\n",
       "      <th>23951250</th>\n",
       "      <td>11774 E Mercer Ln, Scottsdale, AZ 85259</td>\n",
       "      <td>2018-01-13</td>\n",
       "      <td>369000</td>\n",
       "      <td>1502</td>\n",
       "      <td>17.024700</td>\n",
       "      <td>245.672437</td>\n",
       "    </tr>\n",
       "    <tr>\n",
       "      <th>9035951</th>\n",
       "      <th>23951029</th>\n",
       "      <td>2351 W Del Oro Cir, Mesa, AZ 85202</td>\n",
       "      <td>2017-11-30</td>\n",
       "      <td>182500</td>\n",
       "      <td>1721</td>\n",
       "      <td>1.402180</td>\n",
       "      <td>106.042998</td>\n",
       "    </tr>\n",
       "  </tbody>\n",
       "</table>\n",
       "</div>"
      ],
      "text/plain": [
       "                                                              address       date   price  sqft  dist_to_lightrail_station         ppf\n",
       "property_id transaction_id                                                                                                           \n",
       "346200      23951313               8942 N 15th Ln, Phoenix, AZ 85021  2014-10-24  400000  2388                   0.700000  167.504188\n",
       "9020277     23951289        4350 W Shaw Butte Dr, Glendale, AZ 85304  2015-05-19  320000  2120                   5.905930  150.943396\n",
       "336902      23951266             2125 W State Ave, Phoenix, AZ 85021  2018-03-13  285000  1723                   0.844038  165.409170\n",
       "990354      23951257         1455 W Remington Dr, Chandler, AZ 85286  2017-12-05  367000  2286                  13.006200  160.542432\n",
       "9000471     23951250         11774 E Mercer Ln, Scottsdale, AZ 85259  2018-01-13  369000  1502                  17.024700  245.672437\n",
       "9035951     23951029              2351 W Del Oro Cir, Mesa, AZ 85202  2017-11-30  182500  1721                   1.402180  106.042998"
      ]
     },
     "execution_count": 156,
     "metadata": {},
     "output_type": "execute_result"
    }
   ],
   "source": [
    "# only show properties that were actually sold and closed dates are after 12/31/2004 (1460 days since Y2K)\n",
    "df = sold[(sold.date_closed != 0) & (sold.date_closed < 10000 )] \\\n",
    "        [[\"address\", \"date_closed\",\"price\",\"sqft\",\"dist_to_lightrail_station\"]]\n",
    "df.rename(columns = {'date_closed':'date'}, inplace = True)\n",
    "\n",
    "# convert days since Y2K to a nice looking date\n",
    "df['date'] = df['date'].apply(lambda x: dt.date(2000, 1, 1) + dt.timedelta(days=x)) \\\n",
    "                       .astype(\"datetime64[ns]\")\n",
    "\n",
    "df = df[df.date >= dt.date(2008,12,27)]\n",
    "\n",
    "df['ppf'] = (df.price / df.sqft)\n",
    "df.head(6)"
   ]
  },
  {
   "cell_type": "markdown",
   "metadata": {},
   "source": [
    "The dataset consists of 181,785 transactions dating back to the opening day of the light rail line. For this basic experiment, we will only study the effect of proximity to a light rail station on the total price of the house and the price per square foot."
   ]
  },
  {
   "cell_type": "code",
   "execution_count": 158,
   "metadata": {
    "collapsed": false
   },
   "outputs": [
    {
     "name": "stdout",
     "output_type": "stream",
     "text": [
      "<class 'pandas.core.frame.DataFrame'>\n",
      "MultiIndex: 181785 entries, (346200, 23951313) to (2579, 5359)\n",
      "Data columns (total 6 columns):\n",
      "address                      181785 non-null object\n",
      "date                         181785 non-null datetime64[ns]\n",
      "price                        181785 non-null int64\n",
      "sqft                         181785 non-null int64\n",
      "dist_to_lightrail_station    181785 non-null float64\n",
      "ppf                          181785 non-null float64\n",
      "dtypes: datetime64[ns](1), float64(2), int64(2), object(1)\n",
      "memory usage: 15.0+ MB\n"
     ]
    }
   ],
   "source": [
    "df.info()"
   ]
  },
  {
   "cell_type": "markdown",
   "metadata": {},
   "source": [
    "The average home in our data set sold for \\$176k. There is a general filter that only includes homes between $50-400k, and between 500-10000 square feet. The dataset does not include any foreclosures or land-only transactions, but it has not been rigorously cleaned for something like the sale of a burned down house or sale of unpermitted buildings, resulting in some large variation in the price per footage. Most homes within 7km of a light rail station, with some faily long tails. This is expected - light rail goes through central areas of Phoenix, where there is highest population density and lots of existing homes. Price per foot follows a lognormal distribution, with quite a few high outliers but centered around \\$102/sq ft. Square footage looks mostly like a normal distribution but there are some mansions of 3000+ ft while relatively few tiny houses."
   ]
  },
  {
   "cell_type": "code",
   "execution_count": 159,
   "metadata": {
    "collapsed": false
   },
   "outputs": [
    {
     "data": {
      "text/html": [
       "<div>\n",
       "<style>\n",
       "    .dataframe thead tr:only-child th {\n",
       "        text-align: right;\n",
       "    }\n",
       "\n",
       "    .dataframe thead th {\n",
       "        text-align: left;\n",
       "    }\n",
       "\n",
       "    .dataframe tbody tr th {\n",
       "        vertical-align: top;\n",
       "    }\n",
       "</style>\n",
       "<table border=\"1\" class=\"dataframe\">\n",
       "  <thead>\n",
       "    <tr style=\"text-align: right;\">\n",
       "      <th></th>\n",
       "      <th>date</th>\n",
       "      <th>price</th>\n",
       "      <th>sqft</th>\n",
       "      <th>dist_to_lightrail_station</th>\n",
       "      <th>ppf</th>\n",
       "    </tr>\n",
       "  </thead>\n",
       "  <tbody>\n",
       "    <tr>\n",
       "      <th>count</th>\n",
       "      <td>181785</td>\n",
       "      <td>181785.000000</td>\n",
       "      <td>181785.000000</td>\n",
       "      <td>181785.000000</td>\n",
       "      <td>181785.000000</td>\n",
       "    </tr>\n",
       "    <tr>\n",
       "      <th>unique</th>\n",
       "      <td>3400</td>\n",
       "      <td>NaN</td>\n",
       "      <td>NaN</td>\n",
       "      <td>NaN</td>\n",
       "      <td>NaN</td>\n",
       "    </tr>\n",
       "    <tr>\n",
       "      <th>top</th>\n",
       "      <td>2017-10-25 00:00:00</td>\n",
       "      <td>NaN</td>\n",
       "      <td>NaN</td>\n",
       "      <td>NaN</td>\n",
       "      <td>NaN</td>\n",
       "    </tr>\n",
       "    <tr>\n",
       "      <th>freq</th>\n",
       "      <td>1209</td>\n",
       "      <td>NaN</td>\n",
       "      <td>NaN</td>\n",
       "      <td>NaN</td>\n",
       "      <td>NaN</td>\n",
       "    </tr>\n",
       "    <tr>\n",
       "      <th>first</th>\n",
       "      <td>2008-12-27 00:00:00</td>\n",
       "      <td>NaN</td>\n",
       "      <td>NaN</td>\n",
       "      <td>NaN</td>\n",
       "      <td>NaN</td>\n",
       "    </tr>\n",
       "    <tr>\n",
       "      <th>last</th>\n",
       "      <td>2018-05-15 00:00:00</td>\n",
       "      <td>NaN</td>\n",
       "      <td>NaN</td>\n",
       "      <td>NaN</td>\n",
       "      <td>NaN</td>\n",
       "    </tr>\n",
       "    <tr>\n",
       "      <th>mean</th>\n",
       "      <td>NaN</td>\n",
       "      <td>175827.044718</td>\n",
       "      <td>1660.780846</td>\n",
       "      <td>7.569244</td>\n",
       "      <td>107.842911</td>\n",
       "    </tr>\n",
       "    <tr>\n",
       "      <th>std</th>\n",
       "      <td>NaN</td>\n",
       "      <td>86222.308470</td>\n",
       "      <td>483.147950</td>\n",
       "      <td>4.721558</td>\n",
       "      <td>48.925512</td>\n",
       "    </tr>\n",
       "    <tr>\n",
       "      <th>min</th>\n",
       "      <td>NaN</td>\n",
       "      <td>50000.000000</td>\n",
       "      <td>500.000000</td>\n",
       "      <td>0.000000</td>\n",
       "      <td>7.687877</td>\n",
       "    </tr>\n",
       "    <tr>\n",
       "      <th>25%</th>\n",
       "      <td>NaN</td>\n",
       "      <td>107000.000000</td>\n",
       "      <td>1338.000000</td>\n",
       "      <td>3.802220</td>\n",
       "      <td>70.157068</td>\n",
       "    </tr>\n",
       "    <tr>\n",
       "      <th>50%</th>\n",
       "      <td>NaN</td>\n",
       "      <td>160221.000000</td>\n",
       "      <td>1597.000000</td>\n",
       "      <td>6.914660</td>\n",
       "      <td>102.416571</td>\n",
       "    </tr>\n",
       "    <tr>\n",
       "      <th>75%</th>\n",
       "      <td>NaN</td>\n",
       "      <td>230000.000000</td>\n",
       "      <td>1901.000000</td>\n",
       "      <td>10.606600</td>\n",
       "      <td>137.549148</td>\n",
       "    </tr>\n",
       "    <tr>\n",
       "      <th>max</th>\n",
       "      <td>NaN</td>\n",
       "      <td>400000.000000</td>\n",
       "      <td>8455.000000</td>\n",
       "      <td>23.713500</td>\n",
       "      <td>641.666667</td>\n",
       "    </tr>\n",
       "  </tbody>\n",
       "</table>\n",
       "</div>"
      ],
      "text/plain": [
       "                       date          price           sqft  dist_to_lightrail_station            ppf\n",
       "count                181785  181785.000000  181785.000000              181785.000000  181785.000000\n",
       "unique                 3400            NaN            NaN                        NaN            NaN\n",
       "top     2017-10-25 00:00:00            NaN            NaN                        NaN            NaN\n",
       "freq                   1209            NaN            NaN                        NaN            NaN\n",
       "first   2008-12-27 00:00:00            NaN            NaN                        NaN            NaN\n",
       "last    2018-05-15 00:00:00            NaN            NaN                        NaN            NaN\n",
       "mean                    NaN  175827.044718    1660.780846                   7.569244     107.842911\n",
       "std                     NaN   86222.308470     483.147950                   4.721558      48.925512\n",
       "min                     NaN   50000.000000     500.000000                   0.000000       7.687877\n",
       "25%                     NaN  107000.000000    1338.000000                   3.802220      70.157068\n",
       "50%                     NaN  160221.000000    1597.000000                   6.914660     102.416571\n",
       "75%                     NaN  230000.000000    1901.000000                  10.606600     137.549148\n",
       "max                     NaN  400000.000000    8455.000000                  23.713500     641.666667"
      ]
     },
     "execution_count": 159,
     "metadata": {},
     "output_type": "execute_result"
    }
   ],
   "source": [
    "df.describe(include=['datetime64','int64','float64'])"
   ]
  },
  {
   "cell_type": "code",
   "execution_count": 160,
   "metadata": {
    "collapsed": false
   },
   "outputs": [
    {
     "data": {
      "text/plain": [
       "array([[<matplotlib.axes._subplots.AxesSubplot object at 0x7fa02fb2ac50>,\n",
       "        <matplotlib.axes._subplots.AxesSubplot object at 0x7fa01f941a90>],\n",
       "       [<matplotlib.axes._subplots.AxesSubplot object at 0x7fa01f8bd2e8>,\n",
       "        <matplotlib.axes._subplots.AxesSubplot object at 0x7fa01e0416d8>]], dtype=object)"
      ]
     },
     "execution_count": 160,
     "metadata": {},
     "output_type": "execute_result"
    },
    {
     "data": {
      "image/png": "[encoded data removed]",
      "text/plain": [
       "<matplotlib.figure.Figure at 0x7fa02fb2a2e8>"
      ]
     },
     "metadata": {},
     "output_type": "display_data"
    }
   ],
   "source": [
    "df.hist(bins=40,figsize=(15,10))"
   ]
  },
  {
   "cell_type": "markdown",
   "metadata": {},
   "source": [
    "In terms of transaction volume by year, the dataset starts on Dec 27, 2008 and goes through May 2018. 2008 only has a few transactions since we only care about sales that closed after the rail started operating and continue through today."
   ]
  },
  {
   "cell_type": "code",
   "execution_count": 161,
   "metadata": {
    "collapsed": false
   },
   "outputs": [
    {
     "data": {
      "text/plain": [
       "<matplotlib.axes._subplots.AxesSubplot at 0x7fa01e9ddeb8>"
      ]
     },
     "execution_count": 161,
     "metadata": {},
     "output_type": "execute_result"
    },
    {
     "data": {
      "image/png": "[encoded data removed]",
      "text/plain": [
       "<matplotlib.figure.Figure at 0x7fa055db29b0>"
      ]
     },
     "metadata": {},
     "output_type": "display_data"
    }
   ],
   "source": [
    "df.groupby(df[\"date\"].dt.year).address.count().plot(kind=\"bar\")"
   ]
  },
  {
   "cell_type": "markdown",
   "metadata": {},
   "source": [
    "The correlation matrix shows high crosscorrelation between the `PPF` dependent variable with `price` and `sqft`. "
   ]
  },
  {
   "cell_type": "code",
   "execution_count": 163,
   "metadata": {
    "collapsed": false
   },
   "outputs": [
    {
     "data": {
      "image/png": "[encoded data removed]",
      "text/plain": [
       "<matplotlib.figure.Figure at 0x7fa01d42d668>"
      ]
     },
     "metadata": {},
     "output_type": "display_data"
    }
   ],
   "source": [
    "# Calculate and plot\n",
    "numerical = list(set(df.columns) - set(['address','date']))\n",
    "\n",
    "corr_matrix = df[numerical].corr()\n",
    "sns.heatmap(corr_matrix);"
   ]
  },
  {
   "cell_type": "markdown",
   "metadata": {},
   "source": [
    "The density function of price per foot and distance shows two clusters - one at around 5km away from a transit station and at average price of \\$90/ft and a second, smaller one at 8km away and \\$100/ft. Homes don't necessarily gain value as they get closer to a train station, but the extreme outliers that are very far away sell for lower valuations. Also homes that sell for \\$200+/ft appear to be all within 5km of a train station. "
   ]
  },
  {
   "cell_type": "code",
   "execution_count": 164,
   "metadata": {
    "collapsed": false
   },
   "outputs": [
    {
     "data": {
      "text/plain": [
       "<seaborn.axisgrid.JointGrid at 0x7fa0241a4dd8>"
      ]
     },
     "execution_count": 164,
     "metadata": {},
     "output_type": "execute_result"
    },
    {
     "data": {
      "image/png": "[encoded data removed]",
      "text/plain": [
       "<matplotlib.figure.Figure at 0x7fa02efbe128>"
      ]
     },
     "metadata": {},
     "output_type": "display_data"
    }
   ],
   "source": [
    "sns.jointplot('dist_to_lightrail_station', 'ppf', data=df, kind=\"kde\", color=\"g\")"
   ]
  },
  {
   "cell_type": "markdown",
   "metadata": {},
   "source": [
    "Initially I had assumed that light rail would attract a less affluent resident, and that the most expensive homes would be farther away from the transit stops. Homes between \\$50-100k do tend to cluster relatively closely to train stations, while homes in the \\$200k+ range peak a bit farther away."
   ]
  },
  {
   "cell_type": "code",
   "execution_count": 165,
   "metadata": {
    "collapsed": false
   },
   "outputs": [
    {
     "data": {
      "text/plain": [
       "<seaborn.axisgrid.JointGrid at 0x7fa029c2d160>"
      ]
     },
     "execution_count": 165,
     "metadata": {},
     "output_type": "execute_result"
    },
    {
     "data": {
      "image/png": "[encoded data removed]",
      "text/plain": [
       "<matplotlib.figure.Figure at 0x7fa02bb74e10>"
      ]
     },
     "metadata": {},
     "output_type": "display_data"
    }
   ],
   "source": [
    "sns.jointplot('dist_to_lightrail_station', 'price', data=df, kind=\"kde\", color=\"b\")"
   ]
  },
  {
   "cell_type": "markdown",
   "metadata": {},
   "source": [
    "Home sizes are normally distributed, with a slight preference for the smaller sized homes in close proximity to light rail stations."
   ]
  },
  {
   "cell_type": "code",
   "execution_count": 166,
   "metadata": {
    "collapsed": false
   },
   "outputs": [
    {
     "data": {
      "text/plain": [
       "<seaborn.axisgrid.JointGrid at 0x7fa01f664588>"
      ]
     },
     "execution_count": 166,
     "metadata": {},
     "output_type": "execute_result"
    },
    {
     "data": {
      "image/png": "[encoded data removed]",
      "text/plain": [
       "<matplotlib.figure.Figure at 0x7fa0242e3eb8>"
      ]
     },
     "metadata": {},
     "output_type": "display_data"
    }
   ],
   "source": [
    "sns.jointplot('dist_to_lightrail_station', 'sqft', data=df, kind=\"kde\", color=\"r\")"
   ]
  },
  {
   "cell_type": "markdown",
   "metadata": {},
   "source": [
    "Phoenix house values peaked in 2007, then declined through 2011, and have grown at very high rates since 2011. So using average price per foot metrics across the entire data set would be very misleading and we need to adjust for the general appreciation trend in the data. Creating a dummy variable to track homes that are less than 5km from a light rail station (should be either walkable or very short drive to the station) we notice that they have appreciated at a higher rate than homes that are farther away from the light rail line."
   ]
  },
  {
   "cell_type": "code",
   "execution_count": 341,
   "metadata": {
    "collapsed": false
   },
   "outputs": [],
   "source": [
    "# create dummy variables for years and for being near a light rail station\n",
    "df[\"year\"] = df.date.dt.year\n",
    "df['near_rail'] = df['dist_to_lightrail_station'] < 5"
   ]
  },
  {
   "cell_type": "code",
   "execution_count": 199,
   "metadata": {
    "collapsed": false
   },
   "outputs": [
    {
     "data": {
      "text/plain": [
       "<matplotlib.axes._subplots.AxesSubplot at 0x7fa02aeeb4a8>"
      ]
     },
     "execution_count": 199,
     "metadata": {},
     "output_type": "execute_result"
    },
    {
     "data": {
      "image/png": "[encoded data removed]",
      "text/plain": [
       "<matplotlib.figure.Figure at 0x7fa028a26860>"
      ]
     },
     "metadata": {},
     "output_type": "display_data"
    }
   ],
   "source": [
    "sns.countplot(x='near_rail', data=df)"
   ]
  },
  {
   "cell_type": "code",
   "execution_count": 207,
   "metadata": {
    "collapsed": false
   },
   "outputs": [
    {
     "data": {
      "text/plain": [
       "<matplotlib.axes._subplots.AxesSubplot at 0x7f9ff208e710>"
      ]
     },
     "execution_count": 207,
     "metadata": {},
     "output_type": "execute_result"
    },
    {
     "data": {
      "image/png": "[encoded data removed]",
      "text/plain": [
       "<matplotlib.figure.Figure at 0x7f9ff2232d30>"
      ]
     },
     "metadata": {},
     "output_type": "display_data"
    }
   ],
   "source": [
    "sns.barplot(x=\"year\", y=\"ppf\", hue=\"near_rail\", data=df)"
   ]
  },
  {
   "cell_type": "markdown",
   "metadata": {},
   "source": [
    "Let's start with a simple model that tries to predict price per square foot just from the total square footage and distance to light rail station. Larger homes sell for lower price per foot. Distance to light rail is actually a negative predictor of value, with every kilometer separation from station increasing price by \\$0.33/ft. If true, this would be a bad news for every transit project in the country."
   ]
  },
  {
   "cell_type": "code",
   "execution_count": 276,
   "metadata": {
    "collapsed": false
   },
   "outputs": [
    {
     "data": {
      "text/html": [
       "<table class=\"simpletable\">\n",
       "<caption>OLS Regression Results</caption>\n",
       "<tr>\n",
       "  <th>Dep. Variable:</th>          <td>price</td>      <th>  R-squared:         </th>  <td>   0.192</td>  \n",
       "</tr>\n",
       "<tr>\n",
       "  <th>Model:</th>                   <td>OLS</td>       <th>  Adj. R-squared:    </th>  <td>   0.192</td>  \n",
       "</tr>\n",
       "<tr>\n",
       "  <th>Method:</th>             <td>Least Squares</td>  <th>  F-statistic:       </th>  <td>2.154e+04</td> \n",
       "</tr>\n",
       "<tr>\n",
       "  <th>Date:</th>             <td>Mon, 28 May 2018</td> <th>  Prob (F-statistic):</th>   <td>  0.00</td>   \n",
       "</tr>\n",
       "<tr>\n",
       "  <th>Time:</th>                 <td>14:01:34</td>     <th>  Log-Likelihood:    </th> <td>-2.3045e+06</td>\n",
       "</tr>\n",
       "<tr>\n",
       "  <th>No. Observations:</th>      <td>181785</td>      <th>  AIC:               </th>  <td>4.609e+06</td> \n",
       "</tr>\n",
       "<tr>\n",
       "  <th>Df Residuals:</th>          <td>181782</td>      <th>  BIC:               </th>  <td>4.609e+06</td> \n",
       "</tr>\n",
       "<tr>\n",
       "  <th>Df Model:</th>              <td>     2</td>      <th>                     </th>      <td> </td>     \n",
       "</tr>\n",
       "<tr>\n",
       "  <th>Covariance Type:</th>      <td>nonrobust</td>    <th>                     </th>      <td> </td>     \n",
       "</tr>\n",
       "</table>\n",
       "<table class=\"simpletable\">\n",
       "<tr>\n",
       "             <td></td>               <th>coef</th>     <th>std err</th>      <th>t</th>      <th>P>|t|</th>  <th>[0.025</th>    <th>0.975]</th>  \n",
       "</tr>\n",
       "<tr>\n",
       "  <th>Intercept</th>              <td>  4.73e+04</td> <td>  653.678</td> <td>   72.364</td> <td> 0.000</td> <td>  4.6e+04</td> <td> 4.86e+04</td>\n",
       "</tr>\n",
       "<tr>\n",
       "  <th>sqft</th>                   <td>   78.5384</td> <td>    0.379</td> <td>  207.345</td> <td> 0.000</td> <td>   77.796</td> <td>   79.281</td>\n",
       "</tr>\n",
       "<tr>\n",
       "  <th>sqft:near_rail[T.True]</th> <td>   -3.2496</td> <td>    0.223</td> <td>  -14.597</td> <td> 0.000</td> <td>   -3.686</td> <td>   -2.813</td>\n",
       "</tr>\n",
       "</table>\n",
       "<table class=\"simpletable\">\n",
       "<tr>\n",
       "  <th>Omnibus:</th>       <td>4760.019</td> <th>  Durbin-Watson:     </th> <td>   1.282</td>\n",
       "</tr>\n",
       "<tr>\n",
       "  <th>Prob(Omnibus):</th>  <td> 0.000</td>  <th>  Jarque-Bera (JB):  </th> <td>5142.668</td>\n",
       "</tr>\n",
       "<tr>\n",
       "  <th>Skew:</th>           <td> 0.411</td>  <th>  Prob(JB):          </th> <td>    0.00</td>\n",
       "</tr>\n",
       "<tr>\n",
       "  <th>Kurtosis:</th>       <td> 3.059</td>  <th>  Cond. No.          </th> <td>6.65e+03</td>\n",
       "</tr>\n",
       "</table>"
      ],
      "text/plain": [
       "<class 'statsmodels.iolib.summary.Summary'>\n",
       "\"\"\"\n",
       "                            OLS Regression Results                            \n",
       "==============================================================================\n",
       "Dep. Variable:                  price   R-squared:                       0.192\n",
       "Model:                            OLS   Adj. R-squared:                  0.192\n",
       "Method:                 Least Squares   F-statistic:                 2.154e+04\n",
       "Date:                Mon, 28 May 2018   Prob (F-statistic):               0.00\n",
       "Time:                        14:01:34   Log-Likelihood:            -2.3045e+06\n",
       "No. Observations:              181785   AIC:                         4.609e+06\n",
       "Df Residuals:                  181782   BIC:                         4.609e+06\n",
       "Df Model:                           2                                         \n",
       "Covariance Type:            nonrobust                                         \n",
       "==========================================================================================\n",
       "                             coef    std err          t      P>|t|      [0.025      0.975]\n",
       "------------------------------------------------------------------------------------------\n",
       "Intercept                4.73e+04    653.678     72.364      0.000     4.6e+04    4.86e+04\n",
       "sqft                      78.5384      0.379    207.345      0.000      77.796      79.281\n",
       "sqft:near_rail[T.True]    -3.2496      0.223    -14.597      0.000      -3.686      -2.813\n",
       "==============================================================================\n",
       "Omnibus:                     4760.019   Durbin-Watson:                   1.282\n",
       "Prob(Omnibus):                  0.000   Jarque-Bera (JB):             5142.668\n",
       "Skew:                           0.411   Prob(JB):                         0.00\n",
       "Kurtosis:                       3.059   Cond. No.                     6.65e+03\n",
       "==============================================================================\n",
       "\n",
       "Warnings:\n",
       "[1] Standard Errors assume that the covariance matrix of the errors is correctly specified.\n",
       "[2] The condition number is large, 6.65e+03. This might indicate that there are\n",
       "strong multicollinearity or other numerical problems.\n",
       "\"\"\""
      ]
     },
     "execution_count": 276,
     "metadata": {},
     "output_type": "execute_result"
    }
   ],
   "source": [
    "price_model = ols(\"price ~ sqft + sqft:dist_to_lightrail_station\", data=df).fit()\n",
    "# summarize our model\n",
    "price_model.summary()"
   ]
  },
  {
   "cell_type": "code",
   "execution_count": 277,
   "metadata": {
    "collapsed": false
   },
   "outputs": [
    {
     "data": {
      "text/html": [
       "<table class=\"simpletable\">\n",
       "<caption>OLS Regression Results</caption>\n",
       "<tr>\n",
       "  <th>Dep. Variable:</th>          <td>price</td>      <th>  R-squared:         </th>  <td>   0.192</td>  \n",
       "</tr>\n",
       "<tr>\n",
       "  <th>Model:</th>                   <td>OLS</td>       <th>  Adj. R-squared:    </th>  <td>   0.192</td>  \n",
       "</tr>\n",
       "<tr>\n",
       "  <th>Method:</th>             <td>Least Squares</td>  <th>  F-statistic:       </th>  <td>2.154e+04</td> \n",
       "</tr>\n",
       "<tr>\n",
       "  <th>Date:</th>             <td>Mon, 28 May 2018</td> <th>  Prob (F-statistic):</th>   <td>  0.00</td>   \n",
       "</tr>\n",
       "<tr>\n",
       "  <th>Time:</th>                 <td>14:01:53</td>     <th>  Log-Likelihood:    </th> <td>-2.3045e+06</td>\n",
       "</tr>\n",
       "<tr>\n",
       "  <th>No. Observations:</th>      <td>181785</td>      <th>  AIC:               </th>  <td>4.609e+06</td> \n",
       "</tr>\n",
       "<tr>\n",
       "  <th>Df Residuals:</th>          <td>181782</td>      <th>  BIC:               </th>  <td>4.609e+06</td> \n",
       "</tr>\n",
       "<tr>\n",
       "  <th>Df Model:</th>              <td>     2</td>      <th>                     </th>      <td> </td>     \n",
       "</tr>\n",
       "<tr>\n",
       "  <th>Covariance Type:</th>      <td>nonrobust</td>    <th>                     </th>      <td> </td>     \n",
       "</tr>\n",
       "</table>\n",
       "<table class=\"simpletable\">\n",
       "<tr>\n",
       "             <td></td>               <th>coef</th>     <th>std err</th>      <th>t</th>      <th>P>|t|</th>  <th>[0.025</th>    <th>0.975]</th>  \n",
       "</tr>\n",
       "<tr>\n",
       "  <th>Intercept</th>              <td>  4.73e+04</td> <td>  653.678</td> <td>   72.364</td> <td> 0.000</td> <td>  4.6e+04</td> <td> 4.86e+04</td>\n",
       "</tr>\n",
       "<tr>\n",
       "  <th>sqft</th>                   <td>   78.5384</td> <td>    0.379</td> <td>  207.345</td> <td> 0.000</td> <td>   77.796</td> <td>   79.281</td>\n",
       "</tr>\n",
       "<tr>\n",
       "  <th>sqft:near_rail[T.True]</th> <td>   -3.2496</td> <td>    0.223</td> <td>  -14.597</td> <td> 0.000</td> <td>   -3.686</td> <td>   -2.813</td>\n",
       "</tr>\n",
       "</table>\n",
       "<table class=\"simpletable\">\n",
       "<tr>\n",
       "  <th>Omnibus:</th>       <td>4760.019</td> <th>  Durbin-Watson:     </th> <td>   1.282</td>\n",
       "</tr>\n",
       "<tr>\n",
       "  <th>Prob(Omnibus):</th>  <td> 0.000</td>  <th>  Jarque-Bera (JB):  </th> <td>5142.668</td>\n",
       "</tr>\n",
       "<tr>\n",
       "  <th>Skew:</th>           <td> 0.411</td>  <th>  Prob(JB):          </th> <td>    0.00</td>\n",
       "</tr>\n",
       "<tr>\n",
       "  <th>Kurtosis:</th>       <td> 3.059</td>  <th>  Cond. No.          </th> <td>6.65e+03</td>\n",
       "</tr>\n",
       "</table>"
      ],
      "text/plain": [
       "<class 'statsmodels.iolib.summary.Summary'>\n",
       "\"\"\"\n",
       "                            OLS Regression Results                            \n",
       "==============================================================================\n",
       "Dep. Variable:                  price   R-squared:                       0.192\n",
       "Model:                            OLS   Adj. R-squared:                  0.192\n",
       "Method:                 Least Squares   F-statistic:                 2.154e+04\n",
       "Date:                Mon, 28 May 2018   Prob (F-statistic):               0.00\n",
       "Time:                        14:01:53   Log-Likelihood:            -2.3045e+06\n",
       "No. Observations:              181785   AIC:                         4.609e+06\n",
       "Df Residuals:                  181782   BIC:                         4.609e+06\n",
       "Df Model:                           2                                         \n",
       "Covariance Type:            nonrobust                                         \n",
       "==========================================================================================\n",
       "                             coef    std err          t      P>|t|      [0.025      0.975]\n",
       "------------------------------------------------------------------------------------------\n",
       "Intercept                4.73e+04    653.678     72.364      0.000     4.6e+04    4.86e+04\n",
       "sqft                      78.5384      0.379    207.345      0.000      77.796      79.281\n",
       "sqft:near_rail[T.True]    -3.2496      0.223    -14.597      0.000      -3.686      -2.813\n",
       "==============================================================================\n",
       "Omnibus:                     4760.019   Durbin-Watson:                   1.282\n",
       "Prob(Omnibus):                  0.000   Jarque-Bera (JB):             5142.668\n",
       "Skew:                           0.411   Prob(JB):                         0.00\n",
       "Kurtosis:                       3.059   Cond. No.                     6.65e+03\n",
       "==============================================================================\n",
       "\n",
       "Warnings:\n",
       "[1] Standard Errors assume that the covariance matrix of the errors is correctly specified.\n",
       "[2] The condition number is large, 6.65e+03. This might indicate that there are\n",
       "strong multicollinearity or other numerical problems.\n",
       "\"\"\""
      ]
     },
     "execution_count": 277,
     "metadata": {},
     "output_type": "execute_result"
    }
   ],
   "source": [
    "price_model = ols(\"price ~ sqft + sqft:near_rail\", data=df).fit()\n",
    "# summarize our model\n",
    "price_model.summary()"
   ]
  },
  {
   "cell_type": "markdown",
   "metadata": {},
   "source": [
    "Earlier, we observed that prices seemed to go up faster in areas that are located close to train stations. Adding years to the regressions shows that 1) prices per foot have risen steadily from the 2011 trough and 2) impact of being near the light rail station inverted from a negative factor in 2008-2014 and is now a positive factor to valuation."
   ]
  },
  {
   "cell_type": "code",
   "execution_count": 297,
   "metadata": {
    "collapsed": false,
    "scrolled": false
   },
   "outputs": [
    {
     "data": {
      "text/html": [
       "<table class=\"simpletable\">\n",
       "<caption>OLS Regression Results</caption>\n",
       "<tr>\n",
       "  <th>Dep. Variable:</th>          <td>price</td>      <th>  R-squared:         </th>  <td>   0.874</td>  \n",
       "</tr>\n",
       "<tr>\n",
       "  <th>Model:</th>                   <td>OLS</td>       <th>  Adj. R-squared:    </th>  <td>   0.874</td>  \n",
       "</tr>\n",
       "<tr>\n",
       "  <th>Method:</th>             <td>Least Squares</td>  <th>  F-statistic:       </th>  <td>5.737e+04</td> \n",
       "</tr>\n",
       "<tr>\n",
       "  <th>Date:</th>             <td>Mon, 28 May 2018</td> <th>  Prob (F-statistic):</th>   <td>  0.00</td>   \n",
       "</tr>\n",
       "<tr>\n",
       "  <th>Time:</th>                 <td>14:11:08</td>     <th>  Log-Likelihood:    </th> <td>-2.2846e+06</td>\n",
       "</tr>\n",
       "<tr>\n",
       "  <th>No. Observations:</th>      <td>181785</td>      <th>  AIC:               </th>  <td>4.569e+06</td> \n",
       "</tr>\n",
       "<tr>\n",
       "  <th>Df Residuals:</th>          <td>181763</td>      <th>  BIC:               </th>  <td>4.570e+06</td> \n",
       "</tr>\n",
       "<tr>\n",
       "  <th>Df Model:</th>              <td>    22</td>      <th>                     </th>      <td> </td>     \n",
       "</tr>\n",
       "<tr>\n",
       "  <th>Covariance Type:</th>      <td>nonrobust</td>    <th>                     </th>      <td> </td>     \n",
       "</tr>\n",
       "</table>\n",
       "<table class=\"simpletable\">\n",
       "<tr>\n",
       "                    <td></td>                      <th>coef</th>     <th>std err</th>      <th>t</th>      <th>P>|t|</th>  <th>[0.025</th>    <th>0.975]</th>  \n",
       "</tr>\n",
       "<tr>\n",
       "  <th>sqft:C(year)[2008]</th>                   <td>   86.3432</td> <td>    3.585</td> <td>   24.082</td> <td> 0.000</td> <td>   79.316</td> <td>   93.370</td>\n",
       "</tr>\n",
       "<tr>\n",
       "  <th>sqft:C(year)[2009]</th>                   <td>   83.8508</td> <td>    0.371</td> <td>  226.293</td> <td> 0.000</td> <td>   83.125</td> <td>   84.577</td>\n",
       "</tr>\n",
       "<tr>\n",
       "  <th>sqft:C(year)[2010]</th>                   <td>   84.1806</td> <td>    0.371</td> <td>  226.730</td> <td> 0.000</td> <td>   83.453</td> <td>   84.908</td>\n",
       "</tr>\n",
       "<tr>\n",
       "  <th>sqft:C(year)[2011]</th>                   <td>   77.5327</td> <td>    0.346</td> <td>  224.136</td> <td> 0.000</td> <td>   76.855</td> <td>   78.211</td>\n",
       "</tr>\n",
       "<tr>\n",
       "  <th>sqft:C(year)[2012]</th>                   <td>   85.6299</td> <td>    0.348</td> <td>  246.328</td> <td> 0.000</td> <td>   84.949</td> <td>   86.311</td>\n",
       "</tr>\n",
       "<tr>\n",
       "  <th>sqft:C(year)[2013]</th>                   <td>  101.8168</td> <td>    0.392</td> <td>  259.802</td> <td> 0.000</td> <td>  101.049</td> <td>  102.585</td>\n",
       "</tr>\n",
       "<tr>\n",
       "  <th>sqft:C(year)[2014]</th>                   <td>  108.8818</td> <td>    0.419</td> <td>  259.657</td> <td> 0.000</td> <td>  108.060</td> <td>  109.704</td>\n",
       "</tr>\n",
       "<tr>\n",
       "  <th>sqft:C(year)[2015]</th>                   <td>  115.8139</td> <td>    0.360</td> <td>  321.376</td> <td> 0.000</td> <td>  115.108</td> <td>  116.520</td>\n",
       "</tr>\n",
       "<tr>\n",
       "  <th>sqft:C(year)[2016]</th>                   <td>  122.5144</td> <td>    0.339</td> <td>  360.873</td> <td> 0.000</td> <td>  121.849</td> <td>  123.180</td>\n",
       "</tr>\n",
       "<tr>\n",
       "  <th>sqft:C(year)[2017]</th>                   <td>  133.1569</td> <td>    0.274</td> <td>  486.139</td> <td> 0.000</td> <td>  132.620</td> <td>  133.694</td>\n",
       "</tr>\n",
       "<tr>\n",
       "  <th>sqft:C(year)[2018]</th>                   <td>  136.4423</td> <td>    0.988</td> <td>  138.131</td> <td> 0.000</td> <td>  134.506</td> <td>  138.378</td>\n",
       "</tr>\n",
       "<tr>\n",
       "  <th>sqft:C(year)[2008]:near_rail[T.True]</th> <td>   -2.0970</td> <td>    5.968</td> <td>   -0.351</td> <td> 0.725</td> <td>  -13.794</td> <td>    9.600</td>\n",
       "</tr>\n",
       "<tr>\n",
       "  <th>sqft:C(year)[2009]:near_rail[T.True]</th> <td>   -2.4203</td> <td>    0.622</td> <td>   -3.892</td> <td> 0.000</td> <td>   -3.639</td> <td>   -1.201</td>\n",
       "</tr>\n",
       "<tr>\n",
       "  <th>sqft:C(year)[2010]:near_rail[T.True]</th> <td>   -4.7025</td> <td>    0.619</td> <td>   -7.594</td> <td> 0.000</td> <td>   -5.916</td> <td>   -3.489</td>\n",
       "</tr>\n",
       "<tr>\n",
       "  <th>sqft:C(year)[2011]:near_rail[T.True]</th> <td>   -0.4156</td> <td>    0.587</td> <td>   -0.707</td> <td> 0.479</td> <td>   -1.567</td> <td>    0.736</td>\n",
       "</tr>\n",
       "<tr>\n",
       "  <th>sqft:C(year)[2012]:near_rail[T.True]</th> <td>   -0.7028</td> <td>    0.589</td> <td>   -1.193</td> <td> 0.233</td> <td>   -1.857</td> <td>    0.452</td>\n",
       "</tr>\n",
       "<tr>\n",
       "  <th>sqft:C(year)[2013]:near_rail[T.True]</th> <td>   -4.2097</td> <td>    0.640</td> <td>   -6.581</td> <td> 0.000</td> <td>   -5.463</td> <td>   -2.956</td>\n",
       "</tr>\n",
       "<tr>\n",
       "  <th>sqft:C(year)[2014]:near_rail[T.True]</th> <td>   -2.5834</td> <td>    0.669</td> <td>   -3.860</td> <td> 0.000</td> <td>   -3.895</td> <td>   -1.272</td>\n",
       "</tr>\n",
       "<tr>\n",
       "  <th>sqft:C(year)[2015]:near_rail[T.True]</th> <td>    1.6406</td> <td>    0.581</td> <td>    2.824</td> <td> 0.005</td> <td>    0.502</td> <td>    2.779</td>\n",
       "</tr>\n",
       "<tr>\n",
       "  <th>sqft:C(year)[2016]:near_rail[T.True]</th> <td>    5.5055</td> <td>    0.607</td> <td>    9.071</td> <td> 0.000</td> <td>    4.316</td> <td>    6.695</td>\n",
       "</tr>\n",
       "<tr>\n",
       "  <th>sqft:C(year)[2017]:near_rail[T.True]</th> <td>    8.6128</td> <td>    0.535</td> <td>   16.084</td> <td> 0.000</td> <td>    7.563</td> <td>    9.662</td>\n",
       "</tr>\n",
       "<tr>\n",
       "  <th>sqft:C(year)[2018]:near_rail[T.True]</th> <td>    7.7449</td> <td>    1.859</td> <td>    4.166</td> <td> 0.000</td> <td>    4.101</td> <td>   11.389</td>\n",
       "</tr>\n",
       "</table>\n",
       "<table class=\"simpletable\">\n",
       "<tr>\n",
       "  <th>Omnibus:</th>       <td>10283.781</td> <th>  Durbin-Watson:     </th> <td>   1.345</td> \n",
       "</tr>\n",
       "<tr>\n",
       "  <th>Prob(Omnibus):</th>  <td> 0.000</td>   <th>  Jarque-Bera (JB):  </th> <td>25124.884</td>\n",
       "</tr>\n",
       "<tr>\n",
       "  <th>Skew:</th>           <td> 0.344</td>   <th>  Prob(JB):          </th> <td>    0.00</td> \n",
       "</tr>\n",
       "<tr>\n",
       "  <th>Kurtosis:</th>       <td> 4.687</td>   <th>  Cond. No.          </th> <td>    28.5</td> \n",
       "</tr>\n",
       "</table>"
      ],
      "text/plain": [
       "<class 'statsmodels.iolib.summary.Summary'>\n",
       "\"\"\"\n",
       "                            OLS Regression Results                            \n",
       "==============================================================================\n",
       "Dep. Variable:                  price   R-squared:                       0.874\n",
       "Model:                            OLS   Adj. R-squared:                  0.874\n",
       "Method:                 Least Squares   F-statistic:                 5.737e+04\n",
       "Date:                Mon, 28 May 2018   Prob (F-statistic):               0.00\n",
       "Time:                        14:11:08   Log-Likelihood:            -2.2846e+06\n",
       "No. Observations:              181785   AIC:                         4.569e+06\n",
       "Df Residuals:                  181763   BIC:                         4.570e+06\n",
       "Df Model:                          22                                         \n",
       "Covariance Type:            nonrobust                                         \n",
       "========================================================================================================\n",
       "                                           coef    std err          t      P>|t|      [0.025      0.975]\n",
       "--------------------------------------------------------------------------------------------------------\n",
       "sqft:C(year)[2008]                      86.3432      3.585     24.082      0.000      79.316      93.370\n",
       "sqft:C(year)[2009]                      83.8508      0.371    226.293      0.000      83.125      84.577\n",
       "sqft:C(year)[2010]                      84.1806      0.371    226.730      0.000      83.453      84.908\n",
       "sqft:C(year)[2011]                      77.5327      0.346    224.136      0.000      76.855      78.211\n",
       "sqft:C(year)[2012]                      85.6299      0.348    246.328      0.000      84.949      86.311\n",
       "sqft:C(year)[2013]                     101.8168      0.392    259.802      0.000     101.049     102.585\n",
       "sqft:C(year)[2014]                     108.8818      0.419    259.657      0.000     108.060     109.704\n",
       "sqft:C(year)[2015]                     115.8139      0.360    321.376      0.000     115.108     116.520\n",
       "sqft:C(year)[2016]                     122.5144      0.339    360.873      0.000     121.849     123.180\n",
       "sqft:C(year)[2017]                     133.1569      0.274    486.139      0.000     132.620     133.694\n",
       "sqft:C(year)[2018]                     136.4423      0.988    138.131      0.000     134.506     138.378\n",
       "sqft:C(year)[2008]:near_rail[T.True]    -2.0970      5.968     -0.351      0.725     -13.794       9.600\n",
       "sqft:C(year)[2009]:near_rail[T.True]    -2.4203      0.622     -3.892      0.000      -3.639      -1.201\n",
       "sqft:C(year)[2010]:near_rail[T.True]    -4.7025      0.619     -7.594      0.000      -5.916      -3.489\n",
       "sqft:C(year)[2011]:near_rail[T.True]    -0.4156      0.587     -0.707      0.479      -1.567       0.736\n",
       "sqft:C(year)[2012]:near_rail[T.True]    -0.7028      0.589     -1.193      0.233      -1.857       0.452\n",
       "sqft:C(year)[2013]:near_rail[T.True]    -4.2097      0.640     -6.581      0.000      -5.463      -2.956\n",
       "sqft:C(year)[2014]:near_rail[T.True]    -2.5834      0.669     -3.860      0.000      -3.895      -1.272\n",
       "sqft:C(year)[2015]:near_rail[T.True]     1.6406      0.581      2.824      0.005       0.502       2.779\n",
       "sqft:C(year)[2016]:near_rail[T.True]     5.5055      0.607      9.071      0.000       4.316       6.695\n",
       "sqft:C(year)[2017]:near_rail[T.True]     8.6128      0.535     16.084      0.000       7.563       9.662\n",
       "sqft:C(year)[2018]:near_rail[T.True]     7.7449      1.859      4.166      0.000       4.101      11.389\n",
       "==============================================================================\n",
       "Omnibus:                    10283.781   Durbin-Watson:                   1.345\n",
       "Prob(Omnibus):                  0.000   Jarque-Bera (JB):            25124.884\n",
       "Skew:                           0.344   Prob(JB):                         0.00\n",
       "Kurtosis:                       4.687   Cond. No.                         28.5\n",
       "==============================================================================\n",
       "\n",
       "Warnings:\n",
       "[1] Standard Errors assume that the covariance matrix of the errors is correctly specified.\n",
       "\"\"\""
      ]
     },
     "execution_count": 297,
     "metadata": {},
     "output_type": "execute_result"
    }
   ],
   "source": [
    "price_model = ols(\"price ~ sqft:C(year) + sqft:C(year):near_rail-1\", data=df).fit()\n",
    "# summarize our model\n",
    "price_model.summary()"
   ]
  },
  {
   "cell_type": "markdown",
   "metadata": {},
   "source": [
    "We can also run the model with the exact distance to a light rail station (instead of just the boolean variable), but it appears that it does not increase explanatory power. The boolean variable does just fine."
   ]
  },
  {
   "cell_type": "code",
   "execution_count": 298,
   "metadata": {
    "collapsed": false
   },
   "outputs": [
    {
     "data": {
      "text/html": [
       "<table class=\"simpletable\">\n",
       "<caption>OLS Regression Results</caption>\n",
       "<tr>\n",
       "  <th>Dep. Variable:</th>          <td>price</td>      <th>  R-squared:         </th>  <td>   0.874</td>  \n",
       "</tr>\n",
       "<tr>\n",
       "  <th>Model:</th>                   <td>OLS</td>       <th>  Adj. R-squared:    </th>  <td>   0.874</td>  \n",
       "</tr>\n",
       "<tr>\n",
       "  <th>Method:</th>             <td>Least Squares</td>  <th>  F-statistic:       </th>  <td>5.729e+04</td> \n",
       "</tr>\n",
       "<tr>\n",
       "  <th>Date:</th>             <td>Mon, 28 May 2018</td> <th>  Prob (F-statistic):</th>   <td>  0.00</td>   \n",
       "</tr>\n",
       "<tr>\n",
       "  <th>Time:</th>                 <td>14:11:24</td>     <th>  Log-Likelihood:    </th> <td>-2.2847e+06</td>\n",
       "</tr>\n",
       "<tr>\n",
       "  <th>No. Observations:</th>      <td>181785</td>      <th>  AIC:               </th>  <td>4.570e+06</td> \n",
       "</tr>\n",
       "<tr>\n",
       "  <th>Df Residuals:</th>          <td>181763</td>      <th>  BIC:               </th>  <td>4.570e+06</td> \n",
       "</tr>\n",
       "<tr>\n",
       "  <th>Df Model:</th>              <td>    22</td>      <th>                     </th>      <td> </td>     \n",
       "</tr>\n",
       "<tr>\n",
       "  <th>Covariance Type:</th>      <td>nonrobust</td>    <th>                     </th>      <td> </td>     \n",
       "</tr>\n",
       "</table>\n",
       "<table class=\"simpletable\">\n",
       "<tr>\n",
       "                        <td></td>                          <th>coef</th>     <th>std err</th>      <th>t</th>      <th>P>|t|</th>  <th>[0.025</th>    <th>0.975]</th>  \n",
       "</tr>\n",
       "<tr>\n",
       "  <th>sqft:C(year)[2008]</th>                           <td>   81.9103</td> <td>    5.478</td> <td>   14.953</td> <td> 0.000</td> <td>   71.174</td> <td>   92.647</td>\n",
       "</tr>\n",
       "<tr>\n",
       "  <th>sqft:C(year)[2009]</th>                           <td>   84.9908</td> <td>    0.564</td> <td>  150.679</td> <td> 0.000</td> <td>   83.885</td> <td>   86.096</td>\n",
       "</tr>\n",
       "<tr>\n",
       "  <th>sqft:C(year)[2010]</th>                           <td>   80.5447</td> <td>    0.559</td> <td>  144.156</td> <td> 0.000</td> <td>   79.450</td> <td>   81.640</td>\n",
       "</tr>\n",
       "<tr>\n",
       "  <th>sqft:C(year)[2011]</th>                           <td>   76.9498</td> <td>    0.530</td> <td>  145.316</td> <td> 0.000</td> <td>   75.912</td> <td>   77.988</td>\n",
       "</tr>\n",
       "<tr>\n",
       "  <th>sqft:C(year)[2012]</th>                           <td>   83.9316</td> <td>    0.535</td> <td>  156.946</td> <td> 0.000</td> <td>   82.883</td> <td>   84.980</td>\n",
       "</tr>\n",
       "<tr>\n",
       "  <th>sqft:C(year)[2013]</th>                           <td>   98.5341</td> <td>    0.585</td> <td>  168.549</td> <td> 0.000</td> <td>   97.388</td> <td>   99.680</td>\n",
       "</tr>\n",
       "<tr>\n",
       "  <th>sqft:C(year)[2014]</th>                           <td>  106.9188</td> <td>    0.606</td> <td>  176.411</td> <td> 0.000</td> <td>  105.731</td> <td>  108.107</td>\n",
       "</tr>\n",
       "<tr>\n",
       "  <th>sqft:C(year)[2015]</th>                           <td>  119.6883</td> <td>    0.530</td> <td>  225.632</td> <td> 0.000</td> <td>  118.649</td> <td>  120.728</td>\n",
       "</tr>\n",
       "<tr>\n",
       "  <th>sqft:C(year)[2016]</th>                           <td>  126.8552</td> <td>    0.557</td> <td>  227.831</td> <td> 0.000</td> <td>  125.764</td> <td>  127.946</td>\n",
       "</tr>\n",
       "<tr>\n",
       "  <th>sqft:C(year)[2017]</th>                           <td>  140.0934</td> <td>    0.494</td> <td>  283.553</td> <td> 0.000</td> <td>  139.125</td> <td>  141.062</td>\n",
       "</tr>\n",
       "<tr>\n",
       "  <th>sqft:C(year)[2018]</th>                           <td>  143.8902</td> <td>    1.721</td> <td>   83.585</td> <td> 0.000</td> <td>  140.516</td> <td>  147.264</td>\n",
       "</tr>\n",
       "<tr>\n",
       "  <th>sqft:C(year)[2008]:dist_to_lightrail_station</th> <td>    0.4414</td> <td>    0.560</td> <td>    0.788</td> <td> 0.431</td> <td>   -0.657</td> <td>    1.540</td>\n",
       "</tr>\n",
       "<tr>\n",
       "  <th>sqft:C(year)[2009]:dist_to_lightrail_station</th> <td>   -0.2483</td> <td>    0.059</td> <td>   -4.173</td> <td> 0.000</td> <td>   -0.365</td> <td>   -0.132</td>\n",
       "</tr>\n",
       "<tr>\n",
       "  <th>sqft:C(year)[2010]:dist_to_lightrail_station</th> <td>    0.2499</td> <td>    0.061</td> <td>    4.113</td> <td> 0.000</td> <td>    0.131</td> <td>    0.369</td>\n",
       "</tr>\n",
       "<tr>\n",
       "  <th>sqft:C(year)[2011]:dist_to_lightrail_station</th> <td>    0.0558</td> <td>    0.057</td> <td>    0.976</td> <td> 0.329</td> <td>   -0.056</td> <td>    0.168</td>\n",
       "</tr>\n",
       "<tr>\n",
       "  <th>sqft:C(year)[2012]:dist_to_lightrail_station</th> <td>    0.1882</td> <td>    0.059</td> <td>    3.194</td> <td> 0.001</td> <td>    0.073</td> <td>    0.304</td>\n",
       "</tr>\n",
       "<tr>\n",
       "  <th>sqft:C(year)[2013]:dist_to_lightrail_station</th> <td>    0.2291</td> <td>    0.067</td> <td>    3.435</td> <td> 0.001</td> <td>    0.098</td> <td>    0.360</td>\n",
       "</tr>\n",
       "<tr>\n",
       "  <th>sqft:C(year)[2014]:dist_to_lightrail_station</th> <td>    0.1320</td> <td>    0.071</td> <td>    1.859</td> <td> 0.063</td> <td>   -0.007</td> <td>    0.271</td>\n",
       "</tr>\n",
       "<tr>\n",
       "  <th>sqft:C(year)[2015]:dist_to_lightrail_station</th> <td>   -0.4453</td> <td>    0.062</td> <td>   -7.227</td> <td> 0.000</td> <td>   -0.566</td> <td>   -0.325</td>\n",
       "</tr>\n",
       "<tr>\n",
       "  <th>sqft:C(year)[2016]:dist_to_lightrail_station</th> <td>   -0.3183</td> <td>    0.058</td> <td>   -5.450</td> <td> 0.000</td> <td>   -0.433</td> <td>   -0.204</td>\n",
       "</tr>\n",
       "<tr>\n",
       "  <th>sqft:C(year)[2017]:dist_to_lightrail_station</th> <td>   -0.5241</td> <td>    0.049</td> <td>  -10.782</td> <td> 0.000</td> <td>   -0.619</td> <td>   -0.429</td>\n",
       "</tr>\n",
       "<tr>\n",
       "  <th>sqft:C(year)[2018]:dist_to_lightrail_station</th> <td>   -0.6029</td> <td>    0.172</td> <td>   -3.498</td> <td> 0.000</td> <td>   -0.941</td> <td>   -0.265</td>\n",
       "</tr>\n",
       "</table>\n",
       "<table class=\"simpletable\">\n",
       "<tr>\n",
       "  <th>Omnibus:</th>       <td>10509.888</td> <th>  Durbin-Watson:     </th> <td>   1.345</td> \n",
       "</tr>\n",
       "<tr>\n",
       "  <th>Prob(Omnibus):</th>  <td> 0.000</td>   <th>  Jarque-Bera (JB):  </th> <td>26334.621</td>\n",
       "</tr>\n",
       "<tr>\n",
       "  <th>Skew:</th>           <td> 0.344</td>   <th>  Prob(JB):          </th> <td>    0.00</td> \n",
       "</tr>\n",
       "<tr>\n",
       "  <th>Kurtosis:</th>       <td> 4.733</td>   <th>  Cond. No.          </th> <td>    238.</td> \n",
       "</tr>\n",
       "</table>"
      ],
      "text/plain": [
       "<class 'statsmodels.iolib.summary.Summary'>\n",
       "\"\"\"\n",
       "                            OLS Regression Results                            \n",
       "==============================================================================\n",
       "Dep. Variable:                  price   R-squared:                       0.874\n",
       "Model:                            OLS   Adj. R-squared:                  0.874\n",
       "Method:                 Least Squares   F-statistic:                 5.729e+04\n",
       "Date:                Mon, 28 May 2018   Prob (F-statistic):               0.00\n",
       "Time:                        14:11:24   Log-Likelihood:            -2.2847e+06\n",
       "No. Observations:              181785   AIC:                         4.570e+06\n",
       "Df Residuals:                  181763   BIC:                         4.570e+06\n",
       "Df Model:                          22                                         \n",
       "Covariance Type:            nonrobust                                         \n",
       "================================================================================================================\n",
       "                                                   coef    std err          t      P>|t|      [0.025      0.975]\n",
       "----------------------------------------------------------------------------------------------------------------\n",
       "sqft:C(year)[2008]                              81.9103      5.478     14.953      0.000      71.174      92.647\n",
       "sqft:C(year)[2009]                              84.9908      0.564    150.679      0.000      83.885      86.096\n",
       "sqft:C(year)[2010]                              80.5447      0.559    144.156      0.000      79.450      81.640\n",
       "sqft:C(year)[2011]                              76.9498      0.530    145.316      0.000      75.912      77.988\n",
       "sqft:C(year)[2012]                              83.9316      0.535    156.946      0.000      82.883      84.980\n",
       "sqft:C(year)[2013]                              98.5341      0.585    168.549      0.000      97.388      99.680\n",
       "sqft:C(year)[2014]                             106.9188      0.606    176.411      0.000     105.731     108.107\n",
       "sqft:C(year)[2015]                             119.6883      0.530    225.632      0.000     118.649     120.728\n",
       "sqft:C(year)[2016]                             126.8552      0.557    227.831      0.000     125.764     127.946\n",
       "sqft:C(year)[2017]                             140.0934      0.494    283.553      0.000     139.125     141.062\n",
       "sqft:C(year)[2018]                             143.8902      1.721     83.585      0.000     140.516     147.264\n",
       "sqft:C(year)[2008]:dist_to_lightrail_station     0.4414      0.560      0.788      0.431      -0.657       1.540\n",
       "sqft:C(year)[2009]:dist_to_lightrail_station    -0.2483      0.059     -4.173      0.000      -0.365      -0.132\n",
       "sqft:C(year)[2010]:dist_to_lightrail_station     0.2499      0.061      4.113      0.000       0.131       0.369\n",
       "sqft:C(year)[2011]:dist_to_lightrail_station     0.0558      0.057      0.976      0.329      -0.056       0.168\n",
       "sqft:C(year)[2012]:dist_to_lightrail_station     0.1882      0.059      3.194      0.001       0.073       0.304\n",
       "sqft:C(year)[2013]:dist_to_lightrail_station     0.2291      0.067      3.435      0.001       0.098       0.360\n",
       "sqft:C(year)[2014]:dist_to_lightrail_station     0.1320      0.071      1.859      0.063      -0.007       0.271\n",
       "sqft:C(year)[2015]:dist_to_lightrail_station    -0.4453      0.062     -7.227      0.000      -0.566      -0.325\n",
       "sqft:C(year)[2016]:dist_to_lightrail_station    -0.3183      0.058     -5.450      0.000      -0.433      -0.204\n",
       "sqft:C(year)[2017]:dist_to_lightrail_station    -0.5241      0.049    -10.782      0.000      -0.619      -0.429\n",
       "sqft:C(year)[2018]:dist_to_lightrail_station    -0.6029      0.172     -3.498      0.000      -0.941      -0.265\n",
       "==============================================================================\n",
       "Omnibus:                    10509.888   Durbin-Watson:                   1.345\n",
       "Prob(Omnibus):                  0.000   Jarque-Bera (JB):            26334.621\n",
       "Skew:                           0.344   Prob(JB):                         0.00\n",
       "Kurtosis:                       4.733   Cond. No.                         238.\n",
       "==============================================================================\n",
       "\n",
       "Warnings:\n",
       "[1] Standard Errors assume that the covariance matrix of the errors is correctly specified.\n",
       "\"\"\""
      ]
     },
     "execution_count": 298,
     "metadata": {},
     "output_type": "execute_result"
    }
   ],
   "source": [
    "price_model2 = ols(\"price ~ sqft:C(year) + sqft:C(year):dist_to_lightrail_station-1\", data=df).fit()\n",
    "# summarize our model\n",
    "price_model2.summary()"
   ]
  },
  {
   "cell_type": "markdown",
   "metadata": {},
   "source": [
    "We summarize the premium by year with some charts below."
   ]
  },
  {
   "cell_type": "code",
   "execution_count": 343,
   "metadata": {
    "collapsed": false
   },
   "outputs": [
    {
     "data": {
      "text/plain": [
       "<matplotlib.text.Text at 0x7f9feac95550>"
      ]
     },
     "execution_count": 343,
     "metadata": {},
     "output_type": "execute_result"
    },
    {
     "data": {
      "image/png": "[encoded data removed]",
      "text/plain": [
       "<matplotlib.figure.Figure at 0x7f9fe9b829b0>"
      ]
     },
     "metadata": {},
     "output_type": "display_data"
    }
   ],
   "source": [
    "import re\n",
    "prem = price_model.params[-10:].rename(lambda x: re.findall(\"\\[(\\d{4})\\]\",x)[0])\n",
    "ax = prem.plot(kind=\"bar\")\n",
    "for p in ax.patches:\n",
    "    b = p.get_bbox()\n",
    "    val = \"${:3.2f}\".format(b.y1 + b.y0)\n",
    "    ax.annotate(val, (p.get_x() * 1.005, p.get_height() * 1.005))\n",
    "    \n",
    "# manipulate\n",
    "vals = ax.get_yticks()\n",
    "ax.set_yticklabels(['${:3.2f}'.format(x) for x in vals])\n",
    "ax.set_ylabel(\"Premium per Sq Ft for Proximity to Light Rail\")\n",
    "ax.set_xlabel(\"Transaction Year\")"
   ]
  },
  {
   "cell_type": "code",
   "execution_count": 345,
   "metadata": {
    "collapsed": false
   },
   "outputs": [
    {
     "name": "stdout",
     "output_type": "stream",
     "text": [
      "      Far from Rail  Near to Rail\n",
      "2009      83.850828     81.430537\n",
      "2010      84.180617     79.478097\n",
      "2011      77.532671     77.117075\n",
      "2012      85.629916     84.927137\n",
      "2013     101.816778     97.607087\n",
      "2014     108.881842    106.298413\n",
      "2015     115.813900    117.454524\n",
      "2016     122.514410    128.019917\n",
      "2017     133.156910    141.769733\n",
      "2018     136.442337    144.187244\n"
     ]
    },
    {
     "data": {
      "text/plain": [
       "[<matplotlib.text.Text at 0x7f9ff02a8f60>,\n",
       " <matplotlib.text.Text at 0x7f9ff0416ba8>,\n",
       " <matplotlib.text.Text at 0x7f9feb849a20>,\n",
       " <matplotlib.text.Text at 0x7f9feb8615f8>,\n",
       " <matplotlib.text.Text at 0x7f9ff01f4668>,\n",
       " <matplotlib.text.Text at 0x7f9ff0494cc0>,\n",
       " <matplotlib.text.Text at 0x7f9ff040a470>,\n",
       " <matplotlib.text.Text at 0x7f9feb849c88>,\n",
       " <matplotlib.text.Text at 0x7f9ff03845f8>]"
      ]
     },
     "execution_count": 345,
     "metadata": {},
     "output_type": "execute_result"
    },
    {
     "data": {
      "image/png": "[encoded data removed]",
      "text/plain": [
       "<matplotlib.figure.Figure at 0x7f9ff03deeb8>"
      ]
     },
     "metadata": {},
     "output_type": "display_data"
    }
   ],
   "source": [
    "far_from_rail = price_model.params[-21:-11].rename(lambda x: re.findall(\"\\[(\\d{4})\\]\",x)[0]).rename(\"Far from Rail\")\n",
    "near_to_rail = (far_from_rail + prem).rename(\"Near to Rail\")\n",
    "output = pd.concat([far_from_rail, near_to_rail], axis=1)\n",
    "print(output)\n",
    "ax = output.plot(kind=\"bar\")\n",
    "vals = ax.get_yticks()\n",
    "ax.set_yticklabels(['${:3.2f}'.format(x) for x in vals])\n"
   ]
  },
  {
   "cell_type": "markdown",
   "metadata": {},
   "source": [
    "Based on this data, we can calculate the average apprerciation experienced by a home near the rail station and one farther away over the past 9 years. Homes near light rail stations appreciated at 1% higher rate than homes farther away."
   ]
  },
  {
   "cell_type": "code",
   "execution_count": 364,
   "metadata": {
    "collapsed": false
   },
   "outputs": [
    {
     "name": "stdout",
     "output_type": "stream",
     "text": [
      "Price per foot CAGR of homes far from light rail stations 5.56% \n",
      "Price per foot CAGR of homes near to light rail stations 6.55% \n"
     ]
    }
   ],
   "source": [
    "def CAGR(first, last, periods):\n",
    "    return (last/first)**(1/periods)-1\n",
    "print('Price per foot CAGR of homes far from light rail stations {:.2%} '.format(CAGR(output['Far from Rail']['2009'], output['Far from Rail']['2018'], 2018-2009)))\n",
    "print('Price per foot CAGR of homes near to light rail stations {:.2%} '.format(CAGR(output['Near to Rail']['2009'], output['Near to Rail']['2018'], 2018-2009)))"
   ]
  },
  {
   "cell_type": "code",
   "execution_count": null,
   "metadata": {
    "collapsed": true
   },
   "outputs": [],
   "source": []
  }
 ],
 "metadata": {
  "kernelspec": {
   "display_name": "Python 3",
   "language": "python",
   "name": "python3"
  },
  "language_info": {
   "codemirror_mode": {
    "name": "ipython",
    "version": 3
   },
   "file_extension": ".py",
   "mimetype": "text/x-python",
   "name": "python",
   "nbconvert_exporter": "python",
   "pygments_lexer": "ipython3",
   "version": "3.6.0"
  }
 },
 "nbformat": 4,
 "nbformat_minor": 2
}
