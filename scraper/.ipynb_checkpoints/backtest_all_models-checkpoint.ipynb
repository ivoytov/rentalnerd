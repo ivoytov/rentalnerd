{
 "cells": [
  {
   "cell_type": "markdown",
   "metadata": {},
   "source": [
    "Each models is required to generate a stack ranking of all properties listed for sale in the database.\n",
    "\n",
    "This script runs daily, reads in CSV files with a sorted order of homes (most attractive at the top to least attractive at the bottom), and a 'ypred' variable that reflects the scripts absolute metric (like P&L or probability of sale).\n",
    "\n",
    "The script compares each list with homes that were sold, and identifies closed transactions ('positives') as well as the top 10 properties that each model identified that didn't sell ('negatives'). The remainder is considered 'control set'. \n",
    "\n",
    "For the overall data set, and specifically for each of those 3 groups, we output the average 'ypred' value, what number and percentage of homes sold from each."
   ]
  },
  {
   "cell_type": "code",
   "execution_count": 12,
   "metadata": {
    "collapsed": false,
    "scrolled": false
   },
   "outputs": [],
   "source": [
    "import pandas as pd\n",
    "import numpy as np\n",
    "import datetime as dt\n",
    "import os\n",
    "from slacker import Slacker\n",
    "import json\n",
    "import requests\n",
    "from cloudinary.uploader import upload\n",
    "from cloudinary.utils import cloudinary_url\n",
    "from cloudinary.api import delete_resources_by_tag, resources_by_tag\n",
    "\n",
    "csv_path = '/home/ilya/Code/rentalnerd/scraper/'\n",
    "today = dt.date.today()\n",
    "\n",
    "\n",
    "%matplotlib inline\n",
    "        \n",
    "# slack secrets (in your ~/.bashrc)\n",
    "webhook_url = os.environ.get('SLACK_URL')\n",
    "slacker = Slacker(os.environ.get('SLACK_TOKEN'))\n",
    "\n",
    "# how old a target list to compare to the current target list\n",
    "lag_days = 1\n",
    "\n",
    "pd.set_option('display.max_colwidth', -1)\n",
    "discount = 0.050\n"
   ]
  },
  {
   "cell_type": "code",
   "execution_count": 13,
   "metadata": {
    "collapsed": true
   },
   "outputs": [],
   "source": [
    "def plot_rounds(plot):\n",
    "    # uploads the graph to the web and returns the URL\n",
    "    \n",
    "    fig = plot.get_figure()\n",
    "    fig.tight_layout()\n",
    "    fig.savefig('temp_plot.png')\n",
    "    \n",
    "    response = upload(\"temp_plot.png\")\n",
    "    url, options = cloudinary_url(response['public_id'],\n",
    "        format = response['format'],\n",
    "        crop = \"fill\")\n",
    "    return url"
   ]
  },
  {
   "cell_type": "code",
   "execution_count": 14,
   "metadata": {
    "collapsed": true
   },
   "outputs": [],
   "source": [
    "def slack(text, url = None, title = None):\n",
    "    print(\"Slacking: \" + text)\n",
    "    \n",
    "    if url == None:\n",
    "        data=json.dumps({\"text\": text})\n",
    "    else:\n",
    "        data = json.dumps( { \"text\": text, \"attachments\": [ { \"fallback\": \"Model MAE\"\n",
    "                                           , \"title\": title\n",
    "                                           , \"image_url\": url } ] } )\n",
    "    \n",
    "    response = requests.post(webhook_url, data , headers={'Content-Type': 'application/json'})\n",
    "    if response.status_code != 200:\n",
    "        raise ValueError('Request to slack returned an error %s, the response is:\\n%s' % (response.status_code, response.text))\n"
   ]
  },
  {
   "cell_type": "code",
   "execution_count": 15,
   "metadata": {
    "collapsed": false
   },
   "outputs": [],
   "source": [
    "closed = pd.read_csv('CSV_backups/ALL-sales.csv',nrows=10000000, index_col=['property_id','transaction_id'])"
   ]
  },
  {
   "cell_type": "code",
   "execution_count": 16,
   "metadata": {
    "collapsed": false
   },
   "outputs": [
    {
     "data": {
      "text/html": [
       "<div>\n",
       "<table border=\"1\" class=\"dataframe\">\n",
       "  <thead>\n",
       "    <tr style=\"text-align: right;\">\n",
       "      <th></th>\n",
       "      <th></th>\n",
       "      <th>price</th>\n",
       "      <th>transaction_status</th>\n",
       "      <th>date_listed</th>\n",
       "      <th>date_closed</th>\n",
       "      <th>days_on_market</th>\n",
       "      <th>transaction_type</th>\n",
       "      <th>price_listed</th>\n",
       "      <th>price_closed</th>\n",
       "      <th>date_transacted_latest</th>\n",
       "      <th>area_name</th>\n",
       "      <th>...</th>\n",
       "      <th>school_district_id_68.0</th>\n",
       "      <th>school_district_id_75.0</th>\n",
       "      <th>school_district_id_76.0</th>\n",
       "      <th>school_district_id_8.0</th>\n",
       "      <th>school_district_id_87.0</th>\n",
       "      <th>school_district_id_90.0</th>\n",
       "      <th>school_district_id_93.0</th>\n",
       "      <th>school_district_id_95.0</th>\n",
       "      <th>school_district_id_96.0</th>\n",
       "      <th>school_district_id_nan</th>\n",
       "    </tr>\n",
       "    <tr>\n",
       "      <th>property_id</th>\n",
       "      <th>transaction_id</th>\n",
       "      <th></th>\n",
       "      <th></th>\n",
       "      <th></th>\n",
       "      <th></th>\n",
       "      <th></th>\n",
       "      <th></th>\n",
       "      <th></th>\n",
       "      <th></th>\n",
       "      <th></th>\n",
       "      <th></th>\n",
       "      <th></th>\n",
       "      <th></th>\n",
       "      <th></th>\n",
       "      <th></th>\n",
       "      <th></th>\n",
       "      <th></th>\n",
       "      <th></th>\n",
       "      <th></th>\n",
       "      <th></th>\n",
       "      <th></th>\n",
       "      <th></th>\n",
       "    </tr>\n",
       "  </thead>\n",
       "  <tbody>\n",
       "    <tr>\n",
       "      <th>8968382</th>\n",
       "      <th>22259949</th>\n",
       "      <td>309980</td>\n",
       "      <td>closed</td>\n",
       "      <td>2013-10-31</td>\n",
       "      <td>5126</td>\n",
       "      <td>74.0</td>\n",
       "      <td>sales</td>\n",
       "      <td>309980.0</td>\n",
       "      <td>309980.0</td>\n",
       "      <td>2014-01-13</td>\n",
       "      <td>PH</td>\n",
       "      <td>...</td>\n",
       "      <td>0</td>\n",
       "      <td>0</td>\n",
       "      <td>0</td>\n",
       "      <td>0</td>\n",
       "      <td>0</td>\n",
       "      <td>0</td>\n",
       "      <td>0</td>\n",
       "      <td>0</td>\n",
       "      <td>0</td>\n",
       "      <td>0</td>\n",
       "    </tr>\n",
       "    <tr>\n",
       "      <th>8968371</th>\n",
       "      <th>22259834</th>\n",
       "      <td>100000</td>\n",
       "      <td>closed</td>\n",
       "      <td>2015-08-21</td>\n",
       "      <td>5749</td>\n",
       "      <td>38.0</td>\n",
       "      <td>sales</td>\n",
       "      <td>110000.0</td>\n",
       "      <td>100000.0</td>\n",
       "      <td>2015-09-28</td>\n",
       "      <td>PH</td>\n",
       "      <td>...</td>\n",
       "      <td>0</td>\n",
       "      <td>0</td>\n",
       "      <td>0</td>\n",
       "      <td>0</td>\n",
       "      <td>0</td>\n",
       "      <td>0</td>\n",
       "      <td>0</td>\n",
       "      <td>0</td>\n",
       "      <td>0</td>\n",
       "      <td>0</td>\n",
       "    </tr>\n",
       "    <tr>\n",
       "      <th>8968351</th>\n",
       "      <th>22259599</th>\n",
       "      <td>138000</td>\n",
       "      <td>closed</td>\n",
       "      <td>NaN</td>\n",
       "      <td>696</td>\n",
       "      <td>NaN</td>\n",
       "      <td>sales</td>\n",
       "      <td>NaN</td>\n",
       "      <td>138000.0</td>\n",
       "      <td>2001-11-27</td>\n",
       "      <td>PH</td>\n",
       "      <td>...</td>\n",
       "      <td>0</td>\n",
       "      <td>0</td>\n",
       "      <td>0</td>\n",
       "      <td>0</td>\n",
       "      <td>1</td>\n",
       "      <td>0</td>\n",
       "      <td>0</td>\n",
       "      <td>0</td>\n",
       "      <td>0</td>\n",
       "      <td>0</td>\n",
       "    </tr>\n",
       "    <tr>\n",
       "      <th>8952661</th>\n",
       "      <th>22259479</th>\n",
       "      <td>175000</td>\n",
       "      <td>closed</td>\n",
       "      <td>2017-06-27</td>\n",
       "      <td>6393</td>\n",
       "      <td>6.0</td>\n",
       "      <td>sales</td>\n",
       "      <td>175000.0</td>\n",
       "      <td>175000.0</td>\n",
       "      <td>2017-07-03</td>\n",
       "      <td>PH</td>\n",
       "      <td>...</td>\n",
       "      <td>0</td>\n",
       "      <td>0</td>\n",
       "      <td>0</td>\n",
       "      <td>0</td>\n",
       "      <td>0</td>\n",
       "      <td>0</td>\n",
       "      <td>0</td>\n",
       "      <td>0</td>\n",
       "      <td>0</td>\n",
       "      <td>0</td>\n",
       "    </tr>\n",
       "    <tr>\n",
       "      <th>8959511</th>\n",
       "      <th>22259203</th>\n",
       "      <td>103000</td>\n",
       "      <td>closed</td>\n",
       "      <td>NaN</td>\n",
       "      <td>4484</td>\n",
       "      <td>NaN</td>\n",
       "      <td>sales</td>\n",
       "      <td>NaN</td>\n",
       "      <td>103000.0</td>\n",
       "      <td>2012-04-11</td>\n",
       "      <td>PH</td>\n",
       "      <td>...</td>\n",
       "      <td>0</td>\n",
       "      <td>0</td>\n",
       "      <td>0</td>\n",
       "      <td>0</td>\n",
       "      <td>0</td>\n",
       "      <td>0</td>\n",
       "      <td>0</td>\n",
       "      <td>0</td>\n",
       "      <td>0</td>\n",
       "      <td>0</td>\n",
       "    </tr>\n",
       "  </tbody>\n",
       "</table>\n",
       "<p>5 rows × 219 columns</p>\n",
       "</div>"
      ],
      "text/plain": [
       "                             price transaction_status date_listed  \\\n",
       "property_id transaction_id                                          \n",
       "8968382     22259949        309980  closed             2013-10-31   \n",
       "8968371     22259834        100000  closed             2015-08-21   \n",
       "8968351     22259599        138000  closed             NaN          \n",
       "8952661     22259479        175000  closed             2017-06-27   \n",
       "8959511     22259203        103000  closed             NaN          \n",
       "\n",
       "                            date_closed  days_on_market transaction_type  \\\n",
       "property_id transaction_id                                                 \n",
       "8968382     22259949        5126         74.0            sales             \n",
       "8968371     22259834        5749         38.0            sales             \n",
       "8968351     22259599        696         NaN              sales             \n",
       "8952661     22259479        6393         6.0             sales             \n",
       "8959511     22259203        4484        NaN              sales             \n",
       "\n",
       "                            price_listed  price_closed date_transacted_latest  \\\n",
       "property_id transaction_id                                                      \n",
       "8968382     22259949        309980.0      309980.0      2014-01-13              \n",
       "8968371     22259834        110000.0      100000.0      2015-09-28              \n",
       "8968351     22259599       NaN            138000.0      2001-11-27              \n",
       "8952661     22259479        175000.0      175000.0      2017-07-03              \n",
       "8959511     22259203       NaN            103000.0      2012-04-11              \n",
       "\n",
       "                           area_name          ...            \\\n",
       "property_id transaction_id                    ...             \n",
       "8968382     22259949        PH                ...             \n",
       "8968371     22259834        PH                ...             \n",
       "8968351     22259599        PH                ...             \n",
       "8952661     22259479        PH                ...             \n",
       "8959511     22259203        PH                ...             \n",
       "\n",
       "                            school_district_id_68.0 school_district_id_75.0  \\\n",
       "property_id transaction_id                                                    \n",
       "8968382     22259949        0                        0                        \n",
       "8968371     22259834        0                        0                        \n",
       "8968351     22259599        0                        0                        \n",
       "8952661     22259479        0                        0                        \n",
       "8959511     22259203        0                        0                        \n",
       "\n",
       "                            school_district_id_76.0  school_district_id_8.0  \\\n",
       "property_id transaction_id                                                    \n",
       "8968382     22259949        0                        0                        \n",
       "8968371     22259834        0                        0                        \n",
       "8968351     22259599        0                        0                        \n",
       "8952661     22259479        0                        0                        \n",
       "8959511     22259203        0                        0                        \n",
       "\n",
       "                            school_district_id_87.0 school_district_id_90.0  \\\n",
       "property_id transaction_id                                                    \n",
       "8968382     22259949        0                        0                        \n",
       "8968371     22259834        0                        0                        \n",
       "8968351     22259599        1                        0                        \n",
       "8952661     22259479        0                        0                        \n",
       "8959511     22259203        0                        0                        \n",
       "\n",
       "                            school_district_id_93.0  school_district_id_95.0  \\\n",
       "property_id transaction_id                                                     \n",
       "8968382     22259949        0                        0                         \n",
       "8968371     22259834        0                        0                         \n",
       "8968351     22259599        0                        0                         \n",
       "8952661     22259479        0                        0                         \n",
       "8959511     22259203        0                        0                         \n",
       "\n",
       "                            school_district_id_96.0 school_district_id_nan  \n",
       "property_id transaction_id                                                  \n",
       "8968382     22259949        0                        0                      \n",
       "8968371     22259834        0                        0                      \n",
       "8968351     22259599        0                        0                      \n",
       "8952661     22259479        0                        0                      \n",
       "8959511     22259203        0                        0                      \n",
       "\n",
       "[5 rows x 219 columns]"
      ]
     },
     "execution_count": 16,
     "metadata": {},
     "output_type": "execute_result"
    }
   ],
   "source": [
    "closed.head()"
   ]
  },
  {
   "cell_type": "code",
   "execution_count": 17,
   "metadata": {
    "collapsed": false
   },
   "outputs": [
    {
     "name": "stdout",
     "output_type": "stream",
     "text": [
      "Slacking: No homes sold since last run\n"
     ]
    }
   ],
   "source": [
    "# read in prior target list for backtesting purposes\n",
    "prior_target_list = pd.read_csv(csv_path + 'good_sell/gs_target_list_' + (today-dt.timedelta(days=lag_days)) \\\n",
    "                                .strftime('%Y%m%d') + '.csv', index_col = [0,1]) \\\n",
    "                                .rename(columns = { 'ypred' : 'good_sell_prob'})\n",
    "try:\n",
    "    backtest = prior_target_list.join(closed[['price']], how=\"inner\").sort_values(by='good_sell_prob',ascending=False)\n",
    "    backtest['good_sell'] = (backtest.price >= (backtest.list * (1-discount)))\n",
    "    y_all = prior_target_list.good_sell_prob.mean()\n",
    "    y_sold = backtest.good_sell_prob.mean()\n",
    "\n",
    "    pos_trigger = 0.6\n",
    "    slack(\"Prior target list length: %i\\tNum sold: %i\\tAvg good sell prob: %f\\tAvg good sell prob of sold: %f\" \n",
    "          % (len(prior_target_list.index), len(backtest.index),y_all, y_sold))\n",
    "\n",
    "    num_pos = len(prior_target_list[prior_target_list.good_sell_prob > pos_trigger].index)\n",
    "    positives = backtest[backtest.good_sell_prob > pos_trigger]\n",
    "    y_pos = (-(positives.price - positives.list) / positives.list).mean()\n",
    "    num_sold = len(positives.index)\n",
    "    if num_sold == 0:\n",
    "        slack(\"Num of homes with good_sell_prob > %f: %i\\tPerc of those sold: NONE\\tAvg disc to list: NA\" % (pos_trigger, num_pos) )    \n",
    "    else:\n",
    "        slack(\"Num of homes with good_sell_prob > %f: %i\\tPerc of those sold: %f\\tAvg disc to list: %f\" \n",
    "              % (pos_trigger, num_pos, num_sold / num_pos *  100, y_pos * 100))\n",
    "\n",
    "    neg_trigger = 0.3\n",
    "    num_neg = len(prior_target_list[prior_target_list.good_sell_prob < neg_trigger].index)\n",
    "    negatives = backtest[backtest.good_sell_prob < neg_trigger]\n",
    "    y_neg = (-(negatives.price - negatives.list) / negatives.list).mean()\n",
    "    num_sold = len(negatives.index)\n",
    "\n",
    "    if num_sold == 0:\n",
    "        slack(\"Num of homes with good_sell_prob < %f: %i\\tPerc of those sold: NONE\\tAvg disc to list: NA\" % (neg_trigger, num_neg))\n",
    "    else:\n",
    "        slack(\"Num of homes with good_sell_prob < %f: %i\\tPerc of those sold: %f\\tAvg disc to list:%f\" \n",
    "              % (neg_trigger, num_neg, len(negatives.index) / num_neg * 100, y_neg * 100))\n",
    "\n",
    "    slack(backtest.to_string())\n",
    "except Exception as err:   \n",
    "    slack(\"No homes sold since last run\")"
   ]
  },
  {
   "cell_type": "code",
   "execution_count": 18,
   "metadata": {
    "collapsed": false
   },
   "outputs": [
    {
     "name": "stdout",
     "output_type": "stream",
     "text": [
      "Slacking: No homes sold since last run\n"
     ]
    }
   ],
   "source": [
    "# read in prior target list for backtesting purposes\n",
    "prior_target_list = pd.read_csv(csv_path + 'value_buy/vb_target_list_' + (today-dt.timedelta(days=lag_days)) \\\n",
    "                                .strftime('%Y%m%d') + '.csv', index_col = [0,1]) \\\n",
    "                                .rename(columns = { 'ypred' : 'pnl'})\n",
    "\n",
    "try:\n",
    "    backtest = prior_target_list.join(closed['price'], how=\"inner\").sort_values(by='pnl',ascending=False)\n",
    "    backtest['good_sell'] = (backtest.price >= (backtest.list * (1-discount)))\n",
    "    avg_pnl = backtest.pnl.mean()\n",
    "    predicted_price = backtest.predicted_price.mean()\n",
    "    sale_price = backtest.price.mean()\n",
    "\n",
    "    slack(\"Prior target list length: %i\\tNum sold: %i\\tAvg P&L: %f\\tAvg predict price: %f\\tAvg sale price: %f\" \n",
    "          % (len(prior_target_list.index), len(backtest.index),y_all, predicted_price, sale_price))\n",
    "\n",
    "    pos_trigger = -10000\n",
    "    num_pos = len(prior_target_list[prior_target_list.pnl > pos_trigger].index)\n",
    "    positives = backtest[backtest.pnl > pos_trigger]\n",
    "    y_pos = (-(positives.price - positives.list) / positives.list).mean()\n",
    "    num_sold = len(positives.index)\n",
    "    if num_sold == 0:\n",
    "        slack(\"Num of homes with pnl > %f: %i\\tPerc of those sold: NONE\\tAvg disc to list: NA\" % (pos_trigger, num_pos) )    \n",
    "    else:\n",
    "        slack(\"Num of homes with pnl > %f: %i\\tPerc of those sold: %f\\tAvg disc to list: %f\" \n",
    "              % (pos_trigger, num_pos, num_sold / num_pos, y_pos))\n",
    "\n",
    "    neg_trigger = -30000\n",
    "    num_neg = len(prior_target_list[prior_target_list.pnl < neg_trigger].index)\n",
    "    negatives = backtest[backtest.pnl < neg_trigger]\n",
    "    y_neg = (-(negatives.price - negatives.list) / negatives.list).mean()\n",
    "    num_sold = len(negatives.index)\n",
    "\n",
    "    if num_sold == 0:\n",
    "        slack(\"Num of homes with pnl < %f: %i\\tPerc of those sold: NONE\\tAvg disc to list: NA\" % (neg_trigger, num_neg))\n",
    "    else:\n",
    "        slack(\"Num of homes with pnl < %f: %i\\tPerc of those sold: %f\\tAvg disc to list:%f\" \n",
    "              % (neg_trigger, num_neg, len(negatives.index) / num_neg, y_neg))\n",
    "\n",
    "    slack(backtest.to_string())\n",
    "except Exception as err:   \n",
    "    slack(\"No homes sold since last run\")"
   ]
  },
  {
   "cell_type": "code",
   "execution_count": 19,
   "metadata": {
    "collapsed": false
   },
   "outputs": [
    {
     "name": "stdout",
     "output_type": "stream",
     "text": [
      "Len of value buy\t9415\n",
      "Len of good sell\t9419\n"
     ]
    }
   ],
   "source": [
    "vb = pd.read_csv('value_buy/vb_target_list_' + today.strftime('%Y%m%d') + '.csv', index_col = ['property_id','transaction_id']) \\\n",
    "       .drop(['address','url','list'],axis=1) \\\n",
    "       .rename(columns = { 'ypred': 'pnl'}) \\\n",
    "       .drop_duplicates()\n",
    "    \n",
    "gs = pd.read_csv('good_sell/gs_target_list_'  + today.strftime('%Y%m%d') + '.csv', index_col = ['property_id','transaction_id'])  \\\n",
    "       .rename(columns = { 'ypred' : 'good_sell_prob'}) \\\n",
    "       .drop_duplicates()\n",
    "        \n",
    "vb = vb[~vb.index.duplicated(keep='first')]\n",
    "gs = gs[~gs.index.duplicated(keep='first')]\n",
    "    \n",
    "print(\"Len of value buy\\t%i\" % len(vb.index))\n",
    "print(\"Len of good sell\\t%i\" % len(gs.index))\n",
    "\n",
    "c = pd.concat([vb,gs],axis=1, join='inner')\n",
    "\n",
    "c['pnl_percent'] = (c.pnl / c.list)\n",
    "\n",
    "c = c[(c.list < 250000) & (c.list > 100000)  \\\n",
    "      & (~c.address.str.contains(\"Rent|rent|LOT|#|Sun City\"))] "
   ]
  },
  {
   "cell_type": "code",
   "execution_count": 20,
   "metadata": {
    "collapsed": false,
    "scrolled": false
   },
   "outputs": [
    {
     "name": "stderr",
     "output_type": "stream",
     "text": [
      "/home/ilya/anaconda3/lib/python3.6/site-packages/urllib3/connectionpool.py:852: InsecureRequestWarning: Unverified HTTPS request is being made. Adding certificate verification is strongly advised. See: https://urllib3.readthedocs.io/en/latest/advanced-usage.html#ssl-warnings\n",
      "  InsecureRequestWarning)\n"
     ]
    },
    {
     "name": "stdout",
     "output_type": "stream",
     "text": [
      "Slacking: \n"
     ]
    },
    {
     "data": {
      "image/png": "[encoded data removed]",
      "text/plain": [
       "<matplotlib.figure.Figure at 0x7f4f4faf0320>"
      ]
     },
     "metadata": {},
     "output_type": "display_data"
    }
   ],
   "source": [
    "url = plot_rounds(c.query('good_sell_prob > 0.00').plot.scatter(x='pnl_percent', y='good_sell_prob'))\n",
    "slack(\"\", url, \"Model Correlation\")"
   ]
  },
  {
   "cell_type": "code",
   "execution_count": 21,
   "metadata": {
    "collapsed": false,
    "scrolled": false
   },
   "outputs": [
    {
     "data": {
      "text/plain": [
       "<slacker.Response at 0x7f4f87cc7c88>"
      ]
     },
     "execution_count": 21,
     "metadata": {},
     "output_type": "execute_result"
    }
   ],
   "source": [
    "# ran both data datasets and combine to create an equally weighted ensemble ranking\n",
    "c[\"pnl_rank\"] = c.pnl.rank(ascending=False)\n",
    "c[\"gs_rank\"] = c.good_sell_prob.rank(ascending=False)\n",
    "c[\"rank\"] = (c.pnl_rank + c.gs_rank)\n",
    "\n",
    "\n",
    "# filter the output to remove duds\n",
    "d = c[(c.pnl_percent > -0.2) & (c.good_sell_prob > 0.4)]\n",
    "\n",
    "file = csv_path + 'ensemble/comb_target_list_' + today.strftime('%Y%m%d') + '.csv'\n",
    "np.round(d.sort_values(\"rank\") \\\n",
    "        [['address','list','predicted_price','pnl_percent','good_sell_prob','rank','url']] \\\n",
    "        .nsmallest(20,\"rank\"), 2).to_csv(file)\n",
    "\n",
    "slacker.files.upload(file, channels='#progress')"
   ]
  }
 ],
 "metadata": {
  "kernelspec": {
   "display_name": "Python 3",
   "language": "python",
   "name": "python3"
  },
  "language_info": {
   "codemirror_mode": {
    "name": "ipython",
    "version": 3
   },
   "file_extension": ".py",
   "mimetype": "text/x-python",
   "name": "python",
   "nbconvert_exporter": "python",
   "pygments_lexer": "ipython3",
   "version": "3.6.0"
  }
 },
 "nbformat": 4,
 "nbformat_minor": 2
}
