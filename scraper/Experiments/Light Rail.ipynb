{
 "cells": [
  {
   "cell_type": "code",
   "execution_count": 366,
   "metadata": {
    "collapsed": false
   },
   "outputs": [],
   "source": [
    "# imports\n",
    "import pandas as pd\n",
    "import numpy as np\n",
    "import datetime as dt\n",
    "\n",
    "import matplotlib.pyplot as plt\n",
    "import seaborn as sns\n",
    "plt.rcParams['figure.figsize'] = (12, 8)\n",
    "\n",
    "import statsmodels.api as sm\n",
    "from statsmodels.formula.api import ols\n",
    "from statsmodels.sandbox.regression.predstd import wls_prediction_std\n",
    "\n",
    "# this allows plots to appear directly in the notebook\n",
    "%matplotlib inline\n",
    "\n",
    "limit = 100000000"
   ]
  },
  {
   "cell_type": "code",
   "execution_count": 367,
   "metadata": {
    "collapsed": false
   },
   "outputs": [
    {
     "name": "stderr",
     "output_type": "stream",
     "text": [
      "/home/ilya/anaconda3/lib/python3.6/site-packages/IPython/core/interactiveshell.py:2717: DtypeWarning: Columns (12,13,14,16) have mixed types. Specify dtype option on import or set low_memory=False.\n",
      "  interactivity=interactivity, compiler=compiler, result=result)\n"
     ]
    }
   ],
   "source": [
    "# read in data\n",
    "sold = pd.read_csv('../CSV_backups/ALL-sales.csv',nrows=limit, index_col=['property_id','transaction_id']).drop_duplicates()"
   ]
  },
  {
   "cell_type": "markdown",
   "metadata": {},
   "source": [
    "Many investors generally assume that light rail construction will lift property values. We utilize a dataset of home sales in Phoenix, Arizona over 2008-2018 to study the effect of light rail operation on house property values. Valley Metro began construction in March 2005 and opened in December 2008 with 28 stations. It as since been extended to 35 stations. We evaluate the impact of proximity to a light rail station on median home prices over the past 10 years. Analysis finds that in the first six years of operation, light rail actually caused a decline in house valuations in the surrounding area, when compared to homes that were further away. It was only in 2015 and later on that the effect of light rail operation had a consistently positive impact on median home prices. We also note that the positive effect appears rather muted, with homes near rail station fetching 5.6% higher prices than homes farther away. Given the initial negative impact on prices, investors should be wary of over-bidding on properties near future train stops in anticipation of price gains in the future. For the last 9 years, homes near light rail stations appreciated at 1% higher annual rate than homes that were far away.\n",
    "\n",
    "Map of Valley Metro Stations|\n",
    ":----:|\n",
    "![Map of light Rail](https://preview.ibb.co/kX2TyJ/lightrailmap.png)|\n",
    "\n",
    "We start with a basic data set consisting of transaction data consisting of `date_closed`, `price`, `sqft`, and `dist_to_lightrail_station`. Distance to the closest light rail station is measured in kilometers, as the crow flies. We also calculate the price per squarter foot as `price_per_foot`.  \n",
    "\n",
    "Example 1             |  Example 2\n",
    ":-------------------------:|:-------------------------:\n",
    "![](https://image.ibb.co/kjC6ky/dist1.png) | ![](https://image.ibb.co/kbP2Qy/dist2.png)\n"
   ]
  },
  {
   "cell_type": "code",
   "execution_count": 368,
   "metadata": {
    "collapsed": false
   },
   "outputs": [
    {
     "data": {
      "text/html": [
       "<div>\n",
       "<style>\n",
       "    .dataframe thead tr:only-child th {\n",
       "        text-align: right;\n",
       "    }\n",
       "\n",
       "    .dataframe thead th {\n",
       "        text-align: left;\n",
       "    }\n",
       "\n",
       "    .dataframe tbody tr th {\n",
       "        vertical-align: top;\n",
       "    }\n",
       "</style>\n",
       "<table border=\"1\" class=\"dataframe\">\n",
       "  <thead>\n",
       "    <tr style=\"text-align: right;\">\n",
       "      <th></th>\n",
       "      <th></th>\n",
       "      <th>address</th>\n",
       "      <th>date</th>\n",
       "      <th>price</th>\n",
       "      <th>sqft</th>\n",
       "      <th>dist_to_lightrail_station</th>\n",
       "      <th>ppf</th>\n",
       "    </tr>\n",
       "    <tr>\n",
       "      <th>property_id</th>\n",
       "      <th>transaction_id</th>\n",
       "      <th></th>\n",
       "      <th></th>\n",
       "      <th></th>\n",
       "      <th></th>\n",
       "      <th></th>\n",
       "      <th></th>\n",
       "    </tr>\n",
       "  </thead>\n",
       "  <tbody>\n",
       "    <tr>\n",
       "      <th>346200</th>\n",
       "      <th>23951313</th>\n",
       "      <td>8942 N 15th Ln, Phoenix, AZ 85021</td>\n",
       "      <td>2014-10-24</td>\n",
       "      <td>400000</td>\n",
       "      <td>2388</td>\n",
       "      <td>0.700000</td>\n",
       "      <td>167.504188</td>\n",
       "    </tr>\n",
       "    <tr>\n",
       "      <th>9020277</th>\n",
       "      <th>23951289</th>\n",
       "      <td>4350 W Shaw Butte Dr, Glendale, AZ 85304</td>\n",
       "      <td>2015-05-19</td>\n",
       "      <td>320000</td>\n",
       "      <td>2120</td>\n",
       "      <td>5.905930</td>\n",
       "      <td>150.943396</td>\n",
       "    </tr>\n",
       "    <tr>\n",
       "      <th>336902</th>\n",
       "      <th>23951266</th>\n",
       "      <td>2125 W State Ave, Phoenix, AZ 85021</td>\n",
       "      <td>2018-03-13</td>\n",
       "      <td>285000</td>\n",
       "      <td>1723</td>\n",
       "      <td>0.844038</td>\n",
       "      <td>165.409170</td>\n",
       "    </tr>\n",
       "    <tr>\n",
       "      <th>990354</th>\n",
       "      <th>23951257</th>\n",
       "      <td>1455 W Remington Dr, Chandler, AZ 85286</td>\n",
       "      <td>2017-12-05</td>\n",
       "      <td>367000</td>\n",
       "      <td>2286</td>\n",
       "      <td>13.006200</td>\n",
       "      <td>160.542432</td>\n",
       "    </tr>\n",
       "    <tr>\n",
       "      <th>9000471</th>\n",
       "      <th>23951250</th>\n",
       "      <td>11774 E Mercer Ln, Scottsdale, AZ 85259</td>\n",
       "      <td>2018-01-13</td>\n",
       "      <td>369000</td>\n",
       "      <td>1502</td>\n",
       "      <td>17.024700</td>\n",
       "      <td>245.672437</td>\n",
       "    </tr>\n",
       "    <tr>\n",
       "      <th>9035951</th>\n",
       "      <th>23951029</th>\n",
       "      <td>2351 W Del Oro Cir, Mesa, AZ 85202</td>\n",
       "      <td>2017-11-30</td>\n",
       "      <td>182500</td>\n",
       "      <td>1721</td>\n",
       "      <td>1.402180</td>\n",
       "      <td>106.042998</td>\n",
       "    </tr>\n",
       "  </tbody>\n",
       "</table>\n",
       "</div>"
      ],
      "text/plain": [
       "                                                              address       date   price  sqft  dist_to_lightrail_station         ppf\n",
       "property_id transaction_id                                                                                                           \n",
       "346200      23951313               8942 N 15th Ln, Phoenix, AZ 85021  2014-10-24  400000  2388                   0.700000  167.504188\n",
       "9020277     23951289        4350 W Shaw Butte Dr, Glendale, AZ 85304  2015-05-19  320000  2120                   5.905930  150.943396\n",
       "336902      23951266             2125 W State Ave, Phoenix, AZ 85021  2018-03-13  285000  1723                   0.844038  165.409170\n",
       "990354      23951257         1455 W Remington Dr, Chandler, AZ 85286  2017-12-05  367000  2286                  13.006200  160.542432\n",
       "9000471     23951250         11774 E Mercer Ln, Scottsdale, AZ 85259  2018-01-13  369000  1502                  17.024700  245.672437\n",
       "9035951     23951029              2351 W Del Oro Cir, Mesa, AZ 85202  2017-11-30  182500  1721                   1.402180  106.042998"
      ]
     },
     "execution_count": 368,
     "metadata": {},
     "output_type": "execute_result"
    }
   ],
   "source": [
    "# only show properties that were actually sold (and a check to exclude those with wrong close dates e.g. >10000 days)\n",
    "df = sold[(sold.date_closed != 0) & (sold.date_closed < 10000 )] \\\n",
    "        [[\"address\", \"date_closed\",\"price\",\"sqft\",\"dist_to_lightrail_station\"]]\n",
    "df.rename(columns = {'date_closed':'date'}, inplace = True)\n",
    "\n",
    "# convert days since Y2K to a nice looking date\n",
    "df['date'] = df['date'].apply(lambda x: dt.date(2000, 1, 1) + dt.timedelta(days=x)) \\\n",
    "                       .astype(\"datetime64[ns]\")\n",
    "\n",
    "df = df[df.date >= dt.date(2008,12,27)]\n",
    "\n",
    "df['ppf'] = (df.price / df.sqft)\n",
    "df.head(6)"
   ]
  },
  {
   "cell_type": "markdown",
   "metadata": {},
   "source": [
    "The dataset consists of 181,404 transactions dating back to the opening day of the light rail line. For this basic experiment, we will only study the effect of proximity to a light rail station on the total price of the house and the price per square foot."
   ]
  },
  {
   "cell_type": "code",
   "execution_count": 369,
   "metadata": {
    "collapsed": false
   },
   "outputs": [
    {
     "name": "stdout",
     "output_type": "stream",
     "text": [
      "<class 'pandas.core.frame.DataFrame'>\n",
      "MultiIndex: 181404 entries, (346200, 23951313) to (2579, 5359)\n",
      "Data columns (total 6 columns):\n",
      "address                      181404 non-null object\n",
      "date                         181404 non-null datetime64[ns]\n",
      "price                        181404 non-null int64\n",
      "sqft                         181404 non-null int64\n",
      "dist_to_lightrail_station    181404 non-null float64\n",
      "ppf                          181404 non-null float64\n",
      "dtypes: datetime64[ns](1), float64(2), int64(2), object(1)\n",
      "memory usage: 15.0+ MB\n"
     ]
    }
   ],
   "source": [
    "df.info()"
   ]
  },
  {
   "cell_type": "markdown",
   "metadata": {},
   "source": [
    "The average home in our data set sold for \\$176k. There is a general filter that only includes homes between $50-400k, and between 500-10000 square feet. The dataset does not include any foreclosures or land-only transactions, but it has not been rigorously cleaned for something like the sale of a burned down house or sale of unpermitted buildings, resulting in some large variation in the price per footage. Most homes within 7km of a light rail station, with some faily long tails. This is expected - light rail goes through central areas of Phoenix, where there is highest population density and lots of existing homes. Price per foot follows a lognormal distribution, with quite a few high outliers but centered around \\$102/sq ft. Square footage looks mostly like a normal distribution but there are some mansions of 3000+ ft while relatively few tiny houses."
   ]
  },
  {
   "cell_type": "code",
   "execution_count": 370,
   "metadata": {
    "collapsed": false
   },
   "outputs": [
    {
     "data": {
      "text/html": [
       "<div>\n",
       "<style>\n",
       "    .dataframe thead tr:only-child th {\n",
       "        text-align: right;\n",
       "    }\n",
       "\n",
       "    .dataframe thead th {\n",
       "        text-align: left;\n",
       "    }\n",
       "\n",
       "    .dataframe tbody tr th {\n",
       "        vertical-align: top;\n",
       "    }\n",
       "</style>\n",
       "<table border=\"1\" class=\"dataframe\">\n",
       "  <thead>\n",
       "    <tr style=\"text-align: right;\">\n",
       "      <th></th>\n",
       "      <th>date</th>\n",
       "      <th>price</th>\n",
       "      <th>sqft</th>\n",
       "      <th>dist_to_lightrail_station</th>\n",
       "      <th>ppf</th>\n",
       "    </tr>\n",
       "  </thead>\n",
       "  <tbody>\n",
       "    <tr>\n",
       "      <th>count</th>\n",
       "      <td>181404</td>\n",
       "      <td>181404.000000</td>\n",
       "      <td>181404.000000</td>\n",
       "      <td>181404.000000</td>\n",
       "      <td>181404.000000</td>\n",
       "    </tr>\n",
       "    <tr>\n",
       "      <th>unique</th>\n",
       "      <td>3400</td>\n",
       "      <td>NaN</td>\n",
       "      <td>NaN</td>\n",
       "      <td>NaN</td>\n",
       "      <td>NaN</td>\n",
       "    </tr>\n",
       "    <tr>\n",
       "      <th>top</th>\n",
       "      <td>2017-10-25 00:00:00</td>\n",
       "      <td>NaN</td>\n",
       "      <td>NaN</td>\n",
       "      <td>NaN</td>\n",
       "      <td>NaN</td>\n",
       "    </tr>\n",
       "    <tr>\n",
       "      <th>freq</th>\n",
       "      <td>1208</td>\n",
       "      <td>NaN</td>\n",
       "      <td>NaN</td>\n",
       "      <td>NaN</td>\n",
       "      <td>NaN</td>\n",
       "    </tr>\n",
       "    <tr>\n",
       "      <th>first</th>\n",
       "      <td>2008-12-27 00:00:00</td>\n",
       "      <td>NaN</td>\n",
       "      <td>NaN</td>\n",
       "      <td>NaN</td>\n",
       "      <td>NaN</td>\n",
       "    </tr>\n",
       "    <tr>\n",
       "      <th>last</th>\n",
       "      <td>2018-05-15 00:00:00</td>\n",
       "      <td>NaN</td>\n",
       "      <td>NaN</td>\n",
       "      <td>NaN</td>\n",
       "      <td>NaN</td>\n",
       "    </tr>\n",
       "    <tr>\n",
       "      <th>mean</th>\n",
       "      <td>NaN</td>\n",
       "      <td>175616.491158</td>\n",
       "      <td>1654.403674</td>\n",
       "      <td>7.562934</td>\n",
       "      <td>107.940965</td>\n",
       "    </tr>\n",
       "    <tr>\n",
       "      <th>std</th>\n",
       "      <td>NaN</td>\n",
       "      <td>86085.603240</td>\n",
       "      <td>461.070406</td>\n",
       "      <td>4.716722</td>\n",
       "      <td>48.918787</td>\n",
       "    </tr>\n",
       "    <tr>\n",
       "      <th>min</th>\n",
       "      <td>NaN</td>\n",
       "      <td>50000.000000</td>\n",
       "      <td>500.000000</td>\n",
       "      <td>0.000000</td>\n",
       "      <td>14.184997</td>\n",
       "    </tr>\n",
       "    <tr>\n",
       "      <th>25%</th>\n",
       "      <td>NaN</td>\n",
       "      <td>106611.000000</td>\n",
       "      <td>1338.000000</td>\n",
       "      <td>3.801110</td>\n",
       "      <td>70.267548</td>\n",
       "    </tr>\n",
       "    <tr>\n",
       "      <th>50%</th>\n",
       "      <td>NaN</td>\n",
       "      <td>160000.000000</td>\n",
       "      <td>1596.000000</td>\n",
       "      <td>6.906290</td>\n",
       "      <td>102.564103</td>\n",
       "    </tr>\n",
       "    <tr>\n",
       "      <th>75%</th>\n",
       "      <td>NaN</td>\n",
       "      <td>230000.000000</td>\n",
       "      <td>1900.000000</td>\n",
       "      <td>10.593325</td>\n",
       "      <td>137.636060</td>\n",
       "    </tr>\n",
       "    <tr>\n",
       "      <th>max</th>\n",
       "      <td>NaN</td>\n",
       "      <td>400000.000000</td>\n",
       "      <td>4000.000000</td>\n",
       "      <td>23.368200</td>\n",
       "      <td>641.666667</td>\n",
       "    </tr>\n",
       "  </tbody>\n",
       "</table>\n",
       "</div>"
      ],
      "text/plain": [
       "                       date          price           sqft  dist_to_lightrail_station            ppf\n",
       "count                181404  181404.000000  181404.000000              181404.000000  181404.000000\n",
       "unique                 3400            NaN            NaN                        NaN            NaN\n",
       "top     2017-10-25 00:00:00            NaN            NaN                        NaN            NaN\n",
       "freq                   1208            NaN            NaN                        NaN            NaN\n",
       "first   2008-12-27 00:00:00            NaN            NaN                        NaN            NaN\n",
       "last    2018-05-15 00:00:00            NaN            NaN                        NaN            NaN\n",
       "mean                    NaN  175616.491158    1654.403674                   7.562934     107.940965\n",
       "std                     NaN   86085.603240     461.070406                   4.716722      48.918787\n",
       "min                     NaN   50000.000000     500.000000                   0.000000      14.184997\n",
       "25%                     NaN  106611.000000    1338.000000                   3.801110      70.267548\n",
       "50%                     NaN  160000.000000    1596.000000                   6.906290     102.564103\n",
       "75%                     NaN  230000.000000    1900.000000                  10.593325     137.636060\n",
       "max                     NaN  400000.000000    4000.000000                  23.368200     641.666667"
      ]
     },
     "execution_count": 370,
     "metadata": {},
     "output_type": "execute_result"
    }
   ],
   "source": [
    "df.describe(include=['datetime64','int64','float64'])"
   ]
  },
  {
   "cell_type": "code",
   "execution_count": 371,
   "metadata": {
    "collapsed": false
   },
   "outputs": [
    {
     "data": {
      "text/plain": [
       "array([[<matplotlib.axes._subplots.AxesSubplot object at 0x7f9f56ac2048>,\n",
       "        <matplotlib.axes._subplots.AxesSubplot object at 0x7f9febb7ceb8>],\n",
       "       [<matplotlib.axes._subplots.AxesSubplot object at 0x7f9feba47240>,\n",
       "        <matplotlib.axes._subplots.AxesSubplot object at 0x7f9feb6a6e10>]], dtype=object)"
      ]
     },
     "execution_count": 371,
     "metadata": {},
     "output_type": "execute_result"
    },
    {
     "data": {
      "image/png": "[encoded data removed]",
      "text/plain": [
       "<matplotlib.figure.Figure at 0x7f9f56ac2080>"
      ]
     },
     "metadata": {},
     "output_type": "display_data"
    }
   ],
   "source": [
    "df.hist(bins=40,figsize=(15,10))"
   ]
  },
  {
   "cell_type": "markdown",
   "metadata": {},
   "source": [
    "In terms of transaction volume by year, the dataset starts on Dec 27, 2008 and goes through May 2018. 2008 only has a few transactions since we only care about sales that closed after the rail started operating and continue through today."
   ]
  },
  {
   "cell_type": "code",
   "execution_count": 372,
   "metadata": {
    "collapsed": false
   },
   "outputs": [
    {
     "data": {
      "text/plain": [
       "<matplotlib.axes._subplots.AxesSubplot at 0x7f9febbbf1d0>"
      ]
     },
     "execution_count": 372,
     "metadata": {},
     "output_type": "execute_result"
    },
    {
     "data": {
      "image/png": "[encoded data removed]",
      "text/plain": [
       "<matplotlib.figure.Figure at 0x7f9febb3cda0>"
      ]
     },
     "metadata": {},
     "output_type": "display_data"
    }
   ],
   "source": [
    "df.groupby(df[\"date\"].dt.year).address.count().plot(kind=\"bar\")"
   ]
  },
  {
   "cell_type": "markdown",
   "metadata": {},
   "source": [
    "The correlation matrix shows high crosscorrelation between the `PPF` dependent variable with `price` and `sqft`. "
   ]
  },
  {
   "cell_type": "code",
   "execution_count": 373,
   "metadata": {
    "collapsed": false
   },
   "outputs": [
    {
     "data": {
      "image/png": "[encoded data removed]",
      "text/plain": [
       "<matplotlib.figure.Figure at 0x7fa01d9756d8>"
      ]
     },
     "metadata": {},
     "output_type": "display_data"
    }
   ],
   "source": [
    "# Calculate and plot\n",
    "numerical = list(set(df.columns) - set(['address','date']))\n",
    "\n",
    "corr_matrix = df[numerical].corr()\n",
    "sns.heatmap(corr_matrix);"
   ]
  },
  {
   "cell_type": "markdown",
   "metadata": {},
   "source": [
    "The density function of price per foot and distance shows two clusters - one at around 5km away from a transit station and at average price of \\$90/ft and a second, smaller one at 8km away and \\$100/ft. Homes don't necessarily gain value as they get closer to a train station, but the extreme outliers that are very far away sell for lower valuations. Also homes that sell for \\$200+/ft appear to be all within 5km of a train station. "
   ]
  },
  {
   "cell_type": "code",
   "execution_count": 374,
   "metadata": {
    "collapsed": false
   },
   "outputs": [
    {
     "data": {
      "text/plain": [
       "<seaborn.axisgrid.JointGrid at 0x7f9feb8e0be0>"
      ]
     },
     "execution_count": 374,
     "metadata": {},
     "output_type": "execute_result"
    },
    {
     "data": {
      "image/png": "[encoded data removed]",
      "text/plain": [
       "<matplotlib.figure.Figure at 0x7f9feb8e0eb8>"
      ]
     },
     "metadata": {},
     "output_type": "display_data"
    }
   ],
   "source": [
    "sns.jointplot('dist_to_lightrail_station', 'ppf', data=df, kind=\"kde\", color=\"g\")"
   ]
  },
  {
   "cell_type": "markdown",
   "metadata": {},
   "source": [
    "Initially I had assumed that light rail would attract a less affluent resident, and that the most expensive homes would be farther away from the transit stops. Homes between \\$50-100k do tend to cluster relatively closely to train stations, while homes in the \\$200k+ range peak a bit farther away."
   ]
  },
  {
   "cell_type": "code",
   "execution_count": 375,
   "metadata": {
    "collapsed": false
   },
   "outputs": [
    {
     "data": {
      "text/plain": [
       "<seaborn.axisgrid.JointGrid at 0x7f9feb971828>"
      ]
     },
     "execution_count": 375,
     "metadata": {},
     "output_type": "execute_result"
    },
    {
     "data": {
      "image/png": "[encoded data removed]",
      "text/plain": [
       "<matplotlib.figure.Figure at 0x7f9feb971be0>"
      ]
     },
     "metadata": {},
     "output_type": "display_data"
    }
   ],
   "source": [
    "sns.jointplot('dist_to_lightrail_station', 'price', data=df, kind=\"kde\", color=\"b\")"
   ]
  },
  {
   "cell_type": "markdown",
   "metadata": {},
   "source": [
    "Home sizes are normally distributed, with a slight preference for the smaller sized homes in close proximity to light rail stations."
   ]
  },
  {
   "cell_type": "code",
   "execution_count": 376,
   "metadata": {
    "collapsed": false
   },
   "outputs": [
    {
     "data": {
      "text/plain": [
       "<seaborn.axisgrid.JointGrid at 0x7f9f5e5734e0>"
      ]
     },
     "execution_count": 376,
     "metadata": {},
     "output_type": "execute_result"
    },
    {
     "data": {
      "image/png": "[encoded data removed]",
      "text/plain": [
       "<matplotlib.figure.Figure at 0x7f9f5e10d400>"
      ]
     },
     "metadata": {},
     "output_type": "display_data"
    }
   ],
   "source": [
    "sns.jointplot('dist_to_lightrail_station', 'sqft', data=df, kind=\"kde\", color=\"r\")"
   ]
  },
  {
   "cell_type": "markdown",
   "metadata": {},
   "source": [
    "Phoenix house values peaked in 2007, then declined through 2011, and have grown at very high rates since 2011. So using average price per foot metrics across the entire data set would be very misleading and we need to adjust for the general appreciation trend in the data. Creating a dummy variable to track homes that are less than 5km from a light rail station (should be either walkable or very short drive to the station) we notice that they have appreciated at a higher rate than homes that are farther away from the light rail line."
   ]
  },
  {
   "cell_type": "code",
   "execution_count": 377,
   "metadata": {
    "collapsed": false
   },
   "outputs": [],
   "source": [
    "# create dummy variables for years and for being near a light rail station\n",
    "df[\"year\"] = df.date.dt.year\n",
    "df['near_rail'] = df['dist_to_lightrail_station'] < 5"
   ]
  },
  {
   "cell_type": "code",
   "execution_count": 378,
   "metadata": {
    "collapsed": false
   },
   "outputs": [
    {
     "data": {
      "text/plain": [
       "<matplotlib.axes._subplots.AxesSubplot at 0x7f9f57bdff60>"
      ]
     },
     "execution_count": 378,
     "metadata": {},
     "output_type": "execute_result"
    },
    {
     "data": {
      "image/png": "[encoded data removed]",
      "text/plain": [
       "<matplotlib.figure.Figure at 0x7f9f4c2fe978>"
      ]
     },
     "metadata": {},
     "output_type": "display_data"
    }
   ],
   "source": [
    "sns.countplot(x='near_rail', data=df)"
   ]
  },
  {
   "cell_type": "code",
   "execution_count": 379,
   "metadata": {
    "collapsed": false
   },
   "outputs": [
    {
     "data": {
      "text/plain": [
       "<matplotlib.axes._subplots.AxesSubplot at 0x7f9f5ea65ac8>"
      ]
     },
     "execution_count": 379,
     "metadata": {},
     "output_type": "execute_result"
    },
    {
     "data": {
      "image/png": "[encoded data removed]",
      "text/plain": [
       "<matplotlib.figure.Figure at 0x7f9febf87198>"
      ]
     },
     "metadata": {},
     "output_type": "display_data"
    }
   ],
   "source": [
    "sns.barplot(x=\"year\", y=\"ppf\", hue=\"near_rail\", data=df)"
   ]
  },
  {
   "cell_type": "markdown",
   "metadata": {},
   "source": [
    "Let's start with a simple model that tries to predict price per square foot just from the total square footage and distance to light rail station. Larger homes sell for lower price per foot. Distance to light rail is actually a negative predictor of value, with every kilometer separation from station increasing price by \\$0.33/ft. If true, this would be a bad news for every transit project in the country."
   ]
  },
  {
   "cell_type": "code",
   "execution_count": 380,
   "metadata": {
    "collapsed": false
   },
   "outputs": [
    {
     "data": {
      "text/html": [
       "<table class=\"simpletable\">\n",
       "<caption>OLS Regression Results</caption>\n",
       "<tr>\n",
       "  <th>Dep. Variable:</th>          <td>price</td>      <th>  R-squared:         </th>  <td>   0.198</td>  \n",
       "</tr>\n",
       "<tr>\n",
       "  <th>Model:</th>                   <td>OLS</td>       <th>  Adj. R-squared:    </th>  <td>   0.198</td>  \n",
       "</tr>\n",
       "<tr>\n",
       "  <th>Method:</th>             <td>Least Squares</td>  <th>  F-statistic:       </th>  <td>2.242e+04</td> \n",
       "</tr>\n",
       "<tr>\n",
       "  <th>Date:</th>             <td>Mon, 28 May 2018</td> <th>  Prob (F-statistic):</th>   <td>  0.00</td>   \n",
       "</tr>\n",
       "<tr>\n",
       "  <th>Time:</th>                 <td>16:11:58</td>     <th>  Log-Likelihood:    </th> <td>-2.2987e+06</td>\n",
       "</tr>\n",
       "<tr>\n",
       "  <th>No. Observations:</th>      <td>181404</td>      <th>  AIC:               </th>  <td>4.597e+06</td> \n",
       "</tr>\n",
       "<tr>\n",
       "  <th>Df Residuals:</th>          <td>181401</td>      <th>  BIC:               </th>  <td>4.597e+06</td> \n",
       "</tr>\n",
       "<tr>\n",
       "  <th>Df Model:</th>              <td>     2</td>      <th>                     </th>      <td> </td>     \n",
       "</tr>\n",
       "<tr>\n",
       "  <th>Covariance Type:</th>      <td>nonrobust</td>    <th>                     </th>      <td> </td>     \n",
       "</tr>\n",
       "</table>\n",
       "<table class=\"simpletable\">\n",
       "<tr>\n",
       "                 <td></td>                   <th>coef</th>     <th>std err</th>      <th>t</th>      <th>P>|t|</th>  <th>[0.025</th>    <th>0.975]</th>  \n",
       "</tr>\n",
       "<tr>\n",
       "  <th>Intercept</th>                      <td> 3.966e+04</td> <td>  678.523</td> <td>   58.447</td> <td> 0.000</td> <td> 3.83e+04</td> <td>  4.1e+04</td>\n",
       "</tr>\n",
       "<tr>\n",
       "  <th>sqft</th>                           <td>   79.5241</td> <td>    0.449</td> <td>  177.172</td> <td> 0.000</td> <td>   78.644</td> <td>   80.404</td>\n",
       "</tr>\n",
       "<tr>\n",
       "  <th>sqft:dist_to_lightrail_station</th> <td>    0.3434</td> <td>    0.022</td> <td>   15.512</td> <td> 0.000</td> <td>    0.300</td> <td>    0.387</td>\n",
       "</tr>\n",
       "</table>\n",
       "<table class=\"simpletable\">\n",
       "<tr>\n",
       "  <th>Omnibus:</th>       <td>5318.670</td> <th>  Durbin-Watson:     </th> <td>   1.280</td>\n",
       "</tr>\n",
       "<tr>\n",
       "  <th>Prob(Omnibus):</th>  <td> 0.000</td>  <th>  Jarque-Bera (JB):  </th> <td>5748.402</td>\n",
       "</tr>\n",
       "<tr>\n",
       "  <th>Skew:</th>           <td> 0.430</td>  <th>  Prob(JB):          </th> <td>    0.00</td>\n",
       "</tr>\n",
       "<tr>\n",
       "  <th>Kurtosis:</th>       <td> 2.860</td>  <th>  Cond. No.          </th> <td>5.97e+04</td>\n",
       "</tr>\n",
       "</table>"
      ],
      "text/plain": [
       "<class 'statsmodels.iolib.summary.Summary'>\n",
       "\"\"\"\n",
       "                            OLS Regression Results                            \n",
       "==============================================================================\n",
       "Dep. Variable:                  price   R-squared:                       0.198\n",
       "Model:                            OLS   Adj. R-squared:                  0.198\n",
       "Method:                 Least Squares   F-statistic:                 2.242e+04\n",
       "Date:                Mon, 28 May 2018   Prob (F-statistic):               0.00\n",
       "Time:                        16:11:58   Log-Likelihood:            -2.2987e+06\n",
       "No. Observations:              181404   AIC:                         4.597e+06\n",
       "Df Residuals:                  181401   BIC:                         4.597e+06\n",
       "Df Model:                           2                                         \n",
       "Covariance Type:            nonrobust                                         \n",
       "==================================================================================================\n",
       "                                     coef    std err          t      P>|t|      [0.025      0.975]\n",
       "--------------------------------------------------------------------------------------------------\n",
       "Intercept                       3.966e+04    678.523     58.447      0.000    3.83e+04     4.1e+04\n",
       "sqft                              79.5241      0.449    177.172      0.000      78.644      80.404\n",
       "sqft:dist_to_lightrail_station     0.3434      0.022     15.512      0.000       0.300       0.387\n",
       "==============================================================================\n",
       "Omnibus:                     5318.670   Durbin-Watson:                   1.280\n",
       "Prob(Omnibus):                  0.000   Jarque-Bera (JB):             5748.402\n",
       "Skew:                           0.430   Prob(JB):                         0.00\n",
       "Kurtosis:                       2.860   Cond. No.                     5.97e+04\n",
       "==============================================================================\n",
       "\n",
       "Warnings:\n",
       "[1] Standard Errors assume that the covariance matrix of the errors is correctly specified.\n",
       "[2] The condition number is large, 5.97e+04. This might indicate that there are\n",
       "strong multicollinearity or other numerical problems.\n",
       "\"\"\""
      ]
     },
     "execution_count": 380,
     "metadata": {},
     "output_type": "execute_result"
    }
   ],
   "source": [
    "price_model = ols(\"price ~ sqft + sqft:dist_to_lightrail_station\", data=df).fit()\n",
    "# summarize our model\n",
    "price_model.summary()"
   ]
  },
  {
   "cell_type": "code",
   "execution_count": 381,
   "metadata": {
    "collapsed": false
   },
   "outputs": [
    {
     "data": {
      "text/html": [
       "<table class=\"simpletable\">\n",
       "<caption>OLS Regression Results</caption>\n",
       "<tr>\n",
       "  <th>Dep. Variable:</th>          <td>price</td>      <th>  R-squared:         </th>  <td>   0.198</td>  \n",
       "</tr>\n",
       "<tr>\n",
       "  <th>Model:</th>                   <td>OLS</td>       <th>  Adj. R-squared:    </th>  <td>   0.198</td>  \n",
       "</tr>\n",
       "<tr>\n",
       "  <th>Method:</th>             <td>Least Squares</td>  <th>  F-statistic:       </th>  <td>2.239e+04</td> \n",
       "</tr>\n",
       "<tr>\n",
       "  <th>Date:</th>             <td>Mon, 28 May 2018</td> <th>  Prob (F-statistic):</th>   <td>  0.00</td>   \n",
       "</tr>\n",
       "<tr>\n",
       "  <th>Time:</th>                 <td>16:11:58</td>     <th>  Log-Likelihood:    </th> <td>-2.2987e+06</td>\n",
       "</tr>\n",
       "<tr>\n",
       "  <th>No. Observations:</th>      <td>181404</td>      <th>  AIC:               </th>  <td>4.597e+06</td> \n",
       "</tr>\n",
       "<tr>\n",
       "  <th>Df Residuals:</th>          <td>181401</td>      <th>  BIC:               </th>  <td>4.597e+06</td> \n",
       "</tr>\n",
       "<tr>\n",
       "  <th>Df Model:</th>              <td>     2</td>      <th>                     </th>      <td> </td>     \n",
       "</tr>\n",
       "<tr>\n",
       "  <th>Covariance Type:</th>      <td>nonrobust</td>    <th>                     </th>      <td> </td>     \n",
       "</tr>\n",
       "</table>\n",
       "<table class=\"simpletable\">\n",
       "<tr>\n",
       "             <td></td>               <th>coef</th>     <th>std err</th>      <th>t</th>      <th>P>|t|</th>  <th>[0.025</th>    <th>0.975]</th>  \n",
       "</tr>\n",
       "<tr>\n",
       "  <th>Intercept</th>              <td>  3.93e+04</td> <td>  677.009</td> <td>   58.056</td> <td> 0.000</td> <td>  3.8e+04</td> <td> 4.06e+04</td>\n",
       "</tr>\n",
       "<tr>\n",
       "  <th>sqft</th>                   <td>   83.4809</td> <td>    0.395</td> <td>  211.427</td> <td> 0.000</td> <td>   82.707</td> <td>   84.255</td>\n",
       "</tr>\n",
       "<tr>\n",
       "  <th>sqft:near_rail[T.True]</th> <td>   -3.0654</td> <td>    0.223</td> <td>  -13.749</td> <td> 0.000</td> <td>   -3.502</td> <td>   -2.628</td>\n",
       "</tr>\n",
       "</table>\n",
       "<table class=\"simpletable\">\n",
       "<tr>\n",
       "  <th>Omnibus:</th>       <td>5464.543</td> <th>  Durbin-Watson:     </th> <td>   1.280</td>\n",
       "</tr>\n",
       "<tr>\n",
       "  <th>Prob(Omnibus):</th>  <td> 0.000</td>  <th>  Jarque-Bera (JB):  </th> <td>5928.104</td>\n",
       "</tr>\n",
       "<tr>\n",
       "  <th>Skew:</th>           <td> 0.438</td>  <th>  Prob(JB):          </th> <td>    0.00</td>\n",
       "</tr>\n",
       "<tr>\n",
       "  <th>Kurtosis:</th>       <td> 2.868</td>  <th>  Cond. No.          </th> <td>6.88e+03</td>\n",
       "</tr>\n",
       "</table>"
      ],
      "text/plain": [
       "<class 'statsmodels.iolib.summary.Summary'>\n",
       "\"\"\"\n",
       "                            OLS Regression Results                            \n",
       "==============================================================================\n",
       "Dep. Variable:                  price   R-squared:                       0.198\n",
       "Model:                            OLS   Adj. R-squared:                  0.198\n",
       "Method:                 Least Squares   F-statistic:                 2.239e+04\n",
       "Date:                Mon, 28 May 2018   Prob (F-statistic):               0.00\n",
       "Time:                        16:11:58   Log-Likelihood:            -2.2987e+06\n",
       "No. Observations:              181404   AIC:                         4.597e+06\n",
       "Df Residuals:                  181401   BIC:                         4.597e+06\n",
       "Df Model:                           2                                         \n",
       "Covariance Type:            nonrobust                                         \n",
       "==========================================================================================\n",
       "                             coef    std err          t      P>|t|      [0.025      0.975]\n",
       "------------------------------------------------------------------------------------------\n",
       "Intercept                3.93e+04    677.009     58.056      0.000     3.8e+04    4.06e+04\n",
       "sqft                      83.4809      0.395    211.427      0.000      82.707      84.255\n",
       "sqft:near_rail[T.True]    -3.0654      0.223    -13.749      0.000      -3.502      -2.628\n",
       "==============================================================================\n",
       "Omnibus:                     5464.543   Durbin-Watson:                   1.280\n",
       "Prob(Omnibus):                  0.000   Jarque-Bera (JB):             5928.104\n",
       "Skew:                           0.438   Prob(JB):                         0.00\n",
       "Kurtosis:                       2.868   Cond. No.                     6.88e+03\n",
       "==============================================================================\n",
       "\n",
       "Warnings:\n",
       "[1] Standard Errors assume that the covariance matrix of the errors is correctly specified.\n",
       "[2] The condition number is large, 6.88e+03. This might indicate that there are\n",
       "strong multicollinearity or other numerical problems.\n",
       "\"\"\""
      ]
     },
     "execution_count": 381,
     "metadata": {},
     "output_type": "execute_result"
    }
   ],
   "source": [
    "price_model = ols(\"price ~ sqft + sqft:near_rail\", data=df).fit()\n",
    "# summarize our model\n",
    "price_model.summary()"
   ]
  },
  {
   "cell_type": "markdown",
   "metadata": {},
   "source": [
    "Earlier, we observed that prices seemed to go up faster in areas that are located close to train stations. Adding years to the regressions shows that 1) prices per foot have risen steadily from the 2011 trough and 2) impact of being near the light rail station inverted from a negative factor in 2008-2014 and is now a positive factor to valuation."
   ]
  },
  {
   "cell_type": "code",
   "execution_count": 382,
   "metadata": {
    "collapsed": false,
    "scrolled": false
   },
   "outputs": [
    {
     "data": {
      "text/html": [
       "<table class=\"simpletable\">\n",
       "<caption>OLS Regression Results</caption>\n",
       "<tr>\n",
       "  <th>Dep. Variable:</th>          <td>price</td>      <th>  R-squared:         </th>  <td>   0.877</td>  \n",
       "</tr>\n",
       "<tr>\n",
       "  <th>Model:</th>                   <td>OLS</td>       <th>  Adj. R-squared:    </th>  <td>   0.877</td>  \n",
       "</tr>\n",
       "<tr>\n",
       "  <th>Method:</th>             <td>Least Squares</td>  <th>  F-statistic:       </th>  <td>5.857e+04</td> \n",
       "</tr>\n",
       "<tr>\n",
       "  <th>Date:</th>             <td>Mon, 28 May 2018</td> <th>  Prob (F-statistic):</th>   <td>  0.00</td>   \n",
       "</tr>\n",
       "<tr>\n",
       "  <th>Time:</th>                 <td>16:12:01</td>     <th>  Log-Likelihood:    </th> <td>-2.2778e+06</td>\n",
       "</tr>\n",
       "<tr>\n",
       "  <th>No. Observations:</th>      <td>181404</td>      <th>  AIC:               </th>  <td>4.556e+06</td> \n",
       "</tr>\n",
       "<tr>\n",
       "  <th>Df Residuals:</th>          <td>181382</td>      <th>  BIC:               </th>  <td>4.556e+06</td> \n",
       "</tr>\n",
       "<tr>\n",
       "  <th>Df Model:</th>              <td>    22</td>      <th>                     </th>      <td> </td>     \n",
       "</tr>\n",
       "<tr>\n",
       "  <th>Covariance Type:</th>      <td>nonrobust</td>    <th>                     </th>      <td> </td>     \n",
       "</tr>\n",
       "</table>\n",
       "<table class=\"simpletable\">\n",
       "<tr>\n",
       "                    <td></td>                      <th>coef</th>     <th>std err</th>      <th>t</th>      <th>P>|t|</th>  <th>[0.025</th>    <th>0.975]</th>  \n",
       "</tr>\n",
       "<tr>\n",
       "  <th>sqft:C(year)[2008]</th>                   <td>   87.4179</td> <td>    3.624</td> <td>   24.124</td> <td> 0.000</td> <td>   80.316</td> <td>   94.520</td>\n",
       "</tr>\n",
       "<tr>\n",
       "  <th>sqft:C(year)[2009]</th>                   <td>   84.1891</td> <td>    0.369</td> <td>  228.042</td> <td> 0.000</td> <td>   83.466</td> <td>   84.913</td>\n",
       "</tr>\n",
       "<tr>\n",
       "  <th>sqft:C(year)[2010]</th>                   <td>   84.9438</td> <td>    0.372</td> <td>  228.477</td> <td> 0.000</td> <td>   84.215</td> <td>   85.673</td>\n",
       "</tr>\n",
       "<tr>\n",
       "  <th>sqft:C(year)[2011]</th>                   <td>   78.3275</td> <td>    0.347</td> <td>  225.588</td> <td> 0.000</td> <td>   77.647</td> <td>   79.008</td>\n",
       "</tr>\n",
       "<tr>\n",
       "  <th>sqft:C(year)[2012]</th>                   <td>   86.3730</td> <td>    0.349</td> <td>  247.588</td> <td> 0.000</td> <td>   85.689</td> <td>   87.057</td>\n",
       "</tr>\n",
       "<tr>\n",
       "  <th>sqft:C(year)[2013]</th>                   <td>  102.4858</td> <td>    0.391</td> <td>  262.229</td> <td> 0.000</td> <td>  101.720</td> <td>  103.252</td>\n",
       "</tr>\n",
       "<tr>\n",
       "  <th>sqft:C(year)[2014]</th>                   <td>  109.5162</td> <td>    0.417</td> <td>  262.524</td> <td> 0.000</td> <td>  108.699</td> <td>  110.334</td>\n",
       "</tr>\n",
       "<tr>\n",
       "  <th>sqft:C(year)[2015]</th>                   <td>  116.3843</td> <td>    0.358</td> <td>  324.656</td> <td> 0.000</td> <td>  115.682</td> <td>  117.087</td>\n",
       "</tr>\n",
       "<tr>\n",
       "  <th>sqft:C(year)[2016]</th>                   <td>  123.5840</td> <td>    0.338</td> <td>  365.198</td> <td> 0.000</td> <td>  122.921</td> <td>  124.247</td>\n",
       "</tr>\n",
       "<tr>\n",
       "  <th>sqft:C(year)[2017]</th>                   <td>  133.9002</td> <td>    0.272</td> <td>  491.554</td> <td> 0.000</td> <td>  133.366</td> <td>  134.434</td>\n",
       "</tr>\n",
       "<tr>\n",
       "  <th>sqft:C(year)[2018]</th>                   <td>  136.4423</td> <td>    0.977</td> <td>  139.697</td> <td> 0.000</td> <td>  134.528</td> <td>  138.357</td>\n",
       "</tr>\n",
       "<tr>\n",
       "  <th>sqft:C(year)[2008]:near_rail[T.True]</th> <td>   -3.1717</td> <td>    5.948</td> <td>   -0.533</td> <td> 0.594</td> <td>  -14.831</td> <td>    8.487</td>\n",
       "</tr>\n",
       "<tr>\n",
       "  <th>sqft:C(year)[2009]:near_rail[T.True]</th> <td>   -1.9993</td> <td>    0.620</td> <td>   -3.223</td> <td> 0.001</td> <td>   -3.215</td> <td>   -0.783</td>\n",
       "</tr>\n",
       "<tr>\n",
       "  <th>sqft:C(year)[2010]:near_rail[T.True]</th> <td>   -4.4177</td> <td>    0.620</td> <td>   -7.124</td> <td> 0.000</td> <td>   -5.633</td> <td>   -3.202</td>\n",
       "</tr>\n",
       "<tr>\n",
       "  <th>sqft:C(year)[2011]:near_rail[T.True]</th> <td>   -0.6459</td> <td>    0.587</td> <td>   -1.100</td> <td> 0.271</td> <td>   -1.796</td> <td>    0.505</td>\n",
       "</tr>\n",
       "<tr>\n",
       "  <th>sqft:C(year)[2012]:near_rail[T.True]</th> <td>   -1.2496</td> <td>    0.587</td> <td>   -2.129</td> <td> 0.033</td> <td>   -2.400</td> <td>   -0.099</td>\n",
       "</tr>\n",
       "<tr>\n",
       "  <th>sqft:C(year)[2013]:near_rail[T.True]</th> <td>   -4.3218</td> <td>    0.637</td> <td>   -6.782</td> <td> 0.000</td> <td>   -5.571</td> <td>   -3.073</td>\n",
       "</tr>\n",
       "<tr>\n",
       "  <th>sqft:C(year)[2014]:near_rail[T.True]</th> <td>   -1.7037</td> <td>    0.668</td> <td>   -2.551</td> <td> 0.011</td> <td>   -3.012</td> <td>   -0.395</td>\n",
       "</tr>\n",
       "<tr>\n",
       "  <th>sqft:C(year)[2015]:near_rail[T.True]</th> <td>    1.5910</td> <td>    0.577</td> <td>    2.757</td> <td> 0.006</td> <td>    0.460</td> <td>    2.722</td>\n",
       "</tr>\n",
       "<tr>\n",
       "  <th>sqft:C(year)[2016]:near_rail[T.True]</th> <td>    4.5578</td> <td>    0.602</td> <td>    7.570</td> <td> 0.000</td> <td>    3.378</td> <td>    5.738</td>\n",
       "</tr>\n",
       "<tr>\n",
       "  <th>sqft:C(year)[2017]:near_rail[T.True]</th> <td>    8.0311</td> <td>    0.531</td> <td>   15.135</td> <td> 0.000</td> <td>    6.991</td> <td>    9.071</td>\n",
       "</tr>\n",
       "<tr>\n",
       "  <th>sqft:C(year)[2018]:near_rail[T.True]</th> <td>    7.7449</td> <td>    1.838</td> <td>    4.213</td> <td> 0.000</td> <td>    4.142</td> <td>   11.348</td>\n",
       "</tr>\n",
       "</table>\n",
       "<table class=\"simpletable\">\n",
       "<tr>\n",
       "  <th>Omnibus:</th>       <td>8150.129</td> <th>  Durbin-Watson:     </th> <td>   1.342</td>\n",
       "</tr>\n",
       "<tr>\n",
       "  <th>Prob(Omnibus):</th>  <td> 0.000</td>  <th>  Jarque-Bera (JB):  </th> <td>9783.969</td>\n",
       "</tr>\n",
       "<tr>\n",
       "  <th>Skew:</th>           <td> 0.498</td>  <th>  Prob(JB):          </th> <td>    0.00</td>\n",
       "</tr>\n",
       "<tr>\n",
       "  <th>Kurtosis:</th>       <td> 3.550</td>  <th>  Cond. No.          </th> <td>    28.7</td>\n",
       "</tr>\n",
       "</table>"
      ],
      "text/plain": [
       "<class 'statsmodels.iolib.summary.Summary'>\n",
       "\"\"\"\n",
       "                            OLS Regression Results                            \n",
       "==============================================================================\n",
       "Dep. Variable:                  price   R-squared:                       0.877\n",
       "Model:                            OLS   Adj. R-squared:                  0.877\n",
       "Method:                 Least Squares   F-statistic:                 5.857e+04\n",
       "Date:                Mon, 28 May 2018   Prob (F-statistic):               0.00\n",
       "Time:                        16:12:01   Log-Likelihood:            -2.2778e+06\n",
       "No. Observations:              181404   AIC:                         4.556e+06\n",
       "Df Residuals:                  181382   BIC:                         4.556e+06\n",
       "Df Model:                          22                                         \n",
       "Covariance Type:            nonrobust                                         \n",
       "========================================================================================================\n",
       "                                           coef    std err          t      P>|t|      [0.025      0.975]\n",
       "--------------------------------------------------------------------------------------------------------\n",
       "sqft:C(year)[2008]                      87.4179      3.624     24.124      0.000      80.316      94.520\n",
       "sqft:C(year)[2009]                      84.1891      0.369    228.042      0.000      83.466      84.913\n",
       "sqft:C(year)[2010]                      84.9438      0.372    228.477      0.000      84.215      85.673\n",
       "sqft:C(year)[2011]                      78.3275      0.347    225.588      0.000      77.647      79.008\n",
       "sqft:C(year)[2012]                      86.3730      0.349    247.588      0.000      85.689      87.057\n",
       "sqft:C(year)[2013]                     102.4858      0.391    262.229      0.000     101.720     103.252\n",
       "sqft:C(year)[2014]                     109.5162      0.417    262.524      0.000     108.699     110.334\n",
       "sqft:C(year)[2015]                     116.3843      0.358    324.656      0.000     115.682     117.087\n",
       "sqft:C(year)[2016]                     123.5840      0.338    365.198      0.000     122.921     124.247\n",
       "sqft:C(year)[2017]                     133.9002      0.272    491.554      0.000     133.366     134.434\n",
       "sqft:C(year)[2018]                     136.4423      0.977    139.697      0.000     134.528     138.357\n",
       "sqft:C(year)[2008]:near_rail[T.True]    -3.1717      5.948     -0.533      0.594     -14.831       8.487\n",
       "sqft:C(year)[2009]:near_rail[T.True]    -1.9993      0.620     -3.223      0.001      -3.215      -0.783\n",
       "sqft:C(year)[2010]:near_rail[T.True]    -4.4177      0.620     -7.124      0.000      -5.633      -3.202\n",
       "sqft:C(year)[2011]:near_rail[T.True]    -0.6459      0.587     -1.100      0.271      -1.796       0.505\n",
       "sqft:C(year)[2012]:near_rail[T.True]    -1.2496      0.587     -2.129      0.033      -2.400      -0.099\n",
       "sqft:C(year)[2013]:near_rail[T.True]    -4.3218      0.637     -6.782      0.000      -5.571      -3.073\n",
       "sqft:C(year)[2014]:near_rail[T.True]    -1.7037      0.668     -2.551      0.011      -3.012      -0.395\n",
       "sqft:C(year)[2015]:near_rail[T.True]     1.5910      0.577      2.757      0.006       0.460       2.722\n",
       "sqft:C(year)[2016]:near_rail[T.True]     4.5578      0.602      7.570      0.000       3.378       5.738\n",
       "sqft:C(year)[2017]:near_rail[T.True]     8.0311      0.531     15.135      0.000       6.991       9.071\n",
       "sqft:C(year)[2018]:near_rail[T.True]     7.7449      1.838      4.213      0.000       4.142      11.348\n",
       "==============================================================================\n",
       "Omnibus:                     8150.129   Durbin-Watson:                   1.342\n",
       "Prob(Omnibus):                  0.000   Jarque-Bera (JB):             9783.969\n",
       "Skew:                           0.498   Prob(JB):                         0.00\n",
       "Kurtosis:                       3.550   Cond. No.                         28.7\n",
       "==============================================================================\n",
       "\n",
       "Warnings:\n",
       "[1] Standard Errors assume that the covariance matrix of the errors is correctly specified.\n",
       "\"\"\""
      ]
     },
     "execution_count": 382,
     "metadata": {},
     "output_type": "execute_result"
    }
   ],
   "source": [
    "price_model = ols(\"price ~ sqft:C(year) + sqft:C(year):near_rail-1\", data=df).fit()\n",
    "# summarize our model\n",
    "price_model.summary()"
   ]
  },
  {
   "cell_type": "markdown",
   "metadata": {},
   "source": [
    "We can also run the model with the exact distance to a light rail station (instead of just the boolean variable), but it appears that it does not increase explanatory power. The boolean variable does just fine."
   ]
  },
  {
   "cell_type": "code",
   "execution_count": 383,
   "metadata": {
    "collapsed": false
   },
   "outputs": [
    {
     "data": {
      "text/html": [
       "<table class=\"simpletable\">\n",
       "<caption>OLS Regression Results</caption>\n",
       "<tr>\n",
       "  <th>Dep. Variable:</th>          <td>price</td>      <th>  R-squared:         </th>  <td>   0.876</td>  \n",
       "</tr>\n",
       "<tr>\n",
       "  <th>Model:</th>                   <td>OLS</td>       <th>  Adj. R-squared:    </th>  <td>   0.876</td>  \n",
       "</tr>\n",
       "<tr>\n",
       "  <th>Method:</th>             <td>Least Squares</td>  <th>  F-statistic:       </th>  <td>5.851e+04</td> \n",
       "</tr>\n",
       "<tr>\n",
       "  <th>Date:</th>             <td>Mon, 28 May 2018</td> <th>  Prob (F-statistic):</th>   <td>  0.00</td>   \n",
       "</tr>\n",
       "<tr>\n",
       "  <th>Time:</th>                 <td>16:12:03</td>     <th>  Log-Likelihood:    </th> <td>-2.2779e+06</td>\n",
       "</tr>\n",
       "<tr>\n",
       "  <th>No. Observations:</th>      <td>181404</td>      <th>  AIC:               </th>  <td>4.556e+06</td> \n",
       "</tr>\n",
       "<tr>\n",
       "  <th>Df Residuals:</th>          <td>181382</td>      <th>  BIC:               </th>  <td>4.556e+06</td> \n",
       "</tr>\n",
       "<tr>\n",
       "  <th>Df Model:</th>              <td>    22</td>      <th>                     </th>      <td> </td>     \n",
       "</tr>\n",
       "<tr>\n",
       "  <th>Covariance Type:</th>      <td>nonrobust</td>    <th>                     </th>      <td> </td>     \n",
       "</tr>\n",
       "</table>\n",
       "<table class=\"simpletable\">\n",
       "<tr>\n",
       "                        <td></td>                          <th>coef</th>     <th>std err</th>      <th>t</th>      <th>P>|t|</th>  <th>[0.025</th>    <th>0.975]</th>  \n",
       "</tr>\n",
       "<tr>\n",
       "  <th>sqft:C(year)[2008]</th>                           <td>   82.4369</td> <td>    5.429</td> <td>   15.185</td> <td> 0.000</td> <td>   71.797</td> <td>   93.077</td>\n",
       "</tr>\n",
       "<tr>\n",
       "  <th>sqft:C(year)[2009]</th>                           <td>   85.5927</td> <td>    0.563</td> <td>  151.933</td> <td> 0.000</td> <td>   84.489</td> <td>   86.697</td>\n",
       "</tr>\n",
       "<tr>\n",
       "  <th>sqft:C(year)[2010]</th>                           <td>   80.9463</td> <td>    0.564</td> <td>  143.646</td> <td> 0.000</td> <td>   79.842</td> <td>   82.051</td>\n",
       "</tr>\n",
       "<tr>\n",
       "  <th>sqft:C(year)[2011]</th>                           <td>   76.6374</td> <td>    0.533</td> <td>  143.726</td> <td> 0.000</td> <td>   75.592</td> <td>   77.683</td>\n",
       "</tr>\n",
       "<tr>\n",
       "  <th>sqft:C(year)[2012]</th>                           <td>   83.9288</td> <td>    0.536</td> <td>  156.661</td> <td> 0.000</td> <td>   82.879</td> <td>   84.979</td>\n",
       "</tr>\n",
       "<tr>\n",
       "  <th>sqft:C(year)[2013]</th>                           <td>   98.4879</td> <td>    0.584</td> <td>  168.729</td> <td> 0.000</td> <td>   97.344</td> <td>   99.632</td>\n",
       "</tr>\n",
       "<tr>\n",
       "  <th>sqft:C(year)[2014]</th>                           <td>  108.6845</td> <td>    0.606</td> <td>  179.292</td> <td> 0.000</td> <td>  107.496</td> <td>  109.873</td>\n",
       "</tr>\n",
       "<tr>\n",
       "  <th>sqft:C(year)[2015]</th>                           <td>  120.0164</td> <td>    0.528</td> <td>  227.158</td> <td> 0.000</td> <td>  118.981</td> <td>  121.052</td>\n",
       "</tr>\n",
       "<tr>\n",
       "  <th>sqft:C(year)[2016]</th>                           <td>  126.9022</td> <td>    0.553</td> <td>  229.668</td> <td> 0.000</td> <td>  125.819</td> <td>  127.985</td>\n",
       "</tr>\n",
       "<tr>\n",
       "  <th>sqft:C(year)[2017]</th>                           <td>  140.1586</td> <td>    0.489</td> <td>  286.343</td> <td> 0.000</td> <td>  139.199</td> <td>  141.118</td>\n",
       "</tr>\n",
       "<tr>\n",
       "  <th>sqft:C(year)[2018]</th>                           <td>  143.8902</td> <td>    1.702</td> <td>   84.547</td> <td> 0.000</td> <td>  140.555</td> <td>  147.226</td>\n",
       "</tr>\n",
       "<tr>\n",
       "  <th>sqft:C(year)[2008]:dist_to_lightrail_station</th> <td>    0.4577</td> <td>    0.554</td> <td>    0.826</td> <td> 0.409</td> <td>   -0.628</td> <td>    1.544</td>\n",
       "</tr>\n",
       "<tr>\n",
       "  <th>sqft:C(year)[2009]:dist_to_lightrail_station</th> <td>   -0.2631</td> <td>    0.060</td> <td>   -4.410</td> <td> 0.000</td> <td>   -0.380</td> <td>   -0.146</td>\n",
       "</tr>\n",
       "<tr>\n",
       "  <th>sqft:C(year)[2010]:dist_to_lightrail_station</th> <td>    0.3112</td> <td>    0.062</td> <td>    5.036</td> <td> 0.000</td> <td>    0.190</td> <td>    0.432</td>\n",
       "</tr>\n",
       "<tr>\n",
       "  <th>sqft:C(year)[2011]:dist_to_lightrail_station</th> <td>    0.1882</td> <td>    0.058</td> <td>    3.227</td> <td> 0.001</td> <td>    0.074</td> <td>    0.302</td>\n",
       "</tr>\n",
       "<tr>\n",
       "  <th>sqft:C(year)[2012]:dist_to_lightrail_station</th> <td>    0.2619</td> <td>    0.060</td> <td>    4.389</td> <td> 0.000</td> <td>    0.145</td> <td>    0.379</td>\n",
       "</tr>\n",
       "<tr>\n",
       "  <th>sqft:C(year)[2013]:dist_to_lightrail_station</th> <td>    0.3213</td> <td>    0.067</td> <td>    4.789</td> <td> 0.000</td> <td>    0.190</td> <td>    0.453</td>\n",
       "</tr>\n",
       "<tr>\n",
       "  <th>sqft:C(year)[2014]:dist_to_lightrail_station</th> <td>    0.0231</td> <td>    0.071</td> <td>    0.326</td> <td> 0.744</td> <td>   -0.116</td> <td>    0.162</td>\n",
       "</tr>\n",
       "<tr>\n",
       "  <th>sqft:C(year)[2015]:dist_to_lightrail_station</th> <td>   -0.4159</td> <td>    0.062</td> <td>   -6.746</td> <td> 0.000</td> <td>   -0.537</td> <td>   -0.295</td>\n",
       "</tr>\n",
       "<tr>\n",
       "  <th>sqft:C(year)[2016]:dist_to_lightrail_station</th> <td>   -0.2294</td> <td>    0.058</td> <td>   -3.943</td> <td> 0.000</td> <td>   -0.343</td> <td>   -0.115</td>\n",
       "</tr>\n",
       "<tr>\n",
       "  <th>sqft:C(year)[2017]:dist_to_lightrail_station</th> <td>   -0.4648</td> <td>    0.048</td> <td>   -9.633</td> <td> 0.000</td> <td>   -0.559</td> <td>   -0.370</td>\n",
       "</tr>\n",
       "<tr>\n",
       "  <th>sqft:C(year)[2018]:dist_to_lightrail_station</th> <td>   -0.6029</td> <td>    0.170</td> <td>   -3.538</td> <td> 0.000</td> <td>   -0.937</td> <td>   -0.269</td>\n",
       "</tr>\n",
       "</table>\n",
       "<table class=\"simpletable\">\n",
       "<tr>\n",
       "  <th>Omnibus:</th>       <td>8206.203</td> <th>  Durbin-Watson:     </th> <td>   1.342</td>\n",
       "</tr>\n",
       "<tr>\n",
       "  <th>Prob(Omnibus):</th>  <td> 0.000</td>  <th>  Jarque-Bera (JB):  </th> <td>9850.646</td>\n",
       "</tr>\n",
       "<tr>\n",
       "  <th>Skew:</th>           <td> 0.501</td>  <th>  Prob(JB):          </th> <td>    0.00</td>\n",
       "</tr>\n",
       "<tr>\n",
       "  <th>Kurtosis:</th>       <td> 3.549</td>  <th>  Cond. No.          </th> <td>    237.</td>\n",
       "</tr>\n",
       "</table>"
      ],
      "text/plain": [
       "<class 'statsmodels.iolib.summary.Summary'>\n",
       "\"\"\"\n",
       "                            OLS Regression Results                            \n",
       "==============================================================================\n",
       "Dep. Variable:                  price   R-squared:                       0.876\n",
       "Model:                            OLS   Adj. R-squared:                  0.876\n",
       "Method:                 Least Squares   F-statistic:                 5.851e+04\n",
       "Date:                Mon, 28 May 2018   Prob (F-statistic):               0.00\n",
       "Time:                        16:12:03   Log-Likelihood:            -2.2779e+06\n",
       "No. Observations:              181404   AIC:                         4.556e+06\n",
       "Df Residuals:                  181382   BIC:                         4.556e+06\n",
       "Df Model:                          22                                         \n",
       "Covariance Type:            nonrobust                                         \n",
       "================================================================================================================\n",
       "                                                   coef    std err          t      P>|t|      [0.025      0.975]\n",
       "----------------------------------------------------------------------------------------------------------------\n",
       "sqft:C(year)[2008]                              82.4369      5.429     15.185      0.000      71.797      93.077\n",
       "sqft:C(year)[2009]                              85.5927      0.563    151.933      0.000      84.489      86.697\n",
       "sqft:C(year)[2010]                              80.9463      0.564    143.646      0.000      79.842      82.051\n",
       "sqft:C(year)[2011]                              76.6374      0.533    143.726      0.000      75.592      77.683\n",
       "sqft:C(year)[2012]                              83.9288      0.536    156.661      0.000      82.879      84.979\n",
       "sqft:C(year)[2013]                              98.4879      0.584    168.729      0.000      97.344      99.632\n",
       "sqft:C(year)[2014]                             108.6845      0.606    179.292      0.000     107.496     109.873\n",
       "sqft:C(year)[2015]                             120.0164      0.528    227.158      0.000     118.981     121.052\n",
       "sqft:C(year)[2016]                             126.9022      0.553    229.668      0.000     125.819     127.985\n",
       "sqft:C(year)[2017]                             140.1586      0.489    286.343      0.000     139.199     141.118\n",
       "sqft:C(year)[2018]                             143.8902      1.702     84.547      0.000     140.555     147.226\n",
       "sqft:C(year)[2008]:dist_to_lightrail_station     0.4577      0.554      0.826      0.409      -0.628       1.544\n",
       "sqft:C(year)[2009]:dist_to_lightrail_station    -0.2631      0.060     -4.410      0.000      -0.380      -0.146\n",
       "sqft:C(year)[2010]:dist_to_lightrail_station     0.3112      0.062      5.036      0.000       0.190       0.432\n",
       "sqft:C(year)[2011]:dist_to_lightrail_station     0.1882      0.058      3.227      0.001       0.074       0.302\n",
       "sqft:C(year)[2012]:dist_to_lightrail_station     0.2619      0.060      4.389      0.000       0.145       0.379\n",
       "sqft:C(year)[2013]:dist_to_lightrail_station     0.3213      0.067      4.789      0.000       0.190       0.453\n",
       "sqft:C(year)[2014]:dist_to_lightrail_station     0.0231      0.071      0.326      0.744      -0.116       0.162\n",
       "sqft:C(year)[2015]:dist_to_lightrail_station    -0.4159      0.062     -6.746      0.000      -0.537      -0.295\n",
       "sqft:C(year)[2016]:dist_to_lightrail_station    -0.2294      0.058     -3.943      0.000      -0.343      -0.115\n",
       "sqft:C(year)[2017]:dist_to_lightrail_station    -0.4648      0.048     -9.633      0.000      -0.559      -0.370\n",
       "sqft:C(year)[2018]:dist_to_lightrail_station    -0.6029      0.170     -3.538      0.000      -0.937      -0.269\n",
       "==============================================================================\n",
       "Omnibus:                     8206.203   Durbin-Watson:                   1.342\n",
       "Prob(Omnibus):                  0.000   Jarque-Bera (JB):             9850.646\n",
       "Skew:                           0.501   Prob(JB):                         0.00\n",
       "Kurtosis:                       3.549   Cond. No.                         237.\n",
       "==============================================================================\n",
       "\n",
       "Warnings:\n",
       "[1] Standard Errors assume that the covariance matrix of the errors is correctly specified.\n",
       "\"\"\""
      ]
     },
     "execution_count": 383,
     "metadata": {},
     "output_type": "execute_result"
    }
   ],
   "source": [
    "price_model2 = ols(\"price ~ sqft:C(year) + sqft:C(year):dist_to_lightrail_station-1\", data=df).fit()\n",
    "# summarize our model\n",
    "price_model2.summary()"
   ]
  },
  {
   "cell_type": "markdown",
   "metadata": {},
   "source": [
    "We summarize the premium by year with some charts below."
   ]
  },
  {
   "cell_type": "code",
   "execution_count": 384,
   "metadata": {
    "collapsed": false
   },
   "outputs": [
    {
     "data": {
      "text/plain": [
       "<matplotlib.text.Text at 0x7f9f71b60eb8>"
      ]
     },
     "execution_count": 384,
     "metadata": {},
     "output_type": "execute_result"
    },
    {
     "data": {
      "image/png": "[encoded data removed]",
      "text/plain": [
       "<matplotlib.figure.Figure at 0x7f9f71b665f8>"
      ]
     },
     "metadata": {},
     "output_type": "display_data"
    }
   ],
   "source": [
    "import re\n",
    "prem = price_model.params[-10:].rename(lambda x: re.findall(\"\\[(\\d{4})\\]\",x)[0])\n",
    "ax = prem.plot(kind=\"bar\")\n",
    "for p in ax.patches:\n",
    "    b = p.get_bbox()\n",
    "    val = \"${:3.2f}\".format(b.y1 + b.y0)\n",
    "    ax.annotate(val, (p.get_x() * 1.005, p.get_height() * 1.005))\n",
    "    \n",
    "# manipulate\n",
    "vals = ax.get_yticks()\n",
    "ax.set_yticklabels(['${:3.2f}'.format(x) for x in vals])\n",
    "ax.set_ylabel(\"Premium per Sq Ft for Proximity to Light Rail\")\n",
    "ax.set_xlabel(\"Transaction Year\")"
   ]
  },
  {
   "cell_type": "code",
   "execution_count": 385,
   "metadata": {
    "collapsed": false
   },
   "outputs": [
    {
     "name": "stdout",
     "output_type": "stream",
     "text": [
      "      Far from Rail  Near to Rail\n",
      "2009      84.189119     82.189807\n",
      "2010      84.943821     80.526147\n",
      "2011      78.327532     77.681597\n",
      "2012      86.372985     85.123428\n",
      "2013     102.485847     98.164056\n",
      "2014     109.516159    107.812473\n",
      "2015     116.384348    117.975318\n",
      "2016     123.584016    128.141814\n",
      "2017     133.900187    141.931290\n",
      "2018     136.442337    144.187244\n"
     ]
    },
    {
     "data": {
      "text/plain": [
       "[<matplotlib.text.Text at 0x7f9f56d60240>,\n",
       " <matplotlib.text.Text at 0x7f9f56d67748>,\n",
       " <matplotlib.text.Text at 0x7f9f57793908>,\n",
       " <matplotlib.text.Text at 0x7f9f5779e7b8>,\n",
       " <matplotlib.text.Text at 0x7f9f56d54518>,\n",
       " <matplotlib.text.Text at 0x7f9f56d674e0>,\n",
       " <matplotlib.text.Text at 0x7f9f56c47ac8>,\n",
       " <matplotlib.text.Text at 0x7f9f57793b00>,\n",
       " <matplotlib.text.Text at 0x7f9f57789518>]"
      ]
     },
     "execution_count": 385,
     "metadata": {},
     "output_type": "execute_result"
    },
    {
     "data": {
      "image/png": "[encoded data removed]",
      "text/plain": [
       "<matplotlib.figure.Figure at 0x7f9f56c7ea90>"
      ]
     },
     "metadata": {},
     "output_type": "display_data"
    }
   ],
   "source": [
    "far_from_rail = price_model.params[-21:-11].rename(lambda x: re.findall(\"\\[(\\d{4})\\]\",x)[0]).rename(\"Far from Rail\")\n",
    "near_to_rail = (far_from_rail + prem).rename(\"Near to Rail\")\n",
    "output = pd.concat([far_from_rail, near_to_rail], axis=1)\n",
    "print(output)\n",
    "ax = output.plot(kind=\"bar\")\n",
    "vals = ax.get_yticks()\n",
    "ax.set_yticklabels(['${:3.2f}'.format(x) for x in vals])\n"
   ]
  },
  {
   "cell_type": "markdown",
   "metadata": {},
   "source": [
    "Based on this data, we can calculate the average apprerciation experienced by a home near the rail station and one farther away over the past 9 years. Homes near light rail stations appreciated at 1% higher rate than homes farther away."
   ]
  },
  {
   "cell_type": "code",
   "execution_count": 386,
   "metadata": {
    "collapsed": false
   },
   "outputs": [
    {
     "name": "stdout",
     "output_type": "stream",
     "text": [
      "Price per foot CAGR of homes far from light rail stations 5.51% \n",
      "Price per foot CAGR of homes near to light rail stations 6.44% \n"
     ]
    }
   ],
   "source": [
    "def CAGR(first, last, periods):\n",
    "    return (last/first)**(1/periods)-1\n",
    "print('Price per foot CAGR of homes far from light rail stations {:.2%} '.format(CAGR(output['Far from Rail']['2009'], output['Far from Rail']['2018'], 2018-2009)))\n",
    "print('Price per foot CAGR of homes near to light rail stations {:.2%} '.format(CAGR(output['Near to Rail']['2009'], output['Near to Rail']['2018'], 2018-2009)))"
   ]
  },
  {
   "cell_type": "code",
   "execution_count": null,
   "metadata": {
    "collapsed": true
   },
   "outputs": [],
   "source": []
  }
 ],
 "metadata": {
  "kernelspec": {
   "display_name": "Python 3",
   "language": "python",
   "name": "python3"
  },
  "language_info": {
   "codemirror_mode": {
    "name": "ipython",
    "version": 3
   },
   "file_extension": ".py",
   "mimetype": "text/x-python",
   "name": "python",
   "nbconvert_exporter": "python",
   "pygments_lexer": "ipython3",
   "version": "3.6.0"
  }
 },
 "nbformat": 4,
 "nbformat_minor": 2
}
