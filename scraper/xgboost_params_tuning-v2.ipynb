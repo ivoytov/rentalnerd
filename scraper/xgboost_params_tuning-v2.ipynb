{
 "cells": [
  {
   "cell_type": "code",
   "execution_count": 1,
   "metadata": {
    "collapsed": false
   },
   "outputs": [],
   "source": [
    "'''\n",
    "Based on: https://github.com/fmfn/BayesianOptimization/blob/master/examples/xgboost_example.py\n",
    "Computes the best parameters for XGB model optimization\n",
    "'''\n",
    "\n",
    "# imports\n",
    "import pandas as pd\n",
    "import numpy as np\n",
    "import os\n",
    "from bayes_opt import BayesianOptimization\n",
    "import xgboost as xgb\n",
    "from sklearn.model_selection import TimeSeriesSplit\n",
    "\n",
    "# data columns used for the booster\n",
    "factors = ['property_id', 'bedrooms', 'bathrooms', 'sqft','longitude', 'latitude','zipcode', 'elevation', 'garage'\n",
    "                          ,'year_built', 'level','dist_to_park','dist_to_golf_course', 'has_pool'\n",
    "                          ,'date_closed','multifamily', 'hoa_fees', 'lot']"
   ]
  },
  {
   "cell_type": "code",
   "execution_count": 4,
   "metadata": {
    "collapsed": false,
    "scrolled": false
   },
   "outputs": [],
   "source": [
    "def XGBcv(max_depth, gamma, min_child_weight, max_delta_step, subsample, colsample_bytree, alpha):\n",
    "    folds = 5\n",
    "    paramt = {\n",
    "        'alpha': max(alpha, 0),\n",
    "        'gamma': max(gamma, 0),\n",
    "        'max_depth': int(max_depth),\n",
    "        'eval_metric': 'mae',\n",
    "        'verbose_eval': None,\n",
    "        'eta': 0.1,\n",
    "        'objective': 'reg:linear',\n",
    "        'silent': True,\n",
    "        'subsample': max(min(subsample, 1), 0),\n",
    "        'colsample_bytree': max(min(colsample_bytree, 1), 0),\n",
    "        'min_child_weight': int(min_child_weight),\n",
    "        'max_delta_step': max_delta_step.astype(int),\n",
    "        'seed': 2017,\n",
    "        'updater': 'grow_gpu' \n",
    "    }\n",
    "\n",
    "    out = xgb.cv(paramt,\n",
    "           dtrain,\n",
    "           num_boost_round=3000,\n",
    "           folds=tscv.split(dtrain),\n",
    "           callbacks=[xgb.callback.early_stop(50)])\n",
    "    \n",
    "    return -out['test-mae-mean'].values[-1]\n"
   ]
  },
  {
   "cell_type": "code",
   "execution_count": null,
   "metadata": {
    "collapsed": false,
    "scrolled": false
   },
   "outputs": [
    {
     "name": "stdout",
     "output_type": "stream",
     "text": [
      "\u001b[31mInitialization\u001b[0m\n",
      "\u001b[94m----------------------------------------------------------------------------------------------------------------------------------------------\u001b[0m\n",
      " Step |   Time |      Value |     alpha |   colsample_bytree |     gamma |   max_delta_step |   max_depth |   min_child_weight |   subsample | \n"
     ]
    },
    {
     "name": "stderr",
     "output_type": "stream",
     "text": [
      "/home/ilya/anaconda3/lib/python3.6/site-packages/sklearn/model_selection/_split.py:581: Warning: The least populated class in y has only 1 members, which is too few. The minimum number of groups for any class cannot be less than n_splits=3.\n",
      "  % (min_groups, self.n_splits)), Warning)\n"
     ]
    },
    {
     "name": "stdout",
     "output_type": "stream",
     "text": [
      "Multiple eval metrics have been passed: 'test-mae' will be used for early stopping.\n",
      "\n",
      "Will train until test-mae hasn't improved in 50 rounds.\n",
      "Stopping. Best iteration:\n",
      "[206]\ttrain-mae:13483.7+190.233\ttest-mae:32287.3+321.554\n",
      "\n",
      "    1 | 00m22s | \u001b[35m-32287.31901\u001b[0m | \u001b[32m   8.2713\u001b[0m | \u001b[32m            0.3191\u001b[0m | \u001b[32m   7.2275\u001b[0m | \u001b[32m          0.3052\u001b[0m | \u001b[32m    11.5806\u001b[0m | \u001b[32m            7.0324\u001b[0m | \u001b[32m     0.5735\u001b[0m | \n",
      "Multiple eval metrics have been passed: 'test-mae' will be used for early stopping.\n",
      "\n",
      "Will train until test-mae hasn't improved in 50 rounds.\n",
      "Stopping. Best iteration:\n",
      "[311]\ttrain-mae:1964.77+111.847\ttest-mae:34171.8+392.018\n",
      "\n",
      "    2 | 00m33s | -34171.81641 |    3.4938 |             0.2910 |    2.4727 |           0.9579 |     12.4056 |             1.9743 |      0.8772 | \n",
      "Multiple eval metrics have been passed: 'test-mae' will be used for early stopping.\n",
      "\n",
      "Will train until test-mae hasn't improved in 50 rounds.\n",
      "    3 | 02m09s | -194486.71875 |    9.6910 |             0.4568 |    7.1301 |           3.5284 |      5.9561 |             2.2405 |      0.6080 | \n",
      "Multiple eval metrics have been passed: 'test-mae' will be used for early stopping.\n",
      "\n",
      "Will train until test-mae hasn't improved in 50 rounds.\n",
      "    4 | 02m55s | -194786.67188 |    4.6847 |             0.2849 |    1.5622 |           2.7885 |     11.7786 |             9.8326 |      0.8747 | \n",
      "Multiple eval metrics have been passed: 'test-mae' will be used for early stopping.\n",
      "\n",
      "Will train until test-mae hasn't improved in 50 rounds.\n",
      "    5 | 02m39s | -194186.63021 |    4.7545 |             0.2806 |    6.4754 |           4.1435 |      9.4377 |            17.9570 |      0.7591 | \n",
      "\u001b[31mBayesian Optimization\u001b[0m\n",
      "\u001b[94m----------------------------------------------------------------------------------------------------------------------------------------------\u001b[0m\n",
      " Step |   Time |      Value |     alpha |   colsample_bytree |     gamma |   max_delta_step |   max_depth |   min_child_weight |   subsample | \n",
      "Multiple eval metrics have been passed: 'test-mae' will be used for early stopping.\n",
      "\n",
      "Will train until test-mae hasn't improved in 50 rounds.\n",
      "Stopping. Best iteration:\n",
      "[273]\ttrain-mae:9621.54+460.271\ttest-mae:34068.3+169.97\n",
      "\n",
      "    6 | 01m07s | -34068.28646 |    9.4398 |             0.2325 |   10.0000 |           0.0000 |     15.0000 |             6.1640 |      0.5000 | \n",
      "Multiple eval metrics have been passed: 'test-mae' will be used for early stopping.\n",
      "\n",
      "Will train until test-mae hasn't improved in 50 rounds.\n",
      "Stopping. Best iteration:\n",
      "[119]\ttrain-mae:1650.34+261.446\ttest-mae:32633.5+170.703\n",
      "\n",
      "    7 | 00m38s | -32633.48568 |    0.0000 |             1.0000 |   10.0000 |           0.0000 |     15.0000 |             1.0000 |      1.0000 | \n",
      "Multiple eval metrics have been passed: 'test-mae' will be used for early stopping.\n",
      "\n",
      "Will train until test-mae hasn't improved in 50 rounds.\n",
      "Stopping. Best iteration:\n",
      "[394]\ttrain-mae:17446.8+271.221\ttest-mae:42489.4+617.125\n",
      "\n",
      "    8 | 01m16s | -42489.44010 |    0.0000 |             0.1000 |    0.0000 |           0.0000 |     15.0000 |             1.0000 |      0.5466 | \n",
      "Multiple eval metrics have been passed: 'test-mae' will be used for early stopping.\n",
      "\n",
      "Will train until test-mae hasn't improved in 50 rounds.\n",
      "Stopping. Best iteration:\n",
      "[811]\ttrain-mae:1208.87+58.7576\ttest-mae:39320.9+355.334\n",
      "\n",
      "    9 | 02m49s | -39320.88542 |    4.8247 |             0.1647 |    3.5772 |           0.0000 |     15.0000 |             1.0000 |      1.0000 | \n",
      "Multiple eval metrics have been passed: 'test-mae' will be used for early stopping.\n",
      "\n",
      "Will train until test-mae hasn't improved in 50 rounds.\n",
      "Stopping. Best iteration:\n",
      "[237]\ttrain-mae:12356.9+278.661\ttest-mae:32559.3+161.687\n",
      "\n",
      "   10 | 00m24s | -32559.27930 |    8.7570 |             0.3125 |    8.0623 |           0.0000 |     12.4265 |             7.0084 |      0.5000 | \n",
      "Multiple eval metrics have been passed: 'test-mae' will be used for early stopping.\n",
      "\n",
      "Will train until test-mae hasn't improved in 50 rounds.\n",
      "Stopping. Best iteration:\n",
      "[368]\ttrain-mae:20531.9+723.136\ttest-mae:31326.4+250.567\n",
      "\n",
      "   11 | 00m20s | \u001b[35m-31326.43164\u001b[0m | \u001b[32m   0.0000\u001b[0m | \u001b[32m            1.0000\u001b[0m | \u001b[32m   0.0000\u001b[0m | \u001b[32m          0.0000\u001b[0m | \u001b[32m     5.0000\u001b[0m | \u001b[32m            1.0000\u001b[0m | \u001b[32m     1.0000\u001b[0m | \n",
      "Multiple eval metrics have been passed: 'test-mae' will be used for early stopping.\n",
      "\n",
      "Will train until test-mae hasn't improved in 50 rounds.\n",
      "Stopping. Best iteration:\n",
      "[297]\ttrain-mae:1795.45+266.255\ttest-mae:33264.6+799.382\n",
      "\n",
      "   12 | 00m24s | -33264.62630 |    2.8244 |             0.3462 |    2.3891 |           0.0000 |     12.1053 |             1.0000 |      0.9757 | \n",
      "Multiple eval metrics have been passed: 'test-mae' will be used for early stopping.\n",
      "\n",
      "Will train until test-mae hasn't improved in 50 rounds.\n"
     ]
    }
   ],
   "source": [
    "params = { 'max_depth': (5, 15),\n",
    "                 'gamma': (0.0, 10.0),\n",
    "                 'min_child_weight': (1, 20),\n",
    "                 'max_delta_step': (0, 5),\n",
    "                 'subsample': (0.5, 1.0),\n",
    "                 'colsample_bytree' :(0.1, 1.0),\n",
    "                 'alpha': (0, 10)\n",
    "               }\n",
    "\n",
    "XGB_BOpt = BayesianOptimization(XGBcv, params)\n",
    "\n",
    "df = pd.read_csv('CSV_backups/PH-sales.csv')\n",
    "\n",
    "msk = np.random.rand(len(df)) < 0.03  # pick 3% of the dataset for a quick run, 100% would be entire dataset\n",
    "df = df[msk]\n",
    "\n",
    "dtrain = xgb.DMatrix(df[factors].values, label=df.price, feature_names=factors)\n",
    "tscv = TimeSeriesSplit(n_splits=5)\n",
    "\n",
    "\n",
    "XGB_BOpt.maximize(init_points=5, n_iter=25)"
   ]
  },
  {
   "cell_type": "code",
   "execution_count": null,
   "metadata": {
    "collapsed": true
   },
   "outputs": [],
   "source": []
  }
 ],
 "metadata": {
  "kernelspec": {
   "display_name": "Python 3",
   "language": "python",
   "name": "python3"
  },
  "language_info": {
   "codemirror_mode": {
    "name": "ipython",
    "version": 3
   },
   "file_extension": ".py",
   "mimetype": "text/x-python",
   "name": "python",
   "nbconvert_exporter": "python",
   "pygments_lexer": "ipython3",
   "version": "3.6.0"
  }
 },
 "nbformat": 4,
 "nbformat_minor": 0
}
