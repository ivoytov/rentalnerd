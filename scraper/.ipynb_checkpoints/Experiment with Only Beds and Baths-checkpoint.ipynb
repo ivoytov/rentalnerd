{
 "cells": [
  {
   "cell_type": "code",
   "execution_count": 1,
   "metadata": {
    "collapsed": false
   },
   "outputs": [
    {
     "data": {
      "text/html": [
       "<div>\n",
       "<table border=\"1\" class=\"dataframe\">\n",
       "  <thead>\n",
       "    <tr style=\"text-align: right;\">\n",
       "      <th></th>\n",
       "      <th>Neighborhood</th>\n",
       "      <th>Bedrooms</th>\n",
       "      <th>Bathrooms</th>\n",
       "      <th>Price</th>\n",
       "      <th>Sqft</th>\n",
       "      <th>Date</th>\n",
       "    </tr>\n",
       "    <tr>\n",
       "      <th>Address</th>\n",
       "      <th></th>\n",
       "      <th></th>\n",
       "      <th></th>\n",
       "      <th></th>\n",
       "      <th></th>\n",
       "      <th></th>\n",
       "    </tr>\n",
       "  </thead>\n",
       "  <tbody>\n",
       "    <tr>\n",
       "      <th>539 Octavia Street #9</th>\n",
       "      <td>Hayes Valley</td>\n",
       "      <td>0</td>\n",
       "      <td>1</td>\n",
       "      <td>1500</td>\n",
       "      <td>180</td>\n",
       "      <td>2015-03-18</td>\n",
       "    </tr>\n",
       "    <tr>\n",
       "      <th>539 Octavia Street #11</th>\n",
       "      <td>Hayes Valley</td>\n",
       "      <td>0</td>\n",
       "      <td>1</td>\n",
       "      <td>1600</td>\n",
       "      <td>200</td>\n",
       "      <td>2015-03-30</td>\n",
       "    </tr>\n",
       "    <tr>\n",
       "      <th>539 Octavia Street #14</th>\n",
       "      <td>Hayes Valley</td>\n",
       "      <td>0</td>\n",
       "      <td>1</td>\n",
       "      <td>1850</td>\n",
       "      <td>221</td>\n",
       "      <td>2015-05-14</td>\n",
       "    </tr>\n",
       "    <tr>\n",
       "      <th>539 Octavia Street #12</th>\n",
       "      <td>Hayes Valley</td>\n",
       "      <td>0</td>\n",
       "      <td>1</td>\n",
       "      <td>1800</td>\n",
       "      <td>240</td>\n",
       "      <td>2015-04-16</td>\n",
       "    </tr>\n",
       "    <tr>\n",
       "      <th>539 Octavia Street #13</th>\n",
       "      <td>Hayes Valley</td>\n",
       "      <td>0</td>\n",
       "      <td>1</td>\n",
       "      <td>1995</td>\n",
       "      <td>280</td>\n",
       "      <td>2015-02-01</td>\n",
       "    </tr>\n",
       "  </tbody>\n",
       "</table>\n",
       "</div>"
      ],
      "text/plain": [
       "                        Neighborhood  Bedrooms  Bathrooms  Price  Sqft  \\\n",
       "Address                                                                  \n",
       "539 Octavia Street #9   Hayes Valley         0          1   1500   180   \n",
       "539 Octavia Street #11  Hayes Valley         0          1   1600   200   \n",
       "539 Octavia Street #14  Hayes Valley         0          1   1850   221   \n",
       "539 Octavia Street #12  Hayes Valley         0          1   1800   240   \n",
       "539 Octavia Street #13  Hayes Valley         0          1   1995   280   \n",
       "\n",
       "                             Date  \n",
       "Address                            \n",
       "539 Octavia Street #9  2015-03-18  \n",
       "539 Octavia Street #11 2015-03-30  \n",
       "539 Octavia Street #14 2015-05-14  \n",
       "539 Octavia Street #12 2015-04-16  \n",
       "539 Octavia Street #13 2015-02-01  "
      ]
     },
     "execution_count": 1,
     "metadata": {},
     "output_type": "execute_result"
    }
   ],
   "source": [
    "# imports\n",
    "import pandas as pd\n",
    "import matplotlib.pyplot as plt\n",
    "\n",
    "# this allows plots to appear directly in the notebook\n",
    "%matplotlib inline\n",
    "\n",
    "# read data into a DataFrame\n",
    "data = pd.read_csv('SF Listings - Combined.csv', index_col=0)\n",
    "del data['Term']\n",
    "del data['URL']\n",
    "del data['Source']\n",
    "del data['Rented']\n",
    "data['Date'] = pd.to_datetime(data['Date'])\n",
    "data.head()"
   ]
  },
  {
   "cell_type": "code",
   "execution_count": 2,
   "metadata": {
    "collapsed": false
   },
   "outputs": [
    {
     "data": {
      "text/html": [
       "<div>\n",
       "<table border=\"1\" class=\"dataframe\">\n",
       "  <thead>\n",
       "    <tr style=\"text-align: right;\">\n",
       "      <th></th>\n",
       "      <th>Neighborhood</th>\n",
       "      <th>Bedrooms</th>\n",
       "      <th>Bathrooms</th>\n",
       "      <th>Price</th>\n",
       "      <th>Sqft</th>\n",
       "      <th>Date</th>\n",
       "      <th>Year</th>\n",
       "      <th>Year_2011</th>\n",
       "      <th>Year_2012</th>\n",
       "      <th>Year_2013</th>\n",
       "      <th>Year_2014</th>\n",
       "    </tr>\n",
       "    <tr>\n",
       "      <th>Address</th>\n",
       "      <th></th>\n",
       "      <th></th>\n",
       "      <th></th>\n",
       "      <th></th>\n",
       "      <th></th>\n",
       "      <th></th>\n",
       "      <th></th>\n",
       "      <th></th>\n",
       "      <th></th>\n",
       "      <th></th>\n",
       "      <th></th>\n",
       "    </tr>\n",
       "  </thead>\n",
       "  <tbody>\n",
       "    <tr>\n",
       "      <th>539 Octavia Street #9</th>\n",
       "      <td>Hayes Valley</td>\n",
       "      <td>0</td>\n",
       "      <td>1</td>\n",
       "      <td>1500</td>\n",
       "      <td>180</td>\n",
       "      <td>2015-03-18</td>\n",
       "      <td>2015</td>\n",
       "      <td>0</td>\n",
       "      <td>0</td>\n",
       "      <td>0</td>\n",
       "      <td>0</td>\n",
       "    </tr>\n",
       "    <tr>\n",
       "      <th>539 Octavia Street #11</th>\n",
       "      <td>Hayes Valley</td>\n",
       "      <td>0</td>\n",
       "      <td>1</td>\n",
       "      <td>1600</td>\n",
       "      <td>200</td>\n",
       "      <td>2015-03-30</td>\n",
       "      <td>2015</td>\n",
       "      <td>0</td>\n",
       "      <td>0</td>\n",
       "      <td>0</td>\n",
       "      <td>0</td>\n",
       "    </tr>\n",
       "    <tr>\n",
       "      <th>539 Octavia Street #14</th>\n",
       "      <td>Hayes Valley</td>\n",
       "      <td>0</td>\n",
       "      <td>1</td>\n",
       "      <td>1850</td>\n",
       "      <td>221</td>\n",
       "      <td>2015-05-14</td>\n",
       "      <td>2015</td>\n",
       "      <td>0</td>\n",
       "      <td>0</td>\n",
       "      <td>0</td>\n",
       "      <td>0</td>\n",
       "    </tr>\n",
       "    <tr>\n",
       "      <th>539 Octavia Street #12</th>\n",
       "      <td>Hayes Valley</td>\n",
       "      <td>0</td>\n",
       "      <td>1</td>\n",
       "      <td>1800</td>\n",
       "      <td>240</td>\n",
       "      <td>2015-04-16</td>\n",
       "      <td>2015</td>\n",
       "      <td>0</td>\n",
       "      <td>0</td>\n",
       "      <td>0</td>\n",
       "      <td>0</td>\n",
       "    </tr>\n",
       "    <tr>\n",
       "      <th>539 Octavia Street #13</th>\n",
       "      <td>Hayes Valley</td>\n",
       "      <td>0</td>\n",
       "      <td>1</td>\n",
       "      <td>1995</td>\n",
       "      <td>280</td>\n",
       "      <td>2015-02-01</td>\n",
       "      <td>2015</td>\n",
       "      <td>0</td>\n",
       "      <td>0</td>\n",
       "      <td>0</td>\n",
       "      <td>0</td>\n",
       "    </tr>\n",
       "  </tbody>\n",
       "</table>\n",
       "</div>"
      ],
      "text/plain": [
       "                        Neighborhood  Bedrooms  Bathrooms  Price  Sqft  \\\n",
       "Address                                                                  \n",
       "539 Octavia Street #9   Hayes Valley         0          1   1500   180   \n",
       "539 Octavia Street #11  Hayes Valley         0          1   1600   200   \n",
       "539 Octavia Street #14  Hayes Valley         0          1   1850   221   \n",
       "539 Octavia Street #12  Hayes Valley         0          1   1800   240   \n",
       "539 Octavia Street #13  Hayes Valley         0          1   1995   280   \n",
       "\n",
       "                             Date  Year  Year_2011  Year_2012  Year_2013  \\\n",
       "Address                                                                    \n",
       "539 Octavia Street #9  2015-03-18  2015          0          0          0   \n",
       "539 Octavia Street #11 2015-03-30  2015          0          0          0   \n",
       "539 Octavia Street #14 2015-05-14  2015          0          0          0   \n",
       "539 Octavia Street #12 2015-04-16  2015          0          0          0   \n",
       "539 Octavia Street #13 2015-02-01  2015          0          0          0   \n",
       "\n",
       "                        Year_2014  \n",
       "Address                            \n",
       "539 Octavia Street #9           0  \n",
       "539 Octavia Street #11          0  \n",
       "539 Octavia Street #14          0  \n",
       "539 Octavia Street #12          0  \n",
       "539 Octavia Street #13          0  "
      ]
     },
     "execution_count": 2,
     "metadata": {},
     "output_type": "execute_result"
    }
   ],
   "source": [
    "# create year dummy variables (because date isn't very intuitive variable)\n",
    "data[\"Year\"] = pd.DatetimeIndex(data[\"Date\"]).to_period('Y')\n",
    "\n",
    "# create dummy variables using get_dummies, then exclude the first dummy column\n",
    "year_dummies = pd.get_dummies(data.Year, prefix='Year').iloc[:, :-1]\n",
    "\n",
    "# concatenate the dummy variable columns onto the original DataFrame (axis=0 means rows, axis=1 means columns)\n",
    "data = pd.concat([data, year_dummies], axis=1)\n",
    "\n",
    "data.head()"
   ]
  },
  {
   "cell_type": "code",
   "execution_count": 3,
   "metadata": {
    "collapsed": false
   },
   "outputs": [
    {
     "data": {
      "text/plain": [
       "<matplotlib.axes._subplots.AxesSubplot at 0x10b530650>"
      ]
     },
     "execution_count": 3,
     "metadata": {},
     "output_type": "execute_result"
    },
    {
     "data": {
      "image/png": "[encoded data removed]",
      "text/plain": [
       "<matplotlib.figure.Figure at 0x10bb822d0>"
      ]
     },
     "metadata": {},
     "output_type": "display_data"
    }
   ],
   "source": [
    "# visualize the relationship between the features and the response using scatterplots\n",
    "fig, axs = plt.subplots(1, 4, sharey=True)\n",
    "data.plot(kind='scatter', x='Bedrooms', y='Price', ax=axs[0], figsize=(16, 8))\n",
    "data.plot(kind='scatter', x='Bathrooms', y='Price', ax=axs[1])\n",
    "data.plot(kind='scatter', x='Sqft', y='Price', ax=axs[2])\n",
    "data.plot(x='Date', y='Price', ax=axs[3])"
   ]
  },
  {
   "cell_type": "code",
   "execution_count": 4,
   "metadata": {
    "collapsed": false
   },
   "outputs": [
    {
     "name": "stdout",
     "output_type": "stream",
     "text": [
      "1577.28457833\n"
     ]
    },
    {
     "data": {
      "text/plain": [
       "[('Bathrooms', 958.26891260894593),\n",
       " ('Sqft', 1.5026222890545782),\n",
       " (u'Year_2012', -1558.7478326144476),\n",
       " (u'Year_2013', -734.70250445491672),\n",
       " (u'Year_2011', -629.96339146516573),\n",
       " (u'Year_2014', -259.50243204785033)]"
      ]
     },
     "execution_count": 4,
     "metadata": {},
     "output_type": "execute_result"
    }
   ],
   "source": [
    "# follow the usual sklearn pattern: import, instantiate, fit\n",
    "from sklearn.linear_model import LinearRegression\n",
    "\n",
    "# create X and y\n",
    "feature_cols = list(set(data.columns) - set(['Year','Neighborhood','Date','Price','Bedrooms']))\n",
    "\n",
    "X = data[feature_cols]\n",
    "y = data.Price\n",
    "\n",
    "# instantiate, fit\n",
    "lm = LinearRegression()\n",
    "lm.fit(X, y)\n",
    "\n",
    "# print coefficients\n",
    "print lm.intercept_\n",
    "zip(feature_cols, lm.coef_)\n"
   ]
  },
  {
   "cell_type": "code",
   "execution_count": 5,
   "metadata": {
    "collapsed": false
   },
   "outputs": [
    {
     "name": "stdout",
     "output_type": "stream",
     "text": [
      "Residual sum of squares: 913096.57\n",
      "Variance score: 0.55\n"
     ]
    }
   ],
   "source": [
    "import numpy as np\n",
    "# The mean square error\n",
    "print(\"Residual sum of squares: %.2f\"\n",
    "      % np.mean((lm.predict(X) - y) ** 2))\n",
    "# Explained variance score: 1 is perfect prediction\n",
    "print('Variance score: %.2f' % lm.score(X, y))"
   ]
  },
  {
   "cell_type": "code",
   "execution_count": 6,
   "metadata": {
    "collapsed": false
   },
   "outputs": [
    {
     "data": {
      "text/html": [
       "<div>\n",
       "<table border=\"1\" class=\"dataframe\">\n",
       "  <thead>\n",
       "    <tr style=\"text-align: right;\">\n",
       "      <th></th>\n",
       "      <th>Neighborhood</th>\n",
       "      <th>Bedrooms</th>\n",
       "      <th>Bathrooms</th>\n",
       "      <th>Price</th>\n",
       "      <th>Sqft</th>\n",
       "      <th>Date</th>\n",
       "      <th>Year</th>\n",
       "      <th>Year_2011</th>\n",
       "      <th>Year_2012</th>\n",
       "      <th>Year_2013</th>\n",
       "      <th>...</th>\n",
       "      <th>Neighborhood_Telegraph Hill</th>\n",
       "      <th>Neighborhood_Tenderloin</th>\n",
       "      <th>Neighborhood_Van Ness - Civic Center</th>\n",
       "      <th>Neighborhood_Van Ness-Civic Center</th>\n",
       "      <th>Neighborhood_Visitacion Valley</th>\n",
       "      <th>Neighborhood_Walnut Creek</th>\n",
       "      <th>Neighborhood_West Oakland</th>\n",
       "      <th>Neighborhood_Western Addition</th>\n",
       "      <th>Neighborhood_Westwood Park</th>\n",
       "      <th>Neighborhood_Yerba Buena</th>\n",
       "    </tr>\n",
       "    <tr>\n",
       "      <th>Address</th>\n",
       "      <th></th>\n",
       "      <th></th>\n",
       "      <th></th>\n",
       "      <th></th>\n",
       "      <th></th>\n",
       "      <th></th>\n",
       "      <th></th>\n",
       "      <th></th>\n",
       "      <th></th>\n",
       "      <th></th>\n",
       "      <th></th>\n",
       "      <th></th>\n",
       "      <th></th>\n",
       "      <th></th>\n",
       "      <th></th>\n",
       "      <th></th>\n",
       "      <th></th>\n",
       "      <th></th>\n",
       "      <th></th>\n",
       "      <th></th>\n",
       "      <th></th>\n",
       "    </tr>\n",
       "  </thead>\n",
       "  <tbody>\n",
       "    <tr>\n",
       "      <th>539 Octavia Street #9</th>\n",
       "      <td>Hayes Valley</td>\n",
       "      <td>0</td>\n",
       "      <td>1</td>\n",
       "      <td>1500</td>\n",
       "      <td>180</td>\n",
       "      <td>2015-03-18</td>\n",
       "      <td>2015</td>\n",
       "      <td>0</td>\n",
       "      <td>0</td>\n",
       "      <td>0</td>\n",
       "      <td>...</td>\n",
       "      <td>0</td>\n",
       "      <td>0</td>\n",
       "      <td>0</td>\n",
       "      <td>0</td>\n",
       "      <td>0</td>\n",
       "      <td>0</td>\n",
       "      <td>0</td>\n",
       "      <td>0</td>\n",
       "      <td>0</td>\n",
       "      <td>0</td>\n",
       "    </tr>\n",
       "    <tr>\n",
       "      <th>539 Octavia Street #11</th>\n",
       "      <td>Hayes Valley</td>\n",
       "      <td>0</td>\n",
       "      <td>1</td>\n",
       "      <td>1600</td>\n",
       "      <td>200</td>\n",
       "      <td>2015-03-30</td>\n",
       "      <td>2015</td>\n",
       "      <td>0</td>\n",
       "      <td>0</td>\n",
       "      <td>0</td>\n",
       "      <td>...</td>\n",
       "      <td>0</td>\n",
       "      <td>0</td>\n",
       "      <td>0</td>\n",
       "      <td>0</td>\n",
       "      <td>0</td>\n",
       "      <td>0</td>\n",
       "      <td>0</td>\n",
       "      <td>0</td>\n",
       "      <td>0</td>\n",
       "      <td>0</td>\n",
       "    </tr>\n",
       "    <tr>\n",
       "      <th>539 Octavia Street #14</th>\n",
       "      <td>Hayes Valley</td>\n",
       "      <td>0</td>\n",
       "      <td>1</td>\n",
       "      <td>1850</td>\n",
       "      <td>221</td>\n",
       "      <td>2015-05-14</td>\n",
       "      <td>2015</td>\n",
       "      <td>0</td>\n",
       "      <td>0</td>\n",
       "      <td>0</td>\n",
       "      <td>...</td>\n",
       "      <td>0</td>\n",
       "      <td>0</td>\n",
       "      <td>0</td>\n",
       "      <td>0</td>\n",
       "      <td>0</td>\n",
       "      <td>0</td>\n",
       "      <td>0</td>\n",
       "      <td>0</td>\n",
       "      <td>0</td>\n",
       "      <td>0</td>\n",
       "    </tr>\n",
       "    <tr>\n",
       "      <th>539 Octavia Street #12</th>\n",
       "      <td>Hayes Valley</td>\n",
       "      <td>0</td>\n",
       "      <td>1</td>\n",
       "      <td>1800</td>\n",
       "      <td>240</td>\n",
       "      <td>2015-04-16</td>\n",
       "      <td>2015</td>\n",
       "      <td>0</td>\n",
       "      <td>0</td>\n",
       "      <td>0</td>\n",
       "      <td>...</td>\n",
       "      <td>0</td>\n",
       "      <td>0</td>\n",
       "      <td>0</td>\n",
       "      <td>0</td>\n",
       "      <td>0</td>\n",
       "      <td>0</td>\n",
       "      <td>0</td>\n",
       "      <td>0</td>\n",
       "      <td>0</td>\n",
       "      <td>0</td>\n",
       "    </tr>\n",
       "    <tr>\n",
       "      <th>539 Octavia Street #13</th>\n",
       "      <td>Hayes Valley</td>\n",
       "      <td>0</td>\n",
       "      <td>1</td>\n",
       "      <td>1995</td>\n",
       "      <td>280</td>\n",
       "      <td>2015-02-01</td>\n",
       "      <td>2015</td>\n",
       "      <td>0</td>\n",
       "      <td>0</td>\n",
       "      <td>0</td>\n",
       "      <td>...</td>\n",
       "      <td>0</td>\n",
       "      <td>0</td>\n",
       "      <td>0</td>\n",
       "      <td>0</td>\n",
       "      <td>0</td>\n",
       "      <td>0</td>\n",
       "      <td>0</td>\n",
       "      <td>0</td>\n",
       "      <td>0</td>\n",
       "      <td>0</td>\n",
       "    </tr>\n",
       "  </tbody>\n",
       "</table>\n",
       "<p>5 rows × 72 columns</p>\n",
       "</div>"
      ],
      "text/plain": [
       "                        Neighborhood  Bedrooms  Bathrooms  Price  Sqft  \\\n",
       "Address                                                                  \n",
       "539 Octavia Street #9   Hayes Valley         0          1   1500   180   \n",
       "539 Octavia Street #11  Hayes Valley         0          1   1600   200   \n",
       "539 Octavia Street #14  Hayes Valley         0          1   1850   221   \n",
       "539 Octavia Street #12  Hayes Valley         0          1   1800   240   \n",
       "539 Octavia Street #13  Hayes Valley         0          1   1995   280   \n",
       "\n",
       "                             Date  Year  Year_2011  Year_2012  Year_2013  \\\n",
       "Address                                                                    \n",
       "539 Octavia Street #9  2015-03-18  2015          0          0          0   \n",
       "539 Octavia Street #11 2015-03-30  2015          0          0          0   \n",
       "539 Octavia Street #14 2015-05-14  2015          0          0          0   \n",
       "539 Octavia Street #12 2015-04-16  2015          0          0          0   \n",
       "539 Octavia Street #13 2015-02-01  2015          0          0          0   \n",
       "\n",
       "                                  ...             Neighborhood_Telegraph Hill  \\\n",
       "Address                           ...                                           \n",
       "539 Octavia Street #9             ...                                       0   \n",
       "539 Octavia Street #11            ...                                       0   \n",
       "539 Octavia Street #14            ...                                       0   \n",
       "539 Octavia Street #12            ...                                       0   \n",
       "539 Octavia Street #13            ...                                       0   \n",
       "\n",
       "                        Neighborhood_Tenderloin  \\\n",
       "Address                                           \n",
       "539 Octavia Street #9                         0   \n",
       "539 Octavia Street #11                        0   \n",
       "539 Octavia Street #14                        0   \n",
       "539 Octavia Street #12                        0   \n",
       "539 Octavia Street #13                        0   \n",
       "\n",
       "                        Neighborhood_Van Ness - Civic Center  \\\n",
       "Address                                                        \n",
       "539 Octavia Street #9                                      0   \n",
       "539 Octavia Street #11                                     0   \n",
       "539 Octavia Street #14                                     0   \n",
       "539 Octavia Street #12                                     0   \n",
       "539 Octavia Street #13                                     0   \n",
       "\n",
       "                        Neighborhood_Van Ness-Civic Center  \\\n",
       "Address                                                      \n",
       "539 Octavia Street #9                                    0   \n",
       "539 Octavia Street #11                                   0   \n",
       "539 Octavia Street #14                                   0   \n",
       "539 Octavia Street #12                                   0   \n",
       "539 Octavia Street #13                                   0   \n",
       "\n",
       "                        Neighborhood_Visitacion Valley  \\\n",
       "Address                                                  \n",
       "539 Octavia Street #9                                0   \n",
       "539 Octavia Street #11                               0   \n",
       "539 Octavia Street #14                               0   \n",
       "539 Octavia Street #12                               0   \n",
       "539 Octavia Street #13                               0   \n",
       "\n",
       "                        Neighborhood_Walnut Creek  Neighborhood_West Oakland  \\\n",
       "Address                                                                        \n",
       "539 Octavia Street #9                           0                          0   \n",
       "539 Octavia Street #11                          0                          0   \n",
       "539 Octavia Street #14                          0                          0   \n",
       "539 Octavia Street #12                          0                          0   \n",
       "539 Octavia Street #13                          0                          0   \n",
       "\n",
       "                        Neighborhood_Western Addition  \\\n",
       "Address                                                 \n",
       "539 Octavia Street #9                               0   \n",
       "539 Octavia Street #11                              0   \n",
       "539 Octavia Street #14                              0   \n",
       "539 Octavia Street #12                              0   \n",
       "539 Octavia Street #13                              0   \n",
       "\n",
       "                        Neighborhood_Westwood Park  Neighborhood_Yerba Buena  \n",
       "Address                                                                       \n",
       "539 Octavia Street #9                            0                         0  \n",
       "539 Octavia Street #11                           0                         0  \n",
       "539 Octavia Street #14                           0                         0  \n",
       "539 Octavia Street #12                           0                         0  \n",
       "539 Octavia Street #13                           0                         0  \n",
       "\n",
       "[5 rows x 72 columns]"
      ]
     },
     "execution_count": 6,
     "metadata": {},
     "output_type": "execute_result"
    }
   ],
   "source": [
    "\n",
    "# create dummy variables using get_dummies, then exclude the first dummy column\n",
    "area_dummies = pd.get_dummies(data.Neighborhood, prefix='Neighborhood').iloc[:, 1:]\n",
    "\n",
    "# concatenate the dummy variable columns onto the original DataFrame (axis=0 means rows, axis=1 means columns)\n",
    "data = pd.concat([data, area_dummies], axis=1)\n",
    "data.head()"
   ]
  },
  {
   "cell_type": "code",
   "execution_count": 12,
   "metadata": {
    "collapsed": false
   },
   "outputs": [
    {
     "name": "stdout",
     "output_type": "stream",
     "text": [
      "1633.0421817\n",
      "Residual sum of squares: 597784.79\n",
      "Variance score: 0.70\n"
     ]
    },
    {
     "data": {
      "text/plain": [
       "[('Neighborhood_Buena Vista', -505.39230309929621),\n",
       " ('Neighborhood_Nob Hill', 7.043840993198792),\n",
       " ('Neighborhood_Mission Dolores', 273.19773752802365),\n",
       " ('Neighborhood_Clarendon Heights', -1917.021472816306),\n",
       " ('Neighborhood_Inner Sunset', -119.52085335350648),\n",
       " ('Neighborhood_Golden Gate Heights', 23.248637031264536),\n",
       " ('Neighborhood_Outer Richmond', -499.75231074619933),\n",
       " ('Neighborhood_Bernal Heights', -1229.4470803187119),\n",
       " ('Neighborhood_Westwood Park', -1081.1704345559003),\n",
       " ('Neighborhood_Stonestown', -1588.8900550196577),\n",
       " ('Neighborhood_Presidio', 382.21224913433082),\n",
       " ('Neighborhood_Oakland', -1939.1050337976185),\n",
       " ('Neighborhood_Russian Hill', -2066.17048804869),\n",
       " ('Neighborhood_South Beach', 54.553941586728399),\n",
       " ('Neighborhood_Eureka Valley', -464.26886391833403),\n",
       " ('Neighborhood_Rincon Hill', 59.163600026833024),\n",
       " ('Neighborhood_Downtown San Francisco', -962.86425338143454),\n",
       " ('Neighborhood_North Beach', 860.12843948039529),\n",
       " ('Neighborhood_Central Richmond', -1086.0944863994391),\n",
       " ('Neighborhood_Excelsior', -1017.3866354278905),\n",
       " ('Neighborhood_Visitacion Valley', -2944.7096291727789),\n",
       " ('Neighborhood_Forest Knolls', -338.60528501403917),\n",
       " ('Neighborhood_Duboce Triangle', -292.84291915464456),\n",
       " ('Neighborhood_Lone Mountain', -1047.4068086911623),\n",
       " ('Neighborhood_Hayes Valley', -281.64511390025945),\n",
       " ('Neighborhood_Cole Valley-Parnassus Heights', -877.5039693567644),\n",
       " ('Neighborhood_Dogpatch', -776.96415710374094),\n",
       " ('Neighborhood_North Panhandle', 205.61431234959764),\n",
       " ('Neighborhood_Pacific Heights', 153.1494565683243),\n",
       " ('Neighborhood_Van Ness - Civic Center', -75.198435002144663),\n",
       " ('Neighborhood_Glen Park', -2006.3102107479172),\n",
       " ('Sqft', 1.6349952611121696),\n",
       " ('Neighborhood_Noe Valley', -394.89682550258573),\n",
       " ('Neighborhood_Lower Pacific Heights', -460.22058119274584),\n",
       " ('Neighborhood_Portola', -2044.7575165521914),\n",
       " ('Neighborhood_North Waterfront', -564.08955454727857),\n",
       " ('Neighborhood_Emeryville', -1742.2898224335124),\n",
       " (u'Year_2013', -602.91128714647095),\n",
       " ('Bathrooms', 981.7148679367873),\n",
       " ('Neighborhood_Bayview', -1475.985886138011),\n",
       " ('Neighborhood_Walnut Creek', -2094.6071887577873),\n",
       " ('Neighborhood_Pacifica', -2217.110924708707),\n",
       " ('Neighborhood_Mission Bay', -149.82258264808979),\n",
       " ('Neighborhood_Downtown', -275.30713531690594),\n",
       " ('Neighborhood_West Oakland', -1822.0508817403243),\n",
       " ('Neighborhood_Telegraph Hill', 999.6183432202522),\n",
       " ('Neighborhood_South of Market', 128.03248960197925),\n",
       " ('Neighborhood_Eureka Valley-Dolores Heights', -89.116644905651526),\n",
       " ('Neighborhood_Potrero Hill', -582.7292387224611),\n",
       " ('Neighborhood_Ingleside', -1749.0758233612016),\n",
       " ('Neighborhood_Western Addition', -481.35562278727832),\n",
       " ('Neighborhood_Financial District', 574.08738240497746),\n",
       " ('Neighborhood_South Financial District', 74.457175623097498),\n",
       " ('Neighborhood_Van Ness-Civic Center', -1126.1145563132491),\n",
       " ('Neighborhood_Tenderloin', -532.4091446955938),\n",
       " ('Neighborhood_Downtown Oakland', -3089.600081698451),\n",
       " ('Neighborhood_Central Waterfront', -589.85179423756506),\n",
       " ('Neighborhood_Candlestick Point', -2195.9086503175417),\n",
       " (u'Year_2014', -168.86614920705512),\n",
       " ('Neighborhood_Inner Mission', -342.66835595507121),\n",
       " (u'Year_2012', -1689.4258215869881),\n",
       " ('Neighborhood_Yerba Buena', 81.888942533134951),\n",
       " ('Neighborhood_Marina', -50.959579713858147),\n",
       " (u'Year_2011', -811.29030920652031),\n",
       " ('Neighborhood_Diamond Heights', -2048.7252001706393),\n",
       " ('Neighborhood_SOMA', -444.40003586235974),\n",
       " ('Neighborhood_Berkeley', -1671.137820149708)]"
      ]
     },
     "execution_count": 12,
     "metadata": {},
     "output_type": "execute_result"
    }
   ],
   "source": [
    "# create X and y\n",
    "feature_cols = list(set(data.columns) - set(['Year','Neighborhood','Date','Price','Bedrooms']))\n",
    "\n",
    "X = data[feature_cols]\n",
    "y = data.Price\n",
    "\n",
    "# instantiate, fit\n",
    "lm = LinearRegression()\n",
    "lm.fit(X, y)\n",
    "\n",
    "# print coefficients\n",
    "print lm.intercept_\n",
    "# The mean square error\n",
    "print(\"Residual sum of squares: %.2f\"\n",
    "      % np.mean((lm.predict(X) - y) ** 2))\n",
    "# Explained variance score: 1 is perfect prediction\n",
    "print('Variance score: %.2f' % lm.score(X, y))\n",
    "zip(feature_cols, lm.coef_)"
   ]
  },
  {
   "cell_type": "code",
   "execution_count": 13,
   "metadata": {
    "collapsed": false
   },
   "outputs": [
    {
     "data": {
      "text/plain": [
       "[]"
      ]
     },
     "execution_count": 13,
     "metadata": {},
     "output_type": "execute_result"
    },
    {
     "data": {
      "image/png": "[encoded data removed]",
      "text/plain": [
       "<matplotlib.figure.Figure at 0x10d6a4e10>"
      ]
     },
     "metadata": {},
     "output_type": "display_data"
    }
   ],
   "source": [
    "# calculate predictions for the data set and plot errors\n",
    "predictions = lm.predict(X)\n",
    "errors = predictions-y\n",
    "errors.name = 'Error'\n",
    "zip(data.index,y,predictions,errors)\n",
    "\n",
    "# visualize the relationship between the features and the response using scatterplots\n",
    "errors.sort()\n",
    "\n",
    "errors.plot(kind='bar').get_xaxis().set_ticks([])"
   ]
  },
  {
   "cell_type": "code",
   "execution_count": 14,
   "metadata": {
    "collapsed": false
   },
   "outputs": [
    {
     "name": "stdout",
     "output_type": "stream",
     "text": [
      "data size pre categories: 646\n",
      "data size grouped: 62\n"
     ]
    },
    {
     "data": {
      "text/plain": [
       "<matplotlib.axes._subplots.AxesSubplot at 0x10d834b90>"
      ]
     },
     "execution_count": 14,
     "metadata": {},
     "output_type": "execute_result"
    },
    {
     "data": {
      "image/png": "[encoded data removed]",
      "text/plain": [
       "<matplotlib.figure.Figure at 0x10d6a4d50>"
      ]
     },
     "metadata": {},
     "output_type": "display_data"
    }
   ],
   "source": [
    "# show errors by neighborhood to see if there are any neighborhoods with funky differences\n",
    "\n",
    "hooderrors = data[['Neighborhood']]\n",
    "print \"data size pre categories: \" + `len(hooderrors)`\n",
    "\n",
    "errors = predictions-y\n",
    "errors.name = 'Error'\n",
    "\n",
    "hooderrors = pd.concat([hooderrors,errors.abs()],axis=1)\n",
    "\n",
    "hood_group = hooderrors.groupby('Neighborhood')\n",
    "print \"data size grouped: \" + `len(hood_group)`\n",
    "\n",
    "import numpy\n",
    "def median(lst):\n",
    "    return numpy.median(numpy.array(lst))\n",
    "\n",
    "error_avg = hood_group.median()\n",
    "error_avg.sort(columns='Error',ascending=False).plot(kind='bar')"
   ]
  },
  {
   "cell_type": "code",
   "execution_count": 15,
   "metadata": {
    "collapsed": false
   },
   "outputs": [
    {
     "name": "stdout",
     "output_type": "stream",
     "text": [
      "data size pre categories: 646\n",
      "data size grouped: 5\n"
     ]
    },
    {
     "data": {
      "text/plain": [
       "<matplotlib.axes._subplots.AxesSubplot at 0x10f0e1810>"
      ]
     },
     "execution_count": 15,
     "metadata": {},
     "output_type": "execute_result"
    },
    {
     "data": {
      "image/png": "[encoded data removed]",
      "text/plain": [
       "<matplotlib.figure.Figure at 0x10d88f350>"
      ]
     },
     "metadata": {},
     "output_type": "display_data"
    }
   ],
   "source": [
    "# show errors by year to see if there are any years with funky differences\n",
    "\n",
    "yearerrors = data[['Year']]\n",
    "\n",
    "yearerrors = pd.concat([yearerrors,errors.abs()],axis=1)\n",
    "print \"data size pre categories: \" + `len(yearerrors)`\n",
    "\n",
    "year_group = yearerrors.groupby('Year')\n",
    "print \"data size grouped: \" + `len(year_group)`\n",
    "error_avg = year_group.mean()\n",
    "error_avg.sort(columns='Error',ascending=False).plot(kind='bar')"
   ]
  },
  {
   "cell_type": "code",
   "execution_count": null,
   "metadata": {
    "collapsed": true
   },
   "outputs": [],
   "source": []
  },
  {
   "cell_type": "code",
   "execution_count": null,
   "metadata": {
    "collapsed": true
   },
   "outputs": [],
   "source": []
  }
 ],
 "metadata": {
  "kernelspec": {
   "display_name": "Python 2",
   "language": "python",
   "name": "python2"
  },
  "language_info": {
   "codemirror_mode": {
    "name": "ipython",
    "version": 2
   },
   "file_extension": ".py",
   "mimetype": "text/x-python",
   "name": "python",
   "nbconvert_exporter": "python",
   "pygments_lexer": "ipython2",
   "version": "2.7.9"
  }
 },
 "nbformat": 4,
 "nbformat_minor": 0
}
