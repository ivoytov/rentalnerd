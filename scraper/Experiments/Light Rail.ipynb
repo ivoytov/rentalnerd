{
 "cells": [
  {
   "cell_type": "code",
   "execution_count": 366,
   "metadata": {
    "collapsed": false
   },
   "outputs": [],
   "source": [
    "# imports\n",
    "import pandas as pd\n",
    "import numpy as np\n",
    "import datetime as dt\n",
    "\n",
    "import matplotlib.pyplot as plt\n",
    "import seaborn as sns\n",
    "plt.rcParams['figure.figsize'] = (12, 8)\n",
    "\n",
    "import statsmodels.api as sm\n",
    "from statsmodels.formula.api import ols\n",
    "from statsmodels.sandbox.regression.predstd import wls_prediction_std\n",
    "\n",
    "# this allows plots to appear directly in the notebook\n",
    "%matplotlib inline\n",
    "\n",
    "limit = 100000000"
   ]
  },
  {
   "cell_type": "code",
   "execution_count": 367,
   "metadata": {
    "collapsed": false
   },
   "outputs": [
    {
     "name": "stderr",
     "output_type": "stream",
     "text": [
      "/home/ilya/anaconda3/lib/python3.6/site-packages/IPython/core/interactiveshell.py:2717: DtypeWarning: Columns (12,13,14,16) have mixed types. Specify dtype option on import or set low_memory=False.\n",
      "  interactivity=interactivity, compiler=compiler, result=result)\n"
     ]
    }
   ],
   "source": [
    "# read in data\n",
    "sold = pd.read_csv('../CSV_backups/ALL-sales.csv',nrows=limit, index_col=['property_id','transaction_id']).drop_duplicates()"
   ]
  },
  {
   "cell_type": "markdown",
   "metadata": {},
   "source": [
    "Many investors generally assume that light rail construction will lift property values. We utilize a dataset of home sales in Phoenix, Arizona over 2008-2018 to study the effect of light rail operation on house property values. Valley Metro began construction in March 2005 and opened in December 2008 with 28 stations. It as since been extended to 35 stations. We evaluate the impact of proximity to a light rail station on median home prices over the past 10 years. Analysis finds that in the first six years of operation, light rail actually caused a decline in house valuations in the surrounding area, when compared to homes that were further away. It was only in 2015 and later on that the effect of light rail operation had a consistently positive impact on median home prices. We also note that the positive effect appears rather muted, with homes near rail station fetching 5.6% higher prices than homes farther away. Given the initial negative impact on prices, investors should be wary of over-bidding on properties near future train stops in anticipation of price gains in the future. For the last 9 years, homes near light rail stations appreciated at 1% higher annual rate than homes that were far away.\n",
    "\n",
    "Map of Valley Metro Stations|\n",
    ":----:|\n",
    "![Map of light Rail](lightrailmap.png)|\n",
    "\n",
    "We start with a basic data set consisting of transaction data consisting of `date_closed`, `price`, `sqft`, and `dist_to_lightrail_station`. Distance to the closest light rail station is measured in kilometers, as the crow flies. We also calculate the price per squarter foot as `price_per_foot`.  \n",
    "\n",
    "Example 1             |  Example 2\n",
    ":-------------------------:|:-------------------------:\n",
    "![](dist1-resize.png) | ![](dist2-resize.png)"
   ]
  },
  {
   "cell_type": "code",
   "execution_count": 368,
   "metadata": {
    "collapsed": false
   },
   "outputs": [
    {
     "data": {
      "text/html": [
       "<div>\n",
       "<style>\n",
       "    .dataframe thead tr:only-child th {\n",
       "        text-align: right;\n",
       "    }\n",
       "\n",
       "    .dataframe thead th {\n",
       "        text-align: left;\n",
       "    }\n",
       "\n",
       "    .dataframe tbody tr th {\n",
       "        vertical-align: top;\n",
       "    }\n",
       "</style>\n",
       "<table border=\"1\" class=\"dataframe\">\n",
       "  <thead>\n",
       "    <tr style=\"text-align: right;\">\n",
       "      <th></th>\n",
       "      <th></th>\n",
       "      <th>address</th>\n",
       "      <th>date</th>\n",
       "      <th>price</th>\n",
       "      <th>sqft</th>\n",
       "      <th>dist_to_lightrail_station</th>\n",
       "      <th>ppf</th>\n",
       "    </tr>\n",
       "    <tr>\n",
       "      <th>property_id</th>\n",
       "      <th>transaction_id</th>\n",
       "      <th></th>\n",
       "      <th></th>\n",
       "      <th></th>\n",
       "      <th></th>\n",
       "      <th></th>\n",
       "      <th></th>\n",
       "    </tr>\n",
       "  </thead>\n",
       "  <tbody>\n",
       "    <tr>\n",
       "      <th>346200</th>\n",
       "      <th>23951313</th>\n",
       "      <td>8942 N 15th Ln, Phoenix, AZ 85021</td>\n",
       "      <td>2014-10-24</td>\n",
       "      <td>400000</td>\n",
       "      <td>2388</td>\n",
       "      <td>0.700000</td>\n",
       "      <td>167.504188</td>\n",
       "    </tr>\n",
       "    <tr>\n",
       "      <th>9020277</th>\n",
       "      <th>23951289</th>\n",
       "      <td>4350 W Shaw Butte Dr, Glendale, AZ 85304</td>\n",
       "      <td>2015-05-19</td>\n",
       "      <td>320000</td>\n",
       "      <td>2120</td>\n",
       "      <td>5.905930</td>\n",
       "      <td>150.943396</td>\n",
       "    </tr>\n",
       "    <tr>\n",
       "      <th>336902</th>\n",
       "      <th>23951266</th>\n",
       "      <td>2125 W State Ave, Phoenix, AZ 85021</td>\n",
       "      <td>2018-03-13</td>\n",
       "      <td>285000</td>\n",
       "      <td>1723</td>\n",
       "      <td>0.844038</td>\n",
       "      <td>165.409170</td>\n",
       "    </tr>\n",
       "    <tr>\n",
       "      <th>990354</th>\n",
       "      <th>23951257</th>\n",
       "      <td>1455 W Remington Dr, Chandler, AZ 85286</td>\n",
       "      <td>2017-12-05</td>\n",
       "      <td>367000</td>\n",
       "      <td>2286</td>\n",
       "      <td>13.006200</td>\n",
       "      <td>160.542432</td>\n",
       "    </tr>\n",
       "    <tr>\n",
       "      <th>9000471</th>\n",
       "      <th>23951250</th>\n",
       "      <td>11774 E Mercer Ln, Scottsdale, AZ 85259</td>\n",
       "      <td>2018-01-13</td>\n",
       "      <td>369000</td>\n",
       "      <td>1502</td>\n",
       "      <td>17.024700</td>\n",
       "      <td>245.672437</td>\n",
       "    </tr>\n",
       "    <tr>\n",
       "      <th>9035951</th>\n",
       "      <th>23951029</th>\n",
       "      <td>2351 W Del Oro Cir, Mesa, AZ 85202</td>\n",
       "      <td>2017-11-30</td>\n",
       "      <td>182500</td>\n",
       "      <td>1721</td>\n",
       "      <td>1.402180</td>\n",
       "      <td>106.042998</td>\n",
       "    </tr>\n",
       "  </tbody>\n",
       "</table>\n",
       "</div>"
      ],
      "text/plain": [
       "                                                              address       date   price  sqft  dist_to_lightrail_station         ppf\n",
       "property_id transaction_id                                                                                                           \n",
       "346200      23951313               8942 N 15th Ln, Phoenix, AZ 85021  2014-10-24  400000  2388                   0.700000  167.504188\n",
       "9020277     23951289        4350 W Shaw Butte Dr, Glendale, AZ 85304  2015-05-19  320000  2120                   5.905930  150.943396\n",
       "336902      23951266             2125 W State Ave, Phoenix, AZ 85021  2018-03-13  285000  1723                   0.844038  165.409170\n",
       "990354      23951257         1455 W Remington Dr, Chandler, AZ 85286  2017-12-05  367000  2286                  13.006200  160.542432\n",
       "9000471     23951250         11774 E Mercer Ln, Scottsdale, AZ 85259  2018-01-13  369000  1502                  17.024700  245.672437\n",
       "9035951     23951029              2351 W Del Oro Cir, Mesa, AZ 85202  2017-11-30  182500  1721                   1.402180  106.042998"
      ]
     },
     "execution_count": 368,
     "metadata": {},
     "output_type": "execute_result"
    }
   ],
   "source": [
    "# only show properties that were actually sold and closed dates are after 12/31/2004 (1460 days since Y2K)\n",
    "df = sold[(sold.date_closed != 0) & (sold.date_closed < 10000 )] \\\n",
    "        [[\"address\", \"date_closed\",\"price\",\"sqft\",\"dist_to_lightrail_station\"]]\n",
    "df.rename(columns = {'date_closed':'date'}, inplace = True)\n",
    "\n",
    "# convert days since Y2K to a nice looking date\n",
    "df['date'] = df['date'].apply(lambda x: dt.date(2000, 1, 1) + dt.timedelta(days=x)) \\\n",
    "                       .astype(\"datetime64[ns]\")\n",
    "\n",
    "df = df[df.date >= dt.date(2008,12,27)]\n",
    "\n",
    "df['ppf'] = (df.price / df.sqft)\n",
    "df.head(6)"
   ]
  },
  {
   "cell_type": "markdown",
   "metadata": {},
   "source": [
    "The dataset consists of 181,785 transactions dating back to the opening day of the light rail line. For this basic experiment, we will only study the effect of proximity to a light rail station on the total price of the house and the price per square foot."
   ]
  },
  {
   "cell_type": "code",
   "execution_count": 369,
   "metadata": {
    "collapsed": false
   },
   "outputs": [
    {
     "name": "stdout",
     "output_type": "stream",
     "text": [
      "<class 'pandas.core.frame.DataFrame'>\n",
      "MultiIndex: 181404 entries, (346200, 23951313) to (2579, 5359)\n",
      "Data columns (total 6 columns):\n",
      "address                      181404 non-null object\n",
      "date                         181404 non-null datetime64[ns]\n",
      "price                        181404 non-null int64\n",
      "sqft                         181404 non-null int64\n",
      "dist_to_lightrail_station    181404 non-null float64\n",
      "ppf                          181404 non-null float64\n",
      "dtypes: datetime64[ns](1), float64(2), int64(2), object(1)\n",
      "memory usage: 15.0+ MB\n"
     ]
    }
   ],
   "source": [
    "df.info()"
   ]
  },
  {
   "cell_type": "markdown",
   "metadata": {},
   "source": [
    "The average home in our data set sold for \\$176k. There is a general filter that only includes homes between $50-400k, and between 500-10000 square feet. The dataset does not include any foreclosures or land-only transactions, but it has not been rigorously cleaned for something like the sale of a burned down house or sale of unpermitted buildings, resulting in some large variation in the price per footage. Most homes within 7km of a light rail station, with some faily long tails. This is expected - light rail goes through central areas of Phoenix, where there is highest population density and lots of existing homes. Price per foot follows a lognormal distribution, with quite a few high outliers but centered around \\$102/sq ft. Square footage looks mostly like a normal distribution but there are some mansions of 3000+ ft while relatively few tiny houses."
   ]
  },
  {
   "cell_type": "code",
   "execution_count": 370,
   "metadata": {
    "collapsed": false
   },
   "outputs": [
    {
     "data": {
      "text/html": [
       "<div>\n",
       "<style>\n",
       "    .dataframe thead tr:only-child th {\n",
       "        text-align: right;\n",
       "    }\n",
       "\n",
       "    .dataframe thead th {\n",
       "        text-align: left;\n",
       "    }\n",
       "\n",
       "    .dataframe tbody tr th {\n",
       "        vertical-align: top;\n",
       "    }\n",
       "</style>\n",
       "<table border=\"1\" class=\"dataframe\">\n",
       "  <thead>\n",
       "    <tr style=\"text-align: right;\">\n",
       "      <th></th>\n",
       "      <th>date</th>\n",
       "      <th>price</th>\n",
       "      <th>sqft</th>\n",
       "      <th>dist_to_lightrail_station</th>\n",
       "      <th>ppf</th>\n",
       "    </tr>\n",
       "  </thead>\n",
       "  <tbody>\n",
       "    <tr>\n",
       "      <th>count</th>\n",
       "      <td>181404</td>\n",
       "      <td>181404.000000</td>\n",
       "      <td>181404.000000</td>\n",
       "      <td>181404.000000</td>\n",
       "      <td>181404.000000</td>\n",
       "    </tr>\n",
       "    <tr>\n",
       "      <th>unique</th>\n",
       "      <td>3400</td>\n",
       "      <td>NaN</td>\n",
       "      <td>NaN</td>\n",
       "      <td>NaN</td>\n",
       "      <td>NaN</td>\n",
       "    </tr>\n",
       "    <tr>\n",
       "      <th>top</th>\n",
       "      <td>2017-10-25 00:00:00</td>\n",
       "      <td>NaN</td>\n",
       "      <td>NaN</td>\n",
       "      <td>NaN</td>\n",
       "      <td>NaN</td>\n",
       "    </tr>\n",
       "    <tr>\n",
       "      <th>freq</th>\n",
       "      <td>1208</td>\n",
       "      <td>NaN</td>\n",
       "      <td>NaN</td>\n",
       "      <td>NaN</td>\n",
       "      <td>NaN</td>\n",
       "    </tr>\n",
       "    <tr>\n",
       "      <th>first</th>\n",
       "      <td>2008-12-27 00:00:00</td>\n",
       "      <td>NaN</td>\n",
       "      <td>NaN</td>\n",
       "      <td>NaN</td>\n",
       "      <td>NaN</td>\n",
       "    </tr>\n",
       "    <tr>\n",
       "      <th>last</th>\n",
       "      <td>2018-05-15 00:00:00</td>\n",
       "      <td>NaN</td>\n",
       "      <td>NaN</td>\n",
       "      <td>NaN</td>\n",
       "      <td>NaN</td>\n",
       "    </tr>\n",
       "    <tr>\n",
       "      <th>mean</th>\n",
       "      <td>NaN</td>\n",
       "      <td>175616.491158</td>\n",
       "      <td>1654.403674</td>\n",
       "      <td>7.562934</td>\n",
       "      <td>107.940965</td>\n",
       "    </tr>\n",
       "    <tr>\n",
       "      <th>std</th>\n",
       "      <td>NaN</td>\n",
       "      <td>86085.603240</td>\n",
       "      <td>461.070406</td>\n",
       "      <td>4.716722</td>\n",
       "      <td>48.918787</td>\n",
       "    </tr>\n",
       "    <tr>\n",
       "      <th>min</th>\n",
       "      <td>NaN</td>\n",
       "      <td>50000.000000</td>\n",
       "      <td>500.000000</td>\n",
       "      <td>0.000000</td>\n",
       "      <td>14.184997</td>\n",
       "    </tr>\n",
       "    <tr>\n",
       "      <th>25%</th>\n",
       "      <td>NaN</td>\n",
       "      <td>106611.000000</td>\n",
       "      <td>1338.000000</td>\n",
       "      <td>3.801110</td>\n",
       "      <td>70.267548</td>\n",
       "    </tr>\n",
       "    <tr>\n",
       "      <th>50%</th>\n",
       "      <td>NaN</td>\n",
       "      <td>160000.000000</td>\n",
       "      <td>1596.000000</td>\n",
       "      <td>6.906290</td>\n",
       "      <td>102.564103</td>\n",
       "    </tr>\n",
       "    <tr>\n",
       "      <th>75%</th>\n",
       "      <td>NaN</td>\n",
       "      <td>230000.000000</td>\n",
       "      <td>1900.000000</td>\n",
       "      <td>10.593325</td>\n",
       "      <td>137.636060</td>\n",
       "    </tr>\n",
       "    <tr>\n",
       "      <th>max</th>\n",
       "      <td>NaN</td>\n",
       "      <td>400000.000000</td>\n",
       "      <td>4000.000000</td>\n",
       "      <td>23.368200</td>\n",
       "      <td>641.666667</td>\n",
       "    </tr>\n",
       "  </tbody>\n",
       "</table>\n",
       "</div>"
      ],
      "text/plain": [
       "                       date          price           sqft  dist_to_lightrail_station            ppf\n",
       "count                181404  181404.000000  181404.000000              181404.000000  181404.000000\n",
       "unique                 3400            NaN            NaN                        NaN            NaN\n",
       "top     2017-10-25 00:00:00            NaN            NaN                        NaN            NaN\n",
       "freq                   1208            NaN            NaN                        NaN            NaN\n",
       "first   2008-12-27 00:00:00            NaN            NaN                        NaN            NaN\n",
       "last    2018-05-15 00:00:00            NaN            NaN                        NaN            NaN\n",
       "mean                    NaN  175616.491158    1654.403674                   7.562934     107.940965\n",
       "std                     NaN   86085.603240     461.070406                   4.716722      48.918787\n",
       "min                     NaN   50000.000000     500.000000                   0.000000      14.184997\n",
       "25%                     NaN  106611.000000    1338.000000                   3.801110      70.267548\n",
       "50%                     NaN  160000.000000    1596.000000                   6.906290     102.564103\n",
       "75%                     NaN  230000.000000    1900.000000                  10.593325     137.636060\n",
       "max                     NaN  400000.000000    4000.000000                  23.368200     641.666667"
      ]
     },
     "execution_count": 370,
     "metadata": {},
     "output_type": "execute_result"
    }
   ],
   "source": [
    "df.describe(include=['datetime64','int64','float64'])"
   ]
  },
  {
   "cell_type": "code",
   "execution_count": 371,
   "metadata": {
    "collapsed": false
   },
   "outputs": [
    {
     "data": {
      "text/plain": [
       "array([[<matplotlib.axes._subplots.AxesSubplot object at 0x7f9f56ac2048>,\n",
       "        <matplotlib.axes._subplots.AxesSubplot object at 0x7f9febb7ceb8>],\n",
       "       [<matplotlib.axes._subplots.AxesSubplot object at 0x7f9feba47240>,\n",
       "        <matplotlib.axes._subplots.AxesSubplot object at 0x7f9feb6a6e10>]], dtype=object)"
      ]
     },
     "execution_count": 371,
     "metadata": {},
     "output_type": "execute_result"
    },
    {
     "data": {
      "image/png": "[encoded data removed]",
      "text/plain": [
       "<matplotlib.figure.Figure at 0x7f9f56ac2080>"
      ]
     },
     "metadata": {},
     "output_type": "display_data"
    }
   ],
   "source": [
    "df.hist(bins=40,figsize=(15,10))"
   ]
  },
  {
   "cell_type": "markdown",
   "metadata": {},
   "source": [
    "In terms of transaction volume by year, the dataset starts on Dec 27, 2008 and goes through May 2018. 2008 only has a few transactions since we only care about sales that closed after the rail started operating and continue through today."
   ]
  },
  {
   "cell_type": "code",
   "execution_count": 372,
   "metadata": {
    "collapsed": false
   },
   "outputs": [
    {
     "data": {
      "text/plain": [
       "<matplotlib.axes._subplots.AxesSubplot at 0x7f9febbbf1d0>"
      ]
     },
     "execution_count": 372,
     "metadata": {},
     "output_type": "execute_result"
    },
    {
     "data": {
      "image/png": "[encoded data removed]",
      "text/plain": [
       "<matplotlib.figure.Figure at 0x7f9febb3cda0>"
      ]
     },
     "metadata": {},
     "output_type": "display_data"
    }
   ],
   "source": [
    "df.groupby(df[\"date\"].dt.year).address.count().plot(kind=\"bar\")"
   ]
  },
  {
   "cell_type": "markdown",
   "metadata": {},
   "source": [
    "The correlation matrix shows high crosscorrelation between the `PPF` dependent variable with `price` and `sqft`. "
   ]
  },
  {
   "cell_type": "code",
   "execution_count": 373,
   "metadata": {
    "collapsed": false
   },
   "outputs": [
    {
     "data": {
      "image/png": "[encoded data removed]",
      "text/plain": [
       "<matplotlib.figure.Figure at 0x7fa01d9756d8>"
      ]
     },
     "metadata": {},
     "output_type": "display_data"
    }
   ],
   "source": [
    "# Calculate and plot\n",
    "numerical = list(set(df.columns) - set(['address','date']))\n",
    "\n",
    "corr_matrix = df[numerical].corr()\n",
    "sns.heatmap(corr_matrix);"
   ]
  },
  {
   "cell_type": "markdown",
   "metadata": {},
   "source": [
    "The density function of price per foot and distance shows two clusters - one at around 5km away from a transit station and at average price of \\$90/ft and a second, smaller one at 8km away and \\$100/ft. Homes don't necessarily gain value as they get closer to a train station, but the extreme outliers that are very far away sell for lower valuations. Also homes that sell for \\$200+/ft appear to be all within 5km of a train station. "
   ]
  },
  {
   "cell_type": "code",
   "execution_count": 374,
   "metadata": {
    "collapsed": false
   },
   "outputs": [
    {
     "data": {
      "text/plain": [
       "<seaborn.axisgrid.JointGrid at 0x7f9feb8e0be0>"
      ]
     },
     "execution_count": 374,
     "metadata": {},
     "output_type": "execute_result"
    },
    {
     "data": {
      "image/png": "[encoded data removed]",
      "text/plain": [
       "<matplotlib.figure.Figure at 0x7f9feb8e0eb8>"
      ]
     },
     "metadata": {},
     "output_type": "display_data"
    }
   ],
   "source": [
    "sns.jointplot('dist_to_lightrail_station', 'ppf', data=df, kind=\"kde\", color=\"g\")"
   ]
  },
  {
   "cell_type": "markdown",
   "metadata": {},
   "source": [
    "Initially I had assumed that light rail would attract a less affluent resident, and that the most expensive homes would be farther away from the transit stops. Homes between \\$50-100k do tend to cluster relatively closely to train stations, while homes in the \\$200k+ range peak a bit farther away."
   ]
  },
  {
   "cell_type": "code",
   "execution_count": null,
   "metadata": {
    "collapsed": false
   },
   "outputs": [
    {
     "data": {
      "text/plain": [
       "<seaborn.axisgrid.JointGrid at 0x7f9feb971828>"
      ]
     },
     "execution_count": 375,
     "metadata": {},
     "output_type": "execute_result"
    },
    {
     "data": {
      "image/png": "[encoded data removed]",
      "text/plain": [
       "<matplotlib.figure.Figure at 0x7f9feb971be0>"
      ]
     },
     "metadata": {},
     "output_type": "display_data"
    }
   ],
   "source": [
    "sns.jointplot('dist_to_lightrail_station', 'price', data=df, kind=\"kde\", color=\"b\")"
   ]
  },
  {
   "cell_type": "markdown",
   "metadata": {},
   "source": [
    "Home sizes are normally distributed, with a slight preference for the smaller sized homes in close proximity to light rail stations."
   ]
  },
  {
   "cell_type": "code",
   "execution_count": null,
   "metadata": {
    "collapsed": false
   },
   "outputs": [],
   "source": [
    "sns.jointplot('dist_to_lightrail_station', 'sqft', data=df, kind=\"kde\", color=\"r\")"
   ]
  },
  {
   "cell_type": "markdown",
   "metadata": {},
   "source": [
    "Phoenix house values peaked in 2007, then declined through 2011, and have grown at very high rates since 2011. So using average price per foot metrics across the entire data set would be very misleading and we need to adjust for the general appreciation trend in the data. Creating a dummy variable to track homes that are less than 5km from a light rail station (should be either walkable or very short drive to the station) we notice that they have appreciated at a higher rate than homes that are farther away from the light rail line."
   ]
  },
  {
   "cell_type": "code",
   "execution_count": null,
   "metadata": {
    "collapsed": false
   },
   "outputs": [],
   "source": [
    "# create dummy variables for years and for being near a light rail station\n",
    "df[\"year\"] = df.date.dt.year\n",
    "df['near_rail'] = df['dist_to_lightrail_station'] < 5"
   ]
  },
  {
   "cell_type": "code",
   "execution_count": null,
   "metadata": {
    "collapsed": false
   },
   "outputs": [],
   "source": [
    "sns.countplot(x='near_rail', data=df)"
   ]
  },
  {
   "cell_type": "code",
   "execution_count": null,
   "metadata": {
    "collapsed": false
   },
   "outputs": [],
   "source": [
    "sns.barplot(x=\"year\", y=\"ppf\", hue=\"near_rail\", data=df)"
   ]
  },
  {
   "cell_type": "markdown",
   "metadata": {},
   "source": [
    "Let's start with a simple model that tries to predict price per square foot just from the total square footage and distance to light rail station. Larger homes sell for lower price per foot. Distance to light rail is actually a negative predictor of value, with every kilometer separation from station increasing price by \\$0.33/ft. If true, this would be a bad news for every transit project in the country."
   ]
  },
  {
   "cell_type": "code",
   "execution_count": null,
   "metadata": {
    "collapsed": false
   },
   "outputs": [],
   "source": [
    "price_model = ols(\"price ~ sqft + sqft:dist_to_lightrail_station\", data=df).fit()\n",
    "# summarize our model\n",
    "price_model.summary()"
   ]
  },
  {
   "cell_type": "code",
   "execution_count": null,
   "metadata": {
    "collapsed": false
   },
   "outputs": [],
   "source": [
    "price_model = ols(\"price ~ sqft + sqft:near_rail\", data=df).fit()\n",
    "# summarize our model\n",
    "price_model.summary()"
   ]
  },
  {
   "cell_type": "markdown",
   "metadata": {},
   "source": [
    "Earlier, we observed that prices seemed to go up faster in areas that are located close to train stations. Adding years to the regressions shows that 1) prices per foot have risen steadily from the 2011 trough and 2) impact of being near the light rail station inverted from a negative factor in 2008-2014 and is now a positive factor to valuation."
   ]
  },
  {
   "cell_type": "code",
   "execution_count": null,
   "metadata": {
    "collapsed": false,
    "scrolled": false
   },
   "outputs": [],
   "source": [
    "price_model = ols(\"price ~ sqft:C(year) + sqft:C(year):near_rail-1\", data=df).fit()\n",
    "# summarize our model\n",
    "price_model.summary()"
   ]
  },
  {
   "cell_type": "markdown",
   "metadata": {},
   "source": [
    "We can also run the model with the exact distance to a light rail station (instead of just the boolean variable), but it appears that it does not increase explanatory power. The boolean variable does just fine."
   ]
  },
  {
   "cell_type": "code",
   "execution_count": null,
   "metadata": {
    "collapsed": false
   },
   "outputs": [],
   "source": [
    "price_model2 = ols(\"price ~ sqft:C(year) + sqft:C(year):dist_to_lightrail_station-1\", data=df).fit()\n",
    "# summarize our model\n",
    "price_model2.summary()"
   ]
  },
  {
   "cell_type": "markdown",
   "metadata": {},
   "source": [
    "We summarize the premium by year with some charts below."
   ]
  },
  {
   "cell_type": "code",
   "execution_count": null,
   "metadata": {
    "collapsed": false
   },
   "outputs": [],
   "source": [
    "import re\n",
    "prem = price_model.params[-10:].rename(lambda x: re.findall(\"\\[(\\d{4})\\]\",x)[0])\n",
    "ax = prem.plot(kind=\"bar\")\n",
    "for p in ax.patches:\n",
    "    b = p.get_bbox()\n",
    "    val = \"${:3.2f}\".format(b.y1 + b.y0)\n",
    "    ax.annotate(val, (p.get_x() * 1.005, p.get_height() * 1.005))\n",
    "    \n",
    "# manipulate\n",
    "vals = ax.get_yticks()\n",
    "ax.set_yticklabels(['${:3.2f}'.format(x) for x in vals])\n",
    "ax.set_ylabel(\"Premium per Sq Ft for Proximity to Light Rail\")\n",
    "ax.set_xlabel(\"Transaction Year\")"
   ]
  },
  {
   "cell_type": "code",
   "execution_count": null,
   "metadata": {
    "collapsed": false
   },
   "outputs": [],
   "source": [
    "far_from_rail = price_model.params[-21:-11].rename(lambda x: re.findall(\"\\[(\\d{4})\\]\",x)[0]).rename(\"Far from Rail\")\n",
    "near_to_rail = (far_from_rail + prem).rename(\"Near to Rail\")\n",
    "output = pd.concat([far_from_rail, near_to_rail], axis=1)\n",
    "print(output)\n",
    "ax = output.plot(kind=\"bar\")\n",
    "vals = ax.get_yticks()\n",
    "ax.set_yticklabels(['${:3.2f}'.format(x) for x in vals])\n"
   ]
  },
  {
   "cell_type": "markdown",
   "metadata": {},
   "source": [
    "Based on this data, we can calculate the average apprerciation experienced by a home near the rail station and one farther away over the past 9 years. Homes near light rail stations appreciated at 1% higher rate than homes farther away."
   ]
  },
  {
   "cell_type": "code",
   "execution_count": null,
   "metadata": {
    "collapsed": false
   },
   "outputs": [],
   "source": [
    "def CAGR(first, last, periods):\n",
    "    return (last/first)**(1/periods)-1\n",
    "print('Price per foot CAGR of homes far from light rail stations {:.2%} '.format(CAGR(output['Far from Rail']['2009'], output['Far from Rail']['2018'], 2018-2009)))\n",
    "print('Price per foot CAGR of homes near to light rail stations {:.2%} '.format(CAGR(output['Near to Rail']['2009'], output['Near to Rail']['2018'], 2018-2009)))"
   ]
  },
  {
   "cell_type": "code",
   "execution_count": null,
   "metadata": {
    "collapsed": true
   },
   "outputs": [],
   "source": []
  }
 ],
 "metadata": {
  "kernelspec": {
   "display_name": "Python 3",
   "language": "python",
   "name": "python3"
  },
  "language_info": {
   "codemirror_mode": {
    "name": "ipython",
    "version": 3
   },
   "file_extension": ".py",
   "mimetype": "text/x-python",
   "name": "python",
   "nbconvert_exporter": "python",
   "pygments_lexer": "ipython3",
   "version": "3.6.0"
  }
 },
 "nbformat": 4,
 "nbformat_minor": 2
}
