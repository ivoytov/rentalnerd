{
 "cells": [
  {
   "cell_type": "code",
   "execution_count": 314,
   "metadata": {},
   "outputs": [],
   "source": [
    "# imports\n",
    "import json\n",
    "import pandas as pd\n",
    "import numpy as np\n",
    "import gmaps\n",
    "import gmaps.datasets\n",
    "google_api_key = %env GOOGLE_API_KEY\n",
    "gmaps.configure(api_key=google_api_key)"
   ]
  },
  {
   "cell_type": "markdown",
   "metadata": {},
   "source": [
    "First step is to get armed with shapefiles that describe the opportunity. I google for \"Stockton Shapefiles\" and found a pretty [decent government site](http://www.stocktongov.com/services/gis/mapdatDat.html) with a range of links to different shapefiles. I downloaded two of them to start - the \"City Limits\" and \"Parcels\". Let's go ahead and graph the city limits of Stockton using the `gmaps` library"
   ]
  },
  {
   "cell_type": "code",
   "execution_count": 315,
   "metadata": {},
   "outputs": [
    {
     "data": {
      "application/vnd.jupyter.widget-view+json": {
       "model_id": "35310fc8b074466ba22128a96b16e494",
       "version_major": 2,
       "version_minor": 0
      },
      "text/plain": [
       "Figure(layout=FigureLayout(height='420px'))"
      ]
     },
     "metadata": {},
     "output_type": "display_data"
    }
   ],
   "source": [
    "with open('data/city_limits_stockton.json') as f: \n",
    "    geometry = json.load(f)\n",
    "\n",
    "geometry['features'] = geometry['features'][0:1] # eliminate the county map that is included in the map\n",
    "fig = gmaps.figure()\n",
    "geojson_layer = gmaps.geojson_layer(geometry,fill_color=None,fill_opacity=0)\n",
    "fig.add_layer(geojson_layer)\n",
    "fig"
   ]
  },
  {
   "cell_type": "markdown",
   "metadata": {},
   "source": [
    "We will be using the parcel shapefile for a different purpose - to convert from Zillow listing pages to property coordinates. We do this using the Assessor Parcel Number (APN) or `parcel_number` identifier. Each property carries a unique APN and Zillow listings almost always include it. It's like a VIN for real estate - no need to resolve ambiguities in addresses. "
   ]
  },
  {
   "cell_type": "code",
   "execution_count": 316,
   "metadata": {},
   "outputs": [],
   "source": [
    "with open('data/parcels_stockton.json') as f: \n",
    "    geometry = json.load(f)"
   ]
  },
  {
   "cell_type": "markdown",
   "metadata": {},
   "source": [
    "From a quick pass, I was able to scrape about 10k listings from Zillow with their Zestimate (`computed price`) in the Stockton area. Note that there are about 100k unique parcels listed in the shapefile, so we already have about 10% of the area in the dataset. Scraping Zillow is very complicated in general so I won't go into detail of how I did that."
   ]
  },
  {
   "cell_type": "code",
   "execution_count": 318,
   "metadata": {},
   "outputs": [
    {
     "name": "stdout",
     "output_type": "stream",
     "text": [
      "Number of homes in dataset: 10245\n"
     ]
    },
    {
     "data": {
      "text/html": [
       "<div>\n",
       "<table border=\"1\" class=\"dataframe\">\n",
       "  <thead>\n",
       "    <tr style=\"text-align: right;\">\n",
       "      <th></th>\n",
       "      <th>parcel_number</th>\n",
       "      <th>computed price</th>\n",
       "    </tr>\n",
       "  </thead>\n",
       "  <tbody>\n",
       "    <tr>\n",
       "      <th>0</th>\n",
       "      <td>7105010</td>\n",
       "      <td>4281175</td>\n",
       "    </tr>\n",
       "    <tr>\n",
       "      <th>1</th>\n",
       "      <td>10104012</td>\n",
       "      <td>3246555</td>\n",
       "    </tr>\n",
       "    <tr>\n",
       "      <th>2</th>\n",
       "      <td>6311006</td>\n",
       "      <td>3159637</td>\n",
       "    </tr>\n",
       "    <tr>\n",
       "      <th>3</th>\n",
       "      <td>8913057</td>\n",
       "      <td>2770055</td>\n",
       "    </tr>\n",
       "    <tr>\n",
       "      <th>4</th>\n",
       "      <td>6311038</td>\n",
       "      <td>2748240</td>\n",
       "    </tr>\n",
       "  </tbody>\n",
       "</table>\n",
       "</div>"
      ],
      "text/plain": [
       "  parcel_number  computed price\n",
       "0       7105010         4281175\n",
       "1      10104012         3246555\n",
       "2       6311006         3159637\n",
       "3       8913057         2770055\n",
       "4       6311038         2748240"
      ]
     },
     "execution_count": 318,
     "metadata": {},
     "output_type": "execute_result"
    }
   ],
   "source": [
    "homes = pd.read_csv('data/price_and_apn_stockton.csv',dtype={'parcel_number': np.str})\n",
    "# remove trailing 4 zeros from any APN in the dataset\n",
    "homes.parcel_number = homes.parcel_number.apply(lambda x: x[:-4] if x[-4:] == '0000' else x)\n",
    "print(\"Number of homes in dataset: %i\" % len(homes.index))\n",
    "homes.head()"
   ]
  },
  {
   "cell_type": "markdown",
   "metadata": {},
   "source": [
    "Let's match up the Zillow dataset with the coordinates in the Stockton shapefile, and graph the parcels visually. Most of the smaller properties are not visible but a fair chunk of the city is already in the dataset. Because the most valuable downtown or golf course parcels are very small, this map doesn't reflect the true coverage we have of the Stockton area. We'll fix in the next iteration."
   ]
  },
  {
   "cell_type": "code",
   "execution_count": 319,
   "metadata": {},
   "outputs": [],
   "source": [
    "APN_list = homes.parcel_number\n",
    "geometry['features'] = list(filter(lambda d: str(int(d['properties']['APN'])) in APN_list.tolist(), geometry['features']))"
   ]
  },
  {
   "cell_type": "code",
   "execution_count": 320,
   "metadata": {},
   "outputs": [
    {
     "name": "stdout",
     "output_type": "stream",
     "text": [
      "Number of homes in dataset after matching with coords 10217\n"
     ]
    }
   ],
   "source": [
    "print(\"Number of homes in dataset after matching with coords %i\" % len(geometry['features']))"
   ]
  },
  {
   "cell_type": "code",
   "execution_count": 321,
   "metadata": {},
   "outputs": [
    {
     "data": {
      "application/vnd.jupyter.widget-view+json": {
       "model_id": "35310fc8b074466ba22128a96b16e494",
       "version_major": 2,
       "version_minor": 0
      },
      "text/plain": [
       "Figure(layout=FigureLayout(height='420px'))"
      ]
     },
     "metadata": {},
     "output_type": "display_data"
    }
   ],
   "source": [
    "geojson_layer = gmaps.geojson_layer(geometry,fill_color='Blue')\n",
    "fig.add_layer(geojson_layer)\n",
    "fig"
   ]
  },
  {
   "cell_type": "code",
   "execution_count": 322,
   "metadata": {},
   "outputs": [
    {
     "name": "stdout",
     "output_type": "stream",
     "text": [
      "10127002\n",
      "08525049\n",
      "{'type': 'Feature', 'properties': {'POLY_CODE': 7, 'APN': '05926065', 'Shape_STAr': 251390.505266, 'Shape_STLe': 2620.29487278}, 'geometry': {'type': 'Polygon', 'coordinates': [[[-121.2550640221702, 38.057547878578106], [-121.25587676635047, 38.05754101049694], [-121.25595179762256, 38.06049852275644], [-121.25514249857456, 38.060502341799676], [-121.2550640221702, 38.057547878578106]]]}}\n",
      "10104006\n"
     ]
    },
    {
     "data": {
      "text/html": [
       "<div>\n",
       "<table border=\"1\" class=\"dataframe\">\n",
       "  <thead>\n",
       "    <tr style=\"text-align: right;\">\n",
       "      <th></th>\n",
       "      <th>Latitude</th>\n",
       "      <th>Longitude</th>\n",
       "    </tr>\n",
       "    <tr>\n",
       "      <th>parcel_number</th>\n",
       "      <th></th>\n",
       "      <th></th>\n",
       "    </tr>\n",
       "  </thead>\n",
       "  <tbody>\n",
       "    <tr>\n",
       "      <th>17138012</th>\n",
       "      <td>37.933230</td>\n",
       "      <td>-121.243643</td>\n",
       "    </tr>\n",
       "    <tr>\n",
       "      <th>17113213</th>\n",
       "      <td>37.938146</td>\n",
       "      <td>-121.245315</td>\n",
       "    </tr>\n",
       "    <tr>\n",
       "      <th>6312021</th>\n",
       "      <td>38.065270</td>\n",
       "      <td>-121.184043</td>\n",
       "    </tr>\n",
       "    <tr>\n",
       "      <th>16405019</th>\n",
       "      <td>37.911541</td>\n",
       "      <td>-121.319315</td>\n",
       "    </tr>\n",
       "    <tr>\n",
       "      <th>16405053</th>\n",
       "      <td>37.913384</td>\n",
       "      <td>-121.320513</td>\n",
       "    </tr>\n",
       "  </tbody>\n",
       "</table>\n",
       "</div>"
      ],
      "text/plain": [
       "                Latitude   Longitude\n",
       "parcel_number                       \n",
       "17138012       37.933230 -121.243643\n",
       "17113213       37.938146 -121.245315\n",
       "6312021        38.065270 -121.184043\n",
       "16405019       37.911541 -121.319315\n",
       "16405053       37.913384 -121.320513"
      ]
     },
     "execution_count": 322,
     "metadata": {},
     "output_type": "execute_result"
    }
   ],
   "source": [
    "# extract lats and longs of properties that sold\n",
    "x = []\n",
    "for e in geometry['features']:\n",
    "    if(len(e['geometry']['coordinates'][0][0]) == 2):\n",
    "        r = [e['geometry']['coordinates'][0][0][1],e['geometry']['coordinates'][0][0][0],str(int(e['properties']['APN']))]\n",
    "        x.append(r)\n",
    "    else:\n",
    "        print(e['properties']['APN'])\n",
    "    \n",
    "df = pd.DataFrame(x,columns=['Latitude','Longitude','parcel_number']).set_index('parcel_number')\n",
    "df.head()"
   ]
  },
  {
   "cell_type": "code",
   "execution_count": 325,
   "metadata": {},
   "outputs": [
    {
     "name": "stdout",
     "output_type": "stream",
     "text": [
      "Number of homes mapped 10214\n"
     ]
    },
    {
     "data": {
      "text/html": [
       "<div>\n",
       "<table border=\"1\" class=\"dataframe\">\n",
       "  <thead>\n",
       "    <tr style=\"text-align: right;\">\n",
       "      <th></th>\n",
       "      <th>Latitude</th>\n",
       "      <th>Longitude</th>\n",
       "      <th>computed price</th>\n",
       "    </tr>\n",
       "  </thead>\n",
       "  <tbody>\n",
       "    <tr>\n",
       "      <th>10006018</th>\n",
       "      <td>38.009221</td>\n",
       "      <td>-121.362050</td>\n",
       "      <td>373156</td>\n",
       "    </tr>\n",
       "    <tr>\n",
       "      <th>10042012</th>\n",
       "      <td>37.998651</td>\n",
       "      <td>-121.352485</td>\n",
       "      <td>394622</td>\n",
       "    </tr>\n",
       "    <tr>\n",
       "      <th>10102130</th>\n",
       "      <td>37.987818</td>\n",
       "      <td>-121.240074</td>\n",
       "      <td>294958</td>\n",
       "    </tr>\n",
       "    <tr>\n",
       "      <th>10102142</th>\n",
       "      <td>37.987734</td>\n",
       "      <td>-121.238299</td>\n",
       "      <td>329572</td>\n",
       "    </tr>\n",
       "    <tr>\n",
       "      <th>10102205</th>\n",
       "      <td>37.988321</td>\n",
       "      <td>-121.231107</td>\n",
       "      <td>544573</td>\n",
       "    </tr>\n",
       "  </tbody>\n",
       "</table>\n",
       "</div>"
      ],
      "text/plain": [
       "           Latitude   Longitude  computed price\n",
       "10006018  38.009221 -121.362050          373156\n",
       "10042012  37.998651 -121.352485          394622\n",
       "10102130  37.987818 -121.240074          294958\n",
       "10102142  37.987734 -121.238299          329572\n",
       "10102205  37.988321 -121.231107          544573"
      ]
     },
     "execution_count": 325,
     "metadata": {},
     "output_type": "execute_result"
    }
   ],
   "source": [
    "homes_with_price = pd.concat([df,homes.set_index('parcel_number')],axis=1)\n",
    "print(\"Number of homes mapped %i\" % len(homes_with_price[['Latitude','Longitude']].dropna().index))\n",
    "\n",
    "homes_with_price.head()"
   ]
  },
  {
   "cell_type": "markdown",
   "metadata": {},
   "source": [
    "Finally I create a heatmap of houses, with each dot weighted by the Z-estimate amount. Now we can see that most of the northern and downtown areas are well represented"
   ]
  },
  {
   "cell_type": "code",
   "execution_count": 326,
   "metadata": {},
   "outputs": [
    {
     "data": {
      "application/vnd.jupyter.widget-view+json": {
       "model_id": "35310fc8b074466ba22128a96b16e494",
       "version_major": 2,
       "version_minor": 0
      },
      "text/plain": [
       "Figure(layout=FigureLayout(height='420px'))"
      ]
     },
     "metadata": {},
     "output_type": "display_data"
    }
   ],
   "source": [
    "homes_with_price = homes_with_price.dropna()\n",
    "# adjust price to a range of 0 to 1\n",
    "\n",
    "heatmap_layer = gmaps.heatmap_layer(homes_with_price[['Latitude','Longitude']],weights=homes_with_price['computed price'].rank(pct = True))\n",
    "fig.add_layer(heatmap_layer)\n",
    "fig"
   ]
  }
 ],
 "metadata": {
  "kernelspec": {
   "display_name": "Python 3",
   "language": "python",
   "name": "python3"
  },
  "language_info": {
   "codemirror_mode": {
    "name": "ipython",
    "version": 3
   },
   "file_extension": ".py",
   "mimetype": "text/x-python",
   "name": "python",
   "nbconvert_exporter": "python",
   "pygments_lexer": "ipython3",
   "version": "3.6.0"
  }
 },
 "nbformat": 4,
 "nbformat_minor": 2
}
