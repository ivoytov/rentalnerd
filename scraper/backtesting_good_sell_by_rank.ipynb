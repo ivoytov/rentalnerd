{
 "cells": [
  {
   "cell_type": "markdown",
   "metadata": {},
   "source": [
    "Each models is required to generate a stack ranking of all properties listed for sale in the database.\n",
    "\n",
    "This script takes in a ranking from X months ago, and calculates how many homes have successfully sold and if it was a good sale or not. It then outputs what % of homes in each percentile successfully sold and what % of those were good sells. It should repeat it on several other rankings to get a higher count of properties"
   ]
  },
  {
   "cell_type": "code",
   "execution_count": 19,
   "metadata": {
    "collapsed": false,
    "scrolled": false
   },
   "outputs": [],
   "source": [
    "import pandas as pd\n",
    "import numpy as np\n",
    "import datetime as dt\n",
    "import os\n",
    "from slacker import Slacker\n",
    "import json\n",
    "import requests\n",
    "from cloudinary.uploader import upload\n",
    "from cloudinary.utils import cloudinary_url\n",
    "from cloudinary.api import delete_resources_by_tag, resources_by_tag\n",
    "\n",
    "csv_path = '/home/ilya/Code/rentalnerd/scraper/'\n",
    "today = dt.date.today()\n",
    "\n",
    "\n",
    "%matplotlib inline\n",
    "        \n",
    "# slack secrets (in your ~/.bashrc)\n",
    "webhook_url = os.environ.get('SLACK_URL')\n",
    "slacker = Slacker(os.environ.get('SLACK_TOKEN'))\n",
    "\n",
    "pd.set_option('display.max_colwidth', -1)\n",
    "discount = 0.050"
   ]
  },
  {
   "cell_type": "code",
   "execution_count": 20,
   "metadata": {
    "collapsed": true
   },
   "outputs": [],
   "source": [
    "def plot_rounds(plot):\n",
    "    # uploads the graph to the web and returns the URL\n",
    "    \n",
    "    fig = plot.get_figure()\n",
    "    fig.tight_layout()\n",
    "    fig.savefig('temp_plot.png')\n",
    "    \n",
    "    response = upload(\"temp_plot.png\")\n",
    "    url, options = cloudinary_url(response['public_id'],\n",
    "        format = response['format'],\n",
    "        crop = \"fill\")\n",
    "    return url"
   ]
  },
  {
   "cell_type": "code",
   "execution_count": 21,
   "metadata": {
    "collapsed": true
   },
   "outputs": [],
   "source": [
    "def slack(text, url = None, title = None):\n",
    "    print(\"Slacking: \" + text)\n",
    "    \n",
    "    if url == None:\n",
    "        data=json.dumps({\"text\": text})\n",
    "    else:\n",
    "        data = json.dumps( { \"text\": text, \"attachments\": [ { \"fallback\": \"Model MAE\"\n",
    "                                           , \"title\": title\n",
    "                                           , \"image_url\": url } ] } )\n",
    "    \n",
    "    response = requests.post(webhook_url, data , headers={'Content-Type': 'application/json'})\n",
    "    if response.status_code != 200:\n",
    "        raise ValueError('Request to slack returned an error %s, the response is:\\n%s' % (response.status_code, response.text))\n"
   ]
  },
  {
   "cell_type": "code",
   "execution_count": 22,
   "metadata": {
    "collapsed": false
   },
   "outputs": [
    {
     "name": "stderr",
     "output_type": "stream",
     "text": [
      "/home/ilya/anaconda3/lib/python3.6/site-packages/IPython/core/interactiveshell.py:2717: DtypeWarning: Columns (13,14,15,17,18) have mixed types. Specify dtype option on import or set low_memory=False.\n",
      "  interactivity=interactivity, compiler=compiler, result=result)\n"
     ]
    }
   ],
   "source": [
    "closed = pd.read_csv('CSV_backups/ALL-sales.csv',nrows=10000000, index_col=['property_id','transaction_id'])"
   ]
  },
  {
   "cell_type": "code",
   "execution_count": 23,
   "metadata": {
    "collapsed": false
   },
   "outputs": [
    {
     "data": {
      "text/html": [
       "<div>\n",
       "<style>\n",
       "    .dataframe thead tr:only-child th {\n",
       "        text-align: right;\n",
       "    }\n",
       "\n",
       "    .dataframe thead th {\n",
       "        text-align: left;\n",
       "    }\n",
       "\n",
       "    .dataframe tbody tr th {\n",
       "        vertical-align: top;\n",
       "    }\n",
       "</style>\n",
       "<table border=\"1\" class=\"dataframe\">\n",
       "  <thead>\n",
       "    <tr style=\"text-align: right;\">\n",
       "      <th></th>\n",
       "      <th></th>\n",
       "      <th>price</th>\n",
       "      <th>transaction_status</th>\n",
       "      <th>date_listed</th>\n",
       "      <th>date_closed</th>\n",
       "      <th>days_on_market</th>\n",
       "      <th>transaction_type</th>\n",
       "      <th>is_latest</th>\n",
       "      <th>price_listed</th>\n",
       "      <th>price_closed</th>\n",
       "      <th>date_transacted_latest</th>\n",
       "      <th>...</th>\n",
       "      <th>school_district_id_57.0</th>\n",
       "      <th>school_district_id_60.0</th>\n",
       "      <th>school_district_id_67.0</th>\n",
       "      <th>school_district_id_68.0</th>\n",
       "      <th>school_district_id_75.0</th>\n",
       "      <th>school_district_id_87.0</th>\n",
       "      <th>school_district_id_90.0</th>\n",
       "      <th>school_district_id_93.0</th>\n",
       "      <th>school_district_id_96.0</th>\n",
       "      <th>school_district_id_nan</th>\n",
       "    </tr>\n",
       "    <tr>\n",
       "      <th>property_id</th>\n",
       "      <th>transaction_id</th>\n",
       "      <th></th>\n",
       "      <th></th>\n",
       "      <th></th>\n",
       "      <th></th>\n",
       "      <th></th>\n",
       "      <th></th>\n",
       "      <th></th>\n",
       "      <th></th>\n",
       "      <th></th>\n",
       "      <th></th>\n",
       "      <th></th>\n",
       "      <th></th>\n",
       "      <th></th>\n",
       "      <th></th>\n",
       "      <th></th>\n",
       "      <th></th>\n",
       "      <th></th>\n",
       "      <th></th>\n",
       "      <th></th>\n",
       "      <th></th>\n",
       "      <th></th>\n",
       "    </tr>\n",
       "  </thead>\n",
       "  <tbody>\n",
       "    <tr>\n",
       "      <th rowspan=\"5\" valign=\"top\">9025615</th>\n",
       "      <th>23856143</th>\n",
       "      <td>155000</td>\n",
       "      <td>closed</td>\n",
       "      <td>2013-10-06</td>\n",
       "      <td>5083</td>\n",
       "      <td>56.0</td>\n",
       "      <td>sales</td>\n",
       "      <td>False</td>\n",
       "      <td>159900.0</td>\n",
       "      <td>155000</td>\n",
       "      <td>2013-12-01</td>\n",
       "      <td>...</td>\n",
       "      <td>0</td>\n",
       "      <td>0</td>\n",
       "      <td>0</td>\n",
       "      <td>0</td>\n",
       "      <td>0</td>\n",
       "      <td>0</td>\n",
       "      <td>0</td>\n",
       "      <td>0</td>\n",
       "      <td>0</td>\n",
       "      <td>0</td>\n",
       "    </tr>\n",
       "    <tr>\n",
       "      <th>23856139</th>\n",
       "      <td>75250</td>\n",
       "      <td>closed</td>\n",
       "      <td>NaN</td>\n",
       "      <td>4268</td>\n",
       "      <td>NaN</td>\n",
       "      <td>sales</td>\n",
       "      <td>False</td>\n",
       "      <td>NaN</td>\n",
       "      <td>75250</td>\n",
       "      <td>2011-09-08</td>\n",
       "      <td>...</td>\n",
       "      <td>0</td>\n",
       "      <td>0</td>\n",
       "      <td>0</td>\n",
       "      <td>0</td>\n",
       "      <td>0</td>\n",
       "      <td>0</td>\n",
       "      <td>0</td>\n",
       "      <td>0</td>\n",
       "      <td>0</td>\n",
       "      <td>0</td>\n",
       "    </tr>\n",
       "    <tr>\n",
       "      <th>23856138</th>\n",
       "      <td>53000</td>\n",
       "      <td>closed</td>\n",
       "      <td>2011-02-10</td>\n",
       "      <td>4065</td>\n",
       "      <td>7.0</td>\n",
       "      <td>sales</td>\n",
       "      <td>False</td>\n",
       "      <td>60900.0</td>\n",
       "      <td>53000</td>\n",
       "      <td>2011-02-17</td>\n",
       "      <td>...</td>\n",
       "      <td>0</td>\n",
       "      <td>0</td>\n",
       "      <td>0</td>\n",
       "      <td>0</td>\n",
       "      <td>0</td>\n",
       "      <td>0</td>\n",
       "      <td>0</td>\n",
       "      <td>0</td>\n",
       "      <td>0</td>\n",
       "      <td>0</td>\n",
       "    </tr>\n",
       "    <tr>\n",
       "      <th>23856136</th>\n",
       "      <td>137614</td>\n",
       "      <td>closed</td>\n",
       "      <td>NaN</td>\n",
       "      <td>3937</td>\n",
       "      <td>NaN</td>\n",
       "      <td>sales</td>\n",
       "      <td>False</td>\n",
       "      <td>NaN</td>\n",
       "      <td>137614</td>\n",
       "      <td>2010-10-12</td>\n",
       "      <td>...</td>\n",
       "      <td>0</td>\n",
       "      <td>0</td>\n",
       "      <td>0</td>\n",
       "      <td>0</td>\n",
       "      <td>0</td>\n",
       "      <td>0</td>\n",
       "      <td>0</td>\n",
       "      <td>0</td>\n",
       "      <td>0</td>\n",
       "      <td>0</td>\n",
       "    </tr>\n",
       "    <tr>\n",
       "      <th>23856135</th>\n",
       "      <td>150000</td>\n",
       "      <td>closed</td>\n",
       "      <td>NaN</td>\n",
       "      <td>2928</td>\n",
       "      <td>NaN</td>\n",
       "      <td>sales</td>\n",
       "      <td>False</td>\n",
       "      <td>NaN</td>\n",
       "      <td>150000</td>\n",
       "      <td>2008-01-07</td>\n",
       "      <td>...</td>\n",
       "      <td>0</td>\n",
       "      <td>0</td>\n",
       "      <td>0</td>\n",
       "      <td>0</td>\n",
       "      <td>0</td>\n",
       "      <td>0</td>\n",
       "      <td>0</td>\n",
       "      <td>0</td>\n",
       "      <td>0</td>\n",
       "      <td>0</td>\n",
       "    </tr>\n",
       "  </tbody>\n",
       "</table>\n",
       "<p>5 rows × 167 columns</p>\n",
       "</div>"
      ],
      "text/plain": [
       "                             price transaction_status date_listed  \\\n",
       "property_id transaction_id                                          \n",
       "9025615     23856143        155000  closed             2013-10-06   \n",
       "            23856139        75250   closed             NaN          \n",
       "            23856138        53000   closed             2011-02-10   \n",
       "            23856136        137614  closed             NaN          \n",
       "            23856135        150000  closed             NaN          \n",
       "\n",
       "                            date_closed  days_on_market transaction_type  \\\n",
       "property_id transaction_id                                                 \n",
       "9025615     23856143        5083         56.0            sales             \n",
       "            23856139        4268        NaN              sales             \n",
       "            23856138        4065         7.0             sales             \n",
       "            23856136        3937        NaN              sales             \n",
       "            23856135        2928        NaN              sales             \n",
       "\n",
       "                            is_latest  price_listed  price_closed  \\\n",
       "property_id transaction_id                                          \n",
       "9025615     23856143        False      159900.0      155000         \n",
       "            23856139        False     NaN            75250          \n",
       "            23856138        False      60900.0       53000          \n",
       "            23856136        False     NaN            137614         \n",
       "            23856135        False     NaN            150000         \n",
       "\n",
       "                           date_transacted_latest          ...            \\\n",
       "property_id transaction_id                                 ...             \n",
       "9025615     23856143        2013-12-01                     ...             \n",
       "            23856139        2011-09-08                     ...             \n",
       "            23856138        2011-02-17                     ...             \n",
       "            23856136        2010-10-12                     ...             \n",
       "            23856135        2008-01-07                     ...             \n",
       "\n",
       "                            school_district_id_57.0  school_district_id_60.0  \\\n",
       "property_id transaction_id                                                     \n",
       "9025615     23856143        0                        0                         \n",
       "            23856139        0                        0                         \n",
       "            23856138        0                        0                         \n",
       "            23856136        0                        0                         \n",
       "            23856135        0                        0                         \n",
       "\n",
       "                           school_district_id_67.0 school_district_id_68.0  \\\n",
       "property_id transaction_id                                                   \n",
       "9025615     23856143        0                       0                        \n",
       "            23856139        0                       0                        \n",
       "            23856138        0                       0                        \n",
       "            23856136        0                       0                        \n",
       "            23856135        0                       0                        \n",
       "\n",
       "                           school_district_id_75.0  school_district_id_87.0  \\\n",
       "property_id transaction_id                                                    \n",
       "9025615     23856143        0                       0                         \n",
       "            23856139        0                       0                         \n",
       "            23856138        0                       0                         \n",
       "            23856136        0                       0                         \n",
       "            23856135        0                       0                         \n",
       "\n",
       "                           school_district_id_90.0 school_district_id_93.0  \\\n",
       "property_id transaction_id                                                   \n",
       "9025615     23856143        0                       0                        \n",
       "            23856139        0                       0                        \n",
       "            23856138        0                       0                        \n",
       "            23856136        0                       0                        \n",
       "            23856135        0                       0                        \n",
       "\n",
       "                           school_district_id_96.0 school_district_id_nan  \n",
       "property_id transaction_id                                                 \n",
       "9025615     23856143        0                       0                      \n",
       "            23856139        0                       0                      \n",
       "            23856138        0                       0                      \n",
       "            23856136        0                       0                      \n",
       "            23856135        0                       0                      \n",
       "\n",
       "[5 rows x 167 columns]"
      ]
     },
     "execution_count": 23,
     "metadata": {},
     "output_type": "execute_result"
    }
   ],
   "source": [
    "closed.head()"
   ]
  },
  {
   "cell_type": "code",
   "execution_count": null,
   "metadata": {
    "collapsed": false
   },
   "outputs": [],
   "source": []
  },
  {
   "cell_type": "code",
   "execution_count": 43,
   "metadata": {
    "collapsed": false,
    "scrolled": false
   },
   "outputs": [
    {
     "name": "stdout",
     "output_type": "stream",
     "text": [
      "Saving file good_sell_backtest_days_20171017.csv\n",
      "float() argument must be a string or a number, not 'pandas._libs.interval.Interval'\n"
     ]
    }
   ],
   "source": [
    "# read in prior target list for backtesting purposes\n",
    "good_sell_results = np.empty([0,11])\n",
    "discount_results = np.empty([0,11])\n",
    "sell_cnt_results = np.empty([0,11])\n",
    "bins = pd.DataFrame({'A' : []})\n",
    "for lag_days in range(60,59,-1):\n",
    "    try:\n",
    "        prior_target_list = pd.read_csv(csv_path + 'good_sell/gs_target_list_' + (today-dt.timedelta(days=lag_days)) \\\n",
    "                                    .strftime('%Y%m%d') + '.csv', index_col = [0,1]) \\\n",
    "                                    .rename(columns = { 'ypred' : 'good_sell_prob'})\n",
    "\n",
    "        backtest = prior_target_list.join(closed[['price']], how=\"left\").sort_values(by='good_sell_prob',ascending=False)\n",
    "\n",
    "        backtest['discount'] = 1 - backtest.price / backtest.list\n",
    "        backtest['good_sell'] = backtest.apply(lambda row: row.discount < discount if not pd.isnull(row.price) else np.NaN, axis=1)\n",
    "        backtest['outcome'] = backtest.apply(lambda row: \"no_sell\" if pd.isnull(row.price) else \"good_sell\" if row.good_sell else \"bad_sell\", axis=1)\n",
    "            \n",
    "        backtest['probability_bin'] = pd.qcut(backtest.good_sell_prob, np.arange(0,1.1,0.1),duplicates='drop')\n",
    "        fn = 'good_sell_backtest_days_' + (today-dt.timedelta(days=lag_days)).strftime('%Y%m%d') + '.csv'\n",
    "        print(\"Saving file %s\" % fn)\n",
    "        backtest.to_csv(fn)\n",
    "        \n",
    "          \n",
    "        grouped = backtest[['probability_bin','good_sell','discount','list']].astype('float').groupby('probability_bin')\n",
    "        print(grouped.mean())\n",
    "        print(grouped.count())\n",
    "#         print(grouped.good_sell.count() / grouped.list.count())\n",
    "\n",
    "\n",
    "        # store results in arrays for graphing\n",
    "        print(grouped.good_sell.mean())\n",
    "        r = np.append(lag_days,grouped.good_sell.mean().values)\n",
    "        r = np.reshape(r,(1,11))\n",
    "        good_sell_results = np.append(good_sell_results,r,axis=0)\n",
    "        \n",
    "        r = np.append(lag_days,grouped.discount.mean().values)\n",
    "        r = np.reshape(r,(1,11))\n",
    "        discount_results = np.append(discount_results,r,axis=0)\n",
    "        \n",
    "#         r = np.append(lag_days,(grouped.good_sell.count() / grouped.list.count()).values)\n",
    "#         r = np.reshape(r,(1,11))\n",
    "#         sell_cnt_results = np.append(sell_cnt_results,r,axis=0)\n",
    "        \n",
    "        \n",
    "        \n",
    "#         y_all = prior_target_list.good_sell_prob.mean()\n",
    "#         y_sold = backtest.good_sell_prob.mean()\n",
    "\n",
    "#         pos_trigger = prior_target_list.good_sell_prob.quantile(0.75)\n",
    "#         slack(\"Prior target list length: %i\\tNum sold: %i\\tAvg good sell prob: %f\\tAvg good sell prob of sold: %f\" \n",
    "#               % (len(prior_target_list.index), len(backtest.index),y_all, y_sold))\n",
    "\n",
    "#         num_pos = len(prior_target_list[prior_target_list.good_sell_prob > pos_trigger].index)\n",
    "#         positives = backtest[backtest.good_sell_prob > pos_trigger]\n",
    "#         y_pos = (-(positives.price - positives.list) / positives.list).median()\n",
    "#         num_sold = len(positives.index)\n",
    "#         if num_sold == 0:\n",
    "#             slack(\"Num of homes with good_sell_prob > %f: %i\\tPerc of those sold: NONE\\tMed disc to list: NA\" % (pos_trigger, num_pos) )    \n",
    "#         else:\n",
    "#             slack(\"Num of homes with good_sell_prob > %f: %i\\tPerc of those sold: %f\\tMed disc to list: %f\" \n",
    "#                   % (pos_trigger, num_pos, num_sold / num_pos *  100, y_pos * 100))\n",
    "\n",
    "#         neg_trigger = prior_target_list.good_sell_prob.quantile(0.25)\n",
    "#         num_neg = len(prior_target_list[prior_target_list.good_sell_prob < neg_trigger].index)\n",
    "#         negatives = backtest[backtest.good_sell_prob < neg_trigger]\n",
    "#         y_neg = (-(negatives.price - negatives.list) / negatives.list).median()\n",
    "#         num_sold = len(negatives.index)\n",
    "\n",
    "#         if num_sold == 0:\n",
    "#             slack(\"Num of homes with good_sell_prob < %f: %i\\tPerc of those sold: NONE\\tMedian disc to list: NA\" % (neg_trigger, num_neg))\n",
    "#         else:\n",
    "#             slack(\"Num of homes with good_sell_prob < %f: %i\\tPerc of those sold: %f\\tMedian disc to list:%f\" \n",
    "#                   % (neg_trigger, num_neg, len(negatives.index) / num_neg * 100, y_neg * 100))\n",
    "\n",
    "#         slack(backtest.to_string())\n",
    "#         backtest.to_csv(\"median_check.csv\")\n",
    "#         # store results in arrays for graphing\n",
    "#         r = np.array([[lag_days, len(prior_target_list.index), len(backtest.index), num_sold / num_pos * 100, y_pos * 100, len(negatives.index) / num_neg * 100, y_neg * 100]])\n",
    "#         model_results = np.append(model_results,r,axis=0)\n",
    "        \n",
    "    except Exception as err:   \n",
    "        print(err)"
   ]
  },
  {
   "cell_type": "code",
   "execution_count": 7,
   "metadata": {
    "collapsed": false
   },
   "outputs": [
    {
     "name": "stdout",
     "output_type": "stream",
     "text": [
      "[ nan  nan  nan  nan  nan  nan  nan  nan  nan  nan]\n",
      "[ nan  nan  nan  nan  nan  nan  nan  nan  nan  nan]\n",
      "[ nan  nan  nan  nan  nan  nan  nan  nan  nan  nan]\n"
     ]
    },
    {
     "name": "stderr",
     "output_type": "stream",
     "text": [
      "/home/ilya/anaconda3/lib/python3.6/site-packages/ipykernel/__main__.py:1: RuntimeWarning: Mean of empty slice\n",
      "  if __name__ == '__main__':\n",
      "/home/ilya/anaconda3/lib/python3.6/site-packages/ipykernel/__main__.py:2: RuntimeWarning: Mean of empty slice\n",
      "  from ipykernel import kernelapp as app\n",
      "/home/ilya/anaconda3/lib/python3.6/site-packages/ipykernel/__main__.py:3: RuntimeWarning: Mean of empty slice\n",
      "  app.launch_new_instance()\n",
      "/home/ilya/anaconda3/lib/python3.6/site-packages/ipykernel/__main__.py:6: RuntimeWarning: Mean of empty slice\n",
      "/home/ilya/anaconda3/lib/python3.6/site-packages/ipykernel/__main__.py:7: RuntimeWarning: Mean of empty slice\n",
      "/home/ilya/anaconda3/lib/python3.6/site-packages/ipykernel/__main__.py:8: RuntimeWarning: Mean of empty slice\n"
     ]
    },
    {
     "data": {
      "text/plain": [
       "[<matplotlib.lines.Line2D at 0x7f4449df65f8>]"
      ]
     },
     "execution_count": 7,
     "metadata": {},
     "output_type": "execute_result"
    },
    {
     "data": {
      "image/png": "[encoded data removed]",
      "text/plain": [
       "<matplotlib.figure.Figure at 0x7f440f2b0e10>"
      ]
     },
     "metadata": {},
     "output_type": "display_data"
    }
   ],
   "source": [
    "print(np.nanmean(good_sell_results, axis=0)[1:])\n",
    "print(np.nanmean(discount_results, axis=0)[1:])\n",
    "print(np.nanmean(sell_cnt_results, axis=0)[1:])\n",
    "\n",
    "import matplotlib.pyplot as plt\n",
    "plt.plot(np.nanmean(good_sell_results, axis=0)[1:])\n",
    "plt.plot(np.nanmean(discount_results, axis=0)[1:])\n",
    "plt.plot(np.nanmean(sell_cnt_results, axis=0)[1:])\n",
    "\n"
   ]
  },
  {
   "cell_type": "code",
   "execution_count": 8,
   "metadata": {
    "collapsed": false
   },
   "outputs": [
    {
     "name": "stdout",
     "output_type": "stream",
     "text": [
      "Lag days 1\n",
      "\n",
      "\n",
      "File b'/home/ilya/Code/rentalnerd/scraper/neural_network/nn_target_list_20171215.csv' does not exist\n"
     ]
    }
   ],
   "source": [
    "# read in prior target list for backtesting purposes\n",
    "model_results = np.empty([0,7])\n",
    "for lag_days in range(1,2):\n",
    "    print(\"Lag days %i\\n\\n\" % lag_days)\n",
    "    try:\n",
    "        prior_target_list = pd.read_csv(csv_path + 'neural_network/nn_target_list_' + (today-dt.timedelta(days=lag_days)) \\\n",
    "                                    .strftime('%Y%m%d') + '.csv', index_col = [0,1]) \\\n",
    "                                    .rename(columns = { 'ypred' : 'good_sell_prob'})\n",
    "\n",
    "        backtest = prior_target_list.join(closed[['price']], how=\"inner\").sort_values(by='good_sell_prob',ascending=False)\n",
    "        backtest['good_sell'] = (backtest.price >= (backtest.list * (1-discount)))\n",
    "        y_all = prior_target_list.good_sell_prob.mean()\n",
    "        y_sold = backtest.good_sell_prob.mean()\n",
    "\n",
    "        pos_trigger = prior_target_list.good_sell_prob.quantile(0.75)\n",
    "        slack(\"NN: Prior target list length: %i\\tNum sold: %i\\tAvg good sell prob: %f\\tAvg good sell prob of sold: %f\" \n",
    "              % (len(prior_target_list.index), len(backtest.index),y_all, y_sold))\n",
    "\n",
    "        num_pos = len(prior_target_list[prior_target_list.good_sell_prob > pos_trigger].index)\n",
    "        positives = backtest[backtest.good_sell_prob > pos_trigger]\n",
    "        y_pos = (-(positives.price - positives.list) / positives.list).median()\n",
    "        num_sold = len(positives.index)\n",
    "        if num_sold == 0:\n",
    "            slack(\"NN: Num of homes with good_sell_prob > %f: %i\\tPerc of those sold: NONE\\tMed disc to list: NA\" % (pos_trigger, num_pos) )    \n",
    "        else:\n",
    "            slack(\"NN: Num of homes with good_sell_prob > %f: %i\\tPerc of those sold: %f\\tMed disc to list: %f\" \n",
    "                  % (pos_trigger, num_pos, num_sold / num_pos *  100, y_pos * 100))\n",
    "\n",
    "        neg_trigger = prior_target_list.good_sell_prob.quantile(0.25)\n",
    "        num_neg = len(prior_target_list[prior_target_list.good_sell_prob < neg_trigger].index)\n",
    "        negatives = backtest[backtest.good_sell_prob < neg_trigger]\n",
    "        y_neg = (-(negatives.price - negatives.list) / negatives.list).median()\n",
    "        num_sold = len(negatives.index)\n",
    "\n",
    "        if num_sold == 0:\n",
    "            slack(\"NN: Num of homes with good_sell_prob < %f: %i\\tPerc of those sold: NONE\\tMedian disc to list: NA\" % (neg_trigger, num_neg))\n",
    "        else:\n",
    "            slack(\"NN: Num of homes with good_sell_prob < %f: %i\\tPerc of those sold: %f\\tMedian disc to list:%f\" \n",
    "                  % (neg_trigger, num_neg, len(negatives.index) / num_neg * 100, y_neg * 100))\n",
    "\n",
    "        slack(backtest.to_string())\n",
    "        backtest.to_csv(\"median_check.csv\")\n",
    "        # store results in arrays for graphing\n",
    "        r = np.array([[lag_days, len(prior_target_list.index), len(backtest.index), num_sold / num_pos * 100, y_pos * 100, len(negatives.index) / num_neg * 100, y_neg * 100]])\n",
    "        model_results = np.append(model_results,r,axis=0)\n",
    "        \n",
    "    except Exception as err:   \n",
    "        print(err)"
   ]
  },
  {
   "cell_type": "code",
   "execution_count": 9,
   "metadata": {
    "collapsed": false
   },
   "outputs": [
    {
     "data": {
      "text/html": [
       "<div>\n",
       "<style>\n",
       "    .dataframe thead tr:only-child th {\n",
       "        text-align: right;\n",
       "    }\n",
       "\n",
       "    .dataframe thead th {\n",
       "        text-align: left;\n",
       "    }\n",
       "\n",
       "    .dataframe tbody tr th {\n",
       "        vertical-align: top;\n",
       "    }\n",
       "</style>\n",
       "<table border=\"1\" class=\"dataframe\">\n",
       "  <thead>\n",
       "    <tr style=\"text-align: right;\">\n",
       "      <th></th>\n",
       "      <th>num_for_sale</th>\n",
       "      <th>num_sold</th>\n",
       "      <th>perc_sold_good</th>\n",
       "      <th>discount_good</th>\n",
       "      <th>perc_sold_bad</th>\n",
       "      <th>discount_bad</th>\n",
       "    </tr>\n",
       "  </thead>\n",
       "  <tbody>\n",
       "  </tbody>\n",
       "</table>\n",
       "</div>"
      ],
      "text/plain": [
       "Empty DataFrame\n",
       "Columns: [num_for_sale, num_sold, perc_sold_good, discount_good, perc_sold_bad, discount_bad]\n",
       "Index: []"
      ]
     },
     "execution_count": 9,
     "metadata": {},
     "output_type": "execute_result"
    }
   ],
   "source": [
    "import matplotlib.pyplot as plt\n",
    "index = pd.Index(model_results[:,0], names='lag_days')\n",
    "graph_results = pd.DataFrame(model_results[:,1:],index=index,columns=['num_for_sale', 'num_sold', 'perc_sold_good','discount_good', 'perc_sold_bad', 'discount_bad']) \\\n",
    "                    .sort_index(ascending=False)\n",
    "\n",
    "graph_results.head()"
   ]
  },
  {
   "cell_type": "code",
   "execution_count": 10,
   "metadata": {
    "collapsed": false
   },
   "outputs": [],
   "source": [
    "# graph_results[['num_for_sale', 'discount_good','discount_bad']].plot(figsize=(14,14),secondary_y='num_for_sale')"
   ]
  },
  {
   "cell_type": "code",
   "execution_count": 11,
   "metadata": {
    "collapsed": false
   },
   "outputs": [
    {
     "name": "stdout",
     "output_type": "stream",
     "text": [
      "Slacking: No homes sold since last run\n"
     ]
    }
   ],
   "source": [
    "# read in prior target list for backtesting purposes\n",
    "prior_target_list = pd.read_csv(csv_path + 'value_buy/vb_target_list_' + (today-dt.timedelta(days=lag_days)) \\\n",
    "                                .strftime('%Y%m%d') + '.csv', index_col = [0,1]) \\\n",
    "                                .rename(columns = { 'ypred' : 'pnl'})\n",
    "\n",
    "try:\n",
    "    backtest = prior_target_list.join(closed['price'], how=\"inner\").sort_values(by='pnl',ascending=False)\n",
    "    backtest['good_sell'] = (backtest.price >= (backtest.list * (1-discount)))\n",
    "    avg_pnl = backtest.pnl.mean()\n",
    "    predicted_price = backtest.predicted_price.mean()\n",
    "    sale_price = backtest.price.mean()\n",
    "\n",
    "    slack(\"Prior target list length: %i\\tNum sold: %i\\tAvg P&L: %f\\tAvg predict price: %f\\tAvg sale price: %f\" \n",
    "          % (len(prior_target_list.index), len(backtest.index),y_all, predicted_price, sale_price))\n",
    "\n",
    "    pos_trigger = prior_target_list.pnl.quantile(0.75)\n",
    "    num_pos = len(prior_target_list[prior_target_list.pnl > pos_trigger].index)\n",
    "    positives = backtest[backtest.pnl > pos_trigger]\n",
    "    y_pos = (-(positives.price - positives.list) / positives.list).mean()\n",
    "    num_sold = len(positives.index)\n",
    "    if num_sold == 0:\n",
    "        slack(\"Num of homes with pnl > %f: %i\\tPerc of those sold: NONE\\tAvg disc to list: NA\" % (pos_trigger, num_pos) )    \n",
    "    else:\n",
    "        slack(\"Num of homes with pnl > %f: %i\\tPerc of those sold: %f\\tAvg disc to list: %f\" \n",
    "              % (pos_trigger, num_pos, num_sold / num_pos, y_pos))\n",
    "\n",
    "    neg_trigger = prior_target_list.pnl.quantile(0.25)\n",
    "\n",
    "    num_neg = len(prior_target_list[prior_target_list.pnl < neg_trigger].index)\n",
    "    negatives = backtest[backtest.pnl < neg_trigger]\n",
    "    y_neg = (-(negatives.price - negatives.list) / negatives.list).mean()\n",
    "    num_sold = len(negatives.index)\n",
    "\n",
    "    if num_sold == 0:\n",
    "        slack(\"Num of homes with pnl < %f: %i\\tPerc of those sold: NONE\\tAvg disc to list: NA\" % (neg_trigger, num_neg))\n",
    "    else:\n",
    "        slack(\"Num of homes with pnl < %f: %i\\tPerc of those sold: %f\\tAvg disc to list:%f\" \n",
    "              % (neg_trigger, num_neg, len(negatives.index) / num_neg, y_neg))\n",
    "\n",
    "    slack(backtest.to_string())\n",
    "except Exception as err:   \n",
    "    slack(\"No homes sold since last run\")"
   ]
  },
  {
   "cell_type": "code",
   "execution_count": 12,
   "metadata": {
    "collapsed": false
   },
   "outputs": [
    {
     "name": "stdout",
     "output_type": "stream",
     "text": [
      "Len of neural net\t1153\n",
      "Len of good sell\t1153\n"
     ]
    }
   ],
   "source": [
    "nn = pd.read_csv('neural_network/nn_target_list_' + today.strftime('%Y%m%d') + '.csv', index_col = ['property_id','transaction_id']) \\\n",
    "       .drop(['address','zipcode', 'url','list'],axis=1) \\\n",
    "       .rename(columns = { 'ypred': 'nn_good_sell_prob'}) \\\n",
    "       .drop_duplicates()\n",
    "    \n",
    "gs = pd.read_csv('good_sell/gs_target_list_'  + today.strftime('%Y%m%d') + '.csv', index_col = ['property_id','transaction_id'])  \\\n",
    "       .rename(columns = { 'ypred' : 'gs_good_sell_prob'}) \\\n",
    "       .drop_duplicates()\n",
    "        \n",
    "nn = nn[~nn.index.duplicated(keep='first')]\n",
    "gs = gs[~gs.index.duplicated(keep='first')]\n",
    "    \n",
    "print(\"Len of neural net\\t%i\" % len(nn.index))\n",
    "print(\"Len of good sell\\t%i\" % len(gs.index))\n",
    "\n",
    "c = pd.concat([nn,gs],axis=1, join='inner')\n",
    "\n",
    "c = c[(c.list < 250000) & (c.list > 100000)  \\\n",
    "      & (~c.address.str.contains(\"Rent|rent|LOT|#|Sun City\"))] "
   ]
  },
  {
   "cell_type": "code",
   "execution_count": 13,
   "metadata": {
    "collapsed": false,
    "scrolled": false
   },
   "outputs": [
    {
     "name": "stderr",
     "output_type": "stream",
     "text": [
      "/home/ilya/anaconda3/lib/python3.6/site-packages/urllib3/connectionpool.py:852: InsecureRequestWarning: Unverified HTTPS request is being made. Adding certificate verification is strongly advised. See: https://urllib3.readthedocs.io/en/latest/advanced-usage.html#ssl-warnings\n",
      "  InsecureRequestWarning)\n"
     ]
    },
    {
     "name": "stdout",
     "output_type": "stream",
     "text": [
      "Slacking: \n"
     ]
    },
    {
     "data": {
      "image/png": "[encoded data removed]",
      "text/plain": [
       "<matplotlib.figure.Figure at 0x7f440af16240>"
      ]
     },
     "metadata": {},
     "output_type": "display_data"
    }
   ],
   "source": [
    "url = plot_rounds(c.query('gs_good_sell_prob > 0.00').plot.scatter(x='nn_good_sell_prob', y='gs_good_sell_prob'))\n",
    "slack(\"\", url, \"Model Correlation\")"
   ]
  },
  {
   "cell_type": "code",
   "execution_count": null,
   "metadata": {
    "collapsed": true
   },
   "outputs": [],
   "source": []
  },
  {
   "cell_type": "code",
   "execution_count": null,
   "metadata": {
    "collapsed": false,
    "scrolled": false
   },
   "outputs": [],
   "source": []
  },
  {
   "cell_type": "code",
   "execution_count": 14,
   "metadata": {
    "collapsed": false,
    "scrolled": false
   },
   "outputs": [],
   "source": [
    "for_sale = pd.read_csv('CSV_backups/ALL-for_sale.csv', index_col=['property_id','transaction_id'])\n",
    "for_sale['zipcode'] = for_sale.zipcode.apply(str)"
   ]
  },
  {
   "cell_type": "code",
   "execution_count": 15,
   "metadata": {
    "collapsed": true
   },
   "outputs": [],
   "source": [
    "from math import radians, cos, sin, asin, sqrt\n",
    "def haversine(row, lon2, lat2):\n",
    "    \"\"\"\n",
    "    Calculate the great circle distance between two points \n",
    "    on the earth (specified in decimal degrees)\n",
    "    \"\"\"\n",
    "    lon1 = row.longitude\n",
    "    lat1 = row.latitude\n",
    "    # convert decimal degrees to radians \n",
    "    lon1, lat1, lon2, lat2 = map(radians, [lon1, lat1, lon2, lat2])\n",
    "    # haversine formula \n",
    "    dlon = lon2 - lon1 \n",
    "    dlat = lat2 - lat1 \n",
    "    a = sin(dlat/2)**2 + cos(lat1) * cos(lat2) * sin(dlon/2)**2\n",
    "    c = 2 * asin(sqrt(a)) \n",
    "    km = 6367 * c\n",
    "    return km / 1.60934 # convert to miles"
   ]
  },
  {
   "cell_type": "code",
   "execution_count": 16,
   "metadata": {
    "collapsed": false,
    "scrolled": false
   },
   "outputs": [
    {
     "ename": "NameError",
     "evalue": "name 'd' is not defined",
     "output_type": "error",
     "traceback": [
      "\u001b[0;31m---------------------------------------------------------------------------\u001b[0m",
      "\u001b[0;31mNameError\u001b[0m                                 Traceback (most recent call last)",
      "\u001b[0;32m<ipython-input-16-d564e7dd2cb4>\u001b[0m in \u001b[0;36m<module>\u001b[0;34m()\u001b[0m\n\u001b[0;32m----> 1\u001b[0;31m \u001b[0;32mfor\u001b[0m \u001b[0mr\u001b[0m\u001b[0;34m,\u001b[0m \u001b[0mtarget\u001b[0m \u001b[0;32min\u001b[0m \u001b[0md\u001b[0m\u001b[0;34m.\u001b[0m\u001b[0miterrows\u001b[0m\u001b[0;34m(\u001b[0m\u001b[0;34m)\u001b[0m\u001b[0;34m:\u001b[0m\u001b[0;34m\u001b[0m\u001b[0m\n\u001b[0m\u001b[1;32m      2\u001b[0m     \u001b[0mprint\u001b[0m\u001b[0;34m(\u001b[0m\u001b[0mtarget\u001b[0m\u001b[0;34m.\u001b[0m\u001b[0mname\u001b[0m\u001b[0;34m[\u001b[0m\u001b[0;36m0\u001b[0m\u001b[0;34m]\u001b[0m\u001b[0;34m)\u001b[0m\u001b[0;34m\u001b[0m\u001b[0m\n\u001b[1;32m      3\u001b[0m     \u001b[0mprint\u001b[0m\u001b[0;34m(\u001b[0m\u001b[0mtarget\u001b[0m\u001b[0;34m.\u001b[0m\u001b[0maddress\u001b[0m\u001b[0;34m)\u001b[0m\u001b[0;34m\u001b[0m\u001b[0m\n\u001b[1;32m      4\u001b[0m     \u001b[0mtarget\u001b[0m\u001b[0;34m.\u001b[0m\u001b[0mlongitude\u001b[0m \u001b[0;34m=\u001b[0m \u001b[0mfor_sale\u001b[0m\u001b[0;34m.\u001b[0m\u001b[0mloc\u001b[0m\u001b[0;34m[\u001b[0m\u001b[0mtarget\u001b[0m\u001b[0;34m.\u001b[0m\u001b[0mname\u001b[0m\u001b[0;34m]\u001b[0m\u001b[0;34m.\u001b[0m\u001b[0mlongitude\u001b[0m\u001b[0;34m\u001b[0m\u001b[0m\n\u001b[1;32m      5\u001b[0m     \u001b[0mtarget\u001b[0m\u001b[0;34m.\u001b[0m\u001b[0mlatitude\u001b[0m \u001b[0;34m=\u001b[0m \u001b[0mfor_sale\u001b[0m\u001b[0;34m.\u001b[0m\u001b[0mloc\u001b[0m\u001b[0;34m[\u001b[0m\u001b[0mtarget\u001b[0m\u001b[0;34m.\u001b[0m\u001b[0mname\u001b[0m\u001b[0;34m]\u001b[0m\u001b[0;34m.\u001b[0m\u001b[0mlatitude\u001b[0m\u001b[0;34m\u001b[0m\u001b[0m\n",
      "\u001b[0;31mNameError\u001b[0m: name 'd' is not defined"
     ]
    }
   ],
   "source": [
    "for r, target in d.iterrows():\n",
    "    print(target.name[0])\n",
    "    print(target.address)\n",
    "    target.longitude = for_sale.loc[target.name].longitude\n",
    "    target.latitude = for_sale.loc[target.name].latitude\n",
    "    \n",
    "    # get all properties listed for sale in the same zipcode as our target\n",
    "    z = for_sale[(for_sale.zipcode == target.zipcode)]\n",
    "    print(len(z.longitude))\n",
    "    \n",
    "    z['dist'] = z.apply(haversine, lon2 = target.longitude, lat2 = target.latitude, axis=1)\n",
    "    print(z[['address','dist']].nsmallest(5,'dist'))\n",
    "    "
   ]
  },
  {
   "cell_type": "code",
   "execution_count": null,
   "metadata": {
    "collapsed": false,
    "scrolled": false
   },
   "outputs": [],
   "source": [
    "d"
   ]
  },
  {
   "cell_type": "code",
   "execution_count": null,
   "metadata": {
    "collapsed": false
   },
   "outputs": [],
   "source": [
    "d.head()"
   ]
  },
  {
   "cell_type": "code",
   "execution_count": null,
   "metadata": {
    "collapsed": true
   },
   "outputs": [],
   "source": []
  }
 ],
 "metadata": {
  "kernelspec": {
   "display_name": "Python 3",
   "language": "python",
   "name": "python3"
  },
  "language_info": {
   "codemirror_mode": {
    "name": "ipython",
    "version": 3
   },
   "file_extension": ".py",
   "mimetype": "text/x-python",
   "name": "python",
   "nbconvert_exporter": "python",
   "pygments_lexer": "ipython3",
   "version": "3.6.0"
  }
 },
 "nbformat": 4,
 "nbformat_minor": 2
}
