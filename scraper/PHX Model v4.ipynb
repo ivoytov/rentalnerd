{
 "cells": [
  {
   "cell_type": "code",
   "execution_count": 55,
   "metadata": {
    "collapsed": false
   },
   "outputs": [
    {
     "name": "stdout",
     "output_type": "stream",
     "text": [
      "The sql extension is already loaded. To reload it, use:\n",
      "  %reload_ext sql\n"
     ]
    }
   ],
   "source": [
    "%load_ext sql\n",
    "import statsmodels.api as sma\n",
    "from statsmodels.sandbox.regression.predstd import wls_prediction_std\n",
    "import datetime\n",
    "from scipy import stats\n",
    "import math\n",
    "\n",
    "from mpl_toolkits.basemap import Basemap # Basemap must be imported before Shapely due to conflict\n",
    "import fiona\n",
    "import shapely as shapely\n",
    "from geopandas import GeoSeries, GeoDataFrame\n",
    "from shapely.geometry import Point\n",
    "from shapely.geometry import asShape\n",
    "from time import gmtime, strftime\n",
    "from array import array\n",
    "\n",
    "\n",
    "# imports\n",
    "import pandas as pd\n",
    "import matplotlib.pyplot as plt\n",
    "import csv\n",
    "import math\n",
    "\n",
    "# follow the usual sklearn pattern: import, instantiate, fit\n",
    "from sklearn.linear_model import LinearRegression\n",
    "import numpy as np\n",
    "\n",
    "from matplotlib.patches import Polygon\n",
    "from matplotlib.collections import PatchCollection\n",
    "\n",
    "import statsmodels.formula.api as sm\n",
    "\n",
    "# this allows plots to appear directly in the notebook\n",
    "%matplotlib inline\n",
    "\n",
    "# city abbreviation code\n",
    "city = 'ph'"
   ]
  },
  {
   "cell_type": "code",
   "execution_count": 56,
   "metadata": {
    "collapsed": false
   },
   "outputs": [
    {
     "data": {
      "text/plain": [
       "u'Connected: root@rental_nerd'"
      ]
     },
     "execution_count": 56,
     "metadata": {},
     "output_type": "execute_result"
    }
   ],
   "source": [
    "%sql mysql://root:@localhost/rental_nerd"
   ]
  },
  {
   "cell_type": "code",
   "execution_count": 57,
   "metadata": {
    "collapsed": false
   },
   "outputs": [
    {
     "name": "stdout",
     "output_type": "stream",
     "text": [
      "53977 rows affected.\n"
     ]
    }
   ],
   "source": [
    "query = %sql (\\\n",
    "SELECT  \\\n",
    "properties.id as 'property_id', \\\n",
    "properties.address,  \\\n",
    "properties.bedrooms,  \\\n",
    "properties.bathrooms,  \\\n",
    "properties.sqft,  \\\n",
    "properties.source,  \\\n",
    "properties.origin_url,  \\\n",
    "properties.longitude,  \\\n",
    "properties.latitude,  \\\n",
    "properties.elevation,  \\\n",
    "(2016 - properties.year_built) as 'age',  \\\n",
    "properties.garage,  \\\n",
    "properties.level,  \\\n",
    "properties.luxurious,  \\\n",
    "properties.dist_to_park,  \\\n",
    "properties.zipcode, \\\n",
    "properties.dist_to_golf_course, \\\n",
    "properties.near_golf_course, \\\n",
    "properties.has_pool, \\\n",
    "properties.home_type, \\\n",
    "property_transaction_logs.id 'ptl_id',  \\\n",
    "property_transaction_logs.transaction_type,  \\\n",
    "property_transaction_logs.price,  \\\n",
    "property_transaction_logs.transaction_status,  \\\n",
    "property_transaction_logs.days_on_market,  \\\n",
    "property_transaction_logs.date_closed as 'date',  \\\n",
    "property_transaction_logs.date_listed,  \\\n",
    "neighborhoods.name as 'neighborhood',  \\\n",
    "neighborhoods.id as 'nid',  \\\n",
    "neighborhoods.shapefile_source,  \\\n",
    "property_school_districts.school_district_id \\\n",
    "FROM  \\\n",
    "properties,  \\\n",
    "property_transaction_logs,  \\\n",
    "property_neighborhoods,  \\\n",
    "neighborhoods,  \\\n",
    "property_school_districts \\\n",
    "WHERE  \\\n",
    "property_school_districts.property_id = properties.id AND  \\\n",
    "property_transaction_logs.property_id = properties.id AND  \\\n",
    "property_transaction_logs.transaction_type = \"rental\" AND  \\\n",
    "property_transaction_logs.date_closed is not null AND \\\n",
    "neighborhoods.shapefile_source = \"PH\" AND  \\\n",
    "properties.id = property_neighborhoods.property_id AND  \\\n",
    "property_neighborhoods.neighborhood_id = neighborhoods.id AND \\\n",
    "properties.sqft > 0 AND \\\n",
    "properties.bedrooms IS NOT NULL AND \\\n",
    "properties.bathrooms IS NOT NULL AND \\\n",
    "properties.elevation IS NOT NULL AND \\\n",
    "properties.level IS NOT NULL AND \\\n",
    "properties.dist_to_park IS NOT NULL AND \\\n",
    "properties.near_golf_course IS NOT NULL AND \\\n",
    "properties.home_type IS NOT NULL AND \\\n",
    "properties.zipcode IS NOT NULL AND \\\n",
    "properties.sqft IS NOT NULL AND \\\n",
    "properties.year_built IS NOT NULL AND \\\n",
    "property_transaction_logs.price > 0 )\n",
    "           \n",
    "    \n",
    "# properties.has_pool IS NOT NULL AND \\\n",
    "# properties.garage IS NOT NULL AND \\\n",
    "data = query.DataFrame()"
   ]
  },
  {
   "cell_type": "code",
   "execution_count": 58,
   "metadata": {
    "collapsed": false
   },
   "outputs": [],
   "source": [
    "# query = %sql (\\\n",
    "# SELECT  \\\n",
    "# properties.address, \\\n",
    "# properties.bedrooms, \\\n",
    "# properties.bathrooms, \\\n",
    "# properties.sqft, \\\n",
    "# properties.source, \\\n",
    "# properties.origin_url, \\\n",
    "# properties.longitude, \\\n",
    "# properties.latitude, \\\n",
    "# properties.elevation, \\\n",
    "# properties.year_built, \\\n",
    "# properties.garage, \\\n",
    "# properties.level, \\\n",
    "# property_transactions.transaction_type, \\\n",
    "# property_transaction_logs.price, \\\n",
    "# property_transaction_logs.transaction_status, \\\n",
    "# property_transaction_logs.days_on_market, \\\n",
    "# property_transaction_logs.date_closed, \\\n",
    "# property_transaction_logs.date_listed, \\\n",
    "# neighborhoods.name as 'neighborhood', \\\n",
    "# neighborhoods.id as 'nid', \\\n",
    "# neighborhoods.shapefile_source \\\n",
    "# FROM \\\n",
    "# properties, \\\n",
    "# property_transactions, \\\n",
    "# property_transaction_logs, \\\n",
    "# property_neighborhoods, \\\n",
    "# neighborhoods \\\n",
    "# WHERE \\\n",
    "# properties.id = property_transactions.property_id AND \\\n",
    "# property_transactions.property_transaction_log_id = property_transaction_logs.id AND \\\n",
    "# property_transactions.transaction_type = \"rental\" AND \\\n",
    "# neighborhoods.shapefile_source = \"SF\" AND \\\n",
    "# properties.id = property_neighborhoods.property_id AND \\\n",
    "# property_neighborhoods.neighborhood_id = neighborhoods.id)\n",
    "\n",
    "# data = query.DataFrame()\n",
    "# data_copy = data"
   ]
  },
  {
   "cell_type": "code",
   "execution_count": 59,
   "metadata": {
    "collapsed": false
   },
   "outputs": [],
   "source": [
    "# create a column of GeoSeries - each house should be represented by a point\n",
    "pts = GeoSeries([Point(x, y) for x, y in zip(data['longitude'], data['latitude'])])\n",
    "data['latlong'] = pts"
   ]
  },
  {
   "cell_type": "code",
   "execution_count": 60,
   "metadata": {
    "collapsed": false,
    "scrolled": false
   },
   "outputs": [],
   "source": [
    "# create year dummy variables (because date isn't very intuitive variable)\n",
    "data[\"year\"] = pd.DatetimeIndex(data[\"date\"]).to_period('A')\n",
    "data[\"month\"] = pd.DatetimeIndex(data[\"date\"]).to_period('M')"
   ]
  },
  {
   "cell_type": "code",
   "execution_count": 61,
   "metadata": {
    "collapsed": false
   },
   "outputs": [],
   "source": [
    "data[\"near_golf_course\"] = data[\"near_golf_course\"].apply(lambda x: True if x == 1.0 else False)\n",
    "data[\"has_pool\"] = data[\"has_pool\"].apply(lambda x: True if x == 1.0 else False)\n",
    "data[\"garage\"] = data[\"garage\"].apply(lambda x: True if x == 1.0 else False)"
   ]
  },
  {
   "cell_type": "code",
   "execution_count": 62,
   "metadata": {
    "collapsed": false
   },
   "outputs": [
    {
     "data": {
      "text/html": [
       "<div>\n",
       "<table border=\"1\" class=\"dataframe\">\n",
       "  <thead>\n",
       "    <tr style=\"text-align: right;\">\n",
       "      <th></th>\n",
       "      <th>property_id</th>\n",
       "      <th>bedrooms</th>\n",
       "      <th>bathrooms</th>\n",
       "      <th>sqft</th>\n",
       "      <th>longitude</th>\n",
       "      <th>latitude</th>\n",
       "      <th>elevation</th>\n",
       "      <th>age</th>\n",
       "      <th>garage</th>\n",
       "      <th>level</th>\n",
       "      <th>dist_to_park</th>\n",
       "      <th>dist_to_golf_course</th>\n",
       "      <th>near_golf_course</th>\n",
       "      <th>has_pool</th>\n",
       "      <th>ptl_id</th>\n",
       "      <th>price</th>\n",
       "      <th>days_on_market</th>\n",
       "      <th>nid</th>\n",
       "      <th>school_district_id</th>\n",
       "    </tr>\n",
       "  </thead>\n",
       "  <tbody>\n",
       "    <tr>\n",
       "      <th>count</th>\n",
       "      <td>53977.000000</td>\n",
       "      <td>53977.000000</td>\n",
       "      <td>53977.000000</td>\n",
       "      <td>53977.000000</td>\n",
       "      <td>53977.000000</td>\n",
       "      <td>53977.000000</td>\n",
       "      <td>53977.000000</td>\n",
       "      <td>53977.000000</td>\n",
       "      <td>53977</td>\n",
       "      <td>53977.000000</td>\n",
       "      <td>53977.000000</td>\n",
       "      <td>53977.000000</td>\n",
       "      <td>53977</td>\n",
       "      <td>53977</td>\n",
       "      <td>53977.000000</td>\n",
       "      <td>53977.000000</td>\n",
       "      <td>12081.000000</td>\n",
       "      <td>53977.000000</td>\n",
       "      <td>53977.000000</td>\n",
       "    </tr>\n",
       "    <tr>\n",
       "      <th>mean</th>\n",
       "      <td>720295.598236</td>\n",
       "      <td>3.114160</td>\n",
       "      <td>2.095744</td>\n",
       "      <td>1828.150416</td>\n",
       "      <td>-112.058933</td>\n",
       "      <td>33.505135</td>\n",
       "      <td>389.824982</td>\n",
       "      <td>25.527984</td>\n",
       "      <td>0.0944106</td>\n",
       "      <td>1.064064</td>\n",
       "      <td>0.008871</td>\n",
       "      <td>0.019478</td>\n",
       "      <td>0.0556163</td>\n",
       "      <td>0.0769587</td>\n",
       "      <td>2147256.281324</td>\n",
       "      <td>2355.360098</td>\n",
       "      <td>269.353613</td>\n",
       "      <td>306.134483</td>\n",
       "      <td>115.545436</td>\n",
       "    </tr>\n",
       "    <tr>\n",
       "      <th>std</th>\n",
       "      <td>674186.808410</td>\n",
       "      <td>1.013128</td>\n",
       "      <td>1.261902</td>\n",
       "      <td>968.863286</td>\n",
       "      <td>0.226849</td>\n",
       "      <td>0.143941</td>\n",
       "      <td>81.694002</td>\n",
       "      <td>17.394295</td>\n",
       "      <td>0.292402</td>\n",
       "      <td>1.072986</td>\n",
       "      <td>0.016683</td>\n",
       "      <td>0.020530</td>\n",
       "      <td>0.229181</td>\n",
       "      <td>0.266528</td>\n",
       "      <td>996371.198316</td>\n",
       "      <td>9531.963426</td>\n",
       "      <td>447.145157</td>\n",
       "      <td>138.141568</td>\n",
       "      <td>58.715463</td>\n",
       "    </tr>\n",
       "    <tr>\n",
       "      <th>min</th>\n",
       "      <td>652.000000</td>\n",
       "      <td>0.000000</td>\n",
       "      <td>0.000000</td>\n",
       "      <td>1.000000</td>\n",
       "      <td>-113.176000</td>\n",
       "      <td>32.257000</td>\n",
       "      <td>220.537000</td>\n",
       "      <td>0.000000</td>\n",
       "      <td>False</td>\n",
       "      <td>1.000000</td>\n",
       "      <td>0.000000</td>\n",
       "      <td>0.000000</td>\n",
       "      <td>False</td>\n",
       "      <td>False</td>\n",
       "      <td>5382.000000</td>\n",
       "      <td>1.000000</td>\n",
       "      <td>0.000000</td>\n",
       "      <td>94.000000</td>\n",
       "      <td>4.000000</td>\n",
       "    </tr>\n",
       "    <tr>\n",
       "      <th>25%</th>\n",
       "      <td>192421.000000</td>\n",
       "      <td>3.000000</td>\n",
       "      <td>2.000000</td>\n",
       "      <td>1329.000000</td>\n",
       "      <td>-112.225000</td>\n",
       "      <td>33.403000</td>\n",
       "      <td>339.339000</td>\n",
       "      <td>12.000000</td>\n",
       "      <td>0</td>\n",
       "      <td>1.000000</td>\n",
       "      <td>0.002691</td>\n",
       "      <td>0.006896</td>\n",
       "      <td>0</td>\n",
       "      <td>0</td>\n",
       "      <td>1363998.000000</td>\n",
       "      <td>1000.000000</td>\n",
       "      <td>14.000000</td>\n",
       "      <td>176.000000</td>\n",
       "      <td>60.000000</td>\n",
       "    </tr>\n",
       "    <tr>\n",
       "      <th>50%</th>\n",
       "      <td>432911.000000</td>\n",
       "      <td>3.000000</td>\n",
       "      <td>2.000000</td>\n",
       "      <td>1651.000000</td>\n",
       "      <td>-112.092000</td>\n",
       "      <td>33.491700</td>\n",
       "      <td>375.527000</td>\n",
       "      <td>19.000000</td>\n",
       "      <td>0</td>\n",
       "      <td>1.000000</td>\n",
       "      <td>0.006013</td>\n",
       "      <td>0.016323</td>\n",
       "      <td>0</td>\n",
       "      <td>0</td>\n",
       "      <td>2150255.000000</td>\n",
       "      <td>1250.000000</td>\n",
       "      <td>46.000000</td>\n",
       "      <td>288.000000</td>\n",
       "      <td>124.000000</td>\n",
       "    </tr>\n",
       "    <tr>\n",
       "      <th>75%</th>\n",
       "      <td>1159203.000000</td>\n",
       "      <td>4.000000</td>\n",
       "      <td>2.000000</td>\n",
       "      <td>2111.000000</td>\n",
       "      <td>-111.875000</td>\n",
       "      <td>33.612200</td>\n",
       "      <td>413.025000</td>\n",
       "      <td>36.000000</td>\n",
       "      <td>0</td>\n",
       "      <td>1.000000</td>\n",
       "      <td>0.011004</td>\n",
       "      <td>0.028064</td>\n",
       "      <td>0</td>\n",
       "      <td>0</td>\n",
       "      <td>3005964.000000</td>\n",
       "      <td>1695.000000</td>\n",
       "      <td>356.000000</td>\n",
       "      <td>462.000000</td>\n",
       "      <td>168.000000</td>\n",
       "    </tr>\n",
       "    <tr>\n",
       "      <th>max</th>\n",
       "      <td>2633995.000000</td>\n",
       "      <td>12.000000</td>\n",
       "      <td>175.000000</td>\n",
       "      <td>111123.000000</td>\n",
       "      <td>-110.894000</td>\n",
       "      <td>33.979900</td>\n",
       "      <td>1028.370000</td>\n",
       "      <td>398.000000</td>\n",
       "      <td>True</td>\n",
       "      <td>40.000000</td>\n",
       "      <td>1.205310</td>\n",
       "      <td>1.210900</td>\n",
       "      <td>True</td>\n",
       "      <td>True</td>\n",
       "      <td>4895574.000000</td>\n",
       "      <td>999999.000000</td>\n",
       "      <td>3162.000000</td>\n",
       "      <td>502.000000</td>\n",
       "      <td>225.000000</td>\n",
       "    </tr>\n",
       "  </tbody>\n",
       "</table>\n",
       "</div>"
      ],
      "text/plain": [
       "          property_id      bedrooms     bathrooms           sqft  \\\n",
       "count    53977.000000  53977.000000  53977.000000   53977.000000   \n",
       "mean    720295.598236      3.114160      2.095744    1828.150416   \n",
       "std     674186.808410      1.013128      1.261902     968.863286   \n",
       "min        652.000000      0.000000      0.000000       1.000000   \n",
       "25%     192421.000000      3.000000      2.000000    1329.000000   \n",
       "50%     432911.000000      3.000000      2.000000    1651.000000   \n",
       "75%    1159203.000000      4.000000      2.000000    2111.000000   \n",
       "max    2633995.000000     12.000000    175.000000  111123.000000   \n",
       "\n",
       "          longitude      latitude     elevation           age     garage  \\\n",
       "count  53977.000000  53977.000000  53977.000000  53977.000000      53977   \n",
       "mean    -112.058933     33.505135    389.824982     25.527984  0.0944106   \n",
       "std        0.226849      0.143941     81.694002     17.394295   0.292402   \n",
       "min     -113.176000     32.257000    220.537000      0.000000      False   \n",
       "25%     -112.225000     33.403000    339.339000     12.000000          0   \n",
       "50%     -112.092000     33.491700    375.527000     19.000000          0   \n",
       "75%     -111.875000     33.612200    413.025000     36.000000          0   \n",
       "max     -110.894000     33.979900   1028.370000    398.000000       True   \n",
       "\n",
       "              level  dist_to_park  dist_to_golf_course near_golf_course  \\\n",
       "count  53977.000000  53977.000000         53977.000000            53977   \n",
       "mean       1.064064      0.008871             0.019478        0.0556163   \n",
       "std        1.072986      0.016683             0.020530         0.229181   \n",
       "min        1.000000      0.000000             0.000000            False   \n",
       "25%        1.000000      0.002691             0.006896                0   \n",
       "50%        1.000000      0.006013             0.016323                0   \n",
       "75%        1.000000      0.011004             0.028064                0   \n",
       "max       40.000000      1.205310             1.210900             True   \n",
       "\n",
       "        has_pool          ptl_id          price  days_on_market           nid  \\\n",
       "count      53977    53977.000000   53977.000000    12081.000000  53977.000000   \n",
       "mean   0.0769587  2147256.281324    2355.360098      269.353613    306.134483   \n",
       "std     0.266528   996371.198316    9531.963426      447.145157    138.141568   \n",
       "min        False     5382.000000       1.000000        0.000000     94.000000   \n",
       "25%            0  1363998.000000    1000.000000       14.000000    176.000000   \n",
       "50%            0  2150255.000000    1250.000000       46.000000    288.000000   \n",
       "75%            0  3005964.000000    1695.000000      356.000000    462.000000   \n",
       "max         True  4895574.000000  999999.000000     3162.000000    502.000000   \n",
       "\n",
       "       school_district_id  \n",
       "count        53977.000000  \n",
       "mean           115.545436  \n",
       "std             58.715463  \n",
       "min              4.000000  \n",
       "25%             60.000000  \n",
       "50%            124.000000  \n",
       "75%            168.000000  \n",
       "max            225.000000  "
      ]
     },
     "execution_count": 62,
     "metadata": {},
     "output_type": "execute_result"
    }
   ],
   "source": [
    "data.describe() #identify filtering tresholds to clean up bad data"
   ]
  },
  {
   "cell_type": "code",
   "execution_count": 63,
   "metadata": {
    "collapsed": false,
    "scrolled": true
   },
   "outputs": [
    {
     "name": "stdout",
     "output_type": "stream",
     "text": [
      "Entries before filter: 53977\n",
      "Entries after filter: 50661\n"
     ]
    }
   ],
   "source": [
    "# filter out any outliers, defined as rent >$10k or >2,500 sq ft, or not in SF\n",
    "\n",
    "print \"Entries before filter: \" + `len(data)`\n",
    "data = data[  (data.sqft <= 10000) \n",
    "            & (data.price <= 4000) \n",
    "            & (data.price > 500)\n",
    "#            & (data.neighborhood == 'South Scottsdale')\n",
    "#             & (data.home_type == 'sfh')\n",
    "#             & (data.transaction_status == 'closed')\n",
    "            & (data.bedrooms <= 6) \n",
    "            & (data.bathrooms <= 6) \n",
    "            & (data.sqft != 0)\n",
    "            & (data.year > pd.Period('2000', freq='A-DEC'))]\n",
    "\n",
    "print \"Entries after filter: \" + `len(data)`\n"
   ]
  },
  {
   "cell_type": "code",
   "execution_count": 64,
   "metadata": {
    "collapsed": false
   },
   "outputs": [
    {
     "data": {
      "text/plain": [
       "array([[<matplotlib.axes._subplots.AxesSubplot object at 0x11dfcc990>,\n",
       "        <matplotlib.axes._subplots.AxesSubplot object at 0x11f3ed690>,\n",
       "        <matplotlib.axes._subplots.AxesSubplot object at 0x11f004550>],\n",
       "       [<matplotlib.axes._subplots.AxesSubplot object at 0x11ef86310>,\n",
       "        <matplotlib.axes._subplots.AxesSubplot object at 0x11ec10c90>,\n",
       "        <matplotlib.axes._subplots.AxesSubplot object at 0x11e945110>],\n",
       "       [<matplotlib.axes._subplots.AxesSubplot object at 0x11db2c990>,\n",
       "        <matplotlib.axes._subplots.AxesSubplot object at 0x11de51910>,\n",
       "        <matplotlib.axes._subplots.AxesSubplot object at 0x1206365d0>],\n",
       "       [<matplotlib.axes._subplots.AxesSubplot object at 0x1206ab550>,\n",
       "        <matplotlib.axes._subplots.AxesSubplot object at 0x121e8e3d0>,\n",
       "        <matplotlib.axes._subplots.AxesSubplot object at 0x1227e35d0>]], dtype=object)"
      ]
     },
     "execution_count": 64,
     "metadata": {},
     "output_type": "execute_result"
    },
    {
     "data": {
      "image/png": "[encoded data removed]",
      "text/plain": [
       "<matplotlib.figure.Figure at 0x11d6c6790>"
      ]
     },
     "metadata": {},
     "output_type": "display_data"
    }
   ],
   "source": [
    "data.hist(column=['has_pool','bathrooms','bedrooms','price','garage','level','age','sqft','elevation','luxurious','dist_to_park', 'dist_to_golf_course','near_golf_course'],figsize=(12,12))"
   ]
  },
  {
   "cell_type": "code",
   "execution_count": 65,
   "metadata": {
    "collapsed": false
   },
   "outputs": [],
   "source": [
    "# adjust variables so that for most houses they result in zero (or close to zero)\n",
    "data.elevation = data.elevation - 295\n",
    "data.level = data.level - 1\n",
    "data.bathrooms = data.bathrooms - 1"
   ]
  },
  {
   "cell_type": "code",
   "execution_count": 66,
   "metadata": {
    "collapsed": true
   },
   "outputs": [],
   "source": [
    "class ListTable(list):\n",
    "    \"\"\" Overridden list class which takes a 2-dimensional list of \n",
    "        the form [[1,2,3],[4,5,6]], and renders an HTML Table in \n",
    "        IPython Notebook. \"\"\"\n",
    "    \n",
    "    def _repr_html_(self):\n",
    "        html = [\"<table>\"]\n",
    "        for row in self:\n",
    "            html.append(\"<tr>\")\n",
    "            \n",
    "            for col in row:\n",
    "                html.append(\"<td>{0}</td>\".format(col))\n",
    "            \n",
    "            html.append(\"</tr>\")\n",
    "        html.append(\"</table>\")\n",
    "        return ''.join(html)\n",
    "    \n"
   ]
  },
  {
   "cell_type": "code",
   "execution_count": 67,
   "metadata": {
    "collapsed": false
   },
   "outputs": [
    {
     "name": "stdout",
     "output_type": "stream",
     "text": [
      "base period: Period('2007', 'A-DEC') end period: Period('2016', 'A-DEC') and number of periods: 9\n",
      "number of paired transactions in the data: 7565\n"
     ]
    }
   ],
   "source": [
    "# Artnet white paper index converted to our dataset\n",
    "\n",
    "# create year dummy variables (because date isn't very intuitive variable)\n",
    "z = 'A'\n",
    "data[\"period\"] = pd.DatetimeIndex(data[\"date\"]).to_period(z)\n",
    "data['period_literal'] = pd.DatetimeIndex(data[\"date\"]).to_period(z).format()\n",
    "\n",
    "paired = data[['address','date','price','period','period_literal','zipcode', 'neighborhood']]\n",
    "\n",
    "# identify the earliest date, number of periods, and number of pairs\n",
    "base_period = paired.period.min()\n",
    "num_periods = paired.period.max() - paired.period.min()\n",
    "print \"base period: \" + `base_period` + \" end period: \" + `paired.period.max()` + \" and number of periods: \" + `num_periods`\n",
    "\n",
    "# group data into Sets and calc Y_ist of each item\n",
    "paired = paired.groupby(\"address\").filter(lambda x: len(x) >1)\n",
    "paired.sort_values(['address','period'],inplace=True)\n",
    "paired_grp = paired.groupby('address')\n",
    "\n",
    "# filter out any houses with multiple transaction in a given period\n",
    "paired = paired.groupby(['address','period_literal']).filter(lambda x: len(x) == 1)\n",
    "\n",
    "# filter out any houses with only a single transaction ever\n",
    "paired = paired.groupby(['address']).filter(lambda x: len(x) > 1)\n",
    "\n",
    "print 'number of paired transactions in the data: ' + `paired.shape[0]`"
   ]
  },
  {
   "cell_type": "code",
   "execution_count": 68,
   "metadata": {
    "collapsed": false
   },
   "outputs": [
    {
     "name": "stdout",
     "output_type": "stream",
     "text": [
      "number of paired transactions after cleaning the data: 7250\n"
     ]
    }
   ],
   "source": [
    "def demean(group):\n",
    "    return pd.DataFrame({'address': group.address, 'original' : group.price, 'demeaned' : group.price - group.price.mean()})\n",
    "\n",
    "# filter out properties with multiple listings in the same year and listings that moved by 30% or more\n",
    "paired_grp = paired.groupby('address')\n",
    "n = paired.groupby(['address']).apply(demean)\n",
    "n = n[((n.demeaned / n.original).abs() > 0.15)]\n",
    "\n",
    "paired = paired[~paired.address.isin(n.address)]\n",
    "print 'number of paired transactions after cleaning the data: ' + `paired.shape[0]`"
   ]
  },
  {
   "cell_type": "code",
   "execution_count": 69,
   "metadata": {
    "collapsed": true
   },
   "outputs": [],
   "source": [
    "boundary = 'neighborhood' # 'zipcode' or 'neighborhood'\n",
    "\n",
    "table = ListTable()\n",
    "table.append([boundary,'Period','Growth Rate','P Value','n'])\n",
    "\n",
    "sorted_zips = []"
   ]
  },
  {
   "cell_type": "code",
   "execution_count": 70,
   "metadata": {
    "collapsed": false
   },
   "outputs": [],
   "source": [
    "# index used to calculate adjusted prices. \n",
    "iterables = [data[boundary].unique(), data.period.unique()]\n",
    "mi = pd.MultiIndex.from_product(iterables, names=[boundary, 'period'])\n",
    "price_adjustment_index = pd.Series()\n",
    "\n"
   ]
  },
  {
   "cell_type": "code",
   "execution_count": 71,
   "metadata": {
    "collapsed": false,
    "scrolled": false
   },
   "outputs": [
    {
     "name": "stdout",
     "output_type": "stream",
     "text": [
      "           Index  Growth Rate    P value     n\n",
      "2008  100.000000     0.000000  89.884738     0\n",
      "2009   99.701217    -0.002988  98.899581   113\n",
      "2010   99.966851     0.002664  60.196150   225\n",
      "2011   98.767008    -0.012002  73.464725   403\n",
      "2012  100.802992     0.020614  77.655065   669\n",
      "2013  100.670670    -0.001313  70.846283   899\n",
      "2014  100.883195     0.002111  19.553593  1036\n",
      "2015  103.089779     0.021873   1.734652  1711\n",
      "2016  105.743862     0.025745   0.742993  2119\n"
     ]
    },
    {
     "data": {
      "text/plain": [
       "<matplotlib.axes._subplots.AxesSubplot at 0x1245c77d0>"
      ]
     },
     "execution_count": 71,
     "metadata": {},
     "output_type": "execute_result"
    },
    {
     "data": {
      "image/png": "[encoded data removed]",
      "text/plain": [
       "<matplotlib.figure.Figure at 0x122e5ec50>"
      ]
     },
     "metadata": {},
     "output_type": "display_data"
    }
   ],
   "source": [
    "res = sm.ols(formula=\"np.log(price) ~ period + address\", data=paired).fit()\n",
    "\n",
    "#calculate index\n",
    "linked = res.params[res.params.index.str.contains('Period')]\n",
    "linked.name = \"Index\"\n",
    "linked[0] = 100\n",
    "num = pd.Series(linked, copy=True)\n",
    "num[0] = 0\n",
    "num.name = \"n\"\n",
    "growth = pd.Series(linked, copy=True)\n",
    "growth.name = \"Growth Rate\"\n",
    "growth[0] = 0\n",
    "for i in range(1,len(linked)):\n",
    "    linked[i] = (np.exp(res.params[i]))*100\n",
    "    growth[i] = linked[i]/linked[i-1] - 1\n",
    "    num[i] = len(paired[paired.period_literal == filter(str.isdigit, linked.index[i])])\n",
    "\n",
    "# add P values of each prediction\n",
    "p = res.pvalues[res.params.index.str.contains('Period')] * 100\n",
    "p.name = \"P value\"\n",
    "index = pd.concat([linked, growth, p, num], axis=1)\n",
    "index.index = pd.to_datetime(index.index.str.split(\"'\").str.get(1)).to_period(z)\n",
    "\n",
    "print index\n",
    "price_adjustment_index['city'] = index['Index']  \n",
    "\n",
    "\n",
    "\n",
    "index[['Index']].plot()\n",
    "# index[['Growth Rate']].plot()"
   ]
  },
  {
   "cell_type": "code",
   "execution_count": 72,
   "metadata": {
    "collapsed": false
   },
   "outputs": [
    {
     "data": {
      "text/plain": [
       "2008    100.000000\n",
       "2009     99.701217\n",
       "2010     99.966851\n",
       "2011     98.767008\n",
       "2012    100.802992\n",
       "2013    100.670670\n",
       "2014    100.883195\n",
       "2015    103.089779\n",
       "2016    105.743862\n",
       "Freq: A-DEC, Name: Index, dtype: float64"
      ]
     },
     "execution_count": 72,
     "metadata": {},
     "output_type": "execute_result"
    }
   ],
   "source": [
    "price_adjustment_index['city']"
   ]
  },
  {
   "cell_type": "code",
   "execution_count": 73,
   "metadata": {
    "collapsed": false
   },
   "outputs": [
    {
     "name": "stdout",
     "output_type": "stream",
     "text": [
      "nan\n"
     ]
    },
    {
     "data": {
      "image/png": "[encoded data removed]",
      "text/plain": [
       "<matplotlib.figure.Figure at 0x11ee7ed90>"
      ]
     },
     "metadata": {},
     "output_type": "display_data"
    }
   ],
   "source": [
    "from numpy import *  \n",
    "def hurst(p):  \n",
    "    tau = []; lagvec = []  \n",
    "    #  Step through the different lags  \n",
    "    for lag in range(2,20):  \n",
    "        #  produce price difference with lag  \n",
    "        pp = subtract(p[lag:],p[:-lag])  \n",
    "        #  Write the different lags into a vector  \n",
    "        lagvec.append(lag)  \n",
    "        #  Calculate the variance of the differnce vector  \n",
    "        tau.append(sqrt(std(pp)))  \n",
    "    #  linear fit to double-log graph (gives power)  \n",
    "    m = polyfit(log10(lagvec),log10(tau),1)  \n",
    "    # calculate hurst  \n",
    "    hurst = m[0]*2  \n",
    "    # plot lag vs variance  \n",
    "    plt.plot(lagvec,tau,'o')\n",
    "    return hurst  \n",
    "if __name__==\"__main__\":  \n",
    "    #  Different types of time series for testing  \n",
    "    print hurst(price_adjustment_index['city']) \n",
    "    # trending, hurst ~ 1; mean reverting, hurst ~ 0; random walk, hurst ~ 0.5"
   ]
  },
  {
   "cell_type": "code",
   "execution_count": 74,
   "metadata": {
    "collapsed": false,
    "scrolled": false
   },
   "outputs": [
    {
     "name": "stdout",
     "output_type": "stream",
     "text": [
      "(1.3044516775091617, 0.27908055517143032, 0.60990843647369886)\n"
     ]
    },
    {
     "name": "stderr",
     "output_type": "stream",
     "text": [
      "/usr/local/lib/python2.7/site-packages/ipykernel/__main__.py:16: DeprecationWarning: using a non-integer number instead of an integer will result in an error in the future\n",
      "/usr/local/lib/python2.7/site-packages/ipykernel/__main__.py:19: DeprecationWarning: using a non-integer number instead of an integer will result in an error in the future\n",
      "/usr/local/lib/python2.7/site-packages/ipykernel/__main__.py:20: DeprecationWarning: using a non-integer number instead of an integer will result in an error in the future\n",
      "/usr/local/lib/python2.7/site-packages/ipykernel/__main__.py:32: DeprecationWarning: using a non-integer number instead of an integer will result in an error in the future\n",
      "/usr/local/lib/python2.7/site-packages/ipykernel/__main__.py:34: DeprecationWarning: using a non-integer number instead of an integer will result in an error in the future\n",
      "/usr/local/lib/python2.7/site-packages/ipykernel/__main__.py:35: DeprecationWarning: using a non-integer number instead of an integer will result in an error in the future\n"
     ]
    }
   ],
   "source": [
    " def normcdf(X):\n",
    "    (a1,a2,a3,a4,a5) = (0.31938153, -0.356563782, 1.781477937, -1.821255978, 1.330274429)\n",
    "    L = abs(X)\n",
    "    K = 1.0 / (1.0 + 0.2316419 * L)\n",
    "    w = 1.0 - 1.0 / sqrt(2*pi)*exp(-L*L/2.) * (a1*K + a2*K*K + a3*pow(K,3) + a4*pow(K,4) + a5*pow(K,5))\n",
    "    if X<0:\n",
    "        w = 1.0-w\n",
    "    return w\n",
    " \n",
    " \n",
    "def vratio(a, lag = 2, cor = 'hom'):\n",
    "    t = (std((a[lag:]) - (a[1:-lag+1])))**2;\n",
    "    b = (std((a[2:]) - (a[1:-1]) ))**2;\n",
    " \n",
    "    n = float(len(a))\n",
    "    mu  = sum(a[1:n]-a[:-1])/n;\n",
    "    m=(n-lag+1)*(1-lag/n);\n",
    "#   print mu, m, lag\n",
    "    b=sum(square(a[1:n]-a[:n-1]-mu))/(n-1)\n",
    "    t=sum(square(a[lag:n]-a[:n-lag]-lag*mu))/m\n",
    "    vratio = t/(lag*b);\n",
    " \n",
    "    la = float(lag)\n",
    "     \n",
    " \n",
    "    if cor == 'hom':\n",
    "        varvrt=2*(2*la-1)*(la-1)/(3*la*n)\n",
    " \n",
    " \n",
    "    elif cor == 'het':\n",
    "          varvrt=0;\n",
    "          sum2=sum(square(a[1:n]-a[:n-1]-mu)); \n",
    "          for j in range(lag-1):\n",
    "             sum1a=square(a[j+1:n]-a[j:n-1]-mu); \n",
    "             sum1b=square(a[1:n-j]-a[0:n-j-1]-mu)\n",
    "             sum1=dot(sum1a,sum1b); \n",
    "             delta=sum1/(sum2**2);\n",
    "             varvrt=varvrt+((2*(la-j)/la)**2)*delta\n",
    " \n",
    "    zscore = (vratio - 1) / sqrt(float(varvrt))\n",
    "    pval = normcdf(zscore);\n",
    " \n",
    "    return  vratio, zscore, pval\n",
    " \n",
    "if __name__==\"__main__\":\n",
    " \n",
    "    print vratio(price_adjustment_index['city'].values, cor = 'het', lag = 5)"
   ]
  },
  {
   "cell_type": "code",
   "execution_count": 75,
   "metadata": {
    "collapsed": false,
    "scrolled": false
   },
   "outputs": [
    {
     "name": "stdout",
     "output_type": "stream",
     "text": [
      "only 468transactions in Chandler city\n",
      "only 450transactions in Glendale city 0\n",
      "only 415transactions in Surprise city 0\n",
      "only 362transactions in Deer Valley\n",
      "only 350transactions in Peoria city 0\n",
      "only 322transactions in Maryvale\n",
      "only 302transactions in North Scottsdale\n",
      "only 296transactions in Avondale city\n",
      "only 269transactions in North Mountain\n",
      "only 266transactions in South Scottsdale\n",
      "only 263transactions in Goodyear city 0\n",
      "only 234transactions in Laveen\n",
      "only 222transactions in Estrella\n",
      "only 219transactions in South Mountain\n",
      "only 202transactions in Desert View\n",
      "only 193transactions in Southeast 0\n",
      "only 189transactions in Alahambra\n",
      "only 189transactions in Camelback East\n",
      "only 187transactions in Buckeye town 0\n",
      "only 151transactions in Ahwatukee Foothills 0\n",
      "only 126transactions in Anthem CDP\n",
      "only 119transactions in Paradise Valley\n",
      "only 114transactions in Encanto\n",
      "only 95transactions in El Mirage city\n",
      "only 78transactions in Northeast 0\n",
      "only 77transactions in Southwest\n",
      "only 61transactions in Pinnacle Peak\n",
      "only 58transactions in Central\n",
      "only 53transactions in Sun City CDP\n",
      "only 41transactions in West Central\n",
      "only 39transactions in North Gateway\n",
      "only 35transactions in Queen Creek town 0\n",
      "only 31transactions in Fountain Hills town\n",
      "only 28transactions in Sun Lakes CDP 0\n",
      "only 27transactions in Sun City West CDP\n",
      "only 24transactions in Central City\n",
      "only 15transactions in Youngtown town\n",
      "only 15transactions in Litchfield Park city 2\n",
      "only 11transactions in New Village\n",
      "only 8transactions in Rio Verde CDP\n",
      "only 6transactions in Northeast 4\n",
      "only 6transactions in Cave Creek town\n",
      "only 5transactions in Gila Bend town\n",
      "only 5transactions in New River CDP\n",
      "only 4transactions in Carefree town\n",
      "only 3transactions in Tolleson city\n",
      "only 2transactions in Buckeye town 5\n"
     ]
    },
    {
     "data": {
      "text/html": [
       "<table><tr><td>neighborhood</td><td>Period</td><td>Growth Rate</td><td>P Value</td><td>n</td></tr><tr><td>Gilbert town 0</td><td>2016</td><td>1.18</td><td>54.66</td><td>615</td></tr></table>"
      ],
      "text/plain": [
       "[['neighborhood', 'Period', 'Growth Rate', 'P Value', 'n'],\n",
       " ['Gilbert town 0', Period('2016', 'A-DEC'), 1.18, 54.66, 615]]"
      ]
     },
     "execution_count": 75,
     "metadata": {},
     "output_type": "execute_result"
    },
    {
     "data": {
      "image/png": "[encoded data removed]",
      "text/plain": [
       "<matplotlib.figure.Figure at 0x11f5c19d0>"
      ]
     },
     "metadata": {},
     "output_type": "display_data"
    },
    {
     "data": {
      "image/png": "[encoded data removed]",
      "text/plain": [
       "<matplotlib.figure.Figure at 0x12454ad90>"
      ]
     },
     "metadata": {},
     "output_type": "display_data"
    }
   ],
   "source": [
    "for hood in paired[boundary].unique():\n",
    "    sorted_zips.append([hood, len(paired[paired[boundary] == hood])])\n",
    "    \n",
    "for hood, n in sorted(sorted_zips, key =lambda x: x[1], reverse=True):\n",
    "    d = paired[paired[boundary] == hood]\n",
    "    if len(d) < 500:\n",
    "        print 'only ' + `len(d)` + 'transactions in ' + hood\n",
    "        continue\n",
    "\n",
    "    res = sm.ols(formula=\"np.log(price) ~ period + address\", data=d).fit()\n",
    "\n",
    "    #calculate index\n",
    "    linked = res.params[res.params.index.str.contains('Period')]\n",
    "    linked.name = \"Index\"\n",
    "    linked[0] = 100\n",
    "    \n",
    "    growth = pd.Series(linked, copy=True)\n",
    "    growth.name = \"Growth Rate\"\n",
    "    growth[0] = 0\n",
    "    for i in range(1,len(linked)):\n",
    "        linked[i] = (np.exp(res.params[i]))*100\n",
    "        growth[i] = linked[i]/linked[i-1] - 1\n",
    "\n",
    "    # add P values of each prediction\n",
    "    p = res.pvalues[res.params.index.str.contains('Period')] * 100\n",
    "    p.name = \"P value\"\n",
    "    index = pd.concat([linked, growth, p], axis=1)\n",
    "    \n",
    "    index.index = pd.to_datetime(index.index.str.split(\"'\").str.get(1)).to_period(z)\n",
    "    \n",
    "    # update the price adjustment index to be used for later regressions\n",
    "    price_adjustment_index[hood] = index['Index']  \n",
    "    \n",
    "    last = index.tail(1)\n",
    "    table.append([hood\n",
    "                  ,last.index[0]\n",
    "                  ,round(last.iloc[0]['Growth Rate'] * 100,2)\n",
    "                  ,round(last.iloc[0]['P value'], 2)\n",
    "                  ,n])\n",
    "\n",
    "    index[['Index','P value']].plot(title=hood)\n",
    "    index[['Growth Rate']].plot()\n",
    "\n",
    "table"
   ]
  },
  {
   "cell_type": "code",
   "execution_count": 76,
   "metadata": {
    "collapsed": false
   },
   "outputs": [],
   "source": [
    "def g(listing): \n",
    "#     print 'price: ' + `listing.price`\n",
    "#     print 'year: ' + `listing.year`\n",
    "#     print 'hood: ' + listing[boundary]\n",
    "    try:\n",
    "        index_value = price_adjustment_index[listing[boundary]][listing.year] / price_adjustment_index[listing[boundary]][2016]\n",
    "    except KeyError:\n",
    "        try:\n",
    "            index_value = price_adjustment_index['city'][listing.year] / price_adjustment_index['city'][2016]\n",
    "        except KeyError:\n",
    "            index_value = 1\n",
    "#     print index_value\n",
    "    indexed_price = listing.price * index_value\n",
    "#     print 'adj price: ' + `indexed_price`\n",
    "    \n",
    "    return indexed_price\n",
    "    "
   ]
  },
  {
   "cell_type": "code",
   "execution_count": 77,
   "metadata": {
    "collapsed": false,
    "scrolled": true
   },
   "outputs": [],
   "source": [
    "indexed_price = data.apply(g, axis=1)\n",
    "indexed_price.name = \"indexed_price\"\n",
    "data = pd.concat([data,indexed_price],axis=1)"
   ]
  },
  {
   "cell_type": "code",
   "execution_count": 78,
   "metadata": {
    "collapsed": false
   },
   "outputs": [
    {
     "data": {
      "text/html": [
       "<div>\n",
       "<table border=\"1\" class=\"dataframe\">\n",
       "  <thead>\n",
       "    <tr style=\"text-align: right;\">\n",
       "      <th></th>\n",
       "      <th>indexed_price</th>\n",
       "      <th>price</th>\n",
       "      <th>year</th>\n",
       "    </tr>\n",
       "  </thead>\n",
       "  <tbody>\n",
       "    <tr>\n",
       "      <th>0</th>\n",
       "      <td>1218.626036</td>\n",
       "      <td>1250</td>\n",
       "      <td>2015</td>\n",
       "    </tr>\n",
       "    <tr>\n",
       "      <th>1</th>\n",
       "      <td>1300.000000</td>\n",
       "      <td>1300</td>\n",
       "      <td>2016</td>\n",
       "    </tr>\n",
       "    <tr>\n",
       "      <th>2</th>\n",
       "      <td>1300.000000</td>\n",
       "      <td>1300</td>\n",
       "      <td>2016</td>\n",
       "    </tr>\n",
       "    <tr>\n",
       "      <th>3</th>\n",
       "      <td>1944.927153</td>\n",
       "      <td>1995</td>\n",
       "      <td>2015</td>\n",
       "    </tr>\n",
       "    <tr>\n",
       "      <th>4</th>\n",
       "      <td>1218.626036</td>\n",
       "      <td>1250</td>\n",
       "      <td>2015</td>\n",
       "    </tr>\n",
       "  </tbody>\n",
       "</table>\n",
       "</div>"
      ],
      "text/plain": [
       "   indexed_price  price year\n",
       "0    1218.626036   1250 2015\n",
       "1    1300.000000   1300 2016\n",
       "2    1300.000000   1300 2016\n",
       "3    1944.927153   1995 2015\n",
       "4    1218.626036   1250 2015"
      ]
     },
     "execution_count": 78,
     "metadata": {},
     "output_type": "execute_result"
    }
   ],
   "source": [
    "data[['indexed_price','price','year']].head()"
   ]
  },
  {
   "cell_type": "code",
   "execution_count": 79,
   "metadata": {
    "collapsed": false
   },
   "outputs": [
    {
     "data": {
      "text/plain": [
       "datetime.date"
      ]
     },
     "execution_count": 79,
     "metadata": {},
     "output_type": "execute_result"
    }
   ],
   "source": [
    "type(data.date.values[4])"
   ]
  },
  {
   "cell_type": "code",
   "execution_count": 80,
   "metadata": {
    "collapsed": false
   },
   "outputs": [
    {
     "name": "stdout",
     "output_type": "stream",
     "text": [
      "number of transactions in data: 50661\texcluding latest 3649 transactions\n",
      "number of transactions in data after exclusion: 47012\n"
     ]
    }
   ],
   "source": [
    "from datetime import datetime\n",
    "out_of_sample_data = data[data.date > datetime.strptime('2016-09-30','%Y-%m-%d').date()]\n",
    "# out_of_sample_data.reset_index(inplace=True)\n",
    "print \"number of transactions in data: \" + `len(data)` + \"\\texcluding latest \" + `len(out_of_sample_data)` + \" transactions\"\n",
    "in_sample_data = data[~data.date.isin(out_of_sample_data.date)]\n",
    "print \"number of transactions in data after exclusion: \" + `len(in_sample_data)`\n"
   ]
  },
  {
   "cell_type": "code",
   "execution_count": 81,
   "metadata": {
    "collapsed": false
   },
   "outputs": [
    {
     "name": "stdout",
     "output_type": "stream",
     "text": [
      "('shoving missing zipcode into in_sample_data : ?', '85712')\n"
     ]
    }
   ],
   "source": [
    "for z in set(out_of_sample_data.zipcode.unique()).difference(in_sample_data.zipcode.unique()):\n",
    "    print(\"shoving missing zipcode into in_sample_data : ?\", z)\n",
    "    in_sample_data = in_sample_data.append(out_of_sample_data[out_of_sample_data.zipcode == z].head(1)) "
   ]
  },
  {
   "cell_type": "code",
   "execution_count": null,
   "metadata": {
    "collapsed": false,
    "scrolled": false
   },
   "outputs": [],
   "source": [
    "# dist_to_park unit is 1 degree of latitude or 69 miles north south or 54 miles east west\n",
    "\n",
    "result = sm.ols(formula=\"indexed_price ~ address +zipcode:sqft\", data=in_sample_data).fit()\n",
    "# bedrooms + bathrooms + elevation + age + dist_to_park + near_golf_course + has_pool + garage\n",
    "result.summary()"
   ]
  },
  {
   "cell_type": "code",
   "execution_count": 83,
   "metadata": {
    "collapsed": false
   },
   "outputs": [
    {
     "name": "stdout",
     "output_type": "stream",
     "text": [
      "['85390', '85034', '85142', '85281', '36601', '85361', '85004', '85139']\n",
      "[]\n"
     ]
    }
   ],
   "source": [
    "print list(set(in_sample_data.zipcode.unique()).difference(out_of_sample_data.zipcode.unique()))\n",
    "\n",
    "print list(set(out_of_sample_data.zipcode.unique()).difference(in_sample_data.zipcode.unique()))\n",
    "\n"
   ]
  },
  {
   "cell_type": "code",
   "execution_count": 84,
   "metadata": {
    "collapsed": false
   },
   "outputs": [
    {
     "name": "stdout",
     "output_type": "stream",
     "text": [
      "('shoving missing zipcode into out_of_sample_data : ?', '85390')\n",
      "('shoving missing zipcode into out_of_sample_data : ?', '85034')\n",
      "('shoving missing zipcode into out_of_sample_data : ?', '85142')\n",
      "('shoving missing zipcode into out_of_sample_data : ?', '85281')\n",
      "('shoving missing zipcode into out_of_sample_data : ?', '36601')\n",
      "('shoving missing zipcode into out_of_sample_data : ?', '85361')\n",
      "('shoving missing zipcode into out_of_sample_data : ?', '85004')\n",
      "('shoving missing zipcode into out_of_sample_data : ?', '85139')\n"
     ]
    }
   ],
   "source": [
    "for z in set(in_sample_data.zipcode.unique()).difference(out_of_sample_data.zipcode.unique()):\n",
    "    print(\"shoving missing zipcode into out_of_sample_data : ?\", z)\n",
    "    out_of_sample_data = out_of_sample_data.append(in_sample_data[in_sample_data.zipcode == z].head(1)) "
   ]
  },
  {
   "cell_type": "code",
   "execution_count": 85,
   "metadata": {
    "collapsed": false
   },
   "outputs": [
    {
     "name": "stdout",
     "output_type": "stream",
     "text": [
      "125\n",
      "125\n"
     ]
    }
   ],
   "source": [
    "print len(out_of_sample_data.zipcode.unique())\n",
    "print len(in_sample_data.zipcode.unique())"
   ]
  },
  {
   "cell_type": "code",
   "execution_count": 86,
   "metadata": {
    "collapsed": false
   },
   "outputs": [
    {
     "name": "stdout",
     "output_type": "stream",
     "text": [
      "length of prediction from .predict 3657\n",
      "0    2372.242693\n",
      "1    2372.242693\n",
      "2    1915.580883\n",
      "3    2249.265658\n",
      "4    2249.265658\n",
      "Name: prediction, dtype: float64\n",
      "length of prediction price 3657\n",
      "length of out of sample 3657\n",
      "0    102.757307\n",
      "1    102.757307\n",
      "2   -215.580883\n",
      "3   -254.265658\n",
      "4   -254.265658\n",
      "Name: error, dtype: float64\n"
     ]
    }
   ],
   "source": [
    "import patsy\n",
    "x = patsy.dmatrix(\"bedrooms + bathrooms + elevation + age + dist_to_park + near_golf_course + has_pool + garage + zipcode:sqft\", data=out_of_sample_data) \n",
    "#  \n",
    "p = result.predict(x, transform=False)\n",
    "print 'length of prediction from .predict ' + `len(p)`\n",
    "pprice_out = pd.Series(p)\n",
    "pprice_out.name = \"prediction\"\n",
    "print pprice_out.head()\n",
    "print 'length of prediction price ' + `len(pprice_out)`\n",
    "print 'length of out of sample ' + `len(out_of_sample_data)`\n",
    "errors_out = out_of_sample_data.indexed_price.values - pprice_out\n",
    "errors_out.name = 'error'\n",
    "print errors_out.head()\n"
   ]
  },
  {
   "cell_type": "code",
   "execution_count": 87,
   "metadata": {
    "collapsed": false
   },
   "outputs": [
    {
     "name": "stdout",
     "output_type": "stream",
     "text": [
      "length of OOS data: 3657\n",
      "length of prediction: 3657\n"
     ]
    }
   ],
   "source": [
    "print 'length of OOS data: ' + `len(out_of_sample_data)`\n",
    "print 'length of prediction: ' + `len(pprice_out)`\n",
    "out_of_sample_data.reset_index(drop=True, inplace=True)\n",
    "out_of_sample_result = pd.concat([out_of_sample_data,pprice_out,errors_out],axis=1)\n",
    "\n"
   ]
  },
  {
   "cell_type": "code",
   "execution_count": 96,
   "metadata": {
    "collapsed": false
   },
   "outputs": [
    {
     "name": "stdout",
     "output_type": "stream",
     "text": [
      "('r-squared: ', 0.61474137020046249)\n",
      "('mse: ', 131025.62574467785)\n"
     ]
    }
   ],
   "source": [
    "from sklearn import metrics\n",
    "\n",
    "print( \"r-squared: \", metrics.r2_score(out_of_sample_data.indexed_price.values,p))\n",
    "print( \"mse: \", metrics.mean_squared_error(out_of_sample_data.indexed_price.values,p))"
   ]
  },
  {
   "cell_type": "code",
   "execution_count": 89,
   "metadata": {
    "collapsed": false
   },
   "outputs": [
    {
     "data": {
      "text/html": [
       "<div>\n",
       "<table border=\"1\" class=\"dataframe\">\n",
       "  <thead>\n",
       "    <tr style=\"text-align: right;\">\n",
       "      <th></th>\n",
       "      <th>address</th>\n",
       "      <th>price</th>\n",
       "      <th>prediction</th>\n",
       "      <th>error</th>\n",
       "      <th>zipcode</th>\n",
       "    </tr>\n",
       "  </thead>\n",
       "  <tbody>\n",
       "    <tr>\n",
       "      <th>0</th>\n",
       "      <td>9423 E Camino Del Santo, Scottsdale, AZ 85260</td>\n",
       "      <td>2475</td>\n",
       "      <td>2372.242693</td>\n",
       "      <td>102.757307</td>\n",
       "      <td>85260</td>\n",
       "    </tr>\n",
       "    <tr>\n",
       "      <th>1</th>\n",
       "      <td>9423 E Camino Del Santo, Scottsdale, AZ 85260</td>\n",
       "      <td>2475</td>\n",
       "      <td>2372.242693</td>\n",
       "      <td>102.757307</td>\n",
       "      <td>85260</td>\n",
       "    </tr>\n",
       "    <tr>\n",
       "      <th>2</th>\n",
       "      <td>10032 E Gray Rd, Scottsdale, AZ 85260</td>\n",
       "      <td>1700</td>\n",
       "      <td>1915.580883</td>\n",
       "      <td>-215.580883</td>\n",
       "      <td>85260</td>\n",
       "    </tr>\n",
       "    <tr>\n",
       "      <th>3</th>\n",
       "      <td>9273 E Pershing Ave, Scottsdale, AZ 85260</td>\n",
       "      <td>1995</td>\n",
       "      <td>2249.265658</td>\n",
       "      <td>-254.265658</td>\n",
       "      <td>85260</td>\n",
       "    </tr>\n",
       "    <tr>\n",
       "      <th>4</th>\n",
       "      <td>9273 E Pershing Ave, Scottsdale, AZ 85260</td>\n",
       "      <td>1995</td>\n",
       "      <td>2249.265658</td>\n",
       "      <td>-254.265658</td>\n",
       "      <td>85260</td>\n",
       "    </tr>\n",
       "  </tbody>\n",
       "</table>\n",
       "</div>"
      ],
      "text/plain": [
       "                                          address  price   prediction  \\\n",
       "0  9423 E Camino Del Santo, Scottsdale, AZ 85260    2475  2372.242693   \n",
       "1  9423 E Camino Del Santo, Scottsdale, AZ 85260    2475  2372.242693   \n",
       "2          10032 E Gray Rd, Scottsdale, AZ 85260    1700  1915.580883   \n",
       "3      9273 E Pershing Ave, Scottsdale, AZ 85260    1995  2249.265658   \n",
       "4      9273 E Pershing Ave, Scottsdale, AZ 85260    1995  2249.265658   \n",
       "\n",
       "        error zipcode  \n",
       "0  102.757307   85260  \n",
       "1  102.757307   85260  \n",
       "2 -215.580883   85260  \n",
       "3 -254.265658   85260  \n",
       "4 -254.265658   85260  "
      ]
     },
     "execution_count": 89,
     "metadata": {},
     "output_type": "execute_result"
    }
   ],
   "source": [
    "out_of_sample_result[['address','price','prediction','error','zipcode']].head()"
   ]
  },
  {
   "cell_type": "code",
   "execution_count": 90,
   "metadata": {
    "collapsed": false
   },
   "outputs": [
    {
     "name": "stdout",
     "output_type": "stream",
     "text": [
      "0.0981206828774\n"
     ]
    }
   ],
   "source": [
    "percent_errors_out = (1.0 * out_of_sample_result.error.abs() / out_of_sample_result.price)\n",
    "percent_errors_out.name = 'error'\n",
    "\n",
    "print percent_errors_out.median()\n",
    "\n",
    "hooderrors_out = out_of_sample_result[['zipcode']]\n",
    "hooderrors_out = pd.concat([hooderrors_out,errors_out.abs()],axis=1)\n",
    "hood_group_out = hooderrors_out.groupby('zipcode')"
   ]
  },
  {
   "cell_type": "code",
   "execution_count": 91,
   "metadata": {
    "collapsed": false
   },
   "outputs": [
    {
     "name": "stdout",
     "output_type": "stream",
     "text": [
      "                error    \n",
      "               median len\n",
      "zipcode                  \n",
      "36601    8.882580e-09   1\n",
      "85003    1.971802e+02   6\n",
      "85004    8.650464e+02   1\n",
      "85006    1.561332e+02  19\n",
      "85007    3.955130e+02   7\n"
     ]
    },
    {
     "data": {
      "text/plain": [
       "<matplotlib.axes._subplots.AxesSubplot at 0x11fa44410>"
      ]
     },
     "execution_count": 91,
     "metadata": {},
     "output_type": "execute_result"
    },
    {
     "data": {
      "image/png": "[encoded data removed]",
      "text/plain": [
       "<matplotlib.figure.Figure at 0x11fa54e90>"
      ]
     },
     "metadata": {},
     "output_type": "display_data"
    }
   ],
   "source": [
    "error_avg_out = hood_group_out.agg([np.median,len])\n",
    "print error_avg_out.head()\n",
    "error_avg_out.sort_values(by=('error','len'),ascending=False,inplace=True)\n",
    "error_avg_out.plot(kind='bar',figsize=(20,10))"
   ]
  },
  {
   "cell_type": "code",
   "execution_count": 92,
   "metadata": {
    "collapsed": false
   },
   "outputs": [],
   "source": [
    "# out_of_sample_result[out_of_sample_result.zipcode == '85251'][['property_id','address','date','price','prediction','sqft']]"
   ]
  },
  {
   "cell_type": "code",
   "execution_count": 93,
   "metadata": {
    "collapsed": false,
    "scrolled": false
   },
   "outputs": [
    {
     "data": {
      "text/html": [
       "<table><tr><td>zipcode</td><td>sfh</td><td>multifamily</td></tr></table>"
      ],
      "text/plain": [
       "[['zipcode', 'sfh', 'multifamily']]"
      ]
     },
     "execution_count": 93,
     "metadata": {},
     "output_type": "execute_result"
    }
   ],
   "source": [
    "output = [['zipcode','sfh','multifamily']]\n",
    "table = ListTable()\n",
    "table.append(output[0])\n",
    "\n",
    "for row in data.zipcode.unique():\n",
    "    output_row = [row, '99', '99']\n",
    "    for i in result.params.index:\n",
    "        if 'zipcode' not in i: continue\n",
    "\n",
    "        if 'zipcode[' + row + ']' in i:\n",
    "            if 'home_type[mfh]' in i:\n",
    "                output_row[2] = `result.params[i]`\n",
    "                output.append(output_row)\n",
    "                table.append(output_row)\n",
    "\n",
    "            if 'home_type[sfh]' in i:\n",
    "                output_row[1] = `result.params[i]`\n",
    "\n",
    "table"
   ]
  },
  {
   "cell_type": "code",
   "execution_count": 94,
   "metadata": {
    "collapsed": false
   },
   "outputs": [],
   "source": [
    "path = 'rentalnerd_importer/lib/tasks/model_files/'\n",
    "\n",
    "with open(path + 'model_zipcode_' + city + '.csv', 'wb') as csvfile:\n",
    "    hoodwriter = csv.writer(csvfile, delimiter=',', quotechar='|', quoting=csv.QUOTE_MINIMAL)\n",
    "    \n",
    "    for i in output:\n",
    "        hoodwriter.writerow(i)"
   ]
  },
  {
   "cell_type": "code",
   "execution_count": 95,
   "metadata": {
    "collapsed": false
   },
   "outputs": [
    {
     "ename": "AttributeError",
     "evalue": "'Series' object has no attribute 'level'",
     "output_type": "error",
     "traceback": [
      "\u001b[0;31m---------------------------------------------------------------------------\u001b[0m",
      "\u001b[0;31mAttributeError\u001b[0m                            Traceback (most recent call last)",
      "\u001b[0;32m<ipython-input-95-2333f4e9d51a>\u001b[0m in \u001b[0;36m<module>\u001b[0;34m()\u001b[0m\n\u001b[1;32m     13\u001b[0m     \u001b[0mmodelwriter\u001b[0m\u001b[0;34m.\u001b[0m\u001b[0mwriterow\u001b[0m\u001b[0;34m(\u001b[0m\u001b[0;34m[\u001b[0m\u001b[0;34m'elevation'\u001b[0m\u001b[0;34m,\u001b[0m \u001b[0mresult\u001b[0m\u001b[0;34m.\u001b[0m\u001b[0mparams\u001b[0m\u001b[0;34m.\u001b[0m\u001b[0melevation\u001b[0m\u001b[0;34m]\u001b[0m\u001b[0;34m)\u001b[0m\u001b[0;34m\u001b[0m\u001b[0m\n\u001b[1;32m     14\u001b[0m     \u001b[0mmodelwriter\u001b[0m\u001b[0;34m.\u001b[0m\u001b[0mwriterow\u001b[0m\u001b[0;34m(\u001b[0m\u001b[0;34m[\u001b[0m\u001b[0;34m'near_golf_course'\u001b[0m\u001b[0;34m,\u001b[0m \u001b[0mresult\u001b[0m\u001b[0;34m.\u001b[0m\u001b[0mparams\u001b[0m\u001b[0;34m[\u001b[0m\u001b[0;34m'near_golf_course[T.True]'\u001b[0m\u001b[0;34m]\u001b[0m\u001b[0;34m]\u001b[0m\u001b[0;34m)\u001b[0m\u001b[0;34m\u001b[0m\u001b[0m\n\u001b[0;32m---> 15\u001b[0;31m     \u001b[0mmodelwriter\u001b[0m\u001b[0;34m.\u001b[0m\u001b[0mwriterow\u001b[0m\u001b[0;34m(\u001b[0m\u001b[0;34m[\u001b[0m\u001b[0;34m'level'\u001b[0m\u001b[0;34m,\u001b[0m \u001b[0mresult\u001b[0m\u001b[0;34m.\u001b[0m\u001b[0mparams\u001b[0m\u001b[0;34m.\u001b[0m\u001b[0mlevel\u001b[0m\u001b[0;34m]\u001b[0m\u001b[0;34m)\u001b[0m\u001b[0;34m\u001b[0m\u001b[0m\n\u001b[0m\u001b[1;32m     16\u001b[0m     \u001b[0mmodelwriter\u001b[0m\u001b[0;34m.\u001b[0m\u001b[0mwriterow\u001b[0m\u001b[0;34m(\u001b[0m\u001b[0;34m[\u001b[0m\u001b[0;34m'age'\u001b[0m\u001b[0;34m,\u001b[0m \u001b[0mresult\u001b[0m\u001b[0;34m.\u001b[0m\u001b[0mparams\u001b[0m\u001b[0;34m.\u001b[0m\u001b[0mage\u001b[0m\u001b[0;34m]\u001b[0m\u001b[0;34m)\u001b[0m\u001b[0;34m\u001b[0m\u001b[0m\n\u001b[1;32m     17\u001b[0m     \u001b[0mmodelwriter\u001b[0m\u001b[0;34m.\u001b[0m\u001b[0mwriterow\u001b[0m\u001b[0;34m(\u001b[0m\u001b[0;34m[\u001b[0m\u001b[0;34m'garage'\u001b[0m\u001b[0;34m,\u001b[0m \u001b[0mresult\u001b[0m\u001b[0;34m.\u001b[0m\u001b[0mparams\u001b[0m\u001b[0;34m.\u001b[0m\u001b[0mgarage\u001b[0m\u001b[0;34m]\u001b[0m\u001b[0;34m)\u001b[0m\u001b[0;34m\u001b[0m\u001b[0m\n",
      "\u001b[0;32m/usr/local/lib/python2.7/site-packages/pandas/core/generic.pyc\u001b[0m in \u001b[0;36m__getattr__\u001b[0;34m(self, name)\u001b[0m\n\u001b[1;32m   2244\u001b[0m                 \u001b[0;32mreturn\u001b[0m \u001b[0mself\u001b[0m\u001b[0;34m[\u001b[0m\u001b[0mname\u001b[0m\u001b[0;34m]\u001b[0m\u001b[0;34m\u001b[0m\u001b[0m\n\u001b[1;32m   2245\u001b[0m             raise AttributeError(\"'%s' object has no attribute '%s'\" %\n\u001b[0;32m-> 2246\u001b[0;31m                                  (type(self).__name__, name))\n\u001b[0m\u001b[1;32m   2247\u001b[0m \u001b[0;34m\u001b[0m\u001b[0m\n\u001b[1;32m   2248\u001b[0m     \u001b[0;32mdef\u001b[0m \u001b[0m__setattr__\u001b[0m\u001b[0;34m(\u001b[0m\u001b[0mself\u001b[0m\u001b[0;34m,\u001b[0m \u001b[0mname\u001b[0m\u001b[0;34m,\u001b[0m \u001b[0mvalue\u001b[0m\u001b[0;34m)\u001b[0m\u001b[0;34m:\u001b[0m\u001b[0;34m\u001b[0m\u001b[0m\n",
      "\u001b[0;31mAttributeError\u001b[0m: 'Series' object has no attribute 'level'"
     ]
    }
   ],
   "source": [
    "dtype = [('Effect', 'S100'), ('Coefficient', float)]\n",
    "\n",
    "with open(path + 'model_features_' + city + '.csv', 'wb') as csvfile:\n",
    "    modelwriter = csv.writer(csvfile, delimiter=',', quotechar='|', quoting=csv.QUOTE_MINIMAL)\n",
    "\n",
    "    header = ['Effect','Coefficient']\n",
    "    table.append(header)\n",
    "    modelwriter.writerow(header)\n",
    "    modelwriter.writerow(['base_rent', result.params.Intercept])  # hardcode 0 as base rent\n",
    "    modelwriter.writerow(['bedrooms', result.params.bedrooms])\n",
    "    modelwriter.writerow(['bathrooms', result.params.bathrooms])\n",
    "    modelwriter.writerow(['dist_to_park', result.params.dist_to_park])\n",
    "    modelwriter.writerow(['elevation', result.params.elevation])\n",
    "    modelwriter.writerow(['near_golf_course', result.params['near_golf_course[T.True]']])\n",
    "    modelwriter.writerow(['level', result.params.level])\n",
    "    modelwriter.writerow(['age', result.params.age])\n",
    "    modelwriter.writerow(['garage', result.params.garage])\n",
    "    modelwriter.writerow(['has_pool', result.params['has_pool[T.True]']])\n",
    "    modelwriter.writerow(['mean square error of residuals', result.mse_resid])\n",
    "\n",
    "result.cov_params().to_csv(path + 'model_covs_' + city + '.csv')"
   ]
  },
  {
   "cell_type": "code",
   "execution_count": null,
   "metadata": {
    "collapsed": false
   },
   "outputs": [],
   "source": [
    "output = [['district_id','coefficient']]\n",
    "table = ListTable()\n",
    "table.append(output[0])\n",
    "\n",
    "for row in sorted(data.school_district_id.unique()):\n",
    "    output_row = [row, '99']\n",
    "    for i in result.params.index:\n",
    "        if 'school_district_id' not in i: continue\n",
    "\n",
    "        if 'school_district_id)[T.' + `row` + ']' in i:\n",
    "            output_row[1] = `result.params[i]`\n",
    "            output.append(output_row)\n",
    "            table.append(output_row)\n",
    "\n",
    "table"
   ]
  },
  {
   "cell_type": "code",
   "execution_count": null,
   "metadata": {
    "collapsed": false
   },
   "outputs": [],
   "source": [
    "with open(path + 'model_schools_' + city + '.csv', 'wb') as csvfile:\n",
    "    schoolswriter = csv.writer(csvfile, delimiter=',', quotechar='|', quoting=csv.QUOTE_MINIMAL)\n",
    "    \n",
    "    for i in output:\n",
    "        schoolswriter.writerow(i)"
   ]
  },
  {
   "cell_type": "code",
   "execution_count": null,
   "metadata": {
    "collapsed": false
   },
   "outputs": [],
   "source": [
    "errors = result.resid\n",
    "errors.name = 'error'\n",
    "pprice = data.indexed_price - errors\n",
    "pprice.name = \"prediction\"\n",
    "data = pd.concat([data, errors], axis=1)\n",
    "data = pd.concat([data, pprice], axis=1)\n",
    "\n",
    "# visualize the relationship between the features and the response using scatterplots\n",
    "errors.sort_values(inplace=True)\n",
    "errors.plot(kind='bar').get_xaxis().set_ticks([])\n",
    "\n",
    "# show errors by neighborhood to see if there are any neighborhoods with funky differences\n",
    "\n",
    "hooderrors = data[['zipcode']]\n",
    "hooderrors = pd.concat([hooderrors,errors.abs()],axis=1)\n",
    "hood_group = hooderrors.groupby('zipcode')"
   ]
  },
  {
   "cell_type": "code",
   "execution_count": null,
   "metadata": {
    "collapsed": false,
    "scrolled": false
   },
   "outputs": [],
   "source": [
    "error_avg = hood_group.agg([np.median,len])\n",
    "error_avg.sort_values(by=('error','len'),ascending=False,inplace=True)\n",
    "error_avg.plot(kind='bar',figsize=(20,10))"
   ]
  },
  {
   "cell_type": "code",
   "execution_count": null,
   "metadata": {
    "collapsed": false
   },
   "outputs": [],
   "source": [
    "# show errors by year to see if there are any years with funky differences\n",
    "yearerrors = data[['year']]\n",
    "percent_errors = (1.0 * errors.abs() / data.price)\n",
    "percent_errors.name = 'error'\n",
    "yearerrors = pd.concat([yearerrors,percent_errors],axis=1)\n",
    "\n",
    "year_group = yearerrors.groupby('year')\n",
    "error_avg = year_group.median()\n",
    "error_avg.plot(kind='bar')\n",
    "print error_avg\n",
    "\n",
    "# show errors by source to see if there are any sources have noisy data\n",
    "\n",
    "srcerrors = data[['source']]\n",
    "\n",
    "srcerrors = pd.concat([srcerrors,percent_errors],axis=1)\n",
    "\n",
    "src_group = srcerrors.groupby('source')\n",
    "error_avg = src_group.median()\n",
    "error_avg.sort_values(by='error',ascending=False).plot(kind='bar')\n"
   ]
  },
  {
   "cell_type": "code",
   "execution_count": null,
   "metadata": {
    "collapsed": false
   },
   "outputs": [],
   "source": []
  },
  {
   "cell_type": "code",
   "execution_count": null,
   "metadata": {
    "collapsed": false,
    "scrolled": false
   },
   "outputs": [],
   "source": [
    " "
   ]
  },
  {
   "cell_type": "code",
   "execution_count": null,
   "metadata": {
    "collapsed": false
   },
   "outputs": [],
   "source": []
  },
  {
   "cell_type": "code",
   "execution_count": null,
   "metadata": {
    "collapsed": true
   },
   "outputs": [],
   "source": []
  },
  {
   "cell_type": "code",
   "execution_count": null,
   "metadata": {
    "collapsed": true
   },
   "outputs": [],
   "source": []
  },
  {
   "cell_type": "code",
   "execution_count": null,
   "metadata": {
    "collapsed": true
   },
   "outputs": [],
   "source": []
  }
 ],
 "metadata": {
  "kernelspec": {
   "display_name": "Python 2",
   "language": "python",
   "name": "python2"
  },
  "language_info": {
   "codemirror_mode": {
    "name": "ipython",
    "version": 2
   },
   "file_extension": ".py",
   "mimetype": "text/x-python",
   "name": "python",
   "nbconvert_exporter": "python",
   "pygments_lexer": "ipython2",
   "version": "2.7.10"
  }
 },
 "nbformat": 4,
 "nbformat_minor": 0
}
