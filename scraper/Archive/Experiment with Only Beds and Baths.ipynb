{
 "cells": [
  {
   "cell_type": "code",
   "execution_count": 11,
   "metadata": {
    "collapsed": false
   },
   "outputs": [
    {
     "data": {
      "text/html": [
       "<div>\n",
       "<table border=\"1\" class=\"dataframe\">\n",
       "  <thead>\n",
       "    <tr style=\"text-align: right;\">\n",
       "      <th></th>\n",
       "      <th>Neighborhood</th>\n",
       "      <th>Bedrooms</th>\n",
       "      <th>Bathrooms</th>\n",
       "      <th>Price</th>\n",
       "      <th>Sqft</th>\n",
       "      <th>Date</th>\n",
       "    </tr>\n",
       "    <tr>\n",
       "      <th>Address</th>\n",
       "      <th></th>\n",
       "      <th></th>\n",
       "      <th></th>\n",
       "      <th></th>\n",
       "      <th></th>\n",
       "      <th></th>\n",
       "    </tr>\n",
       "  </thead>\n",
       "  <tbody>\n",
       "    <tr>\n",
       "      <th>539 Octavia Street #9</th>\n",
       "      <td>Hayes Valley</td>\n",
       "      <td>0</td>\n",
       "      <td>1</td>\n",
       "      <td>1500</td>\n",
       "      <td>180</td>\n",
       "      <td>2015-03-18</td>\n",
       "    </tr>\n",
       "    <tr>\n",
       "      <th>539 Octavia Street #11</th>\n",
       "      <td>Hayes Valley</td>\n",
       "      <td>0</td>\n",
       "      <td>1</td>\n",
       "      <td>1600</td>\n",
       "      <td>200</td>\n",
       "      <td>2015-03-30</td>\n",
       "    </tr>\n",
       "    <tr>\n",
       "      <th>539 Octavia Street #14</th>\n",
       "      <td>Hayes Valley</td>\n",
       "      <td>0</td>\n",
       "      <td>1</td>\n",
       "      <td>1850</td>\n",
       "      <td>221</td>\n",
       "      <td>2015-05-14</td>\n",
       "    </tr>\n",
       "    <tr>\n",
       "      <th>539 Octavia Street #12</th>\n",
       "      <td>Hayes Valley</td>\n",
       "      <td>0</td>\n",
       "      <td>1</td>\n",
       "      <td>1800</td>\n",
       "      <td>240</td>\n",
       "      <td>2015-04-16</td>\n",
       "    </tr>\n",
       "    <tr>\n",
       "      <th>539 Octavia Street #13</th>\n",
       "      <td>Hayes Valley</td>\n",
       "      <td>0</td>\n",
       "      <td>1</td>\n",
       "      <td>1995</td>\n",
       "      <td>280</td>\n",
       "      <td>2015-02-01</td>\n",
       "    </tr>\n",
       "  </tbody>\n",
       "</table>\n",
       "</div>"
      ],
      "text/plain": [
       "                        Neighborhood  Bedrooms  Bathrooms  Price  Sqft  \\\n",
       "Address                                                                  \n",
       "539 Octavia Street #9   Hayes Valley         0          1   1500   180   \n",
       "539 Octavia Street #11  Hayes Valley         0          1   1600   200   \n",
       "539 Octavia Street #14  Hayes Valley         0          1   1850   221   \n",
       "539 Octavia Street #12  Hayes Valley         0          1   1800   240   \n",
       "539 Octavia Street #13  Hayes Valley         0          1   1995   280   \n",
       "\n",
       "                             Date  \n",
       "Address                            \n",
       "539 Octavia Street #9  2015-03-18  \n",
       "539 Octavia Street #11 2015-03-30  \n",
       "539 Octavia Street #14 2015-05-14  \n",
       "539 Octavia Street #12 2015-04-16  \n",
       "539 Octavia Street #13 2015-02-01  "
      ]
     },
     "execution_count": 11,
     "metadata": {},
     "output_type": "execute_result"
    }
   ],
   "source": [
    "# imports\n",
    "import pandas as pd\n",
    "import matplotlib.pyplot as plt\n",
    "\n",
    "# this allows plots to appear directly in the notebook\n",
    "%matplotlib inline\n",
    "\n",
    "# read data into a DataFrame\n",
    "data = pd.read_csv('SF Listings - Ex Zillow.csv', index_col=0)\n",
    "del data['Term']\n",
    "del data['URL']\n",
    "del data['Source']\n",
    "del data['Rented']\n",
    "data['Date'] = pd.to_datetime(data['Date'])\n",
    "data.head()"
   ]
  },
  {
   "cell_type": "code",
   "execution_count": 12,
   "metadata": {
    "collapsed": false
   },
   "outputs": [
    {
     "data": {
      "text/html": [
       "<div>\n",
       "<table border=\"1\" class=\"dataframe\">\n",
       "  <thead>\n",
       "    <tr style=\"text-align: right;\">\n",
       "      <th></th>\n",
       "      <th>Neighborhood</th>\n",
       "      <th>Bedrooms</th>\n",
       "      <th>Bathrooms</th>\n",
       "      <th>Price</th>\n",
       "      <th>Sqft</th>\n",
       "      <th>Date</th>\n",
       "      <th>Year</th>\n",
       "      <th>Year_2011</th>\n",
       "      <th>Year_2012</th>\n",
       "      <th>Year_2013</th>\n",
       "      <th>Year_2014</th>\n",
       "    </tr>\n",
       "    <tr>\n",
       "      <th>Address</th>\n",
       "      <th></th>\n",
       "      <th></th>\n",
       "      <th></th>\n",
       "      <th></th>\n",
       "      <th></th>\n",
       "      <th></th>\n",
       "      <th></th>\n",
       "      <th></th>\n",
       "      <th></th>\n",
       "      <th></th>\n",
       "      <th></th>\n",
       "    </tr>\n",
       "  </thead>\n",
       "  <tbody>\n",
       "    <tr>\n",
       "      <th>539 Octavia Street #9</th>\n",
       "      <td>Hayes Valley</td>\n",
       "      <td>0</td>\n",
       "      <td>1</td>\n",
       "      <td>1500</td>\n",
       "      <td>180</td>\n",
       "      <td>2015-03-18</td>\n",
       "      <td>2015</td>\n",
       "      <td>0</td>\n",
       "      <td>0</td>\n",
       "      <td>0</td>\n",
       "      <td>0</td>\n",
       "    </tr>\n",
       "    <tr>\n",
       "      <th>539 Octavia Street #11</th>\n",
       "      <td>Hayes Valley</td>\n",
       "      <td>0</td>\n",
       "      <td>1</td>\n",
       "      <td>1600</td>\n",
       "      <td>200</td>\n",
       "      <td>2015-03-30</td>\n",
       "      <td>2015</td>\n",
       "      <td>0</td>\n",
       "      <td>0</td>\n",
       "      <td>0</td>\n",
       "      <td>0</td>\n",
       "    </tr>\n",
       "    <tr>\n",
       "      <th>539 Octavia Street #14</th>\n",
       "      <td>Hayes Valley</td>\n",
       "      <td>0</td>\n",
       "      <td>1</td>\n",
       "      <td>1850</td>\n",
       "      <td>221</td>\n",
       "      <td>2015-05-14</td>\n",
       "      <td>2015</td>\n",
       "      <td>0</td>\n",
       "      <td>0</td>\n",
       "      <td>0</td>\n",
       "      <td>0</td>\n",
       "    </tr>\n",
       "    <tr>\n",
       "      <th>539 Octavia Street #12</th>\n",
       "      <td>Hayes Valley</td>\n",
       "      <td>0</td>\n",
       "      <td>1</td>\n",
       "      <td>1800</td>\n",
       "      <td>240</td>\n",
       "      <td>2015-04-16</td>\n",
       "      <td>2015</td>\n",
       "      <td>0</td>\n",
       "      <td>0</td>\n",
       "      <td>0</td>\n",
       "      <td>0</td>\n",
       "    </tr>\n",
       "    <tr>\n",
       "      <th>539 Octavia Street #13</th>\n",
       "      <td>Hayes Valley</td>\n",
       "      <td>0</td>\n",
       "      <td>1</td>\n",
       "      <td>1995</td>\n",
       "      <td>280</td>\n",
       "      <td>2015-02-01</td>\n",
       "      <td>2015</td>\n",
       "      <td>0</td>\n",
       "      <td>0</td>\n",
       "      <td>0</td>\n",
       "      <td>0</td>\n",
       "    </tr>\n",
       "  </tbody>\n",
       "</table>\n",
       "</div>"
      ],
      "text/plain": [
       "                        Neighborhood  Bedrooms  Bathrooms  Price  Sqft  \\\n",
       "Address                                                                  \n",
       "539 Octavia Street #9   Hayes Valley         0          1   1500   180   \n",
       "539 Octavia Street #11  Hayes Valley         0          1   1600   200   \n",
       "539 Octavia Street #14  Hayes Valley         0          1   1850   221   \n",
       "539 Octavia Street #12  Hayes Valley         0          1   1800   240   \n",
       "539 Octavia Street #13  Hayes Valley         0          1   1995   280   \n",
       "\n",
       "                             Date  Year  Year_2011  Year_2012  Year_2013  \\\n",
       "Address                                                                    \n",
       "539 Octavia Street #9  2015-03-18  2015          0          0          0   \n",
       "539 Octavia Street #11 2015-03-30  2015          0          0          0   \n",
       "539 Octavia Street #14 2015-05-14  2015          0          0          0   \n",
       "539 Octavia Street #12 2015-04-16  2015          0          0          0   \n",
       "539 Octavia Street #13 2015-02-01  2015          0          0          0   \n",
       "\n",
       "                        Year_2014  \n",
       "Address                            \n",
       "539 Octavia Street #9           0  \n",
       "539 Octavia Street #11          0  \n",
       "539 Octavia Street #14          0  \n",
       "539 Octavia Street #12          0  \n",
       "539 Octavia Street #13          0  "
      ]
     },
     "execution_count": 12,
     "metadata": {},
     "output_type": "execute_result"
    }
   ],
   "source": [
    "# create year dummy variables (because date isn't very intuitive variable)\n",
    "data[\"Year\"] = pd.DatetimeIndex(data[\"Date\"]).to_period('Y')\n",
    "\n",
    "# create dummy variables using get_dummies, then exclude the first dummy column\n",
    "year_dummies = pd.get_dummies(data.Year, prefix='Year').iloc[:, :-1]\n",
    "\n",
    "# concatenate the dummy variable columns onto the original DataFrame (axis=0 means rows, axis=1 means columns)\n",
    "data = pd.concat([data, year_dummies], axis=1)\n",
    "\n",
    "data.head()"
   ]
  },
  {
   "cell_type": "code",
   "execution_count": 13,
   "metadata": {
    "collapsed": false
   },
   "outputs": [
    {
     "data": {
      "text/plain": [
       "<matplotlib.axes._subplots.AxesSubplot at 0x116d83210>"
      ]
     },
     "execution_count": 13,
     "metadata": {},
     "output_type": "execute_result"
    },
    {
     "data": {
      "image/png": "[encoded data removed]",
      "text/plain": [
       "<matplotlib.figure.Figure at 0x115eae3d0>"
      ]
     },
     "metadata": {},
     "output_type": "display_data"
    }
   ],
   "source": [
    "# visualize the relationship between the features and the response using scatterplots\n",
    "fig, axs = plt.subplots(1, 4, sharey=True)\n",
    "data.plot(kind='scatter', x='Bedrooms', y='Price', ax=axs[0], figsize=(16, 8))\n",
    "data.plot(kind='scatter', x='Bathrooms', y='Price', ax=axs[1])\n",
    "data.plot(kind='scatter', x='Sqft', y='Price', ax=axs[2])\n",
    "data.plot(x='Date', y='Price', ax=axs[3])"
   ]
  },
  {
   "cell_type": "code",
   "execution_count": 14,
   "metadata": {
    "collapsed": false
   },
   "outputs": [
    {
     "name": "stdout",
     "output_type": "stream",
     "text": [
      "1570.8861577\n"
     ]
    },
    {
     "data": {
      "text/plain": [
       "[('Bathrooms', 1349.8633496659022),\n",
       " ('Bedrooms', 563.28263030205653),\n",
       " (u'Year_2012', -1772.1097924670969),\n",
       " (u'Year_2013', -600.01426774885999),\n",
       " (u'Year_2011', -296.27126089882728),\n",
       " (u'Year_2014', -315.09032536814982)]"
      ]
     },
     "execution_count": 14,
     "metadata": {},
     "output_type": "execute_result"
    }
   ],
   "source": [
    "# follow the usual sklearn pattern: import, instantiate, fit\n",
    "from sklearn.linear_model import LinearRegression\n",
    "\n",
    "# create X and y\n",
    "feature_cols = list(set(data.columns) - set(['Year','Neighborhood','Date','Price','Sqft']))\n",
    "\n",
    "X = data[feature_cols]\n",
    "y = data.Price\n",
    "\n",
    "# instantiate, fit\n",
    "lm = LinearRegression()\n",
    "lm.fit(X, y)\n",
    "\n",
    "# print coefficients\n",
    "print lm.intercept_\n",
    "zip(feature_cols, lm.coef_)\n"
   ]
  },
  {
   "cell_type": "code",
   "execution_count": 15,
   "metadata": {
    "collapsed": false
   },
   "outputs": [
    {
     "name": "stdout",
     "output_type": "stream",
     "text": [
      "Residual sum of squares: 1661838.25\n",
      "Variance score: 0.47\n"
     ]
    }
   ],
   "source": [
    "import numpy as np\n",
    "# The mean square error\n",
    "print(\"Residual sum of squares: %.2f\"\n",
    "      % np.mean((lm.predict(X) - y) ** 2))\n",
    "# Explained variance score: 1 is perfect prediction\n",
    "print('Variance score: %.2f' % lm.score(X, y))"
   ]
  },
  {
   "cell_type": "code",
   "execution_count": 16,
   "metadata": {
    "collapsed": false
   },
   "outputs": [
    {
     "data": {
      "text/html": [
       "<div>\n",
       "<table border=\"1\" class=\"dataframe\">\n",
       "  <thead>\n",
       "    <tr style=\"text-align: right;\">\n",
       "      <th></th>\n",
       "      <th>Neighborhood</th>\n",
       "      <th>Bedrooms</th>\n",
       "      <th>Bathrooms</th>\n",
       "      <th>Price</th>\n",
       "      <th>Sqft</th>\n",
       "      <th>Date</th>\n",
       "      <th>Year</th>\n",
       "      <th>Year_2011</th>\n",
       "      <th>Year_2012</th>\n",
       "      <th>Year_2013</th>\n",
       "      <th>...</th>\n",
       "      <th>Neighborhood_South Beach</th>\n",
       "      <th>Neighborhood_South Financial District</th>\n",
       "      <th>Neighborhood_Telegraph Hill</th>\n",
       "      <th>Neighborhood_Van Ness-Civic Center</th>\n",
       "      <th>Neighborhood_Visitacion Valley</th>\n",
       "      <th>Neighborhood_Walnut Creek</th>\n",
       "      <th>Neighborhood_West Oakland</th>\n",
       "      <th>Neighborhood_Western Addition</th>\n",
       "      <th>Neighborhood_Westwood Park</th>\n",
       "      <th>Neighborhood_Yerba Buena</th>\n",
       "    </tr>\n",
       "    <tr>\n",
       "      <th>Address</th>\n",
       "      <th></th>\n",
       "      <th></th>\n",
       "      <th></th>\n",
       "      <th></th>\n",
       "      <th></th>\n",
       "      <th></th>\n",
       "      <th></th>\n",
       "      <th></th>\n",
       "      <th></th>\n",
       "      <th></th>\n",
       "      <th></th>\n",
       "      <th></th>\n",
       "      <th></th>\n",
       "      <th></th>\n",
       "      <th></th>\n",
       "      <th></th>\n",
       "      <th></th>\n",
       "      <th></th>\n",
       "      <th></th>\n",
       "      <th></th>\n",
       "      <th></th>\n",
       "    </tr>\n",
       "  </thead>\n",
       "  <tbody>\n",
       "    <tr>\n",
       "      <th>539 Octavia Street #9</th>\n",
       "      <td>Hayes Valley</td>\n",
       "      <td>0</td>\n",
       "      <td>1</td>\n",
       "      <td>1500</td>\n",
       "      <td>180</td>\n",
       "      <td>2015-03-18</td>\n",
       "      <td>2015</td>\n",
       "      <td>0</td>\n",
       "      <td>0</td>\n",
       "      <td>0</td>\n",
       "      <td>...</td>\n",
       "      <td>0</td>\n",
       "      <td>0</td>\n",
       "      <td>0</td>\n",
       "      <td>0</td>\n",
       "      <td>0</td>\n",
       "      <td>0</td>\n",
       "      <td>0</td>\n",
       "      <td>0</td>\n",
       "      <td>0</td>\n",
       "      <td>0</td>\n",
       "    </tr>\n",
       "    <tr>\n",
       "      <th>539 Octavia Street #11</th>\n",
       "      <td>Hayes Valley</td>\n",
       "      <td>0</td>\n",
       "      <td>1</td>\n",
       "      <td>1600</td>\n",
       "      <td>200</td>\n",
       "      <td>2015-03-30</td>\n",
       "      <td>2015</td>\n",
       "      <td>0</td>\n",
       "      <td>0</td>\n",
       "      <td>0</td>\n",
       "      <td>...</td>\n",
       "      <td>0</td>\n",
       "      <td>0</td>\n",
       "      <td>0</td>\n",
       "      <td>0</td>\n",
       "      <td>0</td>\n",
       "      <td>0</td>\n",
       "      <td>0</td>\n",
       "      <td>0</td>\n",
       "      <td>0</td>\n",
       "      <td>0</td>\n",
       "    </tr>\n",
       "    <tr>\n",
       "      <th>539 Octavia Street #14</th>\n",
       "      <td>Hayes Valley</td>\n",
       "      <td>0</td>\n",
       "      <td>1</td>\n",
       "      <td>1850</td>\n",
       "      <td>221</td>\n",
       "      <td>2015-05-14</td>\n",
       "      <td>2015</td>\n",
       "      <td>0</td>\n",
       "      <td>0</td>\n",
       "      <td>0</td>\n",
       "      <td>...</td>\n",
       "      <td>0</td>\n",
       "      <td>0</td>\n",
       "      <td>0</td>\n",
       "      <td>0</td>\n",
       "      <td>0</td>\n",
       "      <td>0</td>\n",
       "      <td>0</td>\n",
       "      <td>0</td>\n",
       "      <td>0</td>\n",
       "      <td>0</td>\n",
       "    </tr>\n",
       "    <tr>\n",
       "      <th>539 Octavia Street #12</th>\n",
       "      <td>Hayes Valley</td>\n",
       "      <td>0</td>\n",
       "      <td>1</td>\n",
       "      <td>1800</td>\n",
       "      <td>240</td>\n",
       "      <td>2015-04-16</td>\n",
       "      <td>2015</td>\n",
       "      <td>0</td>\n",
       "      <td>0</td>\n",
       "      <td>0</td>\n",
       "      <td>...</td>\n",
       "      <td>0</td>\n",
       "      <td>0</td>\n",
       "      <td>0</td>\n",
       "      <td>0</td>\n",
       "      <td>0</td>\n",
       "      <td>0</td>\n",
       "      <td>0</td>\n",
       "      <td>0</td>\n",
       "      <td>0</td>\n",
       "      <td>0</td>\n",
       "    </tr>\n",
       "    <tr>\n",
       "      <th>539 Octavia Street #13</th>\n",
       "      <td>Hayes Valley</td>\n",
       "      <td>0</td>\n",
       "      <td>1</td>\n",
       "      <td>1995</td>\n",
       "      <td>280</td>\n",
       "      <td>2015-02-01</td>\n",
       "      <td>2015</td>\n",
       "      <td>0</td>\n",
       "      <td>0</td>\n",
       "      <td>0</td>\n",
       "      <td>...</td>\n",
       "      <td>0</td>\n",
       "      <td>0</td>\n",
       "      <td>0</td>\n",
       "      <td>0</td>\n",
       "      <td>0</td>\n",
       "      <td>0</td>\n",
       "      <td>0</td>\n",
       "      <td>0</td>\n",
       "      <td>0</td>\n",
       "      <td>0</td>\n",
       "    </tr>\n",
       "  </tbody>\n",
       "</table>\n",
       "<p>5 rows × 65 columns</p>\n",
       "</div>"
      ],
      "text/plain": [
       "                        Neighborhood  Bedrooms  Bathrooms  Price  Sqft  \\\n",
       "Address                                                                  \n",
       "539 Octavia Street #9   Hayes Valley         0          1   1500   180   \n",
       "539 Octavia Street #11  Hayes Valley         0          1   1600   200   \n",
       "539 Octavia Street #14  Hayes Valley         0          1   1850   221   \n",
       "539 Octavia Street #12  Hayes Valley         0          1   1800   240   \n",
       "539 Octavia Street #13  Hayes Valley         0          1   1995   280   \n",
       "\n",
       "                             Date  Year  Year_2011  Year_2012  Year_2013  \\\n",
       "Address                                                                    \n",
       "539 Octavia Street #9  2015-03-18  2015          0          0          0   \n",
       "539 Octavia Street #11 2015-03-30  2015          0          0          0   \n",
       "539 Octavia Street #14 2015-05-14  2015          0          0          0   \n",
       "539 Octavia Street #12 2015-04-16  2015          0          0          0   \n",
       "539 Octavia Street #13 2015-02-01  2015          0          0          0   \n",
       "\n",
       "                                  ...             Neighborhood_South Beach  \\\n",
       "Address                           ...                                        \n",
       "539 Octavia Street #9             ...                                    0   \n",
       "539 Octavia Street #11            ...                                    0   \n",
       "539 Octavia Street #14            ...                                    0   \n",
       "539 Octavia Street #12            ...                                    0   \n",
       "539 Octavia Street #13            ...                                    0   \n",
       "\n",
       "                        Neighborhood_South Financial District  \\\n",
       "Address                                                         \n",
       "539 Octavia Street #9                                       0   \n",
       "539 Octavia Street #11                                      0   \n",
       "539 Octavia Street #14                                      0   \n",
       "539 Octavia Street #12                                      0   \n",
       "539 Octavia Street #13                                      0   \n",
       "\n",
       "                        Neighborhood_Telegraph Hill  \\\n",
       "Address                                               \n",
       "539 Octavia Street #9                             0   \n",
       "539 Octavia Street #11                            0   \n",
       "539 Octavia Street #14                            0   \n",
       "539 Octavia Street #12                            0   \n",
       "539 Octavia Street #13                            0   \n",
       "\n",
       "                        Neighborhood_Van Ness-Civic Center  \\\n",
       "Address                                                      \n",
       "539 Octavia Street #9                                    0   \n",
       "539 Octavia Street #11                                   0   \n",
       "539 Octavia Street #14                                   0   \n",
       "539 Octavia Street #12                                   0   \n",
       "539 Octavia Street #13                                   0   \n",
       "\n",
       "                        Neighborhood_Visitacion Valley  \\\n",
       "Address                                                  \n",
       "539 Octavia Street #9                                0   \n",
       "539 Octavia Street #11                               0   \n",
       "539 Octavia Street #14                               0   \n",
       "539 Octavia Street #12                               0   \n",
       "539 Octavia Street #13                               0   \n",
       "\n",
       "                        Neighborhood_Walnut Creek  Neighborhood_West Oakland  \\\n",
       "Address                                                                        \n",
       "539 Octavia Street #9                           0                          0   \n",
       "539 Octavia Street #11                          0                          0   \n",
       "539 Octavia Street #14                          0                          0   \n",
       "539 Octavia Street #12                          0                          0   \n",
       "539 Octavia Street #13                          0                          0   \n",
       "\n",
       "                        Neighborhood_Western Addition  \\\n",
       "Address                                                 \n",
       "539 Octavia Street #9                               0   \n",
       "539 Octavia Street #11                              0   \n",
       "539 Octavia Street #14                              0   \n",
       "539 Octavia Street #12                              0   \n",
       "539 Octavia Street #13                              0   \n",
       "\n",
       "                        Neighborhood_Westwood Park  Neighborhood_Yerba Buena  \n",
       "Address                                                                       \n",
       "539 Octavia Street #9                            0                         0  \n",
       "539 Octavia Street #11                           0                         0  \n",
       "539 Octavia Street #14                           0                         0  \n",
       "539 Octavia Street #12                           0                         0  \n",
       "539 Octavia Street #13                           0                         0  \n",
       "\n",
       "[5 rows x 65 columns]"
      ]
     },
     "execution_count": 16,
     "metadata": {},
     "output_type": "execute_result"
    }
   ],
   "source": [
    "\n",
    "# create dummy variables using get_dummies, then exclude the first dummy column\n",
    "area_dummies = pd.get_dummies(data.Neighborhood, prefix='Neighborhood').iloc[:, 1:]\n",
    "\n",
    "# concatenate the dummy variable columns onto the original DataFrame (axis=0 means rows, axis=1 means columns)\n",
    "data = pd.concat([data, area_dummies], axis=1)\n",
    "data.head()"
   ]
  },
  {
   "cell_type": "code",
   "execution_count": 17,
   "metadata": {
    "collapsed": false
   },
   "outputs": [
    {
     "name": "stdout",
     "output_type": "stream",
     "text": [
      "2208.53889993\n",
      "Residual sum of squares: 993829.82\n",
      "Variance score: 0.68\n"
     ]
    },
    {
     "data": {
      "text/plain": [
       "[('Neighborhood_Buena Vista', -733.0460139455945),\n",
       " ('Neighborhood_Nob Hill', -183.87288785423925),\n",
       " ('Neighborhood_Mission Dolores', -208.17285373980076),\n",
       " ('Neighborhood_Clarendon Heights', 1731.4811422080513),\n",
       " ('Neighborhood_Golden Gate Heights', -111.63659022078014),\n",
       " ('Neighborhood_Outer Richmond', -961.6365902207732),\n",
       " ('Neighborhood_Bernal Heights', -1916.9619993497222),\n",
       " ('Neighborhood_Westwood Park', -1682.3751535525942),\n",
       " ('Neighborhood_Rincon Hill', -91.290809691599662),\n",
       " ('Neighborhood_Oakland', -1970.3594348206107),\n",
       " ('Neighborhood_Russian Hill', -2325.4476805906311),\n",
       " ('Neighborhood_South Beach', -183.78031604498483),\n",
       " ('Neighborhood_Eureka Valley', -1505.3334224242926),\n",
       " ('Neighborhood_Downtown San Francisco', -489.09008248699183),\n",
       " ('Neighborhood_North Beach', 302.21936808068472),\n",
       " ('Neighborhood_Central Richmond', -1060.8315516566063),\n",
       " ('Neighborhood_Excelsior', -885.5193990738652),\n",
       " ('Bedrooms', 566.95398605440391),\n",
       " ('Neighborhood_Visitacion Valley', -3170.7385633318286),\n",
       " ('Neighborhood_Pacifica', -2969.1897181849477),\n",
       " ('Neighborhood_Duboce Triangle', -733.04601394558824),\n",
       " ('Neighborhood_Lone Mountain', -1244.3085446838152),\n",
       " ('Neighborhood_Hayes Valley', -1462.1218715354321),\n",
       " ('Neighborhood_Cole Valley-Parnassus Heights', -1344.682604166368),\n",
       " ('Neighborhood_Dogpatch', -919.18971818493867),\n",
       " ('Neighborhood_North Panhandle', 97.526614871732079),\n",
       " ('Neighborhood_Pacific Heights', -18.680452902684522),\n",
       " ('Neighborhood_Glen Park', -2224.7607936069744),\n",
       " ('Neighborhood_Noe Valley', -2.2348408050715989),\n",
       " ('Neighborhood_Walnut Creek', -2486.9800337125989),\n",
       " ('Neighborhood_Lower Pacific Heights', -1350.0080132953301),\n",
       " ('Neighborhood_Portola', -2818.1986919138772),\n",
       " ('Neighborhood_North Waterfront', -718.5654130194572),\n",
       " ('Neighborhood_Emeryville', -1852.6713857681189),\n",
       " (u'Year_2013', -711.63659022078457),\n",
       " ('Bathrooms', 1369.1897181849513),\n",
       " ('Neighborhood_Bayview', -2124.2332023730701),\n",
       " ('Neighborhood_Ingleside', -2130.8263084057239),\n",
       " ('Neighborhood_Mission Bay', -345.12893646309107),\n",
       " ('Neighborhood_Downtown', -2095.1678854810139),\n",
       " ('Neighborhood_West Oakland', -1931.1617386022076),\n",
       " ('Neighborhood_Telegraph Hill', 763.36340977923351),\n",
       " ('Neighborhood_Eureka Valley-Dolores Heights', -243.99639210106164),\n",
       " ('Neighborhood_Potrero Hill', -530.96992622838275),\n",
       " ('Neighborhood_Western Addition', -1277.458384517523),\n",
       " ('Neighborhood_Financial District', -862.12187153543255),\n",
       " ('Neighborhood_South Financial District', -333.04601394558711),\n",
       " ('Neighborhood_Van Ness-Civic Center', -1296.387512033225),\n",
       " ('Neighborhood_Downtown Oakland', -3421.6631033132198),\n",
       " ('Neighborhood_Central Waterfront', -793.87756560219941),\n",
       " ('Neighborhood_Candlestick Point', -2896.6631033132148),\n",
       " (u'Year_2014', -359.16320509249533),\n",
       " ('Neighborhood_Inner Mission', -604.13249498856817),\n",
       " (u'Year_2012', -2120.2922310351069),\n",
       " ('Neighborhood_Yerba Buena', 1427.343985926575),\n",
       " ('Neighborhood_Marina', 281.15568643846109),\n",
       " (u'Year_2011', 517.43926736906985),\n",
       " ('Neighborhood_Diamond Heights', -2421.6631033132167),\n",
       " ('Neighborhood_SOMA', -406.99723105942138),\n",
       " ('Neighborhood_Berkeley', -1664.5424060466594)]"
      ]
     },
     "execution_count": 17,
     "metadata": {},
     "output_type": "execute_result"
    }
   ],
   "source": [
    "# create X and y\n",
    "feature_cols = list(set(data.columns) - set(['Year','Neighborhood','Date','Price','Sqft']))\n",
    "\n",
    "X = data[feature_cols]\n",
    "y = data.Price\n",
    "\n",
    "# instantiate, fit\n",
    "lm = LinearRegression()\n",
    "lm.fit(X, y)\n",
    "\n",
    "# print coefficients\n",
    "print lm.intercept_\n",
    "# The mean square error\n",
    "print(\"Residual sum of squares: %.2f\"\n",
    "      % np.mean((lm.predict(X) - y) ** 2))\n",
    "# Explained variance score: 1 is perfect prediction\n",
    "print('Variance score: %.2f' % lm.score(X, y))\n",
    "zip(feature_cols, lm.coef_)"
   ]
  },
  {
   "cell_type": "code",
   "execution_count": 18,
   "metadata": {
    "collapsed": false
   },
   "outputs": [
    {
     "data": {
      "text/plain": [
       "[]"
      ]
     },
     "execution_count": 18,
     "metadata": {},
     "output_type": "execute_result"
    },
    {
     "data": {
      "image/png": "[encoded data removed]",
      "text/plain": [
       "<matplotlib.figure.Figure at 0x1150fc810>"
      ]
     },
     "metadata": {},
     "output_type": "display_data"
    }
   ],
   "source": [
    "# calculate predictions for the data set and plot errors\n",
    "predictions = lm.predict(X)\n",
    "errors = predictions-y\n",
    "errors.name = 'Error'\n",
    "zip(data.index,y,predictions,errors)\n",
    "\n",
    "# visualize the relationship between the features and the response using scatterplots\n",
    "errors.sort()\n",
    "\n",
    "errors.plot(kind='bar').get_xaxis().set_ticks([])"
   ]
  },
  {
   "cell_type": "code",
   "execution_count": 19,
   "metadata": {
    "collapsed": false
   },
   "outputs": [
    {
     "name": "stdout",
     "output_type": "stream",
     "text": [
      "data size pre categories: 283\n",
      "data size grouped: 55\n"
     ]
    },
    {
     "data": {
      "text/plain": [
       "<matplotlib.axes._subplots.AxesSubplot at 0x11718aa50>"
      ]
     },
     "execution_count": 19,
     "metadata": {},
     "output_type": "execute_result"
    },
    {
     "data": {
      "image/png": "[encoded data removed]",
      "text/plain": [
       "<matplotlib.figure.Figure at 0x115165590>"
      ]
     },
     "metadata": {},
     "output_type": "display_data"
    }
   ],
   "source": [
    "# show errors by neighborhood to see if there are any neighborhoods with funky differences\n",
    "\n",
    "hooderrors = data[['Neighborhood']]\n",
    "print \"data size pre categories: \" + `len(hooderrors)`\n",
    "\n",
    "errors = predictions-y\n",
    "errors.name = 'Error'\n",
    "\n",
    "hooderrors = pd.concat([hooderrors,errors.abs()],axis=1)\n",
    "\n",
    "hood_group = hooderrors.groupby('Neighborhood')\n",
    "print \"data size grouped: \" + `len(hood_group)`\n",
    "\n",
    "import numpy\n",
    "def median(lst):\n",
    "    return numpy.median(numpy.array(lst))\n",
    "\n",
    "error_avg = hood_group.median()\n",
    "error_avg.sort(columns='Error',ascending=False).plot(kind='bar')"
   ]
  },
  {
   "cell_type": "code",
   "execution_count": 20,
   "metadata": {
    "collapsed": false
   },
   "outputs": [
    {
     "name": "stdout",
     "output_type": "stream",
     "text": [
      "data size pre categories: 283\n",
      "data size grouped: 5\n"
     ]
    },
    {
     "data": {
      "text/plain": [
       "<matplotlib.axes._subplots.AxesSubplot at 0x1168abf90>"
      ]
     },
     "execution_count": 20,
     "metadata": {},
     "output_type": "execute_result"
    },
    {
     "data": {
      "image/png": "[encoded data removed]",
      "text/plain": [
       "<matplotlib.figure.Figure at 0x1150d2fd0>"
      ]
     },
     "metadata": {},
     "output_type": "display_data"
    }
   ],
   "source": [
    "# show errors by year to see if there are any years with funky differences\n",
    "\n",
    "yearerrors = data[['Year']]\n",
    "\n",
    "yearerrors = pd.concat([yearerrors,errors.abs()],axis=1)\n",
    "print \"data size pre categories: \" + `len(yearerrors)`\n",
    "\n",
    "year_group = yearerrors.groupby('Year')\n",
    "print \"data size grouped: \" + `len(year_group)`\n",
    "error_avg = year_group.mean()\n",
    "error_avg.sort(columns='Error',ascending=False).plot(kind='bar')"
   ]
  },
  {
   "cell_type": "code",
   "execution_count": null,
   "metadata": {
    "collapsed": true
   },
   "outputs": [],
   "source": []
  },
  {
   "cell_type": "code",
   "execution_count": null,
   "metadata": {
    "collapsed": true
   },
   "outputs": [],
   "source": []
  },
  {
   "cell_type": "code",
   "execution_count": null,
   "metadata": {
    "collapsed": true
   },
   "outputs": [],
   "source": []
  }
 ],
 "metadata": {
  "kernelspec": {
   "display_name": "Python 2",
   "language": "python",
   "name": "python2"
  },
  "language_info": {
   "codemirror_mode": {
    "name": "ipython",
    "version": 2
   },
   "file_extension": ".py",
   "mimetype": "text/x-python",
   "name": "python",
   "nbconvert_exporter": "python",
   "pygments_lexer": "ipython2",
   "version": "2.7.9"
  }
 },
 "nbformat": 4,
 "nbformat_minor": 0
}
