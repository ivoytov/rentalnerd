{
 "cells": [
  {
   "cell_type": "code",
   "execution_count": 55,
   "metadata": {
    "collapsed": false
   },
   "outputs": [
    {
     "data": {
      "text/html": [
       "<div>\n",
       "<table border=\"1\" class=\"dataframe\">\n",
       "  <thead>\n",
       "    <tr style=\"text-align: right;\">\n",
       "      <th></th>\n",
       "      <th>Neighborhood</th>\n",
       "      <th>Bedrooms</th>\n",
       "      <th>Bathrooms</th>\n",
       "      <th>Price</th>\n",
       "      <th>Sqft</th>\n",
       "      <th>Date</th>\n",
       "    </tr>\n",
       "    <tr>\n",
       "      <th>Address</th>\n",
       "      <th></th>\n",
       "      <th></th>\n",
       "      <th></th>\n",
       "      <th></th>\n",
       "      <th></th>\n",
       "      <th></th>\n",
       "    </tr>\n",
       "  </thead>\n",
       "  <tbody>\n",
       "    <tr>\n",
       "      <th>539 Octavia Street #9</th>\n",
       "      <td>Hayes Valley</td>\n",
       "      <td>0</td>\n",
       "      <td>1</td>\n",
       "      <td>1500</td>\n",
       "      <td>180</td>\n",
       "      <td>2015-03-18</td>\n",
       "    </tr>\n",
       "    <tr>\n",
       "      <th>539 Octavia Street #11</th>\n",
       "      <td>Hayes Valley</td>\n",
       "      <td>0</td>\n",
       "      <td>1</td>\n",
       "      <td>1600</td>\n",
       "      <td>200</td>\n",
       "      <td>2015-03-30</td>\n",
       "    </tr>\n",
       "    <tr>\n",
       "      <th>539 Octavia Street #14</th>\n",
       "      <td>Hayes Valley</td>\n",
       "      <td>0</td>\n",
       "      <td>1</td>\n",
       "      <td>1850</td>\n",
       "      <td>221</td>\n",
       "      <td>2015-05-14</td>\n",
       "    </tr>\n",
       "    <tr>\n",
       "      <th>539 Octavia Street #12</th>\n",
       "      <td>Hayes Valley</td>\n",
       "      <td>0</td>\n",
       "      <td>1</td>\n",
       "      <td>1800</td>\n",
       "      <td>240</td>\n",
       "      <td>2015-04-16</td>\n",
       "    </tr>\n",
       "    <tr>\n",
       "      <th>539 Octavia Street #13</th>\n",
       "      <td>Hayes Valley</td>\n",
       "      <td>0</td>\n",
       "      <td>1</td>\n",
       "      <td>1995</td>\n",
       "      <td>280</td>\n",
       "      <td>2015-02-01</td>\n",
       "    </tr>\n",
       "  </tbody>\n",
       "</table>\n",
       "</div>"
      ],
      "text/plain": [
       "                        Neighborhood  Bedrooms  Bathrooms  Price  Sqft  \\\n",
       "Address                                                                  \n",
       "539 Octavia Street #9   Hayes Valley         0          1   1500   180   \n",
       "539 Octavia Street #11  Hayes Valley         0          1   1600   200   \n",
       "539 Octavia Street #14  Hayes Valley         0          1   1850   221   \n",
       "539 Octavia Street #12  Hayes Valley         0          1   1800   240   \n",
       "539 Octavia Street #13  Hayes Valley         0          1   1995   280   \n",
       "\n",
       "                             Date  \n",
       "Address                            \n",
       "539 Octavia Street #9  2015-03-18  \n",
       "539 Octavia Street #11 2015-03-30  \n",
       "539 Octavia Street #14 2015-05-14  \n",
       "539 Octavia Street #12 2015-04-16  \n",
       "539 Octavia Street #13 2015-02-01  "
      ]
     },
     "execution_count": 55,
     "metadata": {},
     "output_type": "execute_result"
    }
   ],
   "source": [
    "# imports\n",
    "import pandas as pd\n",
    "import matplotlib.pyplot as plt\n",
    "\n",
    "# this allows plots to appear directly in the notebook\n",
    "%matplotlib inline\n",
    "\n",
    "# read data into a DataFrame\n",
    "data = pd.read_csv('SF Listings - Combined.csv', index_col=0)\n",
    "del data['Term']\n",
    "del data['URL']\n",
    "del data['Source']\n",
    "del data['Rented']\n",
    "data['Date'] = pd.to_datetime(data['Date'])\n",
    "data.head()"
   ]
  },
  {
   "cell_type": "code",
   "execution_count": 56,
   "metadata": {
    "collapsed": false
   },
   "outputs": [
    {
     "data": {
      "text/html": [
       "<div>\n",
       "<table border=\"1\" class=\"dataframe\">\n",
       "  <thead>\n",
       "    <tr style=\"text-align: right;\">\n",
       "      <th></th>\n",
       "      <th>Neighborhood</th>\n",
       "      <th>Bedrooms</th>\n",
       "      <th>Bathrooms</th>\n",
       "      <th>Price</th>\n",
       "      <th>Sqft</th>\n",
       "      <th>Date</th>\n",
       "      <th>Year</th>\n",
       "      <th>Year_2011</th>\n",
       "      <th>Year_2012</th>\n",
       "      <th>Year_2013</th>\n",
       "      <th>Year_2014</th>\n",
       "    </tr>\n",
       "    <tr>\n",
       "      <th>Address</th>\n",
       "      <th></th>\n",
       "      <th></th>\n",
       "      <th></th>\n",
       "      <th></th>\n",
       "      <th></th>\n",
       "      <th></th>\n",
       "      <th></th>\n",
       "      <th></th>\n",
       "      <th></th>\n",
       "      <th></th>\n",
       "      <th></th>\n",
       "    </tr>\n",
       "  </thead>\n",
       "  <tbody>\n",
       "    <tr>\n",
       "      <th>539 Octavia Street #9</th>\n",
       "      <td>Hayes Valley</td>\n",
       "      <td>0</td>\n",
       "      <td>1</td>\n",
       "      <td>1500</td>\n",
       "      <td>180</td>\n",
       "      <td>2015-03-18</td>\n",
       "      <td>2015</td>\n",
       "      <td>0</td>\n",
       "      <td>0</td>\n",
       "      <td>0</td>\n",
       "      <td>0</td>\n",
       "    </tr>\n",
       "    <tr>\n",
       "      <th>539 Octavia Street #11</th>\n",
       "      <td>Hayes Valley</td>\n",
       "      <td>0</td>\n",
       "      <td>1</td>\n",
       "      <td>1600</td>\n",
       "      <td>200</td>\n",
       "      <td>2015-03-30</td>\n",
       "      <td>2015</td>\n",
       "      <td>0</td>\n",
       "      <td>0</td>\n",
       "      <td>0</td>\n",
       "      <td>0</td>\n",
       "    </tr>\n",
       "    <tr>\n",
       "      <th>539 Octavia Street #14</th>\n",
       "      <td>Hayes Valley</td>\n",
       "      <td>0</td>\n",
       "      <td>1</td>\n",
       "      <td>1850</td>\n",
       "      <td>221</td>\n",
       "      <td>2015-05-14</td>\n",
       "      <td>2015</td>\n",
       "      <td>0</td>\n",
       "      <td>0</td>\n",
       "      <td>0</td>\n",
       "      <td>0</td>\n",
       "    </tr>\n",
       "    <tr>\n",
       "      <th>539 Octavia Street #12</th>\n",
       "      <td>Hayes Valley</td>\n",
       "      <td>0</td>\n",
       "      <td>1</td>\n",
       "      <td>1800</td>\n",
       "      <td>240</td>\n",
       "      <td>2015-04-16</td>\n",
       "      <td>2015</td>\n",
       "      <td>0</td>\n",
       "      <td>0</td>\n",
       "      <td>0</td>\n",
       "      <td>0</td>\n",
       "    </tr>\n",
       "    <tr>\n",
       "      <th>539 Octavia Street #13</th>\n",
       "      <td>Hayes Valley</td>\n",
       "      <td>0</td>\n",
       "      <td>1</td>\n",
       "      <td>1995</td>\n",
       "      <td>280</td>\n",
       "      <td>2015-02-01</td>\n",
       "      <td>2015</td>\n",
       "      <td>0</td>\n",
       "      <td>0</td>\n",
       "      <td>0</td>\n",
       "      <td>0</td>\n",
       "    </tr>\n",
       "  </tbody>\n",
       "</table>\n",
       "</div>"
      ],
      "text/plain": [
       "                        Neighborhood  Bedrooms  Bathrooms  Price  Sqft  \\\n",
       "Address                                                                  \n",
       "539 Octavia Street #9   Hayes Valley         0          1   1500   180   \n",
       "539 Octavia Street #11  Hayes Valley         0          1   1600   200   \n",
       "539 Octavia Street #14  Hayes Valley         0          1   1850   221   \n",
       "539 Octavia Street #12  Hayes Valley         0          1   1800   240   \n",
       "539 Octavia Street #13  Hayes Valley         0          1   1995   280   \n",
       "\n",
       "                             Date  Year  Year_2011  Year_2012  Year_2013  \\\n",
       "Address                                                                    \n",
       "539 Octavia Street #9  2015-03-18  2015          0          0          0   \n",
       "539 Octavia Street #11 2015-03-30  2015          0          0          0   \n",
       "539 Octavia Street #14 2015-05-14  2015          0          0          0   \n",
       "539 Octavia Street #12 2015-04-16  2015          0          0          0   \n",
       "539 Octavia Street #13 2015-02-01  2015          0          0          0   \n",
       "\n",
       "                        Year_2014  \n",
       "Address                            \n",
       "539 Octavia Street #9           0  \n",
       "539 Octavia Street #11          0  \n",
       "539 Octavia Street #14          0  \n",
       "539 Octavia Street #12          0  \n",
       "539 Octavia Street #13          0  "
      ]
     },
     "execution_count": 56,
     "metadata": {},
     "output_type": "execute_result"
    }
   ],
   "source": [
    "# create year dummy variables (because date isn't very intuitive variable)\n",
    "data[\"Year\"] = pd.DatetimeIndex(data[\"Date\"]).to_period('Y')\n",
    "\n",
    "# create dummy variables using get_dummies, then exclude the first dummy column\n",
    "year_dummies = pd.get_dummies(data.Year, prefix='Year').iloc[:, :-1]\n",
    "\n",
    "# concatenate the dummy variable columns onto the original DataFrame (axis=0 means rows, axis=1 means columns)\n",
    "data = pd.concat([data, year_dummies], axis=1)\n",
    "\n",
    "data.head()"
   ]
  },
  {
   "cell_type": "code",
   "execution_count": 57,
   "metadata": {
    "collapsed": false
   },
   "outputs": [
    {
     "data": {
      "text/plain": [
       "<matplotlib.axes._subplots.AxesSubplot at 0x10a177a90>"
      ]
     },
     "execution_count": 57,
     "metadata": {},
     "output_type": "execute_result"
    },
    {
     "data": {
      "image/png": "[encoded data removed]",
      "text/plain": [
       "<matplotlib.figure.Figure at 0x10a0d65d0>"
      ]
     },
     "metadata": {},
     "output_type": "display_data"
    }
   ],
   "source": [
    "# visualize the relationship between the features and the response using scatterplots\n",
    "fig, axs = plt.subplots(1, 4, sharey=True)\n",
    "data.plot(kind='scatter', x='Bedrooms', y='Price', ax=axs[0], figsize=(16, 8))\n",
    "data.plot(kind='scatter', x='Bathrooms', y='Price', ax=axs[1])\n",
    "data.plot(kind='scatter', x='Sqft', y='Price', ax=axs[2])\n",
    "data.plot(x='Date', y='Price', ax=axs[3])"
   ]
  },
  {
   "cell_type": "code",
   "execution_count": 58,
   "metadata": {
    "collapsed": false
   },
   "outputs": [
    {
     "name": "stdout",
     "output_type": "stream",
     "text": [
      "1675.0114068\n"
     ]
    },
    {
     "data": {
      "text/plain": [
       "[('Bathrooms', 791.82131474582775),\n",
       " ('Sqft', 1.3475012816840213),\n",
       " ('Bedrooms', 213.79303398176077),\n",
       " (u'Year_2012', -1473.2648701435392),\n",
       " (u'Year_2013', -746.95148137311446),\n",
       " (u'Year_2011', -590.79151102710534),\n",
       " (u'Year_2014', -258.88740961660642)]"
      ]
     },
     "execution_count": 58,
     "metadata": {},
     "output_type": "execute_result"
    }
   ],
   "source": [
    "# follow the usual sklearn pattern: import, instantiate, fit\n",
    "from sklearn.linear_model import LinearRegression\n",
    "\n",
    "# create X and y\n",
    "feature_cols = list(set(data.columns) - set(['Year','Neighborhood','Date','Price']))\n",
    "\n",
    "X = data[feature_cols]\n",
    "y = data.Price\n",
    "\n",
    "# instantiate, fit\n",
    "lm = LinearRegression()\n",
    "lm.fit(X, y)\n",
    "\n",
    "# print coefficients\n",
    "print lm.intercept_\n",
    "zip(feature_cols, lm.coef_)\n"
   ]
  },
  {
   "cell_type": "code",
   "execution_count": 59,
   "metadata": {
    "collapsed": false
   },
   "outputs": [
    {
     "name": "stdout",
     "output_type": "stream",
     "text": [
      "Residual sum of squares: 903521.74\n",
      "Variance score: 0.55\n"
     ]
    }
   ],
   "source": [
    "import numpy as np\n",
    "# The mean square error\n",
    "print(\"Residual sum of squares: %.2f\"\n",
    "      % np.mean((lm.predict(X) - y) ** 2))\n",
    "# Explained variance score: 1 is perfect prediction\n",
    "print('Variance score: %.2f' % lm.score(X, y))"
   ]
  },
  {
   "cell_type": "code",
   "execution_count": 60,
   "metadata": {
    "collapsed": false
   },
   "outputs": [
    {
     "data": {
      "text/html": [
       "<div>\n",
       "<table border=\"1\" class=\"dataframe\">\n",
       "  <thead>\n",
       "    <tr style=\"text-align: right;\">\n",
       "      <th></th>\n",
       "      <th>Neighborhood</th>\n",
       "      <th>Bedrooms</th>\n",
       "      <th>Bathrooms</th>\n",
       "      <th>Price</th>\n",
       "      <th>Sqft</th>\n",
       "      <th>Date</th>\n",
       "      <th>Year</th>\n",
       "      <th>Year_2011</th>\n",
       "      <th>Year_2012</th>\n",
       "      <th>Year_2013</th>\n",
       "      <th>...</th>\n",
       "      <th>Neighborhood_Telegraph Hill</th>\n",
       "      <th>Neighborhood_Tenderloin</th>\n",
       "      <th>Neighborhood_Van Ness - Civic Center</th>\n",
       "      <th>Neighborhood_Van Ness-Civic Center</th>\n",
       "      <th>Neighborhood_Visitacion Valley</th>\n",
       "      <th>Neighborhood_Walnut Creek</th>\n",
       "      <th>Neighborhood_West Oakland</th>\n",
       "      <th>Neighborhood_Western Addition</th>\n",
       "      <th>Neighborhood_Westwood Park</th>\n",
       "      <th>Neighborhood_Yerba Buena</th>\n",
       "    </tr>\n",
       "    <tr>\n",
       "      <th>Address</th>\n",
       "      <th></th>\n",
       "      <th></th>\n",
       "      <th></th>\n",
       "      <th></th>\n",
       "      <th></th>\n",
       "      <th></th>\n",
       "      <th></th>\n",
       "      <th></th>\n",
       "      <th></th>\n",
       "      <th></th>\n",
       "      <th></th>\n",
       "      <th></th>\n",
       "      <th></th>\n",
       "      <th></th>\n",
       "      <th></th>\n",
       "      <th></th>\n",
       "      <th></th>\n",
       "      <th></th>\n",
       "      <th></th>\n",
       "      <th></th>\n",
       "      <th></th>\n",
       "    </tr>\n",
       "  </thead>\n",
       "  <tbody>\n",
       "    <tr>\n",
       "      <th>539 Octavia Street #9</th>\n",
       "      <td>Hayes Valley</td>\n",
       "      <td>0</td>\n",
       "      <td>1</td>\n",
       "      <td>1500</td>\n",
       "      <td>180</td>\n",
       "      <td>2015-03-18</td>\n",
       "      <td>2015</td>\n",
       "      <td>0</td>\n",
       "      <td>0</td>\n",
       "      <td>0</td>\n",
       "      <td>...</td>\n",
       "      <td>0</td>\n",
       "      <td>0</td>\n",
       "      <td>0</td>\n",
       "      <td>0</td>\n",
       "      <td>0</td>\n",
       "      <td>0</td>\n",
       "      <td>0</td>\n",
       "      <td>0</td>\n",
       "      <td>0</td>\n",
       "      <td>0</td>\n",
       "    </tr>\n",
       "    <tr>\n",
       "      <th>539 Octavia Street #11</th>\n",
       "      <td>Hayes Valley</td>\n",
       "      <td>0</td>\n",
       "      <td>1</td>\n",
       "      <td>1600</td>\n",
       "      <td>200</td>\n",
       "      <td>2015-03-30</td>\n",
       "      <td>2015</td>\n",
       "      <td>0</td>\n",
       "      <td>0</td>\n",
       "      <td>0</td>\n",
       "      <td>...</td>\n",
       "      <td>0</td>\n",
       "      <td>0</td>\n",
       "      <td>0</td>\n",
       "      <td>0</td>\n",
       "      <td>0</td>\n",
       "      <td>0</td>\n",
       "      <td>0</td>\n",
       "      <td>0</td>\n",
       "      <td>0</td>\n",
       "      <td>0</td>\n",
       "    </tr>\n",
       "    <tr>\n",
       "      <th>539 Octavia Street #14</th>\n",
       "      <td>Hayes Valley</td>\n",
       "      <td>0</td>\n",
       "      <td>1</td>\n",
       "      <td>1850</td>\n",
       "      <td>221</td>\n",
       "      <td>2015-05-14</td>\n",
       "      <td>2015</td>\n",
       "      <td>0</td>\n",
       "      <td>0</td>\n",
       "      <td>0</td>\n",
       "      <td>...</td>\n",
       "      <td>0</td>\n",
       "      <td>0</td>\n",
       "      <td>0</td>\n",
       "      <td>0</td>\n",
       "      <td>0</td>\n",
       "      <td>0</td>\n",
       "      <td>0</td>\n",
       "      <td>0</td>\n",
       "      <td>0</td>\n",
       "      <td>0</td>\n",
       "    </tr>\n",
       "    <tr>\n",
       "      <th>539 Octavia Street #12</th>\n",
       "      <td>Hayes Valley</td>\n",
       "      <td>0</td>\n",
       "      <td>1</td>\n",
       "      <td>1800</td>\n",
       "      <td>240</td>\n",
       "      <td>2015-04-16</td>\n",
       "      <td>2015</td>\n",
       "      <td>0</td>\n",
       "      <td>0</td>\n",
       "      <td>0</td>\n",
       "      <td>...</td>\n",
       "      <td>0</td>\n",
       "      <td>0</td>\n",
       "      <td>0</td>\n",
       "      <td>0</td>\n",
       "      <td>0</td>\n",
       "      <td>0</td>\n",
       "      <td>0</td>\n",
       "      <td>0</td>\n",
       "      <td>0</td>\n",
       "      <td>0</td>\n",
       "    </tr>\n",
       "    <tr>\n",
       "      <th>539 Octavia Street #13</th>\n",
       "      <td>Hayes Valley</td>\n",
       "      <td>0</td>\n",
       "      <td>1</td>\n",
       "      <td>1995</td>\n",
       "      <td>280</td>\n",
       "      <td>2015-02-01</td>\n",
       "      <td>2015</td>\n",
       "      <td>0</td>\n",
       "      <td>0</td>\n",
       "      <td>0</td>\n",
       "      <td>...</td>\n",
       "      <td>0</td>\n",
       "      <td>0</td>\n",
       "      <td>0</td>\n",
       "      <td>0</td>\n",
       "      <td>0</td>\n",
       "      <td>0</td>\n",
       "      <td>0</td>\n",
       "      <td>0</td>\n",
       "      <td>0</td>\n",
       "      <td>0</td>\n",
       "    </tr>\n",
       "  </tbody>\n",
       "</table>\n",
       "<p>5 rows × 72 columns</p>\n",
       "</div>"
      ],
      "text/plain": [
       "                        Neighborhood  Bedrooms  Bathrooms  Price  Sqft  \\\n",
       "Address                                                                  \n",
       "539 Octavia Street #9   Hayes Valley         0          1   1500   180   \n",
       "539 Octavia Street #11  Hayes Valley         0          1   1600   200   \n",
       "539 Octavia Street #14  Hayes Valley         0          1   1850   221   \n",
       "539 Octavia Street #12  Hayes Valley         0          1   1800   240   \n",
       "539 Octavia Street #13  Hayes Valley         0          1   1995   280   \n",
       "\n",
       "                             Date  Year  Year_2011  Year_2012  Year_2013  \\\n",
       "Address                                                                    \n",
       "539 Octavia Street #9  2015-03-18  2015          0          0          0   \n",
       "539 Octavia Street #11 2015-03-30  2015          0          0          0   \n",
       "539 Octavia Street #14 2015-05-14  2015          0          0          0   \n",
       "539 Octavia Street #12 2015-04-16  2015          0          0          0   \n",
       "539 Octavia Street #13 2015-02-01  2015          0          0          0   \n",
       "\n",
       "                                  ...             Neighborhood_Telegraph Hill  \\\n",
       "Address                           ...                                           \n",
       "539 Octavia Street #9             ...                                       0   \n",
       "539 Octavia Street #11            ...                                       0   \n",
       "539 Octavia Street #14            ...                                       0   \n",
       "539 Octavia Street #12            ...                                       0   \n",
       "539 Octavia Street #13            ...                                       0   \n",
       "\n",
       "                        Neighborhood_Tenderloin  \\\n",
       "Address                                           \n",
       "539 Octavia Street #9                         0   \n",
       "539 Octavia Street #11                        0   \n",
       "539 Octavia Street #14                        0   \n",
       "539 Octavia Street #12                        0   \n",
       "539 Octavia Street #13                        0   \n",
       "\n",
       "                        Neighborhood_Van Ness - Civic Center  \\\n",
       "Address                                                        \n",
       "539 Octavia Street #9                                      0   \n",
       "539 Octavia Street #11                                     0   \n",
       "539 Octavia Street #14                                     0   \n",
       "539 Octavia Street #12                                     0   \n",
       "539 Octavia Street #13                                     0   \n",
       "\n",
       "                        Neighborhood_Van Ness-Civic Center  \\\n",
       "Address                                                      \n",
       "539 Octavia Street #9                                    0   \n",
       "539 Octavia Street #11                                   0   \n",
       "539 Octavia Street #14                                   0   \n",
       "539 Octavia Street #12                                   0   \n",
       "539 Octavia Street #13                                   0   \n",
       "\n",
       "                        Neighborhood_Visitacion Valley  \\\n",
       "Address                                                  \n",
       "539 Octavia Street #9                                0   \n",
       "539 Octavia Street #11                               0   \n",
       "539 Octavia Street #14                               0   \n",
       "539 Octavia Street #12                               0   \n",
       "539 Octavia Street #13                               0   \n",
       "\n",
       "                        Neighborhood_Walnut Creek  Neighborhood_West Oakland  \\\n",
       "Address                                                                        \n",
       "539 Octavia Street #9                           0                          0   \n",
       "539 Octavia Street #11                          0                          0   \n",
       "539 Octavia Street #14                          0                          0   \n",
       "539 Octavia Street #12                          0                          0   \n",
       "539 Octavia Street #13                          0                          0   \n",
       "\n",
       "                        Neighborhood_Western Addition  \\\n",
       "Address                                                 \n",
       "539 Octavia Street #9                               0   \n",
       "539 Octavia Street #11                              0   \n",
       "539 Octavia Street #14                              0   \n",
       "539 Octavia Street #12                              0   \n",
       "539 Octavia Street #13                              0   \n",
       "\n",
       "                        Neighborhood_Westwood Park  Neighborhood_Yerba Buena  \n",
       "Address                                                                       \n",
       "539 Octavia Street #9                            0                         0  \n",
       "539 Octavia Street #11                           0                         0  \n",
       "539 Octavia Street #14                           0                         0  \n",
       "539 Octavia Street #12                           0                         0  \n",
       "539 Octavia Street #13                           0                         0  \n",
       "\n",
       "[5 rows x 72 columns]"
      ]
     },
     "execution_count": 60,
     "metadata": {},
     "output_type": "execute_result"
    }
   ],
   "source": [
    "\n",
    "# create dummy variables using get_dummies, then exclude the first dummy column\n",
    "area_dummies = pd.get_dummies(data.Neighborhood, prefix='Neighborhood').iloc[:, 1:]\n",
    "\n",
    "# concatenate the dummy variable columns onto the original DataFrame (axis=0 means rows, axis=1 means columns)\n",
    "data = pd.concat([data, area_dummies], axis=1)\n",
    "data.head()"
   ]
  },
  {
   "cell_type": "code",
   "execution_count": 61,
   "metadata": {
    "collapsed": false
   },
   "outputs": [
    {
     "name": "stdout",
     "output_type": "stream",
     "text": [
      "1555.16450578\n",
      "Residual sum of squares: 587529.36\n",
      "Variance score: 0.71\n"
     ]
    },
    {
     "data": {
      "text/plain": [
       "[('Neighborhood_Buena Vista', -342.70796522786077),\n",
       " ('Neighborhood_Nob Hill', 200.53141141519794),\n",
       " ('Neighborhood_Mission Dolores', 440.05247825225257),\n",
       " ('Neighborhood_Clarendon Heights', -1250.6485220532186),\n",
       " ('Neighborhood_Inner Sunset', 41.129010987618244),\n",
       " ('Neighborhood_Golden Gate Heights', 21.934863445630697),\n",
       " ('Neighborhood_Outer Richmond', -537.76310420408595),\n",
       " ('Neighborhood_Bernal Heights', -1240.0967368645693),\n",
       " ('Neighborhood_Westwood Park', -842.41115559030789),\n",
       " ('Neighborhood_Stonestown', -1488.1448810017123),\n",
       " ('Neighborhood_Presidio', 650.91023635246586),\n",
       " ('Neighborhood_Oakland', -1676.3923285626295),\n",
       " ('Neighborhood_Russian Hill', -1483.8320394635107),\n",
       " ('Neighborhood_South Beach', 257.57495596724067),\n",
       " ('Neighborhood_Eureka Valley', -273.6804546196139),\n",
       " ('Neighborhood_Rincon Hill', 264.97478262398749),\n",
       " ('Neighborhood_Downtown San Francisco', -743.71547805752482),\n",
       " ('Neighborhood_North Beach', 1063.089249625554),\n",
       " ('Neighborhood_Central Richmond', -963.41149304533087),\n",
       " ('Neighborhood_Excelsior', -822.48621920598407),\n",
       " ('Bedrooms', 251.85809616088835),\n",
       " ('Neighborhood_Visitacion Valley', -2786.5681939111118),\n",
       " ('Neighborhood_Forest Knolls', -181.84019672227339),\n",
       " ('Neighborhood_Duboce Triangle', -154.01164420014254),\n",
       " ('Neighborhood_Lone Mountain', -1043.772172191354),\n",
       " ('Neighborhood_Hayes Valley', -51.728052663684394),\n",
       " ('Neighborhood_Cole Valley-Parnassus Heights', -727.87645143013594),\n",
       " ('Neighborhood_Dogpatch', -545.09876861099394),\n",
       " ('Neighborhood_North Panhandle', 185.35365228279949),\n",
       " ('Neighborhood_Pacific Heights', 182.55387178835622),\n",
       " ('Neighborhood_Van Ness - Civic Center', 88.233604268656677),\n",
       " ('Neighborhood_Glen Park', -1919.7682066621226),\n",
       " ('Sqft', 1.4515101617512172),\n",
       " ('Neighborhood_Noe Valley', -261.72769816333727),\n",
       " ('Neighborhood_Lower Pacific Heights', -228.31830548788616),\n",
       " ('Neighborhood_Portola', -2069.115462568916),\n",
       " ('Neighborhood_North Waterfront', -334.40176674822118),\n",
       " ('Neighborhood_Emeryville', -1560.1956339413339),\n",
       " (u'Year_2013', -601.28929914237631),\n",
       " ('Bathrooms', 777.3722443481862),\n",
       " ('Neighborhood_Bayview', -1345.1197757668306),\n",
       " ('Neighborhood_Walnut Creek', -1874.6280795010891),\n",
       " ('Neighborhood_Pacifica', -2053.6854782776281),\n",
       " ('Neighborhood_Mission Bay', 54.584551875767183),\n",
       " ('Neighborhood_Downtown', -60.89725679902395),\n",
       " ('Neighborhood_West Oakland', -1577.1948525751316),\n",
       " ('Neighborhood_Telegraph Hill', 986.92849347420179),\n",
       " ('Neighborhood_South of Market', 343.2008293436561),\n",
       " ('Neighborhood_Eureka Valley-Dolores Heights', -20.512246962922532),\n",
       " ('Neighborhood_Potrero Hill', -356.22408342741141),\n",
       " ('Neighborhood_Ingleside', -1530.2672548132255),\n",
       " ('Neighborhood_Western Addition', -504.92024329785278),\n",
       " ('Neighborhood_Financial District', 709.31238781597597),\n",
       " ('Neighborhood_South Financial District', 216.95815256480799),\n",
       " ('Neighborhood_Van Ness-Civic Center', -917.28647167840143),\n",
       " ('Neighborhood_Tenderloin', -288.82733698095933),\n",
       " ('Neighborhood_Downtown Oakland', -2887.1696082405365),\n",
       " ('Neighborhood_Central Waterfront', -304.66794811130774),\n",
       " ('Neighborhood_Candlestick Point', -2034.8540667655525),\n",
       " (u'Year_2014', -168.2677726620463),\n",
       " ('Neighborhood_Inner Mission', -105.43036601210088),\n",
       " (u'Year_2012', -1578.5411138487621),\n",
       " ('Neighborhood_Yerba Buena', 298.2666994596317),\n",
       " ('Neighborhood_Marina', 326.76410666117602),\n",
       " (u'Year_2011', -756.52107483145642),\n",
       " ('Neighborhood_Diamond Heights', -1850.881854196748),\n",
       " ('Neighborhood_SOMA', -181.9318243754322),\n",
       " ('Neighborhood_Berkeley', -1396.1796306876406)]"
      ]
     },
     "execution_count": 61,
     "metadata": {},
     "output_type": "execute_result"
    }
   ],
   "source": [
    "# create X and y\n",
    "feature_cols = list(set(data.columns) - set(['Year','Neighborhood','Date','Price']))\n",
    "\n",
    "X = data[feature_cols]\n",
    "y = data.Price\n",
    "\n",
    "# instantiate, fit\n",
    "lm = LinearRegression()\n",
    "lm.fit(X, y)\n",
    "\n",
    "# print coefficients\n",
    "print lm.intercept_\n",
    "# The mean square error\n",
    "print(\"Residual sum of squares: %.2f\"\n",
    "      % np.mean((lm.predict(X) - y) ** 2))\n",
    "# Explained variance score: 1 is perfect prediction\n",
    "print('Variance score: %.2f' % lm.score(X, y))\n",
    "zip(feature_cols, lm.coef_)"
   ]
  },
  {
   "cell_type": "code",
   "execution_count": 62,
   "metadata": {
    "collapsed": false
   },
   "outputs": [
    {
     "data": {
      "text/plain": [
       "[]"
      ]
     },
     "execution_count": 62,
     "metadata": {},
     "output_type": "execute_result"
    },
    {
     "data": {
      "image/png": "[encoded data removed]",
      "text/plain": [
       "<matplotlib.figure.Figure at 0x10aebdf10>"
      ]
     },
     "metadata": {},
     "output_type": "display_data"
    }
   ],
   "source": [
    "# calculate predictions for the data set and plot errors\n",
    "predictions = lm.predict(X)\n",
    "errors = predictions-y\n",
    "errors.name = 'Error'\n",
    "zip(data.index,y,predictions,errors)\n",
    "\n",
    "# visualize the relationship between the features and the response using scatterplots\n",
    "errors.sort()\n",
    "\n",
    "errors.plot(kind='bar').get_xaxis().set_ticks([])"
   ]
  },
  {
   "cell_type": "code",
   "execution_count": 63,
   "metadata": {
    "collapsed": false
   },
   "outputs": [
    {
     "name": "stdout",
     "output_type": "stream",
     "text": [
      "data size pre categories: 646\n",
      "data size grouped: 62\n"
     ]
    },
    {
     "data": {
      "text/plain": [
       "<matplotlib.axes._subplots.AxesSubplot at 0x1097d3b10>"
      ]
     },
     "execution_count": 63,
     "metadata": {},
     "output_type": "execute_result"
    },
    {
     "data": {
      "image/png": "[encoded data removed]",
      "text/plain": [
       "<matplotlib.figure.Figure at 0x10a326c90>"
      ]
     },
     "metadata": {},
     "output_type": "display_data"
    }
   ],
   "source": [
    "# show errors by neighborhood to see if there are any neighborhoods with funky differences\n",
    "\n",
    "hooderrors = data[['Neighborhood']]\n",
    "print \"data size pre categories: \" + `len(hooderrors)`\n",
    "\n",
    "errors = predictions-y\n",
    "errors.name = 'Error'\n",
    "\n",
    "hooderrors = pd.concat([hooderrors,errors.abs()],axis=1)\n",
    "\n",
    "hood_group = hooderrors.groupby('Neighborhood')\n",
    "print \"data size grouped: \" + `len(hood_group)`\n",
    "\n",
    "import numpy\n",
    "def median(lst):\n",
    "    return numpy.median(numpy.array(lst))\n",
    "\n",
    "error_avg = hood_group.median()\n",
    "error_avg.sort(columns='Error',ascending=False).plot(kind='bar')"
   ]
  },
  {
   "cell_type": "code",
   "execution_count": 64,
   "metadata": {
    "collapsed": false
   },
   "outputs": [
    {
     "name": "stdout",
     "output_type": "stream",
     "text": [
      "data size pre categories: 646\n",
      "data size grouped: 5\n"
     ]
    },
    {
     "data": {
      "text/plain": [
       "<matplotlib.axes._subplots.AxesSubplot at 0x10c943150>"
      ]
     },
     "execution_count": 64,
     "metadata": {},
     "output_type": "execute_result"
    },
    {
     "data": {
      "image/png": "[encoded data removed]",
      "text/plain": [
       "<matplotlib.figure.Figure at 0x10a3bb810>"
      ]
     },
     "metadata": {},
     "output_type": "display_data"
    }
   ],
   "source": [
    "# show errors by year to see if there are any years with funky differences\n",
    "\n",
    "yearerrors = data[['Year']]\n",
    "\n",
    "yearerrors = pd.concat([yearerrors,errors.abs()],axis=1)\n",
    "print \"data size pre categories: \" + `len(yearerrors)`\n",
    "\n",
    "year_group = yearerrors.groupby('Year')\n",
    "print \"data size grouped: \" + `len(year_group)`\n",
    "error_avg = year_group.mean()\n",
    "error_avg.sort(columns='Error',ascending=False).plot(kind='bar')"
   ]
  },
  {
   "cell_type": "code",
   "execution_count": null,
   "metadata": {
    "collapsed": true
   },
   "outputs": [],
   "source": []
  }
 ],
 "metadata": {
  "kernelspec": {
   "display_name": "Python 2",
   "language": "python",
   "name": "python2"
  },
  "language_info": {
   "codemirror_mode": {
    "name": "ipython",
    "version": 2
   },
   "file_extension": ".py",
   "mimetype": "text/x-python",
   "name": "python",
   "nbconvert_exporter": "python",
   "pygments_lexer": "ipython2",
   "version": "2.7.9"
  }
 },
 "nbformat": 4,
 "nbformat_minor": 0
}
