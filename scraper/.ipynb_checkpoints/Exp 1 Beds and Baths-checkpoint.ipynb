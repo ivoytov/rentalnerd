{
 "cells": [
  {
   "cell_type": "code",
   "execution_count": 214,
   "metadata": {
    "collapsed": false
   },
   "outputs": [],
   "source": [
    "# imports\n",
    "import pandas as pd\n",
    "import matplotlib.pyplot as plt\n",
    "\n",
    "# this allows plots to appear directly in the notebook\n",
    "%matplotlib inline"
   ]
  },
  {
   "cell_type": "code",
   "execution_count": 215,
   "metadata": {
    "collapsed": false
   },
   "outputs": [
    {
     "data": {
      "text/html": [
       "<div>\n",
       "<table border=\"1\" class=\"dataframe\">\n",
       "  <thead>\n",
       "    <tr style=\"text-align: right;\">\n",
       "      <th></th>\n",
       "      <th>Neighborhood</th>\n",
       "      <th>Bedrooms</th>\n",
       "      <th>Bathrooms</th>\n",
       "      <th>Price</th>\n",
       "      <th>Rented</th>\n",
       "      <th>Date</th>\n",
       "      <th>Source</th>\n",
       "    </tr>\n",
       "    <tr>\n",
       "      <th>Address</th>\n",
       "      <th></th>\n",
       "      <th></th>\n",
       "      <th></th>\n",
       "      <th></th>\n",
       "      <th></th>\n",
       "      <th></th>\n",
       "      <th></th>\n",
       "    </tr>\n",
       "  </thead>\n",
       "  <tbody>\n",
       "    <tr>\n",
       "      <th>239 Brannan Street #14A</th>\n",
       "      <td>South Beach</td>\n",
       "      <td>3</td>\n",
       "      <td>3.0</td>\n",
       "      <td>8650</td>\n",
       "      <td>True</td>\n",
       "      <td>1435734000</td>\n",
       "      <td>Climb SF</td>\n",
       "    </tr>\n",
       "    <tr>\n",
       "      <th>18 Lansing Street #306</th>\n",
       "      <td>Rincon Hill</td>\n",
       "      <td>2</td>\n",
       "      <td>2.0</td>\n",
       "      <td>5400</td>\n",
       "      <td>True</td>\n",
       "      <td>1435561200</td>\n",
       "      <td>Climb SF</td>\n",
       "    </tr>\n",
       "    <tr>\n",
       "      <th>333 Fremont Street #708</th>\n",
       "      <td>South Beach</td>\n",
       "      <td>2</td>\n",
       "      <td>2.0</td>\n",
       "      <td>5300</td>\n",
       "      <td>True</td>\n",
       "      <td>1435561200</td>\n",
       "      <td>Climb SF</td>\n",
       "    </tr>\n",
       "    <tr>\n",
       "      <th>2 Mint Plaza #805</th>\n",
       "      <td>SOMA</td>\n",
       "      <td>1</td>\n",
       "      <td>1.0</td>\n",
       "      <td>4600</td>\n",
       "      <td>True</td>\n",
       "      <td>1435129200</td>\n",
       "      <td>Climb SF</td>\n",
       "    </tr>\n",
       "    <tr>\n",
       "      <th>100 Palo Alto Avenue</th>\n",
       "      <td>Clarendon Heights</td>\n",
       "      <td>4</td>\n",
       "      <td>3.5</td>\n",
       "      <td>11000</td>\n",
       "      <td>True</td>\n",
       "      <td>1435129200</td>\n",
       "      <td>Climb SF</td>\n",
       "    </tr>\n",
       "  </tbody>\n",
       "</table>\n",
       "</div>"
      ],
      "text/plain": [
       "                              Neighborhood  Bedrooms  Bathrooms  Price Rented  \\\n",
       "Address                                                                         \n",
       "239 Brannan Street #14A        South Beach         3        3.0   8650   True   \n",
       "18 Lansing Street #306         Rincon Hill         2        2.0   5400   True   \n",
       "333 Fremont Street #708        South Beach         2        2.0   5300   True   \n",
       "2 Mint Plaza #805                     SOMA         1        1.0   4600   True   \n",
       "100 Palo Alto Avenue     Clarendon Heights         4        3.5  11000   True   \n",
       "\n",
       "                               Date    Source  \n",
       "Address                                        \n",
       "239 Brannan Street #14A  1435734000  Climb SF  \n",
       "18 Lansing Street #306   1435561200  Climb SF  \n",
       "333 Fremont Street #708  1435561200  Climb SF  \n",
       "2 Mint Plaza #805        1435129200  Climb SF  \n",
       "100 Palo Alto Avenue     1435129200  Climb SF  "
      ]
     },
     "execution_count": 215,
     "metadata": {},
     "output_type": "execute_result"
    }
   ],
   "source": [
    "# read data into a DataFrame\n",
    "data = pd.read_csv('climb_listings.csv', index_col=0)\n",
    "data.head()"
   ]
  },
  {
   "cell_type": "code",
   "execution_count": 216,
   "metadata": {
    "collapsed": false
   },
   "outputs": [
    {
     "data": {
      "text/plain": [
       "(336, 7)"
      ]
     },
     "execution_count": 216,
     "metadata": {},
     "output_type": "execute_result"
    }
   ],
   "source": [
    "data.shape"
   ]
  },
  {
   "cell_type": "code",
   "execution_count": 217,
   "metadata": {
    "collapsed": false
   },
   "outputs": [
    {
     "data": {
      "text/plain": [
       "<matplotlib.axes._subplots.AxesSubplot at 0x11df9c110>"
      ]
     },
     "execution_count": 217,
     "metadata": {},
     "output_type": "execute_result"
    },
    {
     "data": {
      "image/png": "[encoded data removed]",
      "text/plain": [
       "<matplotlib.figure.Figure at 0x11af62bd0>"
      ]
     },
     "metadata": {},
     "output_type": "display_data"
    }
   ],
   "source": [
    "# visualize the relationship between the features and the response using scatterplots\n",
    "fig, axs = plt.subplots(1, 3, sharey=True)\n",
    "data.plot(kind='scatter', x='Bedrooms', y='Price', ax=axs[0], figsize=(16, 8))\n",
    "data.plot(kind='scatter', x='Bathrooms', y='Price', ax=axs[1])\n",
    "data.plot(kind='scatter', x='Date', y='Price', ax=axs[2])"
   ]
  },
  {
   "cell_type": "code",
   "execution_count": 218,
   "metadata": {
    "collapsed": false
   },
   "outputs": [
    {
     "data": {
      "text/plain": [
       "Intercept    2384.124609\n",
       "Bedrooms     1184.576880\n",
       "dtype: float64"
      ]
     },
     "execution_count": 218,
     "metadata": {},
     "output_type": "execute_result"
    }
   ],
   "source": [
    "# this is the standard import if you're using \"formula notation\" (similar to R)\n",
    "import statsmodels.formula.api as smf\n",
    "\n",
    "# create a fitted model in one line\n",
    "lm = smf.ols(formula='Price ~ Bedrooms', data=data).fit()\n",
    "\n",
    "# print the coefficients\n",
    "lm.params"
   ]
  },
  {
   "cell_type": "code",
   "execution_count": 219,
   "metadata": {
    "collapsed": false
   },
   "outputs": [
    {
     "data": {
      "text/html": [
       "<div>\n",
       "<table border=\"1\" class=\"dataframe\">\n",
       "  <thead>\n",
       "    <tr style=\"text-align: right;\">\n",
       "      <th></th>\n",
       "      <th>Bedrooms</th>\n",
       "    </tr>\n",
       "  </thead>\n",
       "  <tbody>\n",
       "    <tr>\n",
       "      <th>0</th>\n",
       "      <td>3</td>\n",
       "    </tr>\n",
       "  </tbody>\n",
       "</table>\n",
       "</div>"
      ],
      "text/plain": [
       "   Bedrooms\n",
       "0         3"
      ]
     },
     "execution_count": 219,
     "metadata": {},
     "output_type": "execute_result"
    }
   ],
   "source": [
    "# you have to create a DataFrame since the Statsmodels formula interface expects it\n",
    "X_new = pd.DataFrame({'Bedrooms': [3]})\n",
    "X_new.head()"
   ]
  },
  {
   "cell_type": "code",
   "execution_count": 220,
   "metadata": {
    "collapsed": false
   },
   "outputs": [
    {
     "data": {
      "text/plain": [
       "array([ 5937.85524903])"
      ]
     },
     "execution_count": 220,
     "metadata": {},
     "output_type": "execute_result"
    }
   ],
   "source": [
    "# use the model to make predictions on a new value\n",
    "lm.predict(X_new)"
   ]
  },
  {
   "cell_type": "code",
   "execution_count": 221,
   "metadata": {
    "collapsed": false
   },
   "outputs": [
    {
     "data": {
      "text/html": [
       "<div>\n",
       "<table border=\"1\" class=\"dataframe\">\n",
       "  <thead>\n",
       "    <tr style=\"text-align: right;\">\n",
       "      <th></th>\n",
       "      <th>0</th>\n",
       "      <th>1</th>\n",
       "    </tr>\n",
       "  </thead>\n",
       "  <tbody>\n",
       "    <tr>\n",
       "      <th>Intercept</th>\n",
       "      <td>2137.177227</td>\n",
       "      <td>2631.071991</td>\n",
       "    </tr>\n",
       "    <tr>\n",
       "      <th>Bedrooms</th>\n",
       "      <td>1045.934673</td>\n",
       "      <td>1323.219087</td>\n",
       "    </tr>\n",
       "  </tbody>\n",
       "</table>\n",
       "</div>"
      ],
      "text/plain": [
       "                     0            1\n",
       "Intercept  2137.177227  2631.071991\n",
       "Bedrooms   1045.934673  1323.219087"
      ]
     },
     "execution_count": 221,
     "metadata": {},
     "output_type": "execute_result"
    }
   ],
   "source": [
    "# print the confidence intervals for the model coefficients\n",
    "lm.conf_int()"
   ]
  },
  {
   "cell_type": "code",
   "execution_count": 222,
   "metadata": {
    "collapsed": false
   },
   "outputs": [
    {
     "data": {
      "text/html": [
       "<table class=\"simpletable\">\n",
       "<caption>OLS Regression Results</caption>\n",
       "<tr>\n",
       "  <th>Dep. Variable:</th>          <td>Price</td>      <th>  R-squared:         </th> <td>   0.549</td>\n",
       "</tr>\n",
       "<tr>\n",
       "  <th>Model:</th>                   <td>OLS</td>       <th>  Adj. R-squared:    </th> <td>   0.545</td>\n",
       "</tr>\n",
       "<tr>\n",
       "  <th>Method:</th>             <td>Least Squares</td>  <th>  F-statistic:       </th> <td>   134.8</td>\n",
       "</tr>\n",
       "<tr>\n",
       "  <th>Date:</th>             <td>Mon, 06 Jul 2015</td> <th>  Prob (F-statistic):</th> <td>4.04e-57</td>\n",
       "</tr>\n",
       "<tr>\n",
       "  <th>Time:</th>                 <td>21:56:49</td>     <th>  Log-Likelihood:    </th> <td> -2805.6</td>\n",
       "</tr>\n",
       "<tr>\n",
       "  <th>No. Observations:</th>      <td>   336</td>      <th>  AIC:               </th> <td>   5619.</td>\n",
       "</tr>\n",
       "<tr>\n",
       "  <th>Df Residuals:</th>          <td>   332</td>      <th>  BIC:               </th> <td>   5635.</td>\n",
       "</tr>\n",
       "<tr>\n",
       "  <th>Df Model:</th>              <td>     3</td>      <th>                     </th>     <td> </td>   \n",
       "</tr>\n",
       "<tr>\n",
       "  <th>Covariance Type:</th>      <td>nonrobust</td>    <th>                     </th>     <td> </td>   \n",
       "</tr>\n",
       "</table>\n",
       "<table class=\"simpletable\">\n",
       "<tr>\n",
       "      <td></td>         <th>coef</th>     <th>std err</th>      <th>t</th>      <th>P>|t|</th> <th>[95.0% Conf. Int.]</th> \n",
       "</tr>\n",
       "<tr>\n",
       "  <th>Intercept</th> <td>-8644.1438</td> <td> 3411.321</td> <td>   -2.534</td> <td> 0.012</td> <td>-1.54e+04 -1933.615</td>\n",
       "</tr>\n",
       "<tr>\n",
       "  <th>Bedrooms</th>  <td>  689.2708</td> <td>   92.633</td> <td>    7.441</td> <td> 0.000</td> <td>  507.050   871.492</td>\n",
       "</tr>\n",
       "<tr>\n",
       "  <th>Bathrooms</th> <td> 1025.4543</td> <td>  134.201</td> <td>    7.641</td> <td> 0.000</td> <td>  761.463  1289.445</td>\n",
       "</tr>\n",
       "<tr>\n",
       "  <th>Date</th>      <td>  7.28e-06</td> <td> 2.42e-06</td> <td>    3.006</td> <td> 0.003</td> <td> 2.52e-06   1.2e-05</td>\n",
       "</tr>\n",
       "</table>\n",
       "<table class=\"simpletable\">\n",
       "<tr>\n",
       "  <th>Omnibus:</th>       <td>11.006</td> <th>  Durbin-Watson:     </th> <td>   1.551</td>\n",
       "</tr>\n",
       "<tr>\n",
       "  <th>Prob(Omnibus):</th> <td> 0.004</td> <th>  Jarque-Bera (JB):  </th> <td>  18.407</td>\n",
       "</tr>\n",
       "<tr>\n",
       "  <th>Skew:</th>          <td> 0.178</td> <th>  Prob(JB):          </th> <td>0.000101</td>\n",
       "</tr>\n",
       "<tr>\n",
       "  <th>Kurtosis:</th>      <td> 4.090</td> <th>  Cond. No.          </th> <td>8.53e+10</td>\n",
       "</tr>\n",
       "</table>"
      ],
      "text/plain": [
       "<class 'statsmodels.iolib.summary.Summary'>\n",
       "\"\"\"\n",
       "                            OLS Regression Results                            \n",
       "==============================================================================\n",
       "Dep. Variable:                  Price   R-squared:                       0.549\n",
       "Model:                            OLS   Adj. R-squared:                  0.545\n",
       "Method:                 Least Squares   F-statistic:                     134.8\n",
       "Date:                Mon, 06 Jul 2015   Prob (F-statistic):           4.04e-57\n",
       "Time:                        21:56:49   Log-Likelihood:                -2805.6\n",
       "No. Observations:                 336   AIC:                             5619.\n",
       "Df Residuals:                     332   BIC:                             5635.\n",
       "Df Model:                           3                                         \n",
       "Covariance Type:            nonrobust                                         \n",
       "==============================================================================\n",
       "                 coef    std err          t      P>|t|      [95.0% Conf. Int.]\n",
       "------------------------------------------------------------------------------\n",
       "Intercept  -8644.1438   3411.321     -2.534      0.012     -1.54e+04 -1933.615\n",
       "Bedrooms     689.2708     92.633      7.441      0.000       507.050   871.492\n",
       "Bathrooms   1025.4543    134.201      7.641      0.000       761.463  1289.445\n",
       "Date         7.28e-06   2.42e-06      3.006      0.003      2.52e-06   1.2e-05\n",
       "==============================================================================\n",
       "Omnibus:                       11.006   Durbin-Watson:                   1.551\n",
       "Prob(Omnibus):                  0.004   Jarque-Bera (JB):               18.407\n",
       "Skew:                           0.178   Prob(JB):                     0.000101\n",
       "Kurtosis:                       4.090   Cond. No.                     8.53e+10\n",
       "==============================================================================\n",
       "\n",
       "Warnings:\n",
       "[1] Standard Errors assume that the covariance matrix of the errors is correctly specified.\n",
       "[2] The condition number is large, 8.53e+10. This might indicate that there are\n",
       "strong multicollinearity or other numerical problems.\n",
       "\"\"\""
      ]
     },
     "execution_count": 222,
     "metadata": {},
     "output_type": "execute_result"
    }
   ],
   "source": [
    "# create a fitted model with all three features\n",
    "lm = smf.ols(formula='Price ~ Bedrooms + Bathrooms + Date', data=data).fit()\n",
    "\n",
    "# print the coefficients\n",
    "lm.params\n",
    "\n",
    "# print a summary of the fitted model\n",
    "lm.summary()"
   ]
  },
  {
   "cell_type": "code",
   "execution_count": 223,
   "metadata": {
    "collapsed": false
   },
   "outputs": [
    {
     "name": "stdout",
     "output_type": "stream",
     "text": [
      "-8644.14376325\n",
      "[  6.89270785e+02   1.02545434e+03   7.27951981e-06]\n"
     ]
    }
   ],
   "source": [
    "# create X and y\n",
    "feature_cols = ['Bedrooms', 'Bathrooms', 'Date']\n",
    "X = data[feature_cols]\n",
    "y = data.Price\n",
    "\n",
    "# follow the usual sklearn pattern: import, instantiate, fit\n",
    "from sklearn.linear_model import LinearRegression\n",
    "lm = LinearRegression()\n",
    "lm.fit(X, y)\n",
    "\n",
    "# print intercept and coefficients\n",
    "print lm.intercept_\n",
    "print lm.coef_"
   ]
  },
  {
   "cell_type": "code",
   "execution_count": 224,
   "metadata": {
    "collapsed": false
   },
   "outputs": [
    {
     "data": {
      "text/plain": [
       "array([ 5929.96092155])"
      ]
     },
     "execution_count": 224,
     "metadata": {},
     "output_type": "execute_result"
    }
   ],
   "source": [
    "from time import gmtime,mktime\n",
    "\n",
    "# estimate the rent on a 3-bed, 2-ba apartment today\n",
    "zip(feature_cols, lm.coef_)\n",
    "lm.predict([3,2,mktime(gmtime())])"
   ]
  },
  {
   "cell_type": "code",
   "execution_count": 225,
   "metadata": {
    "collapsed": false
   },
   "outputs": [
    {
     "data": {
      "text/html": [
       "<div>\n",
       "<table border=\"1\" class=\"dataframe\">\n",
       "  <thead>\n",
       "    <tr style=\"text-align: right;\">\n",
       "      <th></th>\n",
       "      <th>Neighborhood</th>\n",
       "      <th>Bedrooms</th>\n",
       "      <th>Bathrooms</th>\n",
       "      <th>Price</th>\n",
       "      <th>Rented</th>\n",
       "      <th>Date</th>\n",
       "      <th>Source</th>\n",
       "      <th>Neighborhood_Bayview</th>\n",
       "      <th>Neighborhood_Berkeley</th>\n",
       "      <th>Neighborhood_Bernal Heights</th>\n",
       "      <th>...</th>\n",
       "      <th>Neighborhood_SOMA</th>\n",
       "      <th>Neighborhood_South Beach</th>\n",
       "      <th>Neighborhood_South Financial District</th>\n",
       "      <th>Neighborhood_Van Ness-Civic Center</th>\n",
       "      <th>Neighborhood_Visitacion Valley</th>\n",
       "      <th>Neighborhood_Walnut Creek</th>\n",
       "      <th>Neighborhood_West Oakland</th>\n",
       "      <th>Neighborhood_Western Addition</th>\n",
       "      <th>Neighborhood_Westwood Park</th>\n",
       "      <th>Neighborhood_Yerba Buena</th>\n",
       "    </tr>\n",
       "    <tr>\n",
       "      <th>Address</th>\n",
       "      <th></th>\n",
       "      <th></th>\n",
       "      <th></th>\n",
       "      <th></th>\n",
       "      <th></th>\n",
       "      <th></th>\n",
       "      <th></th>\n",
       "      <th></th>\n",
       "      <th></th>\n",
       "      <th></th>\n",
       "      <th></th>\n",
       "      <th></th>\n",
       "      <th></th>\n",
       "      <th></th>\n",
       "      <th></th>\n",
       "      <th></th>\n",
       "      <th></th>\n",
       "      <th></th>\n",
       "      <th></th>\n",
       "      <th></th>\n",
       "      <th></th>\n",
       "    </tr>\n",
       "  </thead>\n",
       "  <tbody>\n",
       "    <tr>\n",
       "      <th>239 Brannan Street #14A</th>\n",
       "      <td>South Beach</td>\n",
       "      <td>3</td>\n",
       "      <td>3.0</td>\n",
       "      <td>8650</td>\n",
       "      <td>True</td>\n",
       "      <td>1435734000</td>\n",
       "      <td>Climb SF</td>\n",
       "      <td>0</td>\n",
       "      <td>0</td>\n",
       "      <td>0</td>\n",
       "      <td>...</td>\n",
       "      <td>0</td>\n",
       "      <td>1</td>\n",
       "      <td>0</td>\n",
       "      <td>0</td>\n",
       "      <td>0</td>\n",
       "      <td>0</td>\n",
       "      <td>0</td>\n",
       "      <td>0</td>\n",
       "      <td>0</td>\n",
       "      <td>0</td>\n",
       "    </tr>\n",
       "    <tr>\n",
       "      <th>18 Lansing Street #306</th>\n",
       "      <td>Rincon Hill</td>\n",
       "      <td>2</td>\n",
       "      <td>2.0</td>\n",
       "      <td>5400</td>\n",
       "      <td>True</td>\n",
       "      <td>1435561200</td>\n",
       "      <td>Climb SF</td>\n",
       "      <td>0</td>\n",
       "      <td>0</td>\n",
       "      <td>0</td>\n",
       "      <td>...</td>\n",
       "      <td>0</td>\n",
       "      <td>0</td>\n",
       "      <td>0</td>\n",
       "      <td>0</td>\n",
       "      <td>0</td>\n",
       "      <td>0</td>\n",
       "      <td>0</td>\n",
       "      <td>0</td>\n",
       "      <td>0</td>\n",
       "      <td>0</td>\n",
       "    </tr>\n",
       "    <tr>\n",
       "      <th>333 Fremont Street #708</th>\n",
       "      <td>South Beach</td>\n",
       "      <td>2</td>\n",
       "      <td>2.0</td>\n",
       "      <td>5300</td>\n",
       "      <td>True</td>\n",
       "      <td>1435561200</td>\n",
       "      <td>Climb SF</td>\n",
       "      <td>0</td>\n",
       "      <td>0</td>\n",
       "      <td>0</td>\n",
       "      <td>...</td>\n",
       "      <td>0</td>\n",
       "      <td>1</td>\n",
       "      <td>0</td>\n",
       "      <td>0</td>\n",
       "      <td>0</td>\n",
       "      <td>0</td>\n",
       "      <td>0</td>\n",
       "      <td>0</td>\n",
       "      <td>0</td>\n",
       "      <td>0</td>\n",
       "    </tr>\n",
       "    <tr>\n",
       "      <th>2 Mint Plaza #805</th>\n",
       "      <td>SOMA</td>\n",
       "      <td>1</td>\n",
       "      <td>1.0</td>\n",
       "      <td>4600</td>\n",
       "      <td>True</td>\n",
       "      <td>1435129200</td>\n",
       "      <td>Climb SF</td>\n",
       "      <td>0</td>\n",
       "      <td>0</td>\n",
       "      <td>0</td>\n",
       "      <td>...</td>\n",
       "      <td>1</td>\n",
       "      <td>0</td>\n",
       "      <td>0</td>\n",
       "      <td>0</td>\n",
       "      <td>0</td>\n",
       "      <td>0</td>\n",
       "      <td>0</td>\n",
       "      <td>0</td>\n",
       "      <td>0</td>\n",
       "      <td>0</td>\n",
       "    </tr>\n",
       "    <tr>\n",
       "      <th>100 Palo Alto Avenue</th>\n",
       "      <td>Clarendon Heights</td>\n",
       "      <td>4</td>\n",
       "      <td>3.5</td>\n",
       "      <td>11000</td>\n",
       "      <td>True</td>\n",
       "      <td>1435129200</td>\n",
       "      <td>Climb SF</td>\n",
       "      <td>0</td>\n",
       "      <td>0</td>\n",
       "      <td>0</td>\n",
       "      <td>...</td>\n",
       "      <td>0</td>\n",
       "      <td>0</td>\n",
       "      <td>0</td>\n",
       "      <td>0</td>\n",
       "      <td>0</td>\n",
       "      <td>0</td>\n",
       "      <td>0</td>\n",
       "      <td>0</td>\n",
       "      <td>0</td>\n",
       "      <td>0</td>\n",
       "    </tr>\n",
       "  </tbody>\n",
       "</table>\n",
       "<p>5 rows × 61 columns</p>\n",
       "</div>"
      ],
      "text/plain": [
       "                              Neighborhood  Bedrooms  Bathrooms  Price Rented  \\\n",
       "Address                                                                         \n",
       "239 Brannan Street #14A        South Beach         3        3.0   8650   True   \n",
       "18 Lansing Street #306         Rincon Hill         2        2.0   5400   True   \n",
       "333 Fremont Street #708        South Beach         2        2.0   5300   True   \n",
       "2 Mint Plaza #805                     SOMA         1        1.0   4600   True   \n",
       "100 Palo Alto Avenue     Clarendon Heights         4        3.5  11000   True   \n",
       "\n",
       "                               Date    Source  Neighborhood_Bayview  \\\n",
       "Address                                                               \n",
       "239 Brannan Street #14A  1435734000  Climb SF                     0   \n",
       "18 Lansing Street #306   1435561200  Climb SF                     0   \n",
       "333 Fremont Street #708  1435561200  Climb SF                     0   \n",
       "2 Mint Plaza #805        1435129200  Climb SF                     0   \n",
       "100 Palo Alto Avenue     1435129200  Climb SF                     0   \n",
       "\n",
       "                         Neighborhood_Berkeley  Neighborhood_Bernal Heights  \\\n",
       "Address                                                                       \n",
       "239 Brannan Street #14A                      0                            0   \n",
       "18 Lansing Street #306                       0                            0   \n",
       "333 Fremont Street #708                      0                            0   \n",
       "2 Mint Plaza #805                            0                            0   \n",
       "100 Palo Alto Avenue                         0                            0   \n",
       "\n",
       "                                   ...             Neighborhood_SOMA  \\\n",
       "Address                            ...                                 \n",
       "239 Brannan Street #14A            ...                             0   \n",
       "18 Lansing Street #306             ...                             0   \n",
       "333 Fremont Street #708            ...                             0   \n",
       "2 Mint Plaza #805                  ...                             1   \n",
       "100 Palo Alto Avenue               ...                             0   \n",
       "\n",
       "                         Neighborhood_South Beach  \\\n",
       "Address                                             \n",
       "239 Brannan Street #14A                         1   \n",
       "18 Lansing Street #306                          0   \n",
       "333 Fremont Street #708                         1   \n",
       "2 Mint Plaza #805                               0   \n",
       "100 Palo Alto Avenue                            0   \n",
       "\n",
       "                         Neighborhood_South Financial District  \\\n",
       "Address                                                          \n",
       "239 Brannan Street #14A                                      0   \n",
       "18 Lansing Street #306                                       0   \n",
       "333 Fremont Street #708                                      0   \n",
       "2 Mint Plaza #805                                            0   \n",
       "100 Palo Alto Avenue                                         0   \n",
       "\n",
       "                         Neighborhood_Van Ness-Civic Center  \\\n",
       "Address                                                       \n",
       "239 Brannan Street #14A                                   0   \n",
       "18 Lansing Street #306                                    0   \n",
       "333 Fremont Street #708                                   0   \n",
       "2 Mint Plaza #805                                         0   \n",
       "100 Palo Alto Avenue                                      0   \n",
       "\n",
       "                         Neighborhood_Visitacion Valley  \\\n",
       "Address                                                   \n",
       "239 Brannan Street #14A                               0   \n",
       "18 Lansing Street #306                                0   \n",
       "333 Fremont Street #708                               0   \n",
       "2 Mint Plaza #805                                     0   \n",
       "100 Palo Alto Avenue                                  0   \n",
       "\n",
       "                         Neighborhood_Walnut Creek  Neighborhood_West Oakland  \\\n",
       "Address                                                                         \n",
       "239 Brannan Street #14A                          0                          0   \n",
       "18 Lansing Street #306                           0                          0   \n",
       "333 Fremont Street #708                          0                          0   \n",
       "2 Mint Plaza #805                                0                          0   \n",
       "100 Palo Alto Avenue                             0                          0   \n",
       "\n",
       "                         Neighborhood_Western Addition  \\\n",
       "Address                                                  \n",
       "239 Brannan Street #14A                              0   \n",
       "18 Lansing Street #306                               0   \n",
       "333 Fremont Street #708                              0   \n",
       "2 Mint Plaza #805                                    0   \n",
       "100 Palo Alto Avenue                                 0   \n",
       "\n",
       "                         Neighborhood_Westwood Park  Neighborhood_Yerba Buena  \n",
       "Address                                                                        \n",
       "239 Brannan Street #14A                           0                         0  \n",
       "18 Lansing Street #306                            0                         0  \n",
       "333 Fremont Street #708                           0                         0  \n",
       "2 Mint Plaza #805                                 0                         0  \n",
       "100 Palo Alto Avenue                              0                         0  \n",
       "\n",
       "[5 rows x 61 columns]"
      ]
     },
     "execution_count": 225,
     "metadata": {},
     "output_type": "execute_result"
    }
   ],
   "source": [
    "# create three dummy variables using get_dummies, then exclude the first dummy column\n",
    "area_dummies = pd.get_dummies(data.Neighborhood, prefix='Neighborhood').iloc[:, 1:]\n",
    "\n",
    "# concatenate the dummy variable columns onto the original DataFrame (axis=0 means rows, axis=1 means columns)\n",
    "data = pd.concat([data, area_dummies], axis=1)\n",
    "data.head()"
   ]
  },
  {
   "cell_type": "code",
   "execution_count": 226,
   "metadata": {
    "collapsed": false
   },
   "outputs": [
    {
     "data": {
      "text/plain": [
       "Index([u'Neighborhood', u'Bedrooms', u'Bathrooms', u'Price', u'Rented',\n",
       "       u'Date', u'Source', u'Neighborhood_Bayview', u'Neighborhood_Berkeley',\n",
       "       u'Neighborhood_Bernal Heights', u'Neighborhood_Buena Vista',\n",
       "       u'Neighborhood_Candlestick Point', u'Neighborhood_Central Richmond',\n",
       "       u'Neighborhood_Central Waterfront', u'Neighborhood_Clarendon Heights',\n",
       "       u'Neighborhood_Cole Valley-Parnassus Heights',\n",
       "       u'Neighborhood_Diamond Heights', u'Neighborhood_Dogpatch',\n",
       "       u'Neighborhood_Downtown', u'Neighborhood_Downtown Oakland',\n",
       "       u'Neighborhood_Downtown San Francisco', u'Neighborhood_Duboce Triangle',\n",
       "       u'Neighborhood_Emeryville', u'Neighborhood_Eureka Valley',\n",
       "       u'Neighborhood_Eureka Valley-Dolores Heights',\n",
       "       u'Neighborhood_Excelsior', u'Neighborhood_Financial District',\n",
       "       u'Neighborhood_Glen Park', u'Neighborhood_Golden Gate Heights',\n",
       "       u'Neighborhood_Hayes Valley', u'Neighborhood_Inner Mission',\n",
       "       u'Neighborhood_Lone Mountain', u'Neighborhood_Lower Pacific Heights',\n",
       "       u'Neighborhood_Marina', u'Neighborhood_Mission Bay',\n",
       "       u'Neighborhood_Mission Bay/SoMa', u'Neighborhood_Mission Dolores',\n",
       "       u'Neighborhood_Mission Terrace', u'Neighborhood_Nob Hill',\n",
       "       u'Neighborhood_Noe Valley', u'Neighborhood_North Beach',\n",
       "       u'Neighborhood_North Panhandle', u'Neighborhood_North Waterfront',\n",
       "       u'Neighborhood_Oakland', u'Neighborhood_Outer Richmond',\n",
       "       u'Neighborhood_Pacific Heights', u'Neighborhood_Pacifica',\n",
       "       u'Neighborhood_Portola', u'Neighborhood_Potrero Hill',\n",
       "       u'Neighborhood_Rincon Hill', u'Neighborhood_Russian Hill',\n",
       "       u'Neighborhood_SOMA', u'Neighborhood_South Beach',\n",
       "       u'Neighborhood_South Financial District',\n",
       "       u'Neighborhood_Van Ness-Civic Center',\n",
       "       u'Neighborhood_Visitacion Valley', u'Neighborhood_Walnut Creek',\n",
       "       u'Neighborhood_West Oakland', u'Neighborhood_Western Addition',\n",
       "       u'Neighborhood_Westwood Park', u'Neighborhood_Yerba Buena'],\n",
       "      dtype='object')"
      ]
     },
     "execution_count": 226,
     "metadata": {},
     "output_type": "execute_result"
    }
   ],
   "source": [
    "data.columns"
   ]
  },
  {
   "cell_type": "code",
   "execution_count": 227,
   "metadata": {
    "collapsed": false
   },
   "outputs": [
    {
     "data": {
      "text/plain": [
       "[('Neighborhood_Buena Vista', -465.07374032182867),\n",
       " ('Neighborhood_Nob Hill', 199.06349214808313),\n",
       " ('Neighborhood_Lower Pacific Heights', -511.28712527964399),\n",
       " ('Neighborhood_Clarendon Heights', 2903.3859509667486),\n",
       " ('Neighborhood_Golden Gate Heights', 153.39051961635863),\n",
       " ('Neighborhood_Outer Richmond', -790.80683182106952),\n",
       " ('Neighborhood_Bernal Heights', -2185.5225416155654),\n",
       " ('Neighborhood_Westwood Park', -805.3556788580338),\n",
       " ('Neighborhood_Rincon Hill', 465.55393111381125),\n",
       " ('Neighborhood_Russian Hill', 678.56625131484475),\n",
       " ('Neighborhood_South Beach', 308.34179567845291),\n",
       " ('Neighborhood_Eureka Valley', -509.93056167203372),\n",
       " ('Neighborhood_Downtown San Francisco', -150.2022992395955),\n",
       " ('Neighborhood_North Beach', -150.41509307763698),\n",
       " ('Neighborhood_Central Richmond', -730.61756589995775),\n",
       " ('Neighborhood_Mission Dolores', 346.52885833402701),\n",
       " ('Neighborhood_Excelsior', -723.15488249694386),\n",
       " ('Bedrooms', 777.56795793913705),\n",
       " ('Neighborhood_Visitacion Valley', -2420.3010158915713),\n",
       " ('Neighborhood_Central Waterfront', -375.08443624313401),\n",
       " ('Neighborhood_Duboce Triangle', -561.76344845338474),\n",
       " ('Neighborhood_Lone Mountain', -1247.1390955403231),\n",
       " ('Neighborhood_Hayes Valley', -615.38866244182418),\n",
       " ('Neighborhood_Cole Valley-Parnassus Heights', -961.60006598150267),\n",
       " ('Neighborhood_Dogpatch', -339.12462260670134),\n",
       " ('Neighborhood_North Panhandle', 140.26517806351683),\n",
       " ('Neighborhood_Pacific Heights', 294.94105532295151),\n",
       " ('Neighborhood_Glen Park', -1003.9901060690574),\n",
       " ('Neighborhood_Noe Valley', 1252.2898371545616),\n",
       " ('Neighborhood_Oakland', -1496.5764044481343),\n",
       " ('Neighborhood_Portola', -2285.0318798582634),\n",
       " ('Date', 9.4838457425883743e-06),\n",
       " ('Neighborhood_North Waterfront', -185.76894559852769),\n",
       " ('Neighborhood_Emeryville', -1472.9013374447034),\n",
       " ('Neighborhood_Pacifica', -2377.6529622383023),\n",
       " ('Neighborhood_Bayview', -1588.6185610399195),\n",
       " ('Neighborhood_Walnut Creek', -1911.3728429374376),\n",
       " ('Neighborhood_Mission Bay', 130.88289926198593),\n",
       " ('Neighborhood_Downtown', 36.911496859383192),\n",
       " ('Neighborhood_West Oakland', -1449.9658033154362),\n",
       " ('Bathrooms', 789.12462230658161),\n",
       " ('Neighborhood_Eureka Valley-Dolores Heights', -234.9832439735452),\n",
       " ('Neighborhood_Potrero Hill', -246.04930170202078),\n",
       " ('Neighborhood_Western Addition', -1046.585261944892),\n",
       " ('Neighborhood_Financial District', 1083.9256676592113),\n",
       " ('Neighborhood_South Financial District', -19.187101467284151),\n",
       " ('Neighborhood_Diamond Heights', -1625.9992806811426),\n",
       " ('Neighborhood_Downtown Oakland', -2666.9694952108134),\n",
       " ('Neighborhood_Mission Bay/SoMa', 777.370433334464),\n",
       " ('Neighborhood_Candlestick Point', -2221.827271698226),\n",
       " ('Neighborhood_Inner Mission', -68.35937945867812),\n",
       " ('Neighborhood_Yerba Buena', -209.16404506681522),\n",
       " ('Neighborhood_Marina', 1200.6745906907354),\n",
       " ('Neighborhood_Van Ness-Civic Center', -713.71698761962296),\n",
       " ('Neighborhood_Mission Terrace', -1409.4281609061461),\n",
       " ('Neighborhood_SOMA', 139.92098707694186),\n",
       " ('Neighborhood_Berkeley', -1364.2739761334949)]"
      ]
     },
     "execution_count": 227,
     "metadata": {},
     "output_type": "execute_result"
    }
   ],
   "source": [
    "# create X and y\n",
    "feature_cols = list(set(data.columns) - set(['Price','Source','Neighborhood','Rented']))\n",
    "\n",
    "X = data[feature_cols]\n",
    "y = data.Price\n",
    "\n",
    "# instantiate, fit\n",
    "lm = LinearRegression()\n",
    "lm.fit(X, y)\n",
    "\n",
    "# print coefficients\n",
    "zip(feature_cols, lm.coef_)"
   ]
  },
  {
   "cell_type": "code",
   "execution_count": 228,
   "metadata": {
    "collapsed": false
   },
   "outputs": [
    {
     "data": {
      "text/html": [
       "<div>\n",
       "<table border=\"1\" class=\"dataframe\">\n",
       "  <thead>\n",
       "    <tr style=\"text-align: right;\">\n",
       "      <th></th>\n",
       "      <th>Neighborhood</th>\n",
       "      <th>Bedrooms</th>\n",
       "      <th>Bathrooms</th>\n",
       "      <th>Price</th>\n",
       "      <th>Rented</th>\n",
       "      <th>Date</th>\n",
       "      <th>Source</th>\n",
       "      <th>Neighborhood_Bayview</th>\n",
       "      <th>Neighborhood_Berkeley</th>\n",
       "      <th>Neighborhood_Bernal Heights</th>\n",
       "      <th>...</th>\n",
       "      <th>Neighborhood_Walnut Creek</th>\n",
       "      <th>Neighborhood_West Oakland</th>\n",
       "      <th>Neighborhood_Western Addition</th>\n",
       "      <th>Neighborhood_Westwood Park</th>\n",
       "      <th>Neighborhood_Yerba Buena</th>\n",
       "      <th>Year</th>\n",
       "      <th>Year_2011</th>\n",
       "      <th>Year_2012</th>\n",
       "      <th>Year_2013</th>\n",
       "      <th>Year_2014</th>\n",
       "    </tr>\n",
       "    <tr>\n",
       "      <th>Address</th>\n",
       "      <th></th>\n",
       "      <th></th>\n",
       "      <th></th>\n",
       "      <th></th>\n",
       "      <th></th>\n",
       "      <th></th>\n",
       "      <th></th>\n",
       "      <th></th>\n",
       "      <th></th>\n",
       "      <th></th>\n",
       "      <th></th>\n",
       "      <th></th>\n",
       "      <th></th>\n",
       "      <th></th>\n",
       "      <th></th>\n",
       "      <th></th>\n",
       "      <th></th>\n",
       "      <th></th>\n",
       "      <th></th>\n",
       "      <th></th>\n",
       "      <th></th>\n",
       "    </tr>\n",
       "  </thead>\n",
       "  <tbody>\n",
       "    <tr>\n",
       "      <th>239 Brannan Street #14A</th>\n",
       "      <td>South Beach</td>\n",
       "      <td>3</td>\n",
       "      <td>3.0</td>\n",
       "      <td>8650</td>\n",
       "      <td>True</td>\n",
       "      <td>1435734000</td>\n",
       "      <td>Climb SF</td>\n",
       "      <td>0</td>\n",
       "      <td>0</td>\n",
       "      <td>0</td>\n",
       "      <td>...</td>\n",
       "      <td>0</td>\n",
       "      <td>0</td>\n",
       "      <td>0</td>\n",
       "      <td>0</td>\n",
       "      <td>0</td>\n",
       "      <td>2015</td>\n",
       "      <td>0</td>\n",
       "      <td>0</td>\n",
       "      <td>0</td>\n",
       "      <td>0</td>\n",
       "    </tr>\n",
       "    <tr>\n",
       "      <th>18 Lansing Street #306</th>\n",
       "      <td>Rincon Hill</td>\n",
       "      <td>2</td>\n",
       "      <td>2.0</td>\n",
       "      <td>5400</td>\n",
       "      <td>True</td>\n",
       "      <td>1435561200</td>\n",
       "      <td>Climb SF</td>\n",
       "      <td>0</td>\n",
       "      <td>0</td>\n",
       "      <td>0</td>\n",
       "      <td>...</td>\n",
       "      <td>0</td>\n",
       "      <td>0</td>\n",
       "      <td>0</td>\n",
       "      <td>0</td>\n",
       "      <td>0</td>\n",
       "      <td>2015</td>\n",
       "      <td>0</td>\n",
       "      <td>0</td>\n",
       "      <td>0</td>\n",
       "      <td>0</td>\n",
       "    </tr>\n",
       "    <tr>\n",
       "      <th>333 Fremont Street #708</th>\n",
       "      <td>South Beach</td>\n",
       "      <td>2</td>\n",
       "      <td>2.0</td>\n",
       "      <td>5300</td>\n",
       "      <td>True</td>\n",
       "      <td>1435561200</td>\n",
       "      <td>Climb SF</td>\n",
       "      <td>0</td>\n",
       "      <td>0</td>\n",
       "      <td>0</td>\n",
       "      <td>...</td>\n",
       "      <td>0</td>\n",
       "      <td>0</td>\n",
       "      <td>0</td>\n",
       "      <td>0</td>\n",
       "      <td>0</td>\n",
       "      <td>2015</td>\n",
       "      <td>0</td>\n",
       "      <td>0</td>\n",
       "      <td>0</td>\n",
       "      <td>0</td>\n",
       "    </tr>\n",
       "    <tr>\n",
       "      <th>2 Mint Plaza #805</th>\n",
       "      <td>SOMA</td>\n",
       "      <td>1</td>\n",
       "      <td>1.0</td>\n",
       "      <td>4600</td>\n",
       "      <td>True</td>\n",
       "      <td>1435129200</td>\n",
       "      <td>Climb SF</td>\n",
       "      <td>0</td>\n",
       "      <td>0</td>\n",
       "      <td>0</td>\n",
       "      <td>...</td>\n",
       "      <td>0</td>\n",
       "      <td>0</td>\n",
       "      <td>0</td>\n",
       "      <td>0</td>\n",
       "      <td>0</td>\n",
       "      <td>2015</td>\n",
       "      <td>0</td>\n",
       "      <td>0</td>\n",
       "      <td>0</td>\n",
       "      <td>0</td>\n",
       "    </tr>\n",
       "    <tr>\n",
       "      <th>100 Palo Alto Avenue</th>\n",
       "      <td>Clarendon Heights</td>\n",
       "      <td>4</td>\n",
       "      <td>3.5</td>\n",
       "      <td>11000</td>\n",
       "      <td>True</td>\n",
       "      <td>1435129200</td>\n",
       "      <td>Climb SF</td>\n",
       "      <td>0</td>\n",
       "      <td>0</td>\n",
       "      <td>0</td>\n",
       "      <td>...</td>\n",
       "      <td>0</td>\n",
       "      <td>0</td>\n",
       "      <td>0</td>\n",
       "      <td>0</td>\n",
       "      <td>0</td>\n",
       "      <td>2015</td>\n",
       "      <td>0</td>\n",
       "      <td>0</td>\n",
       "      <td>0</td>\n",
       "      <td>0</td>\n",
       "    </tr>\n",
       "  </tbody>\n",
       "</table>\n",
       "<p>5 rows × 66 columns</p>\n",
       "</div>"
      ],
      "text/plain": [
       "                              Neighborhood  Bedrooms  Bathrooms  Price Rented  \\\n",
       "Address                                                                         \n",
       "239 Brannan Street #14A        South Beach         3        3.0   8650   True   \n",
       "18 Lansing Street #306         Rincon Hill         2        2.0   5400   True   \n",
       "333 Fremont Street #708        South Beach         2        2.0   5300   True   \n",
       "2 Mint Plaza #805                     SOMA         1        1.0   4600   True   \n",
       "100 Palo Alto Avenue     Clarendon Heights         4        3.5  11000   True   \n",
       "\n",
       "                               Date    Source  Neighborhood_Bayview  \\\n",
       "Address                                                               \n",
       "239 Brannan Street #14A  1435734000  Climb SF                     0   \n",
       "18 Lansing Street #306   1435561200  Climb SF                     0   \n",
       "333 Fremont Street #708  1435561200  Climb SF                     0   \n",
       "2 Mint Plaza #805        1435129200  Climb SF                     0   \n",
       "100 Palo Alto Avenue     1435129200  Climb SF                     0   \n",
       "\n",
       "                         Neighborhood_Berkeley  Neighborhood_Bernal Heights  \\\n",
       "Address                                                                       \n",
       "239 Brannan Street #14A                      0                            0   \n",
       "18 Lansing Street #306                       0                            0   \n",
       "333 Fremont Street #708                      0                            0   \n",
       "2 Mint Plaza #805                            0                            0   \n",
       "100 Palo Alto Avenue                         0                            0   \n",
       "\n",
       "                           ...      Neighborhood_Walnut Creek  \\\n",
       "Address                    ...                                  \n",
       "239 Brannan Street #14A    ...                              0   \n",
       "18 Lansing Street #306     ...                              0   \n",
       "333 Fremont Street #708    ...                              0   \n",
       "2 Mint Plaza #805          ...                              0   \n",
       "100 Palo Alto Avenue       ...                              0   \n",
       "\n",
       "                         Neighborhood_West Oakland  \\\n",
       "Address                                              \n",
       "239 Brannan Street #14A                          0   \n",
       "18 Lansing Street #306                           0   \n",
       "333 Fremont Street #708                          0   \n",
       "2 Mint Plaza #805                                0   \n",
       "100 Palo Alto Avenue                             0   \n",
       "\n",
       "                         Neighborhood_Western Addition  \\\n",
       "Address                                                  \n",
       "239 Brannan Street #14A                              0   \n",
       "18 Lansing Street #306                               0   \n",
       "333 Fremont Street #708                              0   \n",
       "2 Mint Plaza #805                                    0   \n",
       "100 Palo Alto Avenue                                 0   \n",
       "\n",
       "                         Neighborhood_Westwood Park  Neighborhood_Yerba Buena  \\\n",
       "Address                                                                         \n",
       "239 Brannan Street #14A                           0                         0   \n",
       "18 Lansing Street #306                            0                         0   \n",
       "333 Fremont Street #708                           0                         0   \n",
       "2 Mint Plaza #805                                 0                         0   \n",
       "100 Palo Alto Avenue                              0                         0   \n",
       "\n",
       "                         Year  Year_2011  Year_2012  Year_2013  Year_2014  \n",
       "Address                                                                    \n",
       "239 Brannan Street #14A  2015          0          0          0          0  \n",
       "18 Lansing Street #306   2015          0          0          0          0  \n",
       "333 Fremont Street #708  2015          0          0          0          0  \n",
       "2 Mint Plaza #805        2015          0          0          0          0  \n",
       "100 Palo Alto Avenue     2015          0          0          0          0  \n",
       "\n",
       "[5 rows x 66 columns]"
      ]
     },
     "execution_count": 228,
     "metadata": {},
     "output_type": "execute_result"
    }
   ],
   "source": [
    "# create year dummy variables (because date isn't very intuitive variable)\n",
    "data[\"Year\"] = pd.DatetimeIndex(pd.to_datetime(data[\"Date\"],unit=\"s\")).to_period('Y')\n",
    "\n",
    "# create dummy variables using get_dummies, then exclude the first dummy column\n",
    "year_dummies = pd.get_dummies(data.Year, prefix='Year').iloc[:, :-1]\n",
    "\n",
    "# concatenate the dummy variable columns onto the original DataFrame (axis=0 means rows, axis=1 means columns)\n",
    "data = pd.concat([data, year_dummies], axis=1)\n",
    "\n",
    "data.head()"
   ]
  },
  {
   "cell_type": "code",
   "execution_count": 229,
   "metadata": {
    "collapsed": false
   },
   "outputs": [
    {
     "data": {
      "text/plain": [
       "[('Neighborhood_Buena Vista', -525.00086672195846),\n",
       " ('Neighborhood_Nob Hill', 142.41106828599084),\n",
       " ('Neighborhood_Lower Pacific Heights', -602.59146257299096),\n",
       " ('Neighborhood_Clarendon Heights', 3004.6538397959157),\n",
       " ('Neighborhood_Golden Gate Heights', 143.16178161351934),\n",
       " ('Neighborhood_Outer Richmond', -706.83821838646668),\n",
       " ('Neighborhood_Bernal Heights', -2120.4030033826966),\n",
       " ('Neighborhood_Westwood Park', -774.94315682142849),\n",
       " ('Neighborhood_Rincon Hill', 456.27226388828461),\n",
       " ('Neighborhood_Russian Hill', 606.67560322976715),\n",
       " ('Neighborhood_South Beach', 265.54998485939416),\n",
       " ('Neighborhood_Eureka Valley', -565.80687348729066),\n",
       " ('Neighborhood_Downtown San Francisco', -194.8586889088821),\n",
       " ('Neighborhood_North Beach', -254.62153630124922),\n",
       " ('Neighborhood_Central Richmond', -792.71048001331565),\n",
       " ('Neighborhood_Mission Dolores', 330.90762164765994),\n",
       " ('Neighborhood_Excelsior', -715.0179566439441),\n",
       " ('Bedrooms', 774.99913327805154),\n",
       " ('Neighborhood_Visitacion Valley', -2518.1049384349762),\n",
       " ('Neighborhood_Central Waterfront', -421.8685395388286),\n",
       " ('Neighborhood_Duboce Triangle', -525.00086672196778),\n",
       " ('Neighborhood_Lone Mountain', -1306.9467288697786),\n",
       " ('Neighborhood_Hayes Valley', -649.78964745034762),\n",
       " ('Neighborhood_Cole Valley-Parnassus Heights', -881.83908510840979),\n",
       " ('Neighborhood_Dogpatch', -345.40387010463076),\n",
       " ('Neighborhood_North Panhandle', 59.982910078004124),\n",
       " ('Neighborhood_Pacific Heights', 235.69992777453575),\n",
       " ('Neighborhood_Van Ness-Civic Center', -772.78673148726568),\n",
       " ('Neighborhood_Glen Park', -1021.1287224845852),\n",
       " ('Neighborhood_Noe Valley', 1185.1383249659259),\n",
       " ('Neighborhood_Oakland', -1515.5555552174503),\n",
       " ('Neighborhood_Portola', -2343.8306575368865),\n",
       " ('Neighborhood_North Waterfront', -340.01882336589267),\n",
       " ('Neighborhood_Emeryville', -1577.2674514900075),\n",
       " ('Neighborhood_Yerba Buena', -212.27521592183433),\n",
       " ('Neighborhood_Pacifica', -2395.403870104632),\n",
       " ('Neighborhood_Bayview', -1566.0277139407694),\n",
       " ('Neighborhood_Walnut Creek', -1880.6900526345576),\n",
       " ('Neighborhood_Mission Bay', 92.134367850918181),\n",
       " ('Neighborhood_Downtown', 18.080803673898572),\n",
       " ('Neighborhood_West Oakland', -1452.2709434413441),\n",
       " ('Bathrooms', 795.40387010460495),\n",
       " ('Neighborhood_Eureka Valley-Dolores Heights', -281.68404549598381),\n",
       " ('Neighborhood_Potrero Hill', -265.0648439673721),\n",
       " ('Neighborhood_Western Addition', -974.98105227382416),\n",
       " ('Neighborhood_Financial District', 1043.0816703958485),\n",
       " ('Neighborhood_South Financial District', -125.00086672197237),\n",
       " ('Neighborhood_Diamond Heights', -1885.4209600266058),\n",
       " ('Neighborhood_Downtown Oakland', -2885.4209600266076),\n",
       " ('Neighborhood_Mission Bay/SoMa', 743.08167039584964),\n",
       " ('Neighborhood_Candlestick Point', -2360.4209600265999),\n",
       " ('Neighborhood_SOMA', 102.37287665375617),\n",
       " ('Neighborhood_Inner Mission', -43.053230391866975),\n",
       " (u'Year_2012', -1442.0783913942914),\n",
       " (u'Year_2013', -456.83821838643985),\n",
       " ('Neighborhood_Marina', 1103.0964418530295),\n",
       " (u'Year_2011', -924.9207555042575),\n",
       " ('Neighborhood_Mission Terrace', -1431.8373516645124),\n",
       " (u'Year_2014', -66.821128464455654),\n",
       " ('Neighborhood_Berkeley', -1390.0183900049215)]"
      ]
     },
     "execution_count": 229,
     "metadata": {},
     "output_type": "execute_result"
    }
   ],
   "source": [
    "# create X and y\n",
    "feature_cols = list(set(data.columns) - set(['Price','Source','Neighborhood','Rented','Year','Date']))\n",
    "\n",
    "X = data[feature_cols]\n",
    "y = data.Price\n",
    "\n",
    "# instantiate, fit\n",
    "lm = LinearRegression()\n",
    "lm.fit(X, y)\n",
    "\n",
    "# print coefficients\n",
    "zip(feature_cols, lm.coef_)"
   ]
  },
  {
   "cell_type": "code",
   "execution_count": 230,
   "metadata": {
    "collapsed": false
   },
   "outputs": [
    {
     "data": {
      "text/plain": [
       "2111.4360817257511"
      ]
     },
     "execution_count": 230,
     "metadata": {},
     "output_type": "execute_result"
    }
   ],
   "source": [
    "lm.intercept_"
   ]
  },
  {
   "cell_type": "code",
   "execution_count": 231,
   "metadata": {
    "collapsed": true
   },
   "outputs": [],
   "source": [
    "\n",
    "class ListTable(list):\n",
    "    \"\"\" Overridden list class which takes a 2-dimensional list of \n",
    "        the form [[1,2,3],[4,5,6]], and renders an HTML Table in \n",
    "        IPython Notebook. \"\"\"\n",
    "    \n",
    "    def _repr_html_(self):\n",
    "        html = [\"<table>\"]\n",
    "        for row in self:\n",
    "            html.append(\"<tr>\")\n",
    "            \n",
    "            for col in row:\n",
    "                html.append(\"<td>{0}</td>\".format(col))\n",
    "            \n",
    "            html.append(\"</tr>\")\n",
    "        html.append(\"</table>\")\n",
    "        return ''.join(html)"
   ]
  },
  {
   "cell_type": "code",
   "execution_count": 232,
   "metadata": {
    "collapsed": false
   },
   "outputs": [
    {
     "data": {
      "text/plain": [
       "[]"
      ]
     },
     "execution_count": 232,
     "metadata": {},
     "output_type": "execute_result"
    },
    {
     "data": {
      "image/png": "[encoded data removed]",
      "text/plain": [
       "<matplotlib.figure.Figure at 0x11ded9790>"
      ]
     },
     "metadata": {},
     "output_type": "display_data"
    }
   ],
   "source": [
    "# calculate predictions for the data set and plot errors\n",
    "predictions = lm.predict(data[feature_cols])\n",
    "errors = data[\"Price\"]-predictions\n",
    "errors.name = 'Error'\n",
    "zip(data.index,data[\"Price\"],predictions,errors)\n",
    "\n",
    "# visualize the relationship between the features and the response using scatterplots\n",
    "errors.sort()\n",
    "errors.plot(kind='bar').get_xaxis().set_ticks([])"
   ]
  },
  {
   "cell_type": "code",
   "execution_count": 233,
   "metadata": {
    "collapsed": false
   },
   "outputs": [
    {
     "data": {
      "text/html": [
       "<div>\n",
       "<table border=\"1\" class=\"dataframe\">\n",
       "  <thead>\n",
       "    <tr style=\"text-align: right;\">\n",
       "      <th></th>\n",
       "      <th>Neighborhood</th>\n",
       "      <th>Bedrooms</th>\n",
       "      <th>Bathrooms</th>\n",
       "      <th>Price</th>\n",
       "      <th>Rented</th>\n",
       "      <th>Date</th>\n",
       "      <th>Source</th>\n",
       "      <th>Neighborhood_Bayview</th>\n",
       "      <th>Neighborhood_Berkeley</th>\n",
       "      <th>Neighborhood_Bernal Heights</th>\n",
       "      <th>...</th>\n",
       "      <th>Neighborhood_West Oakland</th>\n",
       "      <th>Neighborhood_Western Addition</th>\n",
       "      <th>Neighborhood_Westwood Park</th>\n",
       "      <th>Neighborhood_Yerba Buena</th>\n",
       "      <th>Year</th>\n",
       "      <th>Year_2011</th>\n",
       "      <th>Year_2012</th>\n",
       "      <th>Year_2013</th>\n",
       "      <th>Year_2014</th>\n",
       "      <th>Error</th>\n",
       "    </tr>\n",
       "  </thead>\n",
       "  <tbody>\n",
       "    <tr>\n",
       "      <th>10 Mint Plaza #1</th>\n",
       "      <td>SOMA</td>\n",
       "      <td>2</td>\n",
       "      <td>2.0</td>\n",
       "      <td>8250</td>\n",
       "      <td>True</td>\n",
       "      <td>1419321600</td>\n",
       "      <td>Climb SF</td>\n",
       "      <td>0</td>\n",
       "      <td>0</td>\n",
       "      <td>0</td>\n",
       "      <td>...</td>\n",
       "      <td>0</td>\n",
       "      <td>0</td>\n",
       "      <td>0</td>\n",
       "      <td>0</td>\n",
       "      <td>2014</td>\n",
       "      <td>0</td>\n",
       "      <td>0</td>\n",
       "      <td>0</td>\n",
       "      <td>1</td>\n",
       "      <td>2.962206e+03</td>\n",
       "    </tr>\n",
       "    <tr>\n",
       "      <th>100 Palo Alto Avenue</th>\n",
       "      <td>Clarendon Heights</td>\n",
       "      <td>4</td>\n",
       "      <td>3.5</td>\n",
       "      <td>11000</td>\n",
       "      <td>True</td>\n",
       "      <td>1435129200</td>\n",
       "      <td>Climb SF</td>\n",
       "      <td>0</td>\n",
       "      <td>0</td>\n",
       "      <td>0</td>\n",
       "      <td>...</td>\n",
       "      <td>0</td>\n",
       "      <td>0</td>\n",
       "      <td>0</td>\n",
       "      <td>0</td>\n",
       "      <td>2015</td>\n",
       "      <td>0</td>\n",
       "      <td>0</td>\n",
       "      <td>0</td>\n",
       "      <td>0</td>\n",
       "      <td>1.091394e-11</td>\n",
       "    </tr>\n",
       "    <tr>\n",
       "      <th>101 Marina Boulevard</th>\n",
       "      <td>Marina</td>\n",
       "      <td>3</td>\n",
       "      <td>3.5</td>\n",
       "      <td>9800</td>\n",
       "      <td>True</td>\n",
       "      <td>1402470000</td>\n",
       "      <td>Climb SF</td>\n",
       "      <td>0</td>\n",
       "      <td>0</td>\n",
       "      <td>0</td>\n",
       "      <td>...</td>\n",
       "      <td>0</td>\n",
       "      <td>0</td>\n",
       "      <td>0</td>\n",
       "      <td>0</td>\n",
       "      <td>2014</td>\n",
       "      <td>0</td>\n",
       "      <td>0</td>\n",
       "      <td>0</td>\n",
       "      <td>1</td>\n",
       "      <td>1.543378e+03</td>\n",
       "    </tr>\n",
       "    <tr>\n",
       "      <th>101 Mateo Street</th>\n",
       "      <td>Glen Park</td>\n",
       "      <td>3</td>\n",
       "      <td>1.0</td>\n",
       "      <td>5100</td>\n",
       "      <td>True</td>\n",
       "      <td>1422864000</td>\n",
       "      <td>Climb SF</td>\n",
       "      <td>0</td>\n",
       "      <td>0</td>\n",
       "      <td>0</td>\n",
       "      <td>...</td>\n",
       "      <td>0</td>\n",
       "      <td>0</td>\n",
       "      <td>0</td>\n",
       "      <td>0</td>\n",
       "      <td>2015</td>\n",
       "      <td>0</td>\n",
       "      <td>0</td>\n",
       "      <td>0</td>\n",
       "      <td>0</td>\n",
       "      <td>8.892914e+02</td>\n",
       "    </tr>\n",
       "    <tr>\n",
       "      <th>1011 23rd Street #18</th>\n",
       "      <td>Central Waterfront</td>\n",
       "      <td>2</td>\n",
       "      <td>2.5</td>\n",
       "      <td>5500</td>\n",
       "      <td>True</td>\n",
       "      <td>1433401200</td>\n",
       "      <td>Climb SF</td>\n",
       "      <td>0</td>\n",
       "      <td>0</td>\n",
       "      <td>0</td>\n",
       "      <td>...</td>\n",
       "      <td>0</td>\n",
       "      <td>0</td>\n",
       "      <td>0</td>\n",
       "      <td>0</td>\n",
       "      <td>2015</td>\n",
       "      <td>0</td>\n",
       "      <td>0</td>\n",
       "      <td>0</td>\n",
       "      <td>0</td>\n",
       "      <td>2.719245e+02</td>\n",
       "    </tr>\n",
       "  </tbody>\n",
       "</table>\n",
       "<p>5 rows × 67 columns</p>\n",
       "</div>"
      ],
      "text/plain": [
       "                            Neighborhood  Bedrooms  Bathrooms  Price Rented  \\\n",
       "10 Mint Plaza #1                    SOMA         2        2.0   8250   True   \n",
       "100 Palo Alto Avenue   Clarendon Heights         4        3.5  11000   True   \n",
       "101 Marina Boulevard              Marina         3        3.5   9800   True   \n",
       "101 Mateo Street               Glen Park         3        1.0   5100   True   \n",
       "1011 23rd Street #18  Central Waterfront         2        2.5   5500   True   \n",
       "\n",
       "                            Date    Source  Neighborhood_Bayview  \\\n",
       "10 Mint Plaza #1      1419321600  Climb SF                     0   \n",
       "100 Palo Alto Avenue  1435129200  Climb SF                     0   \n",
       "101 Marina Boulevard  1402470000  Climb SF                     0   \n",
       "101 Mateo Street      1422864000  Climb SF                     0   \n",
       "1011 23rd Street #18  1433401200  Climb SF                     0   \n",
       "\n",
       "                      Neighborhood_Berkeley  Neighborhood_Bernal Heights  \\\n",
       "10 Mint Plaza #1                          0                            0   \n",
       "100 Palo Alto Avenue                      0                            0   \n",
       "101 Marina Boulevard                      0                            0   \n",
       "101 Mateo Street                          0                            0   \n",
       "1011 23rd Street #18                      0                            0   \n",
       "\n",
       "                          ...       Neighborhood_West Oakland  \\\n",
       "10 Mint Plaza #1          ...                               0   \n",
       "100 Palo Alto Avenue      ...                               0   \n",
       "101 Marina Boulevard      ...                               0   \n",
       "101 Mateo Street          ...                               0   \n",
       "1011 23rd Street #18      ...                               0   \n",
       "\n",
       "                      Neighborhood_Western Addition  \\\n",
       "10 Mint Plaza #1                                  0   \n",
       "100 Palo Alto Avenue                              0   \n",
       "101 Marina Boulevard                              0   \n",
       "101 Mateo Street                                  0   \n",
       "1011 23rd Street #18                              0   \n",
       "\n",
       "                      Neighborhood_Westwood Park  Neighborhood_Yerba Buena  \\\n",
       "10 Mint Plaza #1                               0                         0   \n",
       "100 Palo Alto Avenue                           0                         0   \n",
       "101 Marina Boulevard                           0                         0   \n",
       "101 Mateo Street                               0                         0   \n",
       "1011 23rd Street #18                           0                         0   \n",
       "\n",
       "                      Year  Year_2011  Year_2012  Year_2013  Year_2014  \\\n",
       "10 Mint Plaza #1      2014          0          0          0          1   \n",
       "100 Palo Alto Avenue  2015          0          0          0          0   \n",
       "101 Marina Boulevard  2014          0          0          0          1   \n",
       "101 Mateo Street      2015          0          0          0          0   \n",
       "1011 23rd Street #18  2015          0          0          0          0   \n",
       "\n",
       "                             Error  \n",
       "10 Mint Plaza #1      2.962206e+03  \n",
       "100 Palo Alto Avenue  1.091394e-11  \n",
       "101 Marina Boulevard  1.543378e+03  \n",
       "101 Mateo Street      8.892914e+02  \n",
       "1011 23rd Street #18  2.719245e+02  \n",
       "\n",
       "[5 rows x 67 columns]"
      ]
     },
     "execution_count": 233,
     "metadata": {},
     "output_type": "execute_result"
    }
   ],
   "source": [
    "pd.concat([data,errors],axis=1).head()"
   ]
  },
  {
   "cell_type": "raw",
   "metadata": {},
   "source": []
  },
  {
   "cell_type": "code",
   "execution_count": 234,
   "metadata": {
    "collapsed": false
   },
   "outputs": [
    {
     "name": "stdout",
     "output_type": "stream",
     "text": [
      "data size pre categories: 336\n",
      "data size grouped: 55\n"
     ]
    },
    {
     "data": {
      "text/plain": [
       "<matplotlib.axes._subplots.AxesSubplot at 0x11e443cd0>"
      ]
     },
     "execution_count": 234,
     "metadata": {},
     "output_type": "execute_result"
    },
    {
     "data": {
      "image/png": "[encoded data removed]",
      "text/plain": [
       "<matplotlib.figure.Figure at 0x11e4cd9d0>"
      ]
     },
     "metadata": {},
     "output_type": "display_data"
    }
   ],
   "source": [
    "# show errors by neighborhood to see if there are any neighborhoods with funky differences\n",
    "\n",
    "hooderrors = data[['Neighborhood']]\n",
    "\n",
    "hooderrors = pd.concat([hooderrors,errors.abs()],axis=1)\n",
    "print \"data size pre categories: \" + `len(hooderrors)`\n",
    "\n",
    "hood_group = hooderrors.groupby('Neighborhood')\n",
    "print \"data size grouped: \" + `len(hood_group)`\n",
    "error_avg = hood_group.mean()\n",
    "error_avg.sort(columns='Error',ascending=False).plot(kind='bar')\n",
    "\n"
   ]
  },
  {
   "cell_type": "code",
   "execution_count": 235,
   "metadata": {
    "collapsed": false
   },
   "outputs": [
    {
     "name": "stdout",
     "output_type": "stream",
     "text": [
      "data size pre categories: 336\n",
      "data size grouped: 5\n"
     ]
    },
    {
     "data": {
      "text/plain": [
       "<matplotlib.axes._subplots.AxesSubplot at 0x11f4b36d0>"
      ]
     },
     "execution_count": 235,
     "metadata": {},
     "output_type": "execute_result"
    },
    {
     "data": {
      "image/png": "[encoded data removed]",
      "text/plain": [
       "<matplotlib.figure.Figure at 0x11f4bfe50>"
      ]
     },
     "metadata": {},
     "output_type": "display_data"
    }
   ],
   "source": [
    "# show errors by year to see if there are any years with funky differences\n",
    "\n",
    "yearerrors = data[['Year']]\n",
    "\n",
    "yearerrors = pd.concat([yearerrors,errors.abs()],axis=1)\n",
    "print \"data size pre categories: \" + `len(yearerrors)`\n",
    "\n",
    "year_group = yearerrors.groupby('Year')\n",
    "print \"data size grouped: \" + `len(year_group)`\n",
    "error_avg = year_group.mean()\n",
    "error_avg.sort(columns='Error',ascending=False).plot(kind='bar')\n",
    "\n",
    "\n"
   ]
  },
  {
   "cell_type": "code",
   "execution_count": 236,
   "metadata": {
    "collapsed": false
   },
   "outputs": [
    {
     "name": "stdout",
     "output_type": "stream",
     "text": [
      "Residual sum of squares: 507791.95\n",
      "Variance score: 0.78\n"
     ]
    }
   ],
   "source": [
    "import numpy as np\n",
    "# The mean square error\n",
    "print(\"Residual sum of squares: %.2f\"\n",
    "      % np.mean((lm.predict(X) - y) ** 2))\n",
    "# Explained variance score: 1 is perfect prediction\n",
    "print('Variance score: %.2f' % lm.score(X, y))\n"
   ]
  },
  {
   "cell_type": "code",
   "execution_count": null,
   "metadata": {
    "collapsed": true
   },
   "outputs": [],
   "source": []
  }
 ],
 "metadata": {
  "kernelspec": {
   "display_name": "Python 2",
   "language": "python",
   "name": "python2"
  },
  "language_info": {
   "codemirror_mode": {
    "name": "ipython",
    "version": 2
   },
   "file_extension": ".py",
   "mimetype": "text/x-python",
   "name": "python",
   "nbconvert_exporter": "python",
   "pygments_lexer": "ipython2",
   "version": "2.7.9"
  }
 },
 "nbformat": 4,
 "nbformat_minor": 0
}
