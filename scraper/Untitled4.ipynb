{
 "cells": [
  {
   "cell_type": "code",
   "execution_count": 5,
   "metadata": {
    "collapsed": true
   },
   "outputs": [],
   "source": [
    "import sys\n",
    "import pandas as pd\n",
    "import datetime as dt\n",
    "import math\n",
    "import xgboost as xgb\n",
    "import numpy as np\n",
    "\n",
    "model_path = '/home/ilya/rentalnerd-models/'"
   ]
  },
  {
   "cell_type": "code",
   "execution_count": 11,
   "metadata": {
    "collapsed": false
   },
   "outputs": [
    {
     "name": "stdout",
     "output_type": "stream",
     "text": [
      "['adult', 'bathrooms', 'bedrooms', 'city_code_PH', 'construction', 'date_listed', 'days_on_market', 'days_on_market_accu', 'dist_to_airport', 'dist_to_golf_course', 'dist_to_hiway', 'dist_to_lightrail_line', 'dist_to_lightrail_station', 'dist_to_park', 'dist_to_railway', 'dist_to_shopping', 'dist_to_waterway', 'elevation', 'fixer', 'foreclosure', 'fsbo', 'garage', 'has_pool', 'hoa_fees', 'is_latest', 'latitude', 'level', 'longitude', 'lot', 'mobile', 'near_golf_course', 'rooms', 'saves', 'school_district_id_0.0', 'school_district_id_100.0', 'school_district_id_11.0', 'school_district_id_124.0', 'school_district_id_162.0', 'school_district_id_168.0', 'school_district_id_172.0', 'school_district_id_187.0', 'school_district_id_19.0', 'school_district_id_190.0', 'school_district_id_222.0', 'school_district_id_224.0', 'school_district_id_28.0', 'school_district_id_35.0', 'school_district_id_37.0', 'school_district_id_40.0', 'school_district_id_43.0', 'school_district_id_47.0', 'school_district_id_48.0', 'school_district_id_5.0', 'school_district_id_57.0', 'school_district_id_60.0', 'school_district_id_67.0', 'school_district_id_68.0', 'school_district_id_75.0', 'school_district_id_87.0', 'school_district_id_90.0', 'school_district_id_93.0', 'school_district_id_96.0', 'sqft', 'stories', 'townhouse', 'year_built', 'zipcode_85003', 'zipcode_85004', 'zipcode_85006', 'zipcode_85007', 'zipcode_85008', 'zipcode_85009', 'zipcode_85012', 'zipcode_85013', 'zipcode_85014', 'zipcode_85015', 'zipcode_85016', 'zipcode_85017', 'zipcode_85018', 'zipcode_85019', 'zipcode_85020', 'zipcode_85021', 'zipcode_85022', 'zipcode_85023', 'zipcode_85024', 'zipcode_85027', 'zipcode_85028', 'zipcode_85029', 'zipcode_85031', 'zipcode_85032', 'zipcode_85033', 'zipcode_85034', 'zipcode_85035', 'zipcode_85037', 'zipcode_85042', 'zipcode_85043', 'zipcode_85044', 'zipcode_85050', 'zipcode_85051', 'zipcode_85053', 'zipcode_85085', 'zipcode_85087', 'zipcode_85138', 'zipcode_85139', 'zipcode_85201', 'zipcode_85202', 'zipcode_85203', 'zipcode_85205', 'zipcode_85206', 'zipcode_85207', 'zipcode_85209', 'zipcode_85210', 'zipcode_85212', 'zipcode_85215', 'zipcode_85224', 'zipcode_85225', 'zipcode_85226', 'zipcode_85249', 'zipcode_85250', 'zipcode_85251', 'zipcode_85253', 'zipcode_85254', 'zipcode_85255', 'zipcode_85257', 'zipcode_85258', 'zipcode_85259', 'zipcode_85260', 'zipcode_85283', 'zipcode_85284', 'zipcode_85286', 'zipcode_85301', 'zipcode_85302', 'zipcode_85303', 'zipcode_85304', 'zipcode_85305', 'zipcode_85306', 'zipcode_85307', 'zipcode_85308', 'zipcode_85310', 'zipcode_85345', 'zipcode_85351', 'zipcode_85353', 'zipcode_85373', 'zipcode_85381', 'zipcode_85382', 'zipcode_85383', 'zipcode_85396', 'zipcode_85936']\n",
      "[[False 1 3 1 False 6233 362 0 0.12390999999999999 0.030739099999999995\n",
      "  0.00901388 0.0210002 0.0210021 0.00732393 0.028927699999999997 0.00304138\n",
      "  0.029002800000000002 352.954 False False 0 False False 0 1 33.5209 1\n",
      "  -112.12100000000001 0 False False 0 0 0 0 0 0 0 0 0 0 0 0 0 0 0 0 0 0 0 0\n",
      "  0 1 0 0 0 0 0 0 0 0 0 1080 0 False 1950 0 0 0 0 0 0 0 0 0 0 0 1 0 0 0 0 0\n",
      "  0 0 0 0 0 0 0 0 0 0 0 0 0 0 0 0 0 0 0 0 0 0 0 0 0 0 0 0 0 0 0 0 0 0 0 0 0\n",
      "  0 0 0 0 0 0 0 0 0 0 0 0 0 0 0 0 0 0 0 0 0 0 0 0 0 0 0 0]]\n",
      "Predicted good sell at price $100000: 0.996265\n",
      "Predicted good sell at price $110000: 0.996265\n",
      "Predicted good sell at price $120000: 0.996265\n",
      "Predicted good sell at price $130000: 0.996265\n",
      "Predicted good sell at price $140000: 0.996265\n",
      "Predicted good sell at price $150000: 0.996265\n",
      "Predicted good sell at price $160000: 0.996265\n",
      "Predicted good sell at price $170000: 0.996265\n",
      "Predicted good sell at price $180000: 0.996265\n",
      "Predicted good sell at price $190000: 0.996265\n",
      "Predicted good sell at price $200000: 0.996265\n",
      "\n"
     ]
    }
   ],
   "source": [
    "my_id = 464422\n",
    "#df = for_sale.loc[my_id]\n",
    "df = pd.read_csv('Scripts/service_df.csv', index_col=['property_id'])\n",
    "\n",
    "f = ['adult', 'bathrooms', 'bedrooms', 'city_code_PH', 'construction', 'date_listed', 'days_on_market', 'days_on_market_accu', 'dist_to_airport', 'dist_to_golf_course', 'dist_to_hiway', 'dist_to_lightrail_line', 'dist_to_lightrail_station', 'dist_to_park', 'dist_to_railway', 'dist_to_shopping', 'dist_to_waterway', 'elevation', 'fixer', 'foreclosure', 'fsbo', 'garage', 'has_pool', 'hoa_fees', 'is_latest', 'latitude', 'level', 'longitude', 'lot', 'mobile', 'near_golf_course', 'rooms', 'saves', 'school_district_id_0.0', 'school_district_id_100.0', 'school_district_id_11.0', 'school_district_id_124.0', 'school_district_id_162.0', 'school_district_id_168.0', 'school_district_id_172.0', 'school_district_id_187.0', 'school_district_id_19.0', 'school_district_id_190.0', 'school_district_id_222.0', 'school_district_id_224.0', 'school_district_id_28.0', 'school_district_id_35.0', 'school_district_id_37.0', 'school_district_id_40.0', 'school_district_id_43.0', 'school_district_id_47.0', 'school_district_id_48.0', 'school_district_id_5.0', 'school_district_id_57.0', 'school_district_id_60.0', 'school_district_id_67.0', 'school_district_id_68.0', 'school_district_id_75.0', 'school_district_id_87.0', 'school_district_id_90.0', 'school_district_id_93.0', 'school_district_id_96.0', 'sqft', 'stories', 'townhouse', 'year_built', 'zipcode_85003', 'zipcode_85004', 'zipcode_85006', 'zipcode_85007', 'zipcode_85008', 'zipcode_85009', 'zipcode_85012', 'zipcode_85013', 'zipcode_85014', 'zipcode_85015', 'zipcode_85016', 'zipcode_85017', 'zipcode_85018', 'zipcode_85019', 'zipcode_85020', 'zipcode_85021', 'zipcode_85022', 'zipcode_85023', 'zipcode_85024', 'zipcode_85027', 'zipcode_85028', 'zipcode_85029', 'zipcode_85031', 'zipcode_85032', 'zipcode_85033', 'zipcode_85034', 'zipcode_85035', 'zipcode_85037', 'zipcode_85042', 'zipcode_85043', 'zipcode_85044', 'zipcode_85050', 'zipcode_85051', 'zipcode_85053', 'zipcode_85085', 'zipcode_85087', 'zipcode_85138', 'zipcode_85139', 'zipcode_85201', 'zipcode_85202', 'zipcode_85203', 'zipcode_85205', 'zipcode_85206', 'zipcode_85207', 'zipcode_85209', 'zipcode_85210', 'zipcode_85212', 'zipcode_85215', 'zipcode_85224', 'zipcode_85225', 'zipcode_85226', 'zipcode_85249', 'zipcode_85250', 'zipcode_85251', 'zipcode_85253', 'zipcode_85254', 'zipcode_85255', 'zipcode_85257', 'zipcode_85258', 'zipcode_85259', 'zipcode_85260', 'zipcode_85283', 'zipcode_85284', 'zipcode_85286', 'zipcode_85301', 'zipcode_85302', 'zipcode_85303', 'zipcode_85304', 'zipcode_85305', 'zipcode_85306', 'zipcode_85307', 'zipcode_85308', 'zipcode_85310', 'zipcode_85345', 'zipcode_85351', 'zipcode_85353', 'zipcode_85373', 'zipcode_85381', 'zipcode_85382', 'zipcode_85383', 'zipcode_85396', 'zipcode_85936']\n",
    "\n",
    "my_target = xgb.DMatrix( df[f].values, feature_names=f)\n",
    "\n",
    "\n",
    "bst = xgb.Booster()\n",
    "bst.load_model(model_path + 'good_sell_20180121.model')\n",
    "\n",
    "def my_range(start, end, step):\n",
    "    while start <= end:\n",
    "        yield start\n",
    "        start += step\n",
    "\n",
    "print(f)\n",
    "print(df[f].values)\n",
    "output = \"\"\n",
    "f2 = f + ['price_listed']\n",
    "for x in my_range(100000, 200000, 10000):\n",
    "    df['price_listed'] = x\n",
    "    \n",
    "    target = xgb.DMatrix( df[f2], feature_names=f2)\n",
    "    ypred = bst.predict(target, ntree_limit=int(bst.attributes()['best_iteration']))\n",
    "\n",
    "    output = output + (\"Predicted good sell at price $%i: %f\\n\" % (df.price_listed.iloc[0], ypred))\n",
    "print(output)"
   ]
  },
  {
   "cell_type": "code",
   "execution_count": null,
   "metadata": {
    "collapsed": true
   },
   "outputs": [],
   "source": []
  },
  {
   "cell_type": "code",
   "execution_count": null,
   "metadata": {
    "collapsed": true
   },
   "outputs": [],
   "source": []
  },
  {
   "cell_type": "code",
   "execution_count": null,
   "metadata": {
    "collapsed": true
   },
   "outputs": [],
   "source": []
  }
 ],
 "metadata": {
  "kernelspec": {
   "display_name": "Python 3",
   "language": "python",
   "name": "python3"
  },
  "language_info": {
   "codemirror_mode": {
    "name": "ipython",
    "version": 3
   },
   "file_extension": ".py",
   "mimetype": "text/x-python",
   "name": "python",
   "nbconvert_exporter": "python",
   "pygments_lexer": "ipython3",
   "version": "3.6.0"
  }
 },
 "nbformat": 4,
 "nbformat_minor": 2
}
