{
 "cells": [
  {
   "cell_type": "code",
   "execution_count": 59,
   "metadata": {
    "collapsed": false
   },
   "outputs": [
    {
     "name": "stdout",
     "output_type": "stream",
     "text": [
      "The sql extension is already loaded. To reload it, use:\n",
      "  %reload_ext sql\n"
     ]
    }
   ],
   "source": [
    "%load_ext sql\n",
    "%sql mysql://root:@localhost/rental_nerd\n",
    "%config SqlMagic.feedback=False"
   ]
  },
  {
   "cell_type": "code",
   "execution_count": 60,
   "metadata": {
    "collapsed": false
   },
   "outputs": [],
   "source": [
    "query = %sql (\\\n",
    "    SELECT \\\n",
    "    id as 'property_id' \\\n",
    "    FROM \\\n",
    "    properties)\n",
    "\n",
    "i = query.DataFrame().values\n"
   ]
  },
  {
   "cell_type": "code",
   "execution_count": 64,
   "metadata": {
    "collapsed": false
   },
   "outputs": [
    {
     "ename": "ValueError",
     "evalue": "can't have unbuffered text I/O",
     "output_type": "error",
     "traceback": [
      "\u001b[0;31m---------------------------------------------------------------------------\u001b[0m",
      "\u001b[0;31mValueError\u001b[0m                                Traceback (most recent call last)",
      "\u001b[0;32m<ipython-input-64-540a6caa1958>\u001b[0m in \u001b[0;36m<module>\u001b[0;34m()\u001b[0m\n\u001b[1;32m      1\u001b[0m \u001b[0mbad_ones\u001b[0m \u001b[0;34m=\u001b[0m \u001b[0;34m[\u001b[0m\u001b[0;34m]\u001b[0m\u001b[0;34m\u001b[0m\u001b[0m\n\u001b[0;32m----> 2\u001b[0;31m \u001b[0mf\u001b[0m \u001b[0;34m=\u001b[0m \u001b[0mopen\u001b[0m\u001b[0;34m(\u001b[0m\u001b[0;34m'bad_instances.txt'\u001b[0m\u001b[0;34m,\u001b[0m \u001b[0;34m'w'\u001b[0m\u001b[0;34m,\u001b[0m \u001b[0;36m0\u001b[0m\u001b[0;34m)\u001b[0m\u001b[0;34m\u001b[0m\u001b[0m\n\u001b[0m",
      "\u001b[0;31mValueError\u001b[0m: can't have unbuffered text I/O"
     ]
    }
   ],
   "source": [
    "bad_ones = []\n",
    "f = open('bad_instances.txt', 'w', 0)"
   ]
  },
  {
   "cell_type": "code",
   "execution_count": 62,
   "metadata": {
    "collapsed": false,
    "scrolled": false
   },
   "outputs": [],
   "source": [
    "for property_id in i:\n",
    "    property_id = property_id[0]\n",
    "    if property_id % 1000 == 0:\n",
    "        print(\"%i property_id processed\" % property_id)\n",
    "        \n",
    "    query = %sql (\\\n",
    "        SELECT \\\n",
    "        ptl_1.property_id, \\\n",
    "        count(1) as 'bad_instances'\\\n",
    "        FROM \\\n",
    "        property_transaction_logs AS ptl_1, \\\n",
    "        property_transaction_logs AS ptl_2 \\\n",
    "        WHERE \\\n",
    "        ptl_1.`property_id`= ptl_2.`property_id` AND \\\n",
    "        ptl_1.`transaction_type` = ptl_2.`transaction_type` AND \\\n",
    "        ptl_1.id <> ptl_2.id \\\n",
    "        AND \\\n",
    "        ( \\\n",
    "        ( ptl_1.date_listed IS NOT NULL AND \\\n",
    "        ptl_2.date_listed IS NOT NULL AND \\\n",
    "        ptl_1.date_closed IS NOT NULL AND \\\n",
    "        ptl_1.date_listed < ptl_2.date_listed AND ptl_2.date_listed < ptl_1.date_closed \\\n",
    "        ) \\\n",
    "        OR \\\n",
    "        ( ptl_1.date_listed IS NOT NULL AND \\\n",
    "        ptl_2.date_closed IS NOT NULL AND \\\n",
    "        ptl_1.date_closed IS NOT NULL AND \\\n",
    "        ptl_1.date_listed < ptl_2.date_closed AND \\\n",
    "        ptl_2.date_closed < ptl_1.date_closed \\\n",
    "        ) \\\n",
    "         OR ( \\\n",
    "        ptl_1.date_listed IS NOT NULL AND \\\n",
    "        ptl_1.date_closed IS NOT NULL AND \\\n",
    "        ptl_2.date_listed IS NOT NULL AND \\\n",
    "        ptl_2.date_closed IS NOT NULL AND \\\n",
    "        ptl_1.date_listed > ptl_2.date_listed AND \\\n",
    "        ptl_1.date_closed < ptl_2.date_closed ) ) \\\n",
    "        AND \\\n",
    "        ptl_1.property_id = :property_id )\n",
    "    \n",
    "    if(query.DataFrame().bad_instances.ix[0] == 1):\n",
    "        bad_ones.append(property_id)\n",
    "        print(\"Bad property id %i detected\" % property_id, file=f,flush=False)\n",
    "        "
   ]
  },
  {
   "cell_type": "code",
   "execution_count": 51,
   "metadata": {
    "collapsed": false
   },
   "outputs": [
    {
     "name": "stdout",
     "output_type": "stream",
     "text": [
      "[1, 2]\n"
     ]
    }
   ],
   "source": [
    "print(bad_ones)"
   ]
  },
  {
   "cell_type": "code",
   "execution_count": 63,
   "metadata": {
    "collapsed": true
   },
   "outputs": [],
   "source": [
    "f.close()"
   ]
  },
  {
   "cell_type": "code",
   "execution_count": null,
   "metadata": {
    "collapsed": true
   },
   "outputs": [],
   "source": []
  }
 ],
 "metadata": {
  "kernelspec": {
   "display_name": "Python 3",
   "language": "python",
   "name": "python3"
  },
  "language_info": {
   "codemirror_mode": {
    "name": "ipython",
    "version": 3
   },
   "file_extension": ".py",
   "mimetype": "text/x-python",
   "name": "python",
   "nbconvert_exporter": "python",
   "pygments_lexer": "ipython3",
   "version": "3.6.0"
  }
 },
 "nbformat": 4,
 "nbformat_minor": 2
}
