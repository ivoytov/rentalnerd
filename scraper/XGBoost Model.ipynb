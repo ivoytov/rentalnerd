{
 "cells": [
  {
   "cell_type": "code",
   "execution_count": 109,
   "metadata": {
    "collapsed": false
   },
   "outputs": [
    {
     "name": "stdout",
     "output_type": "stream",
     "text": [
      "The sql extension is already loaded. To reload it, use:\n",
      "  %reload_ext sql\n"
     ]
    }
   ],
   "source": [
    "%load_ext sql\n",
    "\n",
    "# imports\n",
    "import pandas as pd\n",
    "import numpy as np\n",
    "import datetime\n",
    "from datetime import datetime\n",
    "import matplotlib.pyplot as plt\n",
    "\n",
    "# this allows plots to appear directly in the notebook\n",
    "%matplotlib inline\n",
    "\n",
    "from sklearn import model_selection\n",
    "from sklearn import preprocessing\n",
    "from sklearn import metrics\n",
    "from sklearn.ensemble import GradientBoostingRegressor\n",
    "from sklearn.preprocessing import StandardScaler\n",
    "from sklearn.grid_search import GridSearchCV\n",
    "import xgboost as xgb\n",
    "from xgboost import XGBClassifier\n",
    "from sklearn.model_selection import TimeSeriesSplit\n",
    "\n",
    "# city abbreviation code\n",
    "city = 'dtw'"
   ]
  },
  {
   "cell_type": "code",
   "execution_count": 110,
   "metadata": {
    "collapsed": false
   },
   "outputs": [
    {
     "data": {
      "text/plain": [
       "'Connected: root@rental_nerd'"
      ]
     },
     "execution_count": 110,
     "metadata": {},
     "output_type": "execute_result"
    }
   ],
   "source": [
    "%sql mysql://root:@localhost/rental_nerd"
   ]
  },
  {
   "cell_type": "code",
   "execution_count": null,
   "metadata": {
    "collapsed": false
   },
   "outputs": [],
   "source": [
    "query = %sql (\\\n",
    "SELECT  \\\n",
    "properties.id as 'property_id', \\\n",
    "properties.address,  \\\n",
    "properties.bedrooms,  \\\n",
    "properties.bathrooms,  \\\n",
    "properties.sqft,  \\\n",
    "properties.source,  \\\n",
    "properties.origin_url,  \\\n",
    "properties.longitude,  \\\n",
    "properties.latitude,  \\\n",
    "properties.elevation,  \\\n",
    "(2016 - properties.year_built) as 'age',  \\\n",
    "properties.garage,  \\\n",
    "properties.level,  \\\n",
    "properties.luxurious,  \\\n",
    "properties.dist_to_park,  \\\n",
    "properties.zipcode, \\\n",
    "properties.dist_to_golf_course, \\\n",
    "properties.near_golf_course, \\\n",
    "properties.has_pool, \\\n",
    "properties.home_type, \\\n",
    "property_transaction_logs.id 'ptl_id',  \\\n",
    "property_transaction_logs.transaction_type,  \\\n",
    "property_transaction_logs.price,  \\\n",
    "property_transaction_logs.transaction_status,  \\\n",
    "property_transaction_logs.days_on_market,  \\\n",
    "property_transaction_logs.date_closed as 'date',  \\\n",
    "property_transaction_logs.date_listed,  \\\n",
    "neighborhoods.name as 'neighborhood',  \\\n",
    "neighborhoods.id as 'nid',  \\\n",
    "neighborhoods.shapefile_source,  \\\n",
    "property_school_districts.school_district_id \\\n",
    "FROM  \\\n",
    "properties,  \\\n",
    "property_transaction_logs,  \\\n",
    "property_neighborhoods,  \\\n",
    "neighborhoods,  \\\n",
    "property_school_districts \\\n",
    "WHERE  \\\n",
    "property_school_districts.property_id = properties.id AND  \\\n",
    "property_transaction_logs.property_id = properties.id AND  \\\n",
    "property_transaction_logs.transaction_type = \"rental\" AND  \\\n",
    "property_transaction_logs.date_closed is not null AND \\\n",
    "neighborhoods.shapefile_source = \"PH\" AND  \\\n",
    "properties.id = property_neighborhoods.property_id AND  \\\n",
    "property_neighborhoods.neighborhood_id = neighborhoods.id AND \\\n",
    "properties.sqft > 0 AND \\\n",
    "properties.bedrooms IS NOT NULL AND \\\n",
    "properties.bathrooms IS NOT NULL AND \\\n",
    "properties.elevation IS NOT NULL AND \\\n",
    "properties.level IS NOT NULL AND \\\n",
    "properties.dist_to_park IS NOT NULL AND \\\n",
    "properties.near_golf_course IS NOT NULL AND \\\n",
    "properties.home_type IS NOT NULL AND \\\n",
    "properties.zipcode IS NOT NULL AND \\\n",
    "properties.sqft IS NOT NULL AND \\\n",
    "properties.year_built IS NOT NULL AND \\\n",
    "property_transaction_logs.price > 0 )\n",
    "           \n",
    "    \n",
    "# properties.has_pool IS NOT NULL AND \\\n",
    "# properties.garage IS NOT NULL AND \\\n",
    "data = query.DataFrame()"
   ]
  },
  {
   "cell_type": "code",
   "execution_count": null,
   "metadata": {
    "collapsed": false
   },
   "outputs": [],
   "source": [
    "data[\"near_golf_course\"] = data[\"near_golf_course\"].apply(lambda x: True if x == 1.0 else False)\n",
    "data[\"has_pool\"] = data[\"has_pool\"].apply(lambda x: True if x == 1.0 else False)\n",
    "data[\"multifamily\"] = data[\"home_type\"].apply(lambda x: True if x == \"mfh\" else False)"
   ]
  },
  {
   "cell_type": "code",
   "execution_count": null,
   "metadata": {
    "collapsed": false
   },
   "outputs": [],
   "source": [
    "# filter out any outliers, defined as rent >$10k or >2,500 sq ft, or not in SF\n",
    "\n",
    "print(\"Entries before filter: \", len(data))\n",
    "data = data[  (data.sqft <= 10000) \n",
    "            & (data.price <= 4000) \n",
    "            & (data.price > 500)\n",
    "            & (data.bedrooms <= 6) \n",
    "            & (data.bathrooms <= 6) \n",
    "            & (data.sqft != 0) ]\n",
    "print(\"Entries after filter: \",len(data))\n",
    "\n"
   ]
  },
  {
   "cell_type": "code",
   "execution_count": null,
   "metadata": {
    "collapsed": false
   },
   "outputs": [],
   "source": [
    "data['date_int'] = pd.to_datetime(data['date'])    \n",
    "data['date_delta'] = (data['date_int'] - data['date_int'].min())  / np.timedelta64(1,'D')\n",
    "data.sort_values('date_delta',ascending= False, inplace= True)"
   ]
  },
  {
   "cell_type": "code",
   "execution_count": null,
   "metadata": {
    "collapsed": true
   },
   "outputs": [],
   "source": [
    "#Helper Functions\n",
    "def reg_metrics(reg,X_test,y):\n",
    "    y_pred = reg.predict(X_test)\n",
    "    print( \"r-squared: \", metrics.r2_score(y,y_pred))\n",
    "    print( \"mse: \", metrics.mean_squared_error(y,y_pred))\n",
    "    print( \"mean error: \", (y-y_pred).abs().median())\n",
    "# Scale features\n",
    "def scale_X(X_train,X_test):\n",
    "    scaler = StandardScaler()\n",
    "    scaler.fit(X_train) \n",
    "    X_train_scaled = scaler.transform(X_train)\n",
    "    X_test_scaled = scaler.transform(X_test)\n",
    "    return X_train_scaled, X_test_scaled\n",
    "\n",
    "# GridSearch Parameters\n",
    "def grid_optimize(reg,param_grid,X,y):\n",
    "    grid = GridSearchCV(reg,param_grid,cv=5)\n",
    "    grid.fit(X,y)\n",
    "    print(\"The best parameters are %s with a score of %0.2f\" % (grid.best_params_, grid.best_score_))\n",
    "    return grid\n",
    "\n",
    "# This is the better one, the XGBoost\n",
    "def scikit_xgb_mhs(X_train,X_test,y_train,y_test):\n",
    "    sk_xgb = xgb.XGBRegressor()\n",
    "    xgb_param_grid = {'max_depth':[6],'n_estimators':[1000]} # 10,000 is best and 6 deep\n",
    "    xgb_grid = grid_optimize(sk_xgb,xgb_param_grid,X_train,y_train)\n",
    "    sk_xgb = xgb.XGBRegressor(max_depth=xgb_grid.best_params_['max_depth'],n_estimators=xgb_grid.best_params_['n_estimators'])\n",
    "    sk_xgb.fit(X_train,y_train)\n",
    "    print(\"XGBoostRegressor (Sci-kit Learn API)\")\n",
    "    print(\"Training metrics\")\n",
    "    reg_metrics(sk_xgb,X_train,y_train)\n",
    "    print(\"Test metrics\")\n",
    "    reg_metrics(sk_xgb,X_test,y_test) \n",
    "    return sk_xgb"
   ]
  },
  {
   "cell_type": "code",
   "execution_count": null,
   "metadata": {
    "collapsed": false,
    "scrolled": false
   },
   "outputs": [],
   "source": [
    "factors = ['property_id', 'bedrooms', 'bathrooms', 'sqft','longitude', 'latitude','zipcode', 'elevation'\n",
    "                          ,'age', 'level','dist_to_park','dist_to_golf_course', 'has_pool','school_district_id'\n",
    "                          ,'date_delta', 'multifamily']\n",
    "\n",
    "X = np.array(data[factors].as_matrix())\n",
    "y = np.array(data.price.as_matrix())\n",
    "tscv = TimeSeriesSplit(n_splits=2)\n",
    "print(tscv)  \n",
    "for train, test in tscv.split(X):\n",
    "    print(\"%s %s\" % (train, test))\n",
    "    X_train = X[train, :]\n",
    "    y_train = [y[i] for i in train]\n",
    "    X_test = X[test, :]\n",
    "    y_test = [y[i] for i in test]\n",
    "    print(\"1st training listing\", X_train[0, [0,14]], 'price', y_train[0] )\n",
    "    print(\"Last training listing\", X_train[len(X_train)-1, [0,14]], 'price', y_train[test[0]-1])\n",
    "    print(\"1st testing listing\", X_test[0, [0,14]], 'price', y_test[0] )\n",
    "    print(\"Last testing listing\", X_test[len(X_test)-1, [0,14]], 'price', y_test[len(y_test)-1])\n",
    "    xgb_model = scikit_xgb_mhs(X_train, X_test, y_train, y_test)"
   ]
  },
  {
   "cell_type": "code",
   "execution_count": null,
   "metadata": {
    "collapsed": false
   },
   "outputs": [],
   "source": [
    "# feature importance\n",
    "print(xgb_model.feature_importances_)\n",
    "# plot\n",
    "\n",
    "\n",
    "\n"
   ]
  },
  {
   "cell_type": "code",
   "execution_count": null,
   "metadata": {
    "collapsed": false
   },
   "outputs": [],
   "source": [
    "print [factors, xgb_model.feature_importances_]\n",
    "plt.bar(range(len(xgb_model.feature_importances_)), xgb_model.feature_importances_)\n",
    "plt.show()\n",
    "\n",
    "# 1. 'property_id'  \n",
    "# 2.'bedrooms', \n",
    "# 3.'bathrooms',\n",
    "# 4. 'sqft'\n",
    "# 5. 'longitude', \n",
    "# 6. 'latitude',\n",
    "# 7. 'zipcode'\n",
    "# 8. 'elevation',\n",
    "# 9. 'age',\n",
    "# 10. 'level',\n",
    "# 11. 'dist_to_park',\n",
    "# 12. 'dist_to_golf_course', \n",
    "# 13. 'has_pool',\n",
    "# 14. 'school_district_id',\n",
    "# 15. 'date_delta'\n",
    "# 16. 'multifamily'"
   ]
  },
  {
   "cell_type": "markdown",
   "metadata": {},
   "source": [
    "The best parameters are {'n_estimators': 10000, 'max_depth': 6} with a score of 0.82\n",
    "XGBoostRegressor (Sci-kit Learn API)\n",
    "Training metrics\n",
    "r-squared:  0.997201102182\n",
    "mse:  962.054036088\n",
    "Test metrics\n",
    "r-squared:  0.836490911662\n",
    "mse:  56514.4679358"
   ]
  }
 ],
 "metadata": {
  "kernelspec": {
   "display_name": "Python 3",
   "language": "python",
   "name": "python3"
  },
  "language_info": {
   "codemirror_mode": {
    "name": "ipython",
    "version": 3
   },
   "file_extension": ".py",
   "mimetype": "text/x-python",
   "name": "python",
   "nbconvert_exporter": "python",
   "pygments_lexer": "ipython3",
   "version": "3.6.0"
  }
 },
 "nbformat": 4,
 "nbformat_minor": 0
}
