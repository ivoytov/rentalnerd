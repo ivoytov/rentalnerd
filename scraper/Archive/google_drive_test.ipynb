{
 "cells": [
  {
   "cell_type": "code",
   "execution_count": 67,
   "metadata": {
    "collapsed": false
   },
   "outputs": [],
   "source": [
    "# Authorize server-to-server interactions from Google Compute Engine.\n",
    "from oauth2client.contrib import gce\n",
    "from httplib2 import Http\n",
    "from apiclient import errors\n",
    "from apiclient.http import MediaFileUpload\n",
    "from apiclient import discovery\n",
    "\n",
    "from oauth2client.service_account import ServiceAccountCredentials\n",
    "\n",
    "scopes = ['https://www.googleapis.com/auth/drive']\n",
    "\n",
    "credentials = ServiceAccountCredentials.from_json_keyfile_name(\n",
    "    '/home/ilya/Code/secret/python_client_privkey.json', scopes)\n",
    "\n",
    "http_auth = credentials.authorize(Http())\n",
    "service = discovery.build('drive', 'v3', http=http_auth)"
   ]
  },
  {
   "cell_type": "code",
   "execution_count": 78,
   "metadata": {
    "collapsed": false
   },
   "outputs": [
    {
     "name": "stdout",
     "output_type": "stream",
     "text": [
      "File ID: 1RNVqptEj5PLmjOZVRmQ6PJdcx-dLrvGsP8FXDfMOjMI\n"
     ]
    }
   ],
   "source": [
    "file_metadata = {\n",
    "  'name' : 'ilya_test',\n",
    "  'mimeType' : 'application/vnd.google-apps.spreadsheet'\n",
    "}\n",
    "media = MediaFileUpload('DENVER_target_list.csv',\n",
    "                        mimetype='text/csv',\n",
    "                        resumable=True)\n",
    "file = service.files().create(body=file_metadata,\n",
    "                                    media_body=media,\n",
    "                                    fields='id').execute()\n",
    "print ('File ID: %s' % file.get('id'))\n"
   ]
  },
  {
   "cell_type": "code",
   "execution_count": 79,
   "metadata": {
    "collapsed": false
   },
   "outputs": [
    {
     "name": "stdout",
     "output_type": "stream",
     "text": [
      "None\n"
     ]
    }
   ],
   "source": [
    "print(file.get('downloadUrl'))"
   ]
  },
  {
   "cell_type": "code",
   "execution_count": null,
   "metadata": {
    "collapsed": true
   },
   "outputs": [],
   "source": []
  }
 ],
 "metadata": {
  "kernelspec": {
   "display_name": "Python 3",
   "language": "python",
   "name": "python3"
  },
  "language_info": {
   "codemirror_mode": {
    "name": "ipython",
    "version": 3
   },
   "file_extension": ".py",
   "mimetype": "text/x-python",
   "name": "python",
   "nbconvert_exporter": "python",
   "pygments_lexer": "ipython3",
   "version": "3.6.0"
  }
 },
 "nbformat": 4,
 "nbformat_minor": 2
}
