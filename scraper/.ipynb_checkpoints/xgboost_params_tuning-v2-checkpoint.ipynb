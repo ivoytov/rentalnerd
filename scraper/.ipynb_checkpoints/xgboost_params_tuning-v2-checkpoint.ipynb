{
 "cells": [
  {
   "cell_type": "code",
   "execution_count": 6,
   "metadata": {
    "collapsed": false
   },
   "outputs": [],
   "source": [
    "# imports\n",
    "import pandas as pd\n",
    "import numpy as np\n",
    "import os\n",
    "from bayes_opt import BayesianOptimization\n",
    "import xgboost as xgb\n",
    "\n",
    "# data columns used for the booster\n",
    "factors = ['property_id', 'bedrooms', 'bathrooms', 'sqft','longitude', 'latitude','zipcode', 'elevation', 'garage'\n",
    "                          ,'year_built', 'level','dist_to_park','dist_to_golf_course', 'has_pool'\n",
    "                          ,'date_closed','multifamily', 'hoa_fees', 'lot']"
   ]
  },
  {
   "cell_type": "code",
   "execution_count": 12,
   "metadata": {
    "collapsed": false,
    "scrolled": false
   },
   "outputs": [],
   "source": [
    "def XGBcv(max_depth, gamma, min_child_weight, max_delta_step, subsample, colsample_bytree, alpha):\n",
    "    folds = 5\n",
    "    paramt = {\n",
    "        'alpha': max(alpha, 0),\n",
    "        'gamma': max(gamma, 0),\n",
    "        'max_depth': int(max_depth),\n",
    "        'eta': 0.1,\n",
    "        'objective': 'reg:linear',\n",
    "        'silent': True,\n",
    "        'subsample': max(min(subsample, 1), 0),\n",
    "        'colsample_bytree': max(min(colsample_bytree, 1), 0),\n",
    "        'min_child_weight': int(min_child_weight),\n",
    "        'max_delta_step': max_delta_step.astype(int),\n",
    "        'seed': 2017,\n",
    "        'updater': 'grow_gpu' \n",
    "    }\n",
    "\n",
    "    out = xgb.cv(paramt,\n",
    "           dtrain,\n",
    "           num_boost_round=20000,\n",
    "           nfold=folds,\n",
    "           verbose_eval=None,\n",
    "           metrics=\"mae\",\n",
    "           show_stdv=True,\n",
    "           callbacks=[xgb.callback.early_stop(50)])\n",
    "    \n",
    "    print(out, file=log_file)\n",
    "    \n",
    "    return -out['test-mae-mean'].values[-1]\n"
   ]
  },
  {
   "cell_type": "code",
   "execution_count": null,
   "metadata": {
    "collapsed": false,
    "scrolled": false
   },
   "outputs": [
    {
     "name": "stdout",
     "output_type": "stream",
     "text": [
      "\u001b[31mInitialization\u001b[0m\n",
      "\u001b[94m----------------------------------------------------------------------------------------------------------------------------------------------\u001b[0m\n",
      " Step |   Time |      Value |     alpha |   colsample_bytree |     gamma |   max_delta_step |   max_depth |   min_child_weight |   subsample | \n",
      "Multiple eval metrics have been passed: 'test-mae' will be used for early stopping.\n",
      "\n",
      "Will train until test-mae hasn't improved in 50 rounds.\n"
     ]
    }
   ],
   "source": [
    "params = { 'max_depth': (5, 15),\n",
    "                 'gamma': (0.0, 10.0),\n",
    "                 'min_child_weight': (1, 20),\n",
    "                 'max_delta_step': (0, 5),\n",
    "                 'subsample': (0.5, 1.0),\n",
    "                 'colsample_bytree' :(0.1, 1.0),\n",
    "                 'alpha': (0, 10)\n",
    "               }\n",
    "\n",
    "XGB_BOpt = BayesianOptimization(XGBcv, params)\n",
    "\n",
    "df = pd.read_csv('CSV_backups/PH-sales.csv')\n",
    "\n",
    "msk = np.random.rand(len(df)) < 0.03  # pick 3% of the dataset for a quick run, 100% would be entire dataset\n",
    "df = df[msk]\n",
    "\n",
    "dtrain = xgb.DMatrix(df[factors].values, label=df.price, feature_names=factors)\n",
    "\n",
    "\n",
    "XGB_BOpt.maximize(init_points=5, n_iter=25)"
   ]
  },
  {
   "cell_type": "code",
   "execution_count": null,
   "metadata": {
    "collapsed": true
   },
   "outputs": [],
   "source": []
  }
 ],
 "metadata": {
  "kernelspec": {
   "display_name": "Python 3",
   "language": "python",
   "name": "python3"
  },
  "language_info": {
   "codemirror_mode": {
    "name": "ipython",
    "version": 3
   },
   "file_extension": ".py",
   "mimetype": "text/x-python",
   "name": "python",
   "nbconvert_exporter": "python",
   "pygments_lexer": "ipython3",
   "version": "3.6.0"
  }
 },
 "nbformat": 4,
 "nbformat_minor": 0
}
